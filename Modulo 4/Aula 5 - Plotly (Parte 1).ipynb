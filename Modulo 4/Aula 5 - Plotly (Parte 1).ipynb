{
 "cells": [
  {
   "cell_type": "markdown",
   "id": "de0fac3c",
   "metadata": {},
   "source": [
    "# Módulo 4 - Técnicas de Programação II\n",
    "## Aula 5\n",
    "- Gráficos com Plotly\n",
    "- Exercícios"
   ]
  },
  {
   "cell_type": "markdown",
   "id": "75b29d81",
   "metadata": {},
   "source": [
    "## Gráficos com Plotly\n",
    "O módulo *plotly.express* (geralmente importado como px) contém funções que podem criar figuras inteiras de uma só vez e é chamado de Plotly Express ou PX. Plotly Express é uma parte interna da biblioteca plotly, e é o ponto de partida recomendado para a criação de figuras mais comuns. Cada função Plotly Express usa objetos de gráfico internamente e retorna uma instância plotly.graph_objects.Figure. Em toda a documentação de plotagem, você encontrará a maneira Plotly Express de construir figuras no topo de qualquer página aplicável, seguida por uma seção sobre como usar objetos de gráfico para construir figuras semelhantes. \n",
    "  \n",
    "**Documentação**: https://plotly.com/python-api-reference/plotly.express.html"
   ]
  },
  {
   "cell_type": "markdown",
   "id": "cf8dade5",
   "metadata": {},
   "source": [
    "### Instalação\n",
    "Caso não tenha instalado o pacote do **Plotly** ou está na dúvida, basta rodar o seguinte código:"
   ]
  },
  {
   "cell_type": "code",
   "execution_count": null,
   "id": "9c637b25",
   "metadata": {},
   "outputs": [],
   "source": [
    "!pip install plotly"
   ]
  },
  {
   "cell_type": "markdown",
   "id": "189a597a",
   "metadata": {},
   "source": [
    "### Import da biblioteca\n",
    "  \n",
    "Nos estudos referentes ao **Plotly** utilizaremos o submódulo *express*. Como padrão, damos o alias de *px*."
   ]
  },
  {
   "cell_type": "code",
   "execution_count": null,
   "id": "57e54140",
   "metadata": {},
   "outputs": [],
   "source": [
    "import plotly.express as px"
   ]
  },
  {
   "cell_type": "markdown",
   "id": "41b0883d",
   "metadata": {},
   "source": [
    "Assim como foi feito no matplotlib, utilizaremos primeiramente exemplos didáticos com apenas duas listas de dados para exemplificarmos o uso das funções do pacote **plotly.express**."
   ]
  },
  {
   "cell_type": "code",
   "execution_count": null,
   "id": "ea6297fb",
   "metadata": {},
   "outputs": [],
   "source": [
    "x = [1, 2, 3, 4, 5 ,6]\n",
    "y = [10, 5, 3, 4, 6, 8]\n",
    "px.scatter(x=x, y=y)"
   ]
  },
  {
   "cell_type": "markdown",
   "id": "5759c169",
   "metadata": {},
   "source": [
    "Caso queira salvar o gráfico"
   ]
  },
  {
   "cell_type": "code",
   "execution_count": null,
   "id": "e7ced342",
   "metadata": {},
   "outputs": [],
   "source": [
    "fig=px.scatter(x=x,y=y)\n",
    "fig.write_html(\"scatter.html\")"
   ]
  },
  {
   "cell_type": "markdown",
   "id": "b556bcad",
   "metadata": {},
   "source": [
    "Repare que para simplificar o trabalho o plotly já inicia com uma figura e área de desenho padrão, que você não precisa definir, e assim o código para gerar um gráfico pode ser simplesmente.  \n",
    "Além disso, há diversas funcionalidades para interação com o gráfico plotado."
   ]
  },
  {
   "cell_type": "markdown",
   "id": "3aa4b94c",
   "metadata": {},
   "source": [
    "Vamos importar também outros pacotes padrões"
   ]
  },
  {
   "cell_type": "code",
   "execution_count": null,
   "id": "40e33bed",
   "metadata": {},
   "outputs": [],
   "source": [
    "import pandas as pd\n",
    "import numpy as np\n",
    "import matplotlib.pyplot as plt\n",
    "\n",
    "%matplotlib inline"
   ]
  },
  {
   "cell_type": "markdown",
   "id": "672981a3",
   "metadata": {},
   "source": [
    "## Scatter (dispersão)\n",
    "**Documentação**: https://plotly.com/python-api-reference/generated/plotly.express.scatter"
   ]
  },
  {
   "cell_type": "code",
   "execution_count": null,
   "id": "58eea09b",
   "metadata": {
    "scrolled": false
   },
   "outputs": [],
   "source": [
    "x = [1, 2, 3, 4, 5 ,6]\n",
    "y = [10, 5, 3, 4, 6, 8]\n",
    "z = ['a', 'b', 'c', 'c', 'a', 'a']\n",
    "px.scatter(x, y, color=z)"
   ]
  },
  {
   "cell_type": "markdown",
   "id": "1cc26dfa",
   "metadata": {},
   "source": [
    "Importando o dataset dos pinguins"
   ]
  },
  {
   "cell_type": "code",
   "execution_count": null,
   "id": "dcd99c0e",
   "metadata": {},
   "outputs": [],
   "source": [
    "df_size = pd.read_csv('./data/penguins_size.csv')\n",
    "df_size.head()"
   ]
  },
  {
   "cell_type": "code",
   "execution_count": null,
   "id": "eef2efeb",
   "metadata": {},
   "outputs": [],
   "source": [
    "px.scatter(data_frame=df_size, x='body_mass_g', y='culmen_depth_mm')"
   ]
  },
  {
   "cell_type": "markdown",
   "id": "d7b73855",
   "metadata": {},
   "source": [
    "Vamos utilizar o matplotlib para obter o mesmo gráfico e assim podermos comparar visualmente as diferenças."
   ]
  },
  {
   "cell_type": "code",
   "execution_count": null,
   "id": "d11b8cf0",
   "metadata": {
    "scrolled": false
   },
   "outputs": [],
   "source": [
    "plt.scatter(x=df_size['body_mass_g'], y=df_size['culmen_depth_mm']);"
   ]
  },
  {
   "cell_type": "markdown",
   "id": "d4d7835e",
   "metadata": {},
   "source": [
    "Nota-se que a diferença visual entre os gráficos é enorme, porém a sintaxe que os gera não se diferencia tanto."
   ]
  },
  {
   "cell_type": "markdown",
   "id": "ca313e7e",
   "metadata": {},
   "source": [
    "Podemos alterar as cores dos marcadores através de alguma variável do próprio dataframe como por exemplo o sexo dos pinguins.  \n",
    "  \n",
    "Por padrão o parâmetro *color* do px.scatter necessita de uma das colunas do próprio dataframe para realizar a marcação em cores das categorias."
   ]
  },
  {
   "cell_type": "code",
   "execution_count": null,
   "id": "72d108c6",
   "metadata": {},
   "outputs": [],
   "source": [
    "df_size.dropna(inplace=True)\n",
    "df_size['sex'].isnull().sum()"
   ]
  },
  {
   "cell_type": "code",
   "execution_count": null,
   "id": "bfc417bc",
   "metadata": {
    "scrolled": false
   },
   "outputs": [],
   "source": [
    "px.scatter(data_frame=df_size, x='body_mass_g', y='culmen_depth_mm', color='species')"
   ]
  },
  {
   "cell_type": "markdown",
   "id": "58eedbe2",
   "metadata": {},
   "source": [
    "Estilizando o gráfico."
   ]
  },
  {
   "cell_type": "code",
   "execution_count": null,
   "id": "b891011e",
   "metadata": {},
   "outputs": [],
   "source": [
    "fig=px.scatter(data_frame=df_size, x='body_mass_g', y='culmen_depth_mm', color='sex')\n",
    "fig.update_layout(template='presentation')"
   ]
  },
  {
   "cell_type": "code",
   "execution_count": null,
   "id": "be7a653e",
   "metadata": {},
   "outputs": [],
   "source": [
    "fig=px.scatter(data_frame=df_size, x='body_mass_g', y='culmen_depth_mm', color='sex')\n",
    "\n",
    "fig.update_layout(\n",
    "    xaxis_title={\n",
    "        'text':'Massa corporal em g',\n",
    "        'font_size': 18\n",
    "    },\n",
    "    yaxis_title={\n",
    "        'text': 'Altura do bico',\n",
    "        'font_size': 18\n",
    "    },\n",
    "    legend_title={\n",
    "        'text':'Sexo',\n",
    "        'font_size': 18\n",
    "    },\n",
    "    font_color='grey',\n",
    "    title={\n",
    "        'text': 'Massa dos pinguins em função da altura do bico',\n",
    "        'x': 0.5,\n",
    "        'y': 0.93,\n",
    "        'font_family': 'Times New Roman',\n",
    "        'font_color': 'black',\n",
    "        'font_size': 20\n",
    "    },\n",
    "    template='presentation'\n",
    ")"
   ]
  },
  {
   "cell_type": "markdown",
   "id": "e197b8cd",
   "metadata": {},
   "source": [
    "Algumas strings que podem ser utilizadas no template:\n",
    "- ‘ggplot2’,\n",
    "- ‘seaborn’,\n",
    "- ‘simple_white’,\n",
    "- ‘plotly’,\n",
    "- ‘plotly_white’,\n",
    "- ‘plotly_dark’,\n",
    "- ‘presentation’,\n",
    "- ‘xgridoff’,\n",
    "- ‘ygridoff’,\n",
    "- ‘gridon’,\n",
    "- ‘none’"
   ]
  },
  {
   "cell_type": "markdown",
   "id": "e3cf52fb",
   "metadata": {},
   "source": [
    "## Linhas\n",
    "**Documentação**: https://plotly.com/python-api-reference/generated/plotly.express.line"
   ]
  },
  {
   "cell_type": "code",
   "execution_count": null,
   "id": "b277c67e",
   "metadata": {
    "scrolled": true
   },
   "outputs": [],
   "source": [
    "df_supermarket = pd.read_csv('.\\data\\supermarket_sales.csv')\n",
    "df_supermarket.head()"
   ]
  },
  {
   "cell_type": "code",
   "execution_count": null,
   "id": "e66a5ed3",
   "metadata": {},
   "outputs": [],
   "source": [
    "df_supermarket.info()"
   ]
  },
  {
   "cell_type": "code",
   "execution_count": null,
   "id": "07409086",
   "metadata": {
    "scrolled": true
   },
   "outputs": [],
   "source": [
    "df_supermarket['Date'] = pd.to_datetime(df_supermarket['Date'])"
   ]
  },
  {
   "cell_type": "code",
   "execution_count": null,
   "id": "b03e22a8",
   "metadata": {
    "scrolled": false
   },
   "outputs": [],
   "source": [
    "px.line(df_supermarket, 'Date', 'Total')"
   ]
  },
  {
   "cell_type": "code",
   "execution_count": null,
   "id": "f3fea868",
   "metadata": {},
   "outputs": [],
   "source": [
    "df_total=df_supermarket.pivot_table(index='Date', values='Total', aggfunc='sum')\n",
    "fig=px.line(x=df_total.index, y=df_total['Total'])\n",
    "\n",
    "fig.update_layout(\n",
    "    xaxis_title={\n",
    "        'text':'Data',\n",
    "    },\n",
    "    yaxis_title={\n",
    "        'text': 'Total somado',\n",
    "    },\n",
    "    font_color='grey',\n",
    "    title={\n",
    "        'text': 'Total de vendas ao longo do tempo',\n",
    "        'x': 0.5,\n",
    "        'y': 0.93,\n",
    "    },\n",
    "    template='ggplot2'\n",
    ")"
   ]
  },
  {
   "cell_type": "markdown",
   "id": "24058368",
   "metadata": {},
   "source": [
    "**No mesmo Eixo**"
   ]
  },
  {
   "cell_type": "code",
   "execution_count": null,
   "id": "8affe765",
   "metadata": {
    "scrolled": false
   },
   "outputs": [],
   "source": [
    "df_payment=df_supermarket.pivot_table(index='Date', columns='Payment', values='Total', aggfunc='sum')\n",
    "px.line(df_payment)"
   ]
  },
  {
   "cell_type": "markdown",
   "id": "4813b936",
   "metadata": {},
   "source": [
    "Podemos estilizar o gráfico"
   ]
  },
  {
   "cell_type": "code",
   "execution_count": null,
   "id": "53999165",
   "metadata": {},
   "outputs": [],
   "source": [
    "df_payment=df_supermarket.pivot_table(index='Date', columns='Payment', values='Total', aggfunc='sum')\n",
    "fig=px.line(df_payment, title='Vendas no supermercado por meio de pagamento')\n",
    "\n",
    "fig.update_layout(xaxis_title=None,\n",
    "    yaxis_title=\"Valor total vendido\",\n",
    "    legend_title=\"Método de Pagamento\",\n",
    "    title={\n",
    "        'y':0.85,\n",
    "        'x':0.27,\n",
    "        'font_family': 'Times New Roman',\n",
    "        'font_color': 'black'\n",
    "    })\n"
   ]
  },
  {
   "cell_type": "markdown",
   "id": "179e9530",
   "metadata": {},
   "source": [
    "**Em vários eixos**  \n",
    "Para realizar o plot do gráfico acima, porém agora em três gráficos separados, o Plotly Express possui um parâmetro chamado *facet_col* e *facet_row* cujas funções é manter os gráficos em face com outros, seja pela linha (horizontal), seja pela coluna (vertical). Estes parâmetros necessitam de alguma coluna do DataFrame da qual será separado o gráfico, de forma semelhante como é feito utilizando o parâmetro color."
   ]
  },
  {
   "cell_type": "code",
   "execution_count": null,
   "id": "7e540964",
   "metadata": {},
   "outputs": [],
   "source": [
    "px.line(df_payment, facet_col='Payment')"
   ]
  },
  {
   "cell_type": "markdown",
   "id": "7e108538",
   "metadata": {},
   "source": [
    "Agora um exemplo do uso do *facet_row*, ou seja, uso dos gráficos em face horizontalmente."
   ]
  },
  {
   "cell_type": "code",
   "execution_count": null,
   "id": "c026f5f9",
   "metadata": {
    "scrolled": false
   },
   "outputs": [],
   "source": [
    "fig=px.line(df_payment, facet_row='Payment', markers=True)\n",
    "\n",
    "#função para retirada do texto padrão \"Payment=\"\n",
    "fig.for_each_annotation(lambda a: a.update(text=a.text.split(\"=\")[-1]))\n",
    "fig.update_layout(legend_title=\"Método de Pagamento\")"
   ]
  },
  {
   "cell_type": "markdown",
   "id": "cb2786f9",
   "metadata": {},
   "source": [
    "## Pizza\n",
    "**Documentação**: https://plotly.com/python-api-reference/generated/plotly.express.pie"
   ]
  },
  {
   "cell_type": "code",
   "execution_count": null,
   "id": "0e71dba1",
   "metadata": {},
   "outputs": [],
   "source": [
    "df_pizza=df_supermarket.pivot_table(index='Branch', values='Quantity', aggfunc='sum')\n",
    "px.pie(names=df_pizza.index, values=df_pizza['Quantity'], opacity=0.8)"
   ]
  },
  {
   "cell_type": "code",
   "execution_count": null,
   "id": "310cfd29",
   "metadata": {},
   "outputs": [],
   "source": [
    "fig=px.pie(names=df_pizza.index, values=df_pizza['Quantity'], opacity=0.8)\n",
    "\n",
    "fig.update_layout(\n",
    "    title={\n",
    "        'text': 'Distribuição das quantidades de vendas por marca',\n",
    "        'x': 0.5,\n",
    "        'font_color': 'grey'\n",
    "    }\n",
    ")"
   ]
  },
  {
   "cell_type": "markdown",
   "id": "88e784da",
   "metadata": {},
   "source": [
    "## Barras\n",
    "**Documentação**: https://plotly.com/python-api-reference/generated/plotly.express.bar.html"
   ]
  },
  {
   "cell_type": "code",
   "execution_count": null,
   "id": "d3ebcab5",
   "metadata": {},
   "outputs": [],
   "source": [
    "px.bar(df_pizza)"
   ]
  },
  {
   "cell_type": "code",
   "execution_count": null,
   "id": "ae59a749",
   "metadata": {},
   "outputs": [],
   "source": [
    "df_bar = df_supermarket.pivot_table(index='Branch', values='Total', columns='Gender', aggfunc='sum')\n",
    "px.bar(df_bar)"
   ]
  },
  {
   "cell_type": "code",
   "execution_count": null,
   "id": "b600cbd7",
   "metadata": {},
   "outputs": [],
   "source": [
    "df_bar = df_supermarket.pivot_table(index='Branch', values='Total', columns='Gender', aggfunc='sum')\n",
    "fig = px.bar(df_bar)\n",
    "fig.update_layout(\n",
    "    xaxis_title=\"Marca\",\n",
    "    yaxis_title=\"Total de vendas (R$)\",\n",
    "    legend_title=\"Gênero\",\n",
    "    title={\n",
    "        'text': 'Distribuição das vendas das marcas por gênero',\n",
    "        'y':0.95,\n",
    "        'x':0.5,\n",
    "        'font_color': 'grey'\n",
    "    })\n",
    "fig.show()"
   ]
  },
  {
   "cell_type": "code",
   "execution_count": null,
   "id": "931208cb",
   "metadata": {},
   "outputs": [],
   "source": [
    "df_bar = df_supermarket.pivot_table(index='Branch', values='Total', columns='Gender', aggfunc='sum')\n",
    "fig = px.bar(df_bar, barmode='group')\n",
    "\n",
    "fig.update_layout(\n",
    "    xaxis_title=\"Marca\",\n",
    "    yaxis_title=\"Total de vendas (R$)\",\n",
    "    legend_title=\"Gênero\",\n",
    "    template='none',\n",
    "    title={\n",
    "        'text': 'Distribuição das vendas das marcas por gênero',\n",
    "        'y':0.95,\n",
    "        'x':0.5,\n",
    "        'font_color': 'grey'\n",
    "    }\n",
    ")\n"
   ]
  },
  {
   "cell_type": "code",
   "execution_count": null,
   "id": "9dbedb6a",
   "metadata": {},
   "outputs": [],
   "source": [
    "df_bar = df_supermarket.pivot_table(index='Branch', values='Total', columns='Gender', aggfunc='sum')\n",
    "fig = px.bar(df_bar, facet_col='Gender')\n",
    "\n",
    "fig.update_layout(\n",
    "    yaxis_title=\"Total de vendas (R$)\",\n",
    "    legend_title=\"Gênero\",\n",
    "    title={\n",
    "        'text': 'Distribuição das vendas das marcas por gênero',\n",
    "        'y':0.95,\n",
    "        'x':0.5,\n",
    "        'font_color': 'grey'\n",
    "    })\n",
    "\n",
    "fig.for_each_annotation(lambda a: a.update(text=a.text.split(\"=\")[-1]))"
   ]
  },
  {
   "cell_type": "markdown",
   "id": "950197ce",
   "metadata": {},
   "source": [
    "**Barras Horizontais**\n",
    "Para criar o gráfico de barras horizontais basta utilizar o parâmetro *orientation* como sendo 'h'"
   ]
  },
  {
   "cell_type": "code",
   "execution_count": null,
   "id": "e471e1cf",
   "metadata": {},
   "outputs": [],
   "source": [
    "df_bar = df_supermarket.pivot_table(index='Branch', values='Total', columns='Gender', aggfunc='sum')\n",
    "fig = px.bar(df_bar, orientation='h')\n",
    "fig.update_layout(\n",
    "    yaxis_title=\"Marca\",\n",
    "    xaxis_title=\"Total de vendas (R$)\",\n",
    "    legend_title=\"Gênero\",\n",
    "    title={\n",
    "        'text': 'Distribuição das vendas das marcas por gênero',\n",
    "        'y':0.95,\n",
    "        'x':0.5,\n",
    "        'font_color': 'grey'\n",
    "    })\n",
    "fig.show()"
   ]
  },
  {
   "cell_type": "markdown",
   "id": "47b5af03",
   "metadata": {},
   "source": [
    "## Histograma\n",
    "**Documentação**: https://plotly.github.io/plotly.py-docs/generated/plotly.express.histogram.html"
   ]
  },
  {
   "cell_type": "code",
   "execution_count": null,
   "id": "82fc364e",
   "metadata": {
    "scrolled": false
   },
   "outputs": [],
   "source": [
    "px.histogram(df_size, 'body_mass_g', nbins=50)"
   ]
  },
  {
   "cell_type": "code",
   "execution_count": null,
   "id": "458a3ad1",
   "metadata": {},
   "outputs": [],
   "source": [
    "px.histogram(df_size, 'body_mass_g', nbins=50, marginal='box', template='none')"
   ]
  },
  {
   "cell_type": "markdown",
   "id": "88db82af",
   "metadata": {},
   "source": [
    "## Boxplot\n",
    "**Documentação**: https://matplotlib.org/3.1.1/api/_as_gen/matplotlib.pyplot.boxplot.html"
   ]
  },
  {
   "cell_type": "code",
   "execution_count": null,
   "id": "1bdcd15c",
   "metadata": {},
   "outputs": [],
   "source": [
    "fig=px.box(data_frame=df_size, y='body_mass_g')\n",
    "\n",
    "fig.update_layout(\n",
    "    yaxis_title='Massa corporal (g)',\n",
    "    title={\n",
    "        'text': 'Boxplot',\n",
    "        'x': 0.49,\n",
    "        'y': 0.94,\n",
    "        'font_color': 'grey'\n",
    "    },\n",
    "    template='none'\n",
    ")"
   ]
  },
  {
   "cell_type": "code",
   "execution_count": null,
   "id": "49183845",
   "metadata": {},
   "outputs": [],
   "source": [
    "fig=px.box(data_frame=df_size, x='body_mass_g')\n",
    "\n",
    "fig.update_layout(\n",
    "    xaxis_title='Massa corporal (g)',\n",
    "    title={\n",
    "        'text': 'Boxplot',\n",
    "        'x': 0.49,\n",
    "        'y': 0.94,\n",
    "        'font_color': 'grey'\n",
    "    },\n",
    "    template='none'\n",
    ")"
   ]
  },
  {
   "cell_type": "markdown",
   "id": "fba0f226",
   "metadata": {},
   "source": [
    "Retomando o gráfico de dispersão do início da aula"
   ]
  },
  {
   "cell_type": "code",
   "execution_count": null,
   "id": "a5b85ee7",
   "metadata": {},
   "outputs": [],
   "source": [
    "px.scatter(data_frame=df_size, x='body_mass_g', y='culmen_depth_mm', )"
   ]
  },
  {
   "cell_type": "markdown",
   "id": "ce2c9d85",
   "metadata": {},
   "source": [
    "É possível automaticamente concatenar gráficos"
   ]
  },
  {
   "cell_type": "code",
   "execution_count": null,
   "id": "8af970e3",
   "metadata": {},
   "outputs": [],
   "source": [
    "px.scatter(data_frame=df_size, x='body_mass_g', y='culmen_depth_mm', marginal_x='box', marginal_y='box')"
   ]
  }
 ],
 "metadata": {
  "kernelspec": {
   "display_name": "Python 3 (ipykernel)",
   "language": "python",
   "name": "python3"
  },
  "language_info": {
   "codemirror_mode": {
    "name": "ipython",
    "version": 3
   },
   "file_extension": ".py",
   "mimetype": "text/x-python",
   "name": "python",
   "nbconvert_exporter": "python",
   "pygments_lexer": "ipython3",
   "version": "3.9.12"
  }
 },
 "nbformat": 4,
 "nbformat_minor": 5
}
