{
 "cells": [
  {
   "cell_type": "markdown",
   "id": "de0fac3c",
   "metadata": {},
   "source": [
    "# Módulo 4 - Técnicas de Programação II\n",
    "## Aula 1\n",
    "- Cronograma\n",
    "- Introdução\n",
    "- Gráficos com Pandas"
   ]
  },
  {
   "cell_type": "markdown",
   "id": "3e57f8be",
   "metadata": {},
   "source": [
    "### Cronograma\n",
    "  \n",
    "* 15/07: Introdução, Gráficos com Pandas\n",
    "* 18/07: Gráficos com Pandas + Exercícios\n",
    "* 20/07: Matplotlib\n",
    "* 22/07: Seaborn\n",
    "* 25/07: Plotly\n",
    "* 27/07: Plotly\n",
    "* 29/07: Streamlit\n",
    "* 01/08: Apresentação Projeto\n",
    "* 03/08: Avaliação por rubrica"
   ]
  },
  {
   "cell_type": "markdown",
   "id": "cf8dade5",
   "metadata": {},
   "source": [
    "### Introdução\n",
    "\n",
    "Gráficos são representações visuais dos dados, que buscam facilitar o entendimento dos mesmos. Podem ser muito úteis na identificação de variáveis importantes para uma modelagem ou tomada de decisão.\n",
    "\n",
    "\n",
    "**Tipos de gráficos mais usuais:**\n",
    "- **Scatter plot (ou gráfico de dispersão):**\n",
    "Dadas duas variáveis X e Y, cada observação (par de valores (x,y)) é representado por um ponto no gráfico. Na imagem abaixo, uma observação (x,y) = (4,5) é representada pelo X vermelho.\n",
    "<img src=\"./images/img_scatterplot_editada.png\" alt=\"Drawing\" style=\"width: 500px;\"/>\n",
    "\n",
    "- **Gráfico de linhas:**\n",
    "O gráfico de linhas é muito utilizado quando estamos querendo encontrar tendências de um conjunto de variáveis. No geral, a variável alocada no eixo horizontal representa categorias ordinais, geralmente temporais (como por exemplo: meses, anos, dias, semanas, lotes em ordem de fabricação etc). Para construí-lo, primeiro aplica-se um gráfico de dispersão dessas variáveis, e depois unem-se os pontos por linhas, como mostra a imagem abaixo. Podemos imaginar que cada categoria é um lote de produção de uma mercadoria (em que o lote 1 foi produzido antes do lote 2, e assim por diante), e no eixo vertical, têm se a quantidade vendida de cada lote. Ainda, há 3 séries representadas por cores, que podem representar, por exemplo, três clientes diferentes que adquiriram as mercadorias.\n",
    "<img src=\"./images/grafico_linhas.jpg\" alt=\"Drawing\" style=\"width: 500px;\"/>\n",
    "\n",
    "- **Gráfico de pizza/Pie plot (ou gráfico de setores):**\n",
    "Este gráfico tem como objetivo representar um valor relativo de cada categoria em relação a um todo. Exemplo: de todo o lucro de uma empresa revendedora de aparelhos celular, quantos porcento são relativos a cada marca de produto comercializado.\n",
    "<img src=\"./images/grafico_pizza.png\" alt=\"Drawing\" style=\"width: 400px;\"/>\n",
    "\n",
    "- **Gráfico de barras (horizontal e vertical):**\n",
    "Um gráfico de barras é uma forma de visualização de dados categóricos, em que cada categoria é representada por uma barra, cujo tamanho representa sua frequência/quantidade de observações. Pode ser representado de forma vertical (conhecido também como gráfico de colunas) ou de forma horizontal (em que o gráfico parece \"deitado\". No exemplo abaixo, o mesmo conjunto de dados é representado das duas formas. \n",
    "\n",
    "Observação: Aqui, os valores \"1\", \"2\" e \"3\" das barras representam categorias, e não uma variável contínua.\n",
    "<img src=\"./images/grafico_barras.png\" alt=\"Drawing\" style=\"width: 500px;\"/>\n",
    "\n",
    "- **Histograma:** \n",
    "Um histograma é muito parecido com um gráfico de barras, e possui a mesma ideia: cada coluna representa uma frequência/quantidade. Entretanto, o eixo horizontal deste tipo de gráfico é uma variável contínua, e a ideia é observar a distribuição das observações desta variável. Exemplos de perguntas que podemos estar tentando responder ao analisar esse tipo de gráfico, são: \"quais são os valores mais frequentes nessa variável contínua?\" e \"Qual a probabilidade de uma nova observação ter determinado valor?\"\n",
    "\n",
    "Para se construir as barras deste gráfico, a variável contínua é agrupada em intervalos, e o tamanho da barra representa o número de observações que possuem valores dentro deste intervalo. É comum encontrar histogramas com um traço linear ligando o topo dessas barras pelo meio, de forma a facilitar a identificação de uma distribuição estatística.\n",
    "<img src=\"./images/histograma.png\" alt=\"Drawing\" style=\"width: 500px;\"/>\n",
    "\n",
    "- **Box-Plot:**\n",
    "Os box-plot, assim como os histogramas, são gráficos estatísticos que permitem analisar uma distribuição dos dados, mas com uma representação diferente. Apesar de muito utilizados por estatísticos e cientistas de dados, a maioria das pessoas que não estão acostumadas a eles, têm dificuldade em interpretá-los. \n",
    "\n",
    "A representação do box-plot se baseia em medidas de quartis: uma caixinha central é desenhada ligando o primeiro (Q1) e terceiro (Q3) quartis (25% e 75%, respectivamente), e uma reta corta essa 'caixa' no quartil central (Q2 = 50%). Na parte inferior e superior do gráfico, é traçada uma reta de tamanho máximo 1.5xIQ, em que IQ = Q3-Q1. Essa reta é traçada até o último valor da variável que ainda esteja dentro desse limite. Observações acima ou abaixo dele, são representadas por bolinhas, e muito chamadas de 'outliers' (valor atípico). Abaixo, uma representação dos componentes de um box-plot, e um gráfico exibindo box-plots das distribuições de temperaturas de diferentes cidades.\n",
    "<img src=\"./images/boxplot2.png\" alt=\"Drawing\" style=\"width: 500px;\"/>\n",
    "<img src=\"./images/boxplot.png\" alt=\"Drawing\" style=\"width: 500px;\"/>"
   ]
  },
  {
   "cell_type": "markdown",
   "id": "d91605b1",
   "metadata": {},
   "source": [
    "## Gráficos com pandas\n",
    "\n",
    "A biblioteca pandas, que estudamos no módulo 4, permite realizar alguns gráficos simples, baseados na biblioteca matplotlib. Vamos aprender a aplicá-los utilizando a base de dados do titanic como exemplo.  \n",
    "\n",
    "**Documentação:** https://pandas.pydata.org/docs/reference/api/pandas.DataFrame.plot.html"
   ]
  },
  {
   "cell_type": "code",
   "execution_count": null,
   "id": "c15eaa8b",
   "metadata": {},
   "outputs": [],
   "source": [
    "import pandas as pd\n",
    "import numpy as np\n",
    "\n",
    "df_size = pd.read_csv('./data/penguins_size.csv')"
   ]
  },
  {
   "cell_type": "code",
   "execution_count": null,
   "id": "0772090d",
   "metadata": {},
   "outputs": [],
   "source": [
    "df_size.head()"
   ]
  },
  {
   "cell_type": "code",
   "execution_count": null,
   "id": "971782cc",
   "metadata": {},
   "outputs": [],
   "source": [
    "df_size.info()"
   ]
  },
  {
   "cell_type": "markdown",
   "id": "af7674cf",
   "metadata": {},
   "source": [
    "<img src=\"./images/culmen_depth.png\" alt=\"Drawing\" style=\"width: 350px;\"/>\n",
    "<img src=\"./images/fliper_lenght.jpg\" alt=\"Drawing\" style=\"width: 250px;\"/>"
   ]
  },
  {
   "cell_type": "markdown",
   "id": "81ebe628",
   "metadata": {},
   "source": [
    "### Gráfico de dispersão (scatter plot)"
   ]
  },
  {
   "cell_type": "code",
   "execution_count": null,
   "id": "1ee7332d",
   "metadata": {
    "scrolled": true
   },
   "outputs": [],
   "source": [
    "df_size.plot(x='culmen_length_mm', y='culmen_depth_mm', kind='scatter');"
   ]
  },
  {
   "cell_type": "code",
   "execution_count": null,
   "id": "9bbfb86f",
   "metadata": {
    "scrolled": false
   },
   "outputs": [],
   "source": [
    "df_size.plot(x='culmen_length_mm', y='culmen_depth_mm', kind='scatter', s = 'flipper_length_mm', c = 'red');"
   ]
  },
  {
   "cell_type": "markdown",
   "id": "455141e7",
   "metadata": {},
   "source": [
    "#### Criando gráficos com filtros"
   ]
  },
  {
   "cell_type": "code",
   "execution_count": null,
   "id": "4bae8db4",
   "metadata": {},
   "outputs": [],
   "source": [
    "df_size[df_size['sex'] == 'FEMALE'].head()"
   ]
  },
  {
   "cell_type": "code",
   "execution_count": null,
   "id": "ba6403c9",
   "metadata": {},
   "outputs": [],
   "source": [
    "df_size[df_size['sex'] == 'FEMALE'].plot(x='culmen_length_mm', y='culmen_depth_mm', kind='scatter');"
   ]
  },
  {
   "cell_type": "code",
   "execution_count": null,
   "id": "5c147dd7",
   "metadata": {},
   "outputs": [],
   "source": [
    "df_size[df_size['sex'] == 'MALE'].plot(x='culmen_length_mm', y='culmen_depth_mm', kind='scatter');"
   ]
  },
  {
   "cell_type": "markdown",
   "id": "6bcb38be",
   "metadata": {},
   "source": [
    "#### Unindo dois gráficos"
   ]
  },
  {
   "cell_type": "code",
   "execution_count": null,
   "id": "8328308b",
   "metadata": {},
   "outputs": [],
   "source": [
    "ax1 = df_size[df_size.sex == 'FEMALE'].plot(x='culmen_length_mm', y='culmen_depth_mm', kind='scatter', c = 'red',\n",
    "                                           label='Femea', title='Dispersão das dimensões do bico')\n",
    "ax2 = df_size[df_size.sex == 'MALE'].plot(x='culmen_length_mm', y='culmen_depth_mm', kind='scatter', c = 'blue', ax=ax1,\n",
    "                                         label='Macho', xlabel='Comprimento do bico', ylabel='Altura do bico')"
   ]
  },
  {
   "cell_type": "markdown",
   "id": "71aa39cf",
   "metadata": {},
   "source": [
    "#### Ajustando os labels"
   ]
  },
  {
   "cell_type": "code",
   "execution_count": null,
   "id": "fc25fd9a",
   "metadata": {
    "scrolled": false
   },
   "outputs": [],
   "source": [
    "ax1 = df_size[df_size.sex == 'FEMALE'].plot(x='culmen_length_mm', y='culmen_depth_mm', kind='scatter', c = 'red', label = 'Femea', )\n",
    "ax2 = df_size[df_size.sex == 'MALE'].plot(x='culmen_length_mm', y='culmen_depth_mm', kind='scatter', c = 'blue', label = 'Macho', \n",
    "                                ax=ax1)\n",
    "\n",
    "ax1.set_xlabel('tamanho do bico')\n",
    "ax1.set_ylabel('altura do bico')\n",
    "ax1.set_title('Scatter plot - dimensões do bico');"
   ]
  },
  {
   "cell_type": "code",
   "execution_count": null,
   "id": "50e15df8",
   "metadata": {},
   "outputs": [],
   "source": [
    "df_size.plot(x='flipper_length_mm', y='culmen_depth_mm', kind='scatter');"
   ]
  },
  {
   "cell_type": "markdown",
   "id": "92d1eefe",
   "metadata": {},
   "source": [
    "#### Tamanho do gráfico"
   ]
  },
  {
   "cell_type": "code",
   "execution_count": null,
   "id": "67beec77",
   "metadata": {},
   "outputs": [],
   "source": [
    "ax1 = df_size[df_size.sex == 'FEMALE'].plot(x='culmen_length_mm', y='culmen_depth_mm', kind='scatter', c = 'red', label = 'Feminino', figsize=(12,6))\n",
    "ax2 = df_size[df_size.sex == 'MALE'].plot(x='culmen_length_mm', y='culmen_depth_mm', kind='scatter', c = 'blue', label = 'Masculino', \n",
    "                                ax=ax1)\n",
    "\n",
    "\n",
    "ax1.set_xlabel('Tamanho do bico')\n",
    "ax1.set_ylabel('Altura do bico')\n",
    "ax1.set_title('Scatter plot - dimensões do bico')\n",
    "ax1.legend(loc='lower left', bbox_to_anchor = (1.05, 0.6));"
   ]
  },
  {
   "cell_type": "markdown",
   "id": "318f8748",
   "metadata": {},
   "source": [
    "## Gráfico de linhas"
   ]
  },
  {
   "cell_type": "code",
   "execution_count": null,
   "id": "108dedfc",
   "metadata": {},
   "outputs": [],
   "source": [
    "df_vendas = pd.DataFrame({'Mês' : ['Jan', 'Fev', 'Mar', 'Abr', 'Jan', 'Fev', 'Mar', 'Abr', 'Jan', 'Fev', 'Mar', 'Abr'],\n",
    "                         'Quantidade' : np.random.randint(low=100, size=12),\n",
    "                          'Veículo' : np.repeat(['HB20', 'Onix', 'Sandero'],4)})\n",
    "df_vendas"
   ]
  },
  {
   "cell_type": "code",
   "execution_count": null,
   "id": "7a951a71",
   "metadata": {},
   "outputs": [],
   "source": [
    "df_vendas[df_vendas['Veículo'] == 'HB20'].plot(x='Mês', y='Quantidade');"
   ]
  },
  {
   "cell_type": "code",
   "execution_count": null,
   "id": "bd35c492",
   "metadata": {},
   "outputs": [],
   "source": [
    "ax1 = df_vendas[df_vendas['Veículo'] == 'HB20'].plot(x='Mês', y='Quantidade', c='green')\n",
    "ax2 = df_vendas[df_vendas['Veículo'] == 'Onix'].plot(x='Mês', y='Quantidade', c='red', ax=ax1)\n",
    "ax3 = df_vendas[df_vendas['Veículo'] == 'Sandero'].plot(x='Mês', y='Quantidade', c='blue', ax=ax1)"
   ]
  },
  {
   "cell_type": "code",
   "execution_count": null,
   "id": "3075d470",
   "metadata": {},
   "outputs": [],
   "source": [
    "ax1 = df_vendas[df_vendas['Veículo'] == 'HB20'].plot(x='Mês', y='Quantidade', c='green', label = 'HB20')\n",
    "ax2 = df_vendas[df_vendas['Veículo'] == 'Onix'].plot(x='Mês', y='Quantidade', c='red', ax=ax1, label = 'Onix')\n",
    "ax3 = df_vendas[df_vendas['Veículo'] == 'Sandero'].plot(x='Mês', y='Quantidade', c='blue', ax=ax1, label = 'Sandero')\n",
    "\n",
    "ax1.set_ylabel('Quantidade de veículos vendidos')\n",
    "ax1.set_title('Vendas de veículos populares');"
   ]
  },
  {
   "cell_type": "code",
   "execution_count": null,
   "id": "0b930058",
   "metadata": {},
   "outputs": [],
   "source": [
    "df_vendas.pivot(index='Mês', columns='Veículo', values='Quantidade')"
   ]
  },
  {
   "cell_type": "code",
   "execution_count": null,
   "id": "06be5dbf",
   "metadata": {},
   "outputs": [],
   "source": [
    "df_vendas.pivot(index='Mês', columns='Veículo', values='Quantidade').plot(kind='line');"
   ]
  },
  {
   "cell_type": "code",
   "execution_count": null,
   "id": "ba690daa",
   "metadata": {},
   "outputs": [],
   "source": [
    "df_vendas['Mês'] = pd.Categorical(df_vendas['Mês'], categories=[\"Jan\", \"Fev\", \"Mar\", \"Abr\"], ordered=True)\n",
    "df_vendas.pivot(index='Mês', columns='Veículo', values='Quantidade')"
   ]
  },
  {
   "cell_type": "code",
   "execution_count": null,
   "id": "e0a674dd",
   "metadata": {},
   "outputs": [],
   "source": [
    "df_vendas.pivot(index='Mês', columns='Veículo', values='Quantidade').plot(kind='line', ylabel='Quantidade', figsize=(10,5), color={'Onix': 'red', 'Sandero': 'blue', 'HB20': 'green'});"
   ]
  },
  {
   "cell_type": "markdown",
   "id": "3c1eeef2",
   "metadata": {},
   "source": [
    "Inverter o eixo X"
   ]
  },
  {
   "cell_type": "code",
   "execution_count": null,
   "id": "ecaa025d",
   "metadata": {},
   "outputs": [],
   "source": [
    "df_vendas[df_vendas['Veículo'] == 'HB20'].plot(x='Mês', y='Quantidade').invert_xaxis()"
   ]
  },
  {
   "cell_type": "markdown",
   "id": "5ec0938d",
   "metadata": {},
   "source": [
    "## Gráfico de pizza"
   ]
  },
  {
   "cell_type": "code",
   "execution_count": null,
   "id": "038f552c",
   "metadata": {},
   "outputs": [],
   "source": [
    "df_vendas.groupby(['Veículo']).sum()"
   ]
  },
  {
   "cell_type": "code",
   "execution_count": null,
   "id": "2f773098",
   "metadata": {},
   "outputs": [],
   "source": [
    "df_vendas.groupby(['Veículo']).sum().plot(y='Quantidade', kind='pie');"
   ]
  },
  {
   "cell_type": "code",
   "execution_count": null,
   "id": "0bdff39f",
   "metadata": {},
   "outputs": [],
   "source": [
    "df_vendas.groupby(['Veículo']).sum().plot(y='Quantidade', kind='pie', autopct='%1.0f%%',\n",
    "                                colors = ['red', 'pink', 'steelblue'], figsize=(10,5), labeldistance=None,\n",
    "                                         title='Distribuição de vendas de carros populares');"
   ]
  },
  {
   "cell_type": "code",
   "execution_count": null,
   "id": "065a5530",
   "metadata": {},
   "outputs": [],
   "source": [
    "df_vendas.pivot_table(index='Veículo', values='Quantidade', aggfunc='sum').plot(y='Quantidade', kind='pie');"
   ]
  },
  {
   "cell_type": "code",
   "execution_count": null,
   "id": "e7c70174",
   "metadata": {},
   "outputs": [],
   "source": [
    "df_vendas.pivot_table(index='Mês', values='Quantidade', aggfunc='sum')"
   ]
  },
  {
   "cell_type": "code",
   "execution_count": null,
   "id": "7dbf96aa",
   "metadata": {},
   "outputs": [],
   "source": [
    "df_vendas.pivot_table(index='Mês', values='Quantidade', aggfunc='sum').plot(y='Quantidade', kind='pie',\n",
    "                                                                           labeldistance=None);"
   ]
  },
  {
   "cell_type": "code",
   "execution_count": null,
   "id": "a1c90079",
   "metadata": {},
   "outputs": [],
   "source": [
    "df_vendas.pivot(index='Mês', columns='Veículo', values='Quantidade')"
   ]
  },
  {
   "cell_type": "code",
   "execution_count": null,
   "id": "161eae25",
   "metadata": {},
   "outputs": [],
   "source": [
    "df_vendas.pivot(index='Mês', columns='Veículo', values='Quantidade').plot(subplots=True, kind='pie', figsize=(20,10), \n",
    "                                                                      autopct='%1.0f%%', labeldistance=None);"
   ]
  },
  {
   "cell_type": "code",
   "execution_count": null,
   "id": "5a560787",
   "metadata": {},
   "outputs": [],
   "source": [
    "df_vendas.pivot(index='Veículo', columns='Mês', values='Quantidade').plot(subplots=True, kind='pie', figsize=(25,20), \n",
    "                                                                      autopct='%1.0f%%', fontsize=25, labeldistance=None);"
   ]
  },
  {
   "cell_type": "code",
   "execution_count": null,
   "id": "5abb47f5",
   "metadata": {},
   "outputs": [],
   "source": [
    "df_vendas.pivot(index='Veículo', columns='Mês', values='Quantidade').plot(subplots=True, kind='pie', figsize=(25,20), \n",
    "                                                                      autopct='%1.0f%%', fontsize=15, legend=None);"
   ]
  },
  {
   "cell_type": "markdown",
   "id": "32f27fba",
   "metadata": {},
   "source": [
    "## Gráfico de barras"
   ]
  },
  {
   "cell_type": "code",
   "execution_count": null,
   "id": "7d15f5c2",
   "metadata": {},
   "outputs": [],
   "source": [
    "df_vendas.groupby('Veículo').sum().plot(kind='bar');"
   ]
  },
  {
   "cell_type": "code",
   "execution_count": null,
   "id": "56b6659b",
   "metadata": {},
   "outputs": [],
   "source": [
    "df_vendas.groupby('Mês').sum()"
   ]
  },
  {
   "cell_type": "code",
   "execution_count": null,
   "id": "7d754245",
   "metadata": {},
   "outputs": [],
   "source": [
    "df_vendas.groupby('Mês').sum().plot(kind='bar', title='Vendas de veículos por mês', legend=None, ylabel='Quantidade de veículos');"
   ]
  },
  {
   "cell_type": "markdown",
   "id": "c87195d3",
   "metadata": {},
   "source": [
    "#### Subplots"
   ]
  },
  {
   "cell_type": "code",
   "execution_count": null,
   "id": "2c3c5a1e",
   "metadata": {},
   "outputs": [],
   "source": [
    "ax_bar = df_vendas.pivot(index='Mês', columns='Veículo', values='Quantidade').plot(subplots=True, kind='bar', figsize=(15,15), \n",
    "                                                                      fontsize=15, sharey=True);"
   ]
  },
  {
   "cell_type": "markdown",
   "id": "8541f7cf",
   "metadata": {},
   "source": [
    "#### Multiplotagem"
   ]
  },
  {
   "cell_type": "code",
   "execution_count": null,
   "id": "97938c48",
   "metadata": {},
   "outputs": [],
   "source": [
    "ax_bar = df_vendas.pivot(index='Veículo', columns='Mês', values='Quantidade').plot(kind='bar', figsize=(25,15), \n",
    "                                                                      fontsize=15)\n",
    "\n",
    "ax_bar.set_ylabel('Quantidade', fontsize=30)\n",
    "ax_bar.set_xlabel('Veículo', fontsize=30);"
   ]
  },
  {
   "cell_type": "code",
   "execution_count": null,
   "id": "04fbe95c",
   "metadata": {},
   "outputs": [],
   "source": [
    "pd.crosstab(index=df_vendas['Veículo'], columns=df_vendas['Mês'],values=df_vendas['Quantidade'], aggfunc='sum', normalize='index').plot(kind='bar', stacked=True);"
   ]
  },
  {
   "cell_type": "code",
   "execution_count": null,
   "id": "90291129",
   "metadata": {
    "scrolled": false
   },
   "outputs": [],
   "source": [
    "ax_bar = df_vendas.pivot(index='Veículo', columns='Mês', values='Quantidade').plot(kind='bar', figsize=(15,5), \n",
    "                                                                      stacked=True, title = 'Vendas de veículos do primeiro quadrimestre')\n",
    "\n",
    "ax_bar.set_ylabel('Quantidade', fontsize=10)\n",
    "ax_bar.set_xlabel('Veículo')\n",
    "ax_bar.legend(loc='upper left', fontsize=10);"
   ]
  },
  {
   "cell_type": "markdown",
   "id": "bc09ca8a",
   "metadata": {},
   "source": [
    "#### Barras Horizontais"
   ]
  },
  {
   "cell_type": "code",
   "execution_count": null,
   "id": "f3fd694b",
   "metadata": {},
   "outputs": [],
   "source": [
    "ax_bar = df_vendas.pivot(index='Veículo', columns='Mês', values='Quantidade').plot(kind='barh', figsize=(25,15), \n",
    "                                                                      fontsize=15)\n",
    "\n",
    "ax_bar.set_xlabel('Quantidade', fontsize=20)\n",
    "ax_bar.set_ylabel('Veículo', fontsize=20);"
   ]
  },
  {
   "cell_type": "code",
   "execution_count": null,
   "id": "a104d40c",
   "metadata": {},
   "outputs": [],
   "source": [
    "ax_bar = df_vendas.pivot(index='Veículo', columns='Mês', values='Quantidade').plot(kind='barh', figsize=(12,6), \n",
    "                         fontsize=15, stacked=True)\n",
    "\n",
    "ax_bar.set_xlabel('Quantidade', fontsize=20)\n",
    "ax_bar.set_ylabel('Veículo', fontsize=20);"
   ]
  }
 ],
 "metadata": {
  "kernelspec": {
   "display_name": "Python 3 (ipykernel)",
   "language": "python",
   "name": "python3"
  },
  "language_info": {
   "codemirror_mode": {
    "name": "ipython",
    "version": 3
   },
   "file_extension": ".py",
   "mimetype": "text/x-python",
   "name": "python",
   "nbconvert_exporter": "python",
   "pygments_lexer": "ipython3",
   "version": "3.9.12"
  }
 },
 "nbformat": 4,
 "nbformat_minor": 5
}
