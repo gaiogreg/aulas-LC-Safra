{
  "cells": [
    {
      "cell_type": "code",
      "execution_count": 2,
      "metadata": {
        "id": "AAAAmFGWkTOj"
      },
      "outputs": [],
      "source": [
        "from scipy import stats \n",
        "import numpy as np \n",
        "import matplotlib.pyplot as plt "
      ]
    },
    {
      "cell_type": "markdown",
      "metadata": {
        "id": "H24pyHG1kUNH"
      },
      "source": [
        "Suponha que você tenha feito vários cenários para a previsão de um indicador econômico. Faça o gráfico do intervalo de confiança para a estimativa média desse indicador. Use diferentes quantidades de amostras para a estimação do valor médio do indicador a cada instante de tempo e faça o gráfico da média e do intervalo de confiança. "
      ]
    },
    {
      "cell_type": "code",
      "execution_count": 3,
      "metadata": {
        "id": "ygXoObw8ldZq"
      },
      "outputs": [],
      "source": [
        "def forecasts(n, sigma=1.0):\n",
        "  return 10*(1 - 1/np.exp(np.linspace(0,40,n))) + np.random.normal(0, sigma, n)"
      ]
    },
    {
      "cell_type": "code",
      "execution_count": 9,
      "metadata": {
        "id": "UPX7kOKnleKb"
      },
      "outputs": [],
      "source": [
        "X_forecast = [] \n",
        "for i in range(1000):\n",
        "  X_forecast.append(forecasts(100, sigma=1.0))\n",
        "\n",
        "np_forecast = np.array(X_forecast)"
      ]
    },
    {
      "cell_type": "code",
      "execution_count": 11,
      "metadata": {
        "id": "IAIAeAyIleF2"
      },
      "outputs": [],
      "source": [
        "mean_ = np.mean(np_forecast,axis=0)\n",
        "std_ = np.std(np_forecast,axis=0)\n",
        "\n",
        "conf_ = 1.96*std_/np.sqrt(1000)"
      ]
    },
    {
      "cell_type": "code",
      "execution_count": 12,
      "metadata": {
        "colab": {
          "base_uri": "https://localhost:8080/",
          "height": 609
        },
        "id": "1nrZG1a6xnRP",
        "outputId": "2ce19415-2390-472e-8cbb-f9b4a3c9bb50"
      },
      "outputs": [
        {
          "data": {
            "text/plain": [
              "[<matplotlib.lines.Line2D at 0x29d765cdbe0>]"
            ]
          },
          "execution_count": 12,
          "metadata": {},
          "output_type": "execute_result"
        },
        {
          "data": {
            "image/png": "[encoded data removed]",
            "text/plain": [
              "<Figure size 720x720 with 1 Axes>"
            ]
          },
          "metadata": {
            "needs_background": "light"
          },
          "output_type": "display_data"
        }
      ],
      "source": [
        "plt.figure(figsize=(10,10))\n",
        "plt.plot(mean_) \n",
        "plt.plot(mean_ + conf_, '--r') \n",
        "plt.plot(mean_ - conf_, '--r')"
      ]
    },
    {
      "cell_type": "code",
      "execution_count": null,
      "metadata": {
        "id": "P0zHxMArxnOR"
      },
      "outputs": [],
      "source": []
    },
    {
      "cell_type": "markdown",
      "metadata": {
        "id": "wPg_d-oWlep5"
      },
      "source": [
        "Lembrete: o mesmo vale quando queremos calcular a estimativa média e o intervalo de confiança para a previsão de uma série temporal usando algum modelo de Machine Learning (ou algum método estatístico). "
      ]
    },
    {
      "cell_type": "code",
      "execution_count": null,
      "metadata": {
        "id": "smEeNd3Gm3MY"
      },
      "outputs": [],
      "source": []
    },
    {
      "cell_type": "markdown",
      "metadata": {
        "id": "M96ihyTLqNnA"
      },
      "source": [
        "Seja uma distribuição lognormal, com a função mostrada abaixo.\n",
        "\n",
        "f(x, $\\mu$, $\\theta$) = $\\frac{1}{x\\sqrt{2\\pi\\theta}}$ $e^{(-\\frac{1}{2\\theta}(ln(x) - \\mu)}$\n",
        "\n",
        "Vamos supor que a média dessa distribuição é dada $\\mu = 0$ e queremos estimar o parâmetro desconhecido $\\theta$. Não chegamos (e nem iremos nesse curso) mostrar como se determina a função matemática desses estimadores, que geralmente é feito utilizando métodos de momentos ou máxima verossimilhança. \n",
        "\n",
        "Contudo, não tem problema nesse caso. Como essas distribuições são conhecidas, podemos apenas pesquisar quais são tais estimadores. \n",
        "Procure na internet qual é o estimador para tal parâmetro. Em seguida, calcule qual é o valor estimado desse parâmetro.\n",
        "\n"
      ]
    },
    {
      "cell_type": "code",
      "execution_count": 7,
      "metadata": {
        "id": "Rwy33mN5qNSm"
      },
      "outputs": [],
      "source": [
        "rng = np.random.random(1)\n",
        "lognorm = stats.lognorm(np.sqrt(rng))"
      ]
    },
    {
      "cell_type": "code",
      "execution_count": 8,
      "metadata": {
        "id": "Rp20sZnZsdxq"
      },
      "outputs": [],
      "source": [
        "values = lognorm.rvs(size=20000)"
      ]
    },
    {
      "cell_type": "code",
      "execution_count": null,
      "metadata": {
        "id": "XjpxPBNDuxmX"
      },
      "outputs": [],
      "source": []
    },
    {
      "cell_type": "markdown",
      "metadata": {
        "id": "xWRT3RMrseJC"
      },
      "source": [
        "Faça uma simulação de Monte Carlo para investigar a estimativa média do parâmetro desconhecido. Como você possui 20000 valores dessa distribuição, faça 100 simulações com 200 amostras cada. Faça o gráfico da média da estimativa em função das simulações "
      ]
    },
    {
      "cell_type": "code",
      "execution_count": null,
      "metadata": {
        "id": "kAaOgAgesduy"
      },
      "outputs": [],
      "source": []
    },
    {
      "cell_type": "code",
      "execution_count": null,
      "metadata": {
        "id": "JCJIzbruqM-N"
      },
      "outputs": [],
      "source": []
    },
    {
      "cell_type": "markdown",
      "metadata": {
        "id": "fPqou_oTnc05"
      },
      "source": [
        "Vemos no início da aula que podemos estabelecer um intervalo de confiança para a estimação do desvio padrão de uma distribuição normal. Vamos verificar empiricamente como isso funciona. \n",
        "\n",
        "Lembrando que:\n",
        "\n",
        "$P(\\frac{(n-1)S^2}{\\chi^2_{\\alpha/2,n-1}} \\le \\sigma^2 \\le \\frac{(n-1)S^2}{\\chi^2_{1-\\alpha/2,n-1}}) = 1-\\alpha$\n",
        "\n",
        "Construa um intervalo de confiança para esse parâmetro, supondo $\\alpha$ = 0.05 e um tamanho de amostras igual a 200.\n",
        "\n",
        "Rode essa subamostragem 100 vezes e determine a quantidade de vezes no qual a estimativa está dentro do intervalo de confiança"
      ]
    },
    {
      "cell_type": "code",
      "execution_count": null,
      "metadata": {
        "id": "3ZacKITSqMSN"
      },
      "outputs": [],
      "source": []
    }
  ],
  "metadata": {
    "colab": {
      "provenance": []
    },
    "kernelspec": {
      "display_name": "Python 3.9.12 ('base')",
      "language": "python",
      "name": "python3"
    },
    "language_info": {
      "codemirror_mode": {
        "name": "ipython",
        "version": 3
      },
      "file_extension": ".py",
      "mimetype": "text/x-python",
      "name": "python",
      "nbconvert_exporter": "python",
      "pygments_lexer": "ipython3",
      "version": "3.9.12"
    },
    "vscode": {
      "interpreter": {
        "hash": "f18310f7eb04fcdecd41dd2753e42e607afadcee65e6289b049db038aececc7b"
      }
    }
  },
  "nbformat": 4,
  "nbformat_minor": 0
}
