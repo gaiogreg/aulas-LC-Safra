{
  "cells": [
    {
      "cell_type": "markdown",
      "metadata": {
        "id": "5M6ebIiZ5gRl"
      },
      "source": [
        "## 📍 Tópicos de Hoje 📍\n",
        "<br>\n",
        "\n",
        "1 [Tipos de Variáveis (Quantitativas e Qualitativas)](#um)\n",
        "\n",
        "2 [Métricas de Posição (média, mediana e moda)](#dois)\n",
        "\n",
        "3 [Quartis e Interpretação por BoxPlot](#três)\n",
        "\n",
        "4 [Identificação de Anomalias (Outliers)](#quatro)\n",
        "\n",
        "5 [Métricas de Dispersão (amplitude, variância, covariância e desvio padrão)](#cinco)\n",
        "\n",
        "6 [Correlação](#seis)\n",
        "\n",
        "7 [Tabela de Frequências (absoluta, relativa e percentual)](#sete)"
      ]
    },
    {
      "cell_type": "code",
      "execution_count": 2,
      "metadata": {},
      "outputs": [],
      "source": [
        "import matplotlib.pyplot as plt\n",
        "import pandas as pd\n",
        "import numpy as np"
      ]
    },
    {
      "cell_type": "markdown",
      "metadata": {
        "id": "WQo7T30X5tv6"
      },
      "source": [
        "## 1) Tipos de Variáveis (Quantitativas e Qualitativas) <a class=\"anchor\" id=\"um\"></a>"
      ]
    },
    {
      "cell_type": "markdown",
      "metadata": {},
      "source": [
        "Quando coletamos informações, em geral, realizamos uma **amostragem** (tópico de outra aula).\n",
        "\n",
        "Essas informações vão muito além do que números ou palavras, trazendo consigo características e contextos fundamentais para as nossas futuras análises e modelos.\n",
        "\n",
        "Cada uma dessas características coletadas (peso, altura, idade, sexo) é chamada de **variável**.\n",
        "\n",
        "As variáveis podem ser:\n"
      ]
    },
    {
      "cell_type": "markdown",
      "metadata": {},
      "source": [
        "!['Imagem'](https://miro.medium.com/max/1400/0*rxxyee4xr8HD1O6N.png)"
      ]
    },
    {
      "cell_type": "markdown",
      "metadata": {},
      "source": [
        "* **Discreta**: apenas valores inteiros (n° irmãos, filhos, passageiros);\n",
        "* **Contínuas**: Qualquer valor no intervalo de n° reais (peso, altura, salário);\n",
        "* **Nominais**: Categorias sem ordem (nome, sexo, cores);\n",
        "* **Ordinais**: Categorias com ordem (tamanho: P, M, G; classe social: baixa, média, alta; grau de instrução: básico, fundamental, médio, superior)."
      ]
    },
    {
      "cell_type": "code",
      "execution_count": 3,
      "metadata": {},
      "outputs": [],
      "source": [
        "df_titanic = pd.read_csv('Titanic_data.csv')"
      ]
    },
    {
      "cell_type": "code",
      "execution_count": 4,
      "metadata": {},
      "outputs": [
        {
          "name": "stdout",
          "output_type": "stream",
          "text": [
            "<class 'pandas.core.frame.DataFrame'>\n",
            "RangeIndex: 891 entries, 0 to 890\n",
            "Data columns (total 12 columns):\n",
            " #   Column       Non-Null Count  Dtype  \n",
            "---  ------       --------------  -----  \n",
            " 0   PassengerId  891 non-null    int64  \n",
            " 1   Survived     891 non-null    int64  \n",
            " 2   Pclass       891 non-null    int64  \n",
            " 3   Name         891 non-null    object \n",
            " 4   Sex          891 non-null    object \n",
            " 5   Age          714 non-null    float64\n",
            " 6   SibSp        891 non-null    int64  \n",
            " 7   Parch        891 non-null    int64  \n",
            " 8   Ticket       891 non-null    object \n",
            " 9   Fare         891 non-null    float64\n",
            " 10  Cabin        204 non-null    object \n",
            " 11  Embarked     889 non-null    object \n",
            "dtypes: float64(2), int64(5), object(5)\n",
            "memory usage: 83.7+ KB\n"
          ]
        }
      ],
      "source": [
        "df_titanic.info()"
      ]
    },
    {
      "cell_type": "markdown",
      "metadata": {},
      "source": [
        "O conjunto de treinamento tem 891 exemplos e 11 características + a variável de destino (Survived) . 2 dos recursos são floats, 5 são inteiros e 5 são objetos. Abaixo listei os recursos com uma breve descrição:\n",
        "\n",
        "* survival: Sobrevivente\n",
        "* PassengerId: ID único de um passageiro\n",
        "* Pclass: Classe de bilhetes\n",
        "* Sex: Sexo\n",
        "* Age: Idade em anos\n",
        "* Sibsp: Número de irmãos / cônjuges a bordo do Titanic\n",
        "* Parch: Número de pais / filhos a bordo do Titanic\n",
        "* Ticket: Numero do bilhete\n",
        "* Fare: Tarifa de passageiros\n",
        "* Cabin: Número de cabine\n",
        "* Embarked: Porto de embarcação"
      ]
    },
    {
      "cell_type": "code",
      "execution_count": 5,
      "metadata": {},
      "outputs": [
        {
          "data": {
            "text/html": [
              "<div>\n",
              "<style scoped>\n",
              "    .dataframe tbody tr th:only-of-type {\n",
              "        vertical-align: middle;\n",
              "    }\n",
              "\n",
              "    .dataframe tbody tr th {\n",
              "        vertical-align: top;\n",
              "    }\n",
              "\n",
              "    .dataframe thead th {\n",
              "        text-align: right;\n",
              "    }\n",
              "</style>\n",
              "<table border=\"1\" class=\"dataframe\">\n",
              "  <thead>\n",
              "    <tr style=\"text-align: right;\">\n",
              "      <th></th>\n",
              "      <th>PassengerId</th>\n",
              "      <th>Survived</th>\n",
              "      <th>Pclass</th>\n",
              "      <th>Name</th>\n",
              "      <th>Sex</th>\n",
              "      <th>Age</th>\n",
              "      <th>SibSp</th>\n",
              "      <th>Parch</th>\n",
              "      <th>Ticket</th>\n",
              "      <th>Fare</th>\n",
              "      <th>Cabin</th>\n",
              "      <th>Embarked</th>\n",
              "    </tr>\n",
              "  </thead>\n",
              "  <tbody>\n",
              "    <tr>\n",
              "      <th>0</th>\n",
              "      <td>1</td>\n",
              "      <td>0</td>\n",
              "      <td>3</td>\n",
              "      <td>Braund, Mr. Owen Harris</td>\n",
              "      <td>male</td>\n",
              "      <td>22.0</td>\n",
              "      <td>1</td>\n",
              "      <td>0</td>\n",
              "      <td>A/5 21171</td>\n",
              "      <td>7.2500</td>\n",
              "      <td>NaN</td>\n",
              "      <td>S</td>\n",
              "    </tr>\n",
              "    <tr>\n",
              "      <th>1</th>\n",
              "      <td>2</td>\n",
              "      <td>1</td>\n",
              "      <td>1</td>\n",
              "      <td>Cumings, Mrs. John Bradley (Florence Briggs Th...</td>\n",
              "      <td>female</td>\n",
              "      <td>38.0</td>\n",
              "      <td>1</td>\n",
              "      <td>0</td>\n",
              "      <td>PC 17599</td>\n",
              "      <td>71.2833</td>\n",
              "      <td>C85</td>\n",
              "      <td>C</td>\n",
              "    </tr>\n",
              "    <tr>\n",
              "      <th>2</th>\n",
              "      <td>3</td>\n",
              "      <td>1</td>\n",
              "      <td>3</td>\n",
              "      <td>Heikkinen, Miss. Laina</td>\n",
              "      <td>female</td>\n",
              "      <td>26.0</td>\n",
              "      <td>0</td>\n",
              "      <td>0</td>\n",
              "      <td>STON/O2. 3101282</td>\n",
              "      <td>7.9250</td>\n",
              "      <td>NaN</td>\n",
              "      <td>S</td>\n",
              "    </tr>\n",
              "    <tr>\n",
              "      <th>3</th>\n",
              "      <td>4</td>\n",
              "      <td>1</td>\n",
              "      <td>1</td>\n",
              "      <td>Futrelle, Mrs. Jacques Heath (Lily May Peel)</td>\n",
              "      <td>female</td>\n",
              "      <td>35.0</td>\n",
              "      <td>1</td>\n",
              "      <td>0</td>\n",
              "      <td>113803</td>\n",
              "      <td>53.1000</td>\n",
              "      <td>C123</td>\n",
              "      <td>S</td>\n",
              "    </tr>\n",
              "    <tr>\n",
              "      <th>4</th>\n",
              "      <td>5</td>\n",
              "      <td>0</td>\n",
              "      <td>3</td>\n",
              "      <td>Allen, Mr. William Henry</td>\n",
              "      <td>male</td>\n",
              "      <td>35.0</td>\n",
              "      <td>0</td>\n",
              "      <td>0</td>\n",
              "      <td>373450</td>\n",
              "      <td>8.0500</td>\n",
              "      <td>NaN</td>\n",
              "      <td>S</td>\n",
              "    </tr>\n",
              "  </tbody>\n",
              "</table>\n",
              "</div>"
            ],
            "text/plain": [
              "   PassengerId  Survived  Pclass  \\\n",
              "0            1         0       3   \n",
              "1            2         1       1   \n",
              "2            3         1       3   \n",
              "3            4         1       1   \n",
              "4            5         0       3   \n",
              "\n",
              "                                                Name     Sex   Age  SibSp  \\\n",
              "0                            Braund, Mr. Owen Harris    male  22.0      1   \n",
              "1  Cumings, Mrs. John Bradley (Florence Briggs Th...  female  38.0      1   \n",
              "2                             Heikkinen, Miss. Laina  female  26.0      0   \n",
              "3       Futrelle, Mrs. Jacques Heath (Lily May Peel)  female  35.0      1   \n",
              "4                           Allen, Mr. William Henry    male  35.0      0   \n",
              "\n",
              "   Parch            Ticket     Fare Cabin Embarked  \n",
              "0      0         A/5 21171   7.2500   NaN        S  \n",
              "1      0          PC 17599  71.2833   C85        C  \n",
              "2      0  STON/O2. 3101282   7.9250   NaN        S  \n",
              "3      0            113803  53.1000  C123        S  \n",
              "4      0            373450   8.0500   NaN        S  "
            ]
          },
          "execution_count": 5,
          "metadata": {},
          "output_type": "execute_result"
        }
      ],
      "source": [
        "df_titanic.head()"
      ]
    },
    {
      "cell_type": "code",
      "execution_count": 6,
      "metadata": {},
      "outputs": [
        {
          "data": {
            "text/html": [
              "<div>\n",
              "<style scoped>\n",
              "    .dataframe tbody tr th:only-of-type {\n",
              "        vertical-align: middle;\n",
              "    }\n",
              "\n",
              "    .dataframe tbody tr th {\n",
              "        vertical-align: top;\n",
              "    }\n",
              "\n",
              "    .dataframe thead th {\n",
              "        text-align: right;\n",
              "    }\n",
              "</style>\n",
              "<table border=\"1\" class=\"dataframe\">\n",
              "  <thead>\n",
              "    <tr style=\"text-align: right;\">\n",
              "      <th></th>\n",
              "      <th>PassengerId</th>\n",
              "      <th>Survived</th>\n",
              "      <th>Pclass</th>\n",
              "      <th>Name</th>\n",
              "      <th>Sex</th>\n",
              "      <th>Age</th>\n",
              "      <th>SibSp</th>\n",
              "      <th>Parch</th>\n",
              "      <th>Ticket</th>\n",
              "      <th>Fare</th>\n",
              "      <th>Cabin</th>\n",
              "      <th>Embarked</th>\n",
              "    </tr>\n",
              "  </thead>\n",
              "  <tbody>\n",
              "    <tr>\n",
              "      <th>886</th>\n",
              "      <td>887</td>\n",
              "      <td>0</td>\n",
              "      <td>2</td>\n",
              "      <td>Montvila, Rev. Juozas</td>\n",
              "      <td>male</td>\n",
              "      <td>27.0</td>\n",
              "      <td>0</td>\n",
              "      <td>0</td>\n",
              "      <td>211536</td>\n",
              "      <td>13.00</td>\n",
              "      <td>NaN</td>\n",
              "      <td>S</td>\n",
              "    </tr>\n",
              "    <tr>\n",
              "      <th>887</th>\n",
              "      <td>888</td>\n",
              "      <td>1</td>\n",
              "      <td>1</td>\n",
              "      <td>Graham, Miss. Margaret Edith</td>\n",
              "      <td>female</td>\n",
              "      <td>19.0</td>\n",
              "      <td>0</td>\n",
              "      <td>0</td>\n",
              "      <td>112053</td>\n",
              "      <td>30.00</td>\n",
              "      <td>B42</td>\n",
              "      <td>S</td>\n",
              "    </tr>\n",
              "    <tr>\n",
              "      <th>888</th>\n",
              "      <td>889</td>\n",
              "      <td>0</td>\n",
              "      <td>3</td>\n",
              "      <td>Johnston, Miss. Catherine Helen \"Carrie\"</td>\n",
              "      <td>female</td>\n",
              "      <td>NaN</td>\n",
              "      <td>1</td>\n",
              "      <td>2</td>\n",
              "      <td>W./C. 6607</td>\n",
              "      <td>23.45</td>\n",
              "      <td>NaN</td>\n",
              "      <td>S</td>\n",
              "    </tr>\n",
              "    <tr>\n",
              "      <th>889</th>\n",
              "      <td>890</td>\n",
              "      <td>1</td>\n",
              "      <td>1</td>\n",
              "      <td>Behr, Mr. Karl Howell</td>\n",
              "      <td>male</td>\n",
              "      <td>26.0</td>\n",
              "      <td>0</td>\n",
              "      <td>0</td>\n",
              "      <td>111369</td>\n",
              "      <td>30.00</td>\n",
              "      <td>C148</td>\n",
              "      <td>C</td>\n",
              "    </tr>\n",
              "    <tr>\n",
              "      <th>890</th>\n",
              "      <td>891</td>\n",
              "      <td>0</td>\n",
              "      <td>3</td>\n",
              "      <td>Dooley, Mr. Patrick</td>\n",
              "      <td>male</td>\n",
              "      <td>32.0</td>\n",
              "      <td>0</td>\n",
              "      <td>0</td>\n",
              "      <td>370376</td>\n",
              "      <td>7.75</td>\n",
              "      <td>NaN</td>\n",
              "      <td>Q</td>\n",
              "    </tr>\n",
              "  </tbody>\n",
              "</table>\n",
              "</div>"
            ],
            "text/plain": [
              "     PassengerId  Survived  Pclass                                      Name  \\\n",
              "886          887         0       2                     Montvila, Rev. Juozas   \n",
              "887          888         1       1              Graham, Miss. Margaret Edith   \n",
              "888          889         0       3  Johnston, Miss. Catherine Helen \"Carrie\"   \n",
              "889          890         1       1                     Behr, Mr. Karl Howell   \n",
              "890          891         0       3                       Dooley, Mr. Patrick   \n",
              "\n",
              "        Sex   Age  SibSp  Parch      Ticket   Fare Cabin Embarked  \n",
              "886    male  27.0      0      0      211536  13.00   NaN        S  \n",
              "887  female  19.0      0      0      112053  30.00   B42        S  \n",
              "888  female   NaN      1      2  W./C. 6607  23.45   NaN        S  \n",
              "889    male  26.0      0      0      111369  30.00  C148        C  \n",
              "890    male  32.0      0      0      370376   7.75   NaN        Q  "
            ]
          },
          "execution_count": 6,
          "metadata": {},
          "output_type": "execute_result"
        }
      ],
      "source": [
        "df_titanic.tail()"
      ]
    },
    {
      "cell_type": "code",
      "execution_count": 10,
      "metadata": {},
      "outputs": [
        {
          "data": {
            "image/png": "[encoded data removed]",
            "text/plain": [
              "<Figure size 432x288 with 1 Axes>"
            ]
          },
          "metadata": {
            "needs_background": "light"
          },
          "output_type": "display_data"
        }
      ],
      "source": [
        "plt.bar(['male', 'female'],[df_titanic[df_titanic['Sex'] =='male'].Sex.count(), df_titanic[df_titanic['Sex'] =='female'].Sex.count()]);"
      ]
    },
    {
      "cell_type": "code",
      "execution_count": 21,
      "metadata": {},
      "outputs": [
        {
          "data": {
            "image/png": "[encoded data removed]",
            "text/plain": [
              "<Figure size 432x288 with 1 Axes>"
            ]
          },
          "metadata": {},
          "output_type": "display_data"
        }
      ],
      "source": [
        "plt.pie([df_titanic[df_titanic['Sex']== 'male'].Sex.count(),df_titanic[df_titanic['Sex']== 'female'].Sex.count()]);"
      ]
    },
    {
      "cell_type": "code",
      "execution_count": 25,
      "metadata": {},
      "outputs": [
        {
          "data": {
            "text/plain": [
              "577"
            ]
          },
          "execution_count": 25,
          "metadata": {},
          "output_type": "execute_result"
        }
      ],
      "source": [
        "df_titanic[df_titanic['Sex']=='male']['Sex'].count()"
      ]
    },
    {
      "cell_type": "code",
      "execution_count": 28,
      "metadata": {},
      "outputs": [
        {
          "data": {
            "image/png": "[encoded data removed]",
            "text/plain": [
              "<Figure size 432x288 with 1 Axes>"
            ]
          },
          "metadata": {
            "needs_background": "light"
          },
          "output_type": "display_data"
        }
      ],
      "source": [
        "plt.hist(df_titanic['Age'], bins=15);"
      ]
    },
    {
      "cell_type": "code",
      "execution_count": 15,
      "metadata": {},
      "outputs": [
        {
          "data": {
            "image/png": "[encoded data removed]",
            "text/plain": [
              "<Figure size 432x288 with 1 Axes>"
            ]
          },
          "metadata": {
            "needs_background": "light"
          },
          "output_type": "display_data"
        }
      ],
      "source": [
        "plt.scatter(df_titanic['Age'], df_titanic['Fare']);"
      ]
    },
    {
      "cell_type": "code",
      "execution_count": 18,
      "metadata": {},
      "outputs": [
        {
          "data": {
            "text/plain": [
              "<AxesSubplot:>"
            ]
          },
          "execution_count": 18,
          "metadata": {},
          "output_type": "execute_result"
        },
        {
          "data": {
            "image/png": "[encoded data removed]",
            "text/plain": [
              "<Figure size 432x288 with 1 Axes>"
            ]
          },
          "metadata": {
            "needs_background": "light"
          },
          "output_type": "display_data"
        }
      ],
      "source": [
        "df_titanic.boxplot(column= 'Age')"
      ]
    },
    {
      "cell_type": "code",
      "execution_count": null,
      "metadata": {},
      "outputs": [],
      "source": []
    },
    {
      "cell_type": "markdown",
      "metadata": {},
      "source": [
        "## 2) Métricas de Posição (média, mediana e moda) <a class=\"anchor\" id=\"dois\"></a>"
      ]
    },
    {
      "cell_type": "markdown",
      "metadata": {},
      "source": [
        "**Média (mean, average):** Demonstra a concentração dos dados de uma distribuição. É como se fosse o ponto de equilíbrio da distribuição e pode ser calculada por:\n",
        "\n",
        "!['média'](https://miro.medium.com/max/628/1*U9LeYbNWJt0YERVo4KU61w.png)"
      ]
    },
    {
      "cell_type": "code",
      "execution_count": 31,
      "metadata": {},
      "outputs": [
        {
          "data": {
            "text/plain": [
              "29.69911764705882"
            ]
          },
          "execution_count": 31,
          "metadata": {},
          "output_type": "execute_result"
        }
      ],
      "source": [
        "media_idade = df_titanic['Age'].mean()\n",
        "media_idade"
      ]
    },
    {
      "cell_type": "code",
      "execution_count": 32,
      "metadata": {},
      "outputs": [
        {
          "data": {
            "text/plain": [
              "29.69911764705882"
            ]
          },
          "execution_count": 32,
          "metadata": {},
          "output_type": "execute_result"
        }
      ],
      "source": [
        "df_titanic['Age'].sum()/df_titanic['Age'].count()"
      ]
    },
    {
      "cell_type": "markdown",
      "metadata": {},
      "source": [
        "**Moda:** Representa o(s) valores mais comuns dos dados:\n",
        "* Unimodal: 1 único valor;\n",
        "* Bimodal: 2 valores;\n",
        "* Multimodal: Mais de 2 valores como os que mais aparecem;\n",
        "* Amodal: Não existe moda.\n"
      ]
    },
    {
      "cell_type": "code",
      "execution_count": 33,
      "metadata": {},
      "outputs": [
        {
          "data": {
            "text/plain": [
              "0    24.0\n",
              "Name: Age, dtype: float64"
            ]
          },
          "execution_count": 33,
          "metadata": {},
          "output_type": "execute_result"
        }
      ],
      "source": [
        "df_titanic['Age'].mode()"
      ]
    },
    {
      "cell_type": "markdown",
      "metadata": {},
      "source": [
        "**Mediana**: É o ponto médio, que divide os dados em 50% maiores e 50% maiores do que ele. É também conhecido como o 2°quartil (uma medida separatriz).\n",
        "* Primeiro quartil (designado por Q1) = quartil inferior = é o valor aos 25% da amostra ordenada = 25º percentil;\n",
        "* Segundo quartil (designado por Q2) = mediana = é o valor até ao qual se encontra 50% da amostra ordenada = 50º percentil, ou 5º decil;\n",
        "* Terceiro quartil (designado por Q3) = quartil superior = valor a partir do qual se encontram 25% dos valores mais elevados = valor aos 75% da amostra ordenada = 75º percentil."
      ]
    },
    {
      "cell_type": "code",
      "execution_count": 36,
      "metadata": {},
      "outputs": [
        {
          "data": {
            "text/plain": [
              "28.0"
            ]
          },
          "execution_count": 36,
          "metadata": {},
          "output_type": "execute_result"
        }
      ],
      "source": [
        "df_titanic['Age'].median()"
      ]
    },
    {
      "cell_type": "code",
      "execution_count": 37,
      "metadata": {},
      "outputs": [
        {
          "data": {
            "text/plain": [
              "count    714.000000\n",
              "mean      29.699118\n",
              "std       14.526497\n",
              "min        0.420000\n",
              "25%       20.125000\n",
              "50%       28.000000\n",
              "75%       38.000000\n",
              "max       80.000000\n",
              "Name: Age, dtype: float64"
            ]
          },
          "execution_count": 37,
          "metadata": {},
          "output_type": "execute_result"
        }
      ],
      "source": [
        "df_titanic['Age'].describe()"
      ]
    },
    {
      "cell_type": "markdown",
      "metadata": {},
      "source": [
        "## 3) Quartis e Interpretação por BoxPlot <a class=\"anchor\" id=\"três\"></a>"
      ]
    },
    {
      "cell_type": "code",
      "execution_count": 38,
      "metadata": {},
      "outputs": [
        {
          "data": {
            "text/plain": [
              "<AxesSubplot:>"
            ]
          },
          "execution_count": 38,
          "metadata": {},
          "output_type": "execute_result"
        },
        {
          "data": {
            "image/png": "[encoded data removed]",
            "text/plain": [
              "<Figure size 432x288 with 1 Axes>"
            ]
          },
          "metadata": {
            "needs_background": "light"
          },
          "output_type": "display_data"
        }
      ],
      "source": [
        "df_titanic.boxplot(column=['Age'])"
      ]
    },
    {
      "cell_type": "markdown",
      "metadata": {},
      "source": [
        "## 4) Identificação de Anomalias (Outliers) <a class=\"anchor\" id=\"quatro\"></a>"
      ]
    },
    {
      "cell_type": "markdown",
      "metadata": {},
      "source": [
        "*Outlier* são dados diferentes dos outros pontos que podem causar problemas em procedimentos estatísticos (mudar uma média).\n",
        "\n",
        "**Exemplo:** Mudar uma idade e ver a média.\n",
        "\n",
        "* Solução 1: Ordenar os dados para encontrar outliers;\n",
        "* Solução 2: Utilizar gráficos: dispersão, boxplot;\n",
        "* Solução 3: Utilizar IQR para encontrar;\n",
        "* Solução 4: Utilizar o Z-score.\n"
      ]
    },
    {
      "cell_type": "code",
      "execution_count": 40,
      "metadata": {},
      "outputs": [
        {
          "data": {
            "text/plain": [
              "count    714.000000\n",
              "mean      29.699118\n",
              "std       14.526497\n",
              "min        0.420000\n",
              "25%       20.125000\n",
              "50%       28.000000\n",
              "75%       38.000000\n",
              "max       80.000000\n",
              "Name: Age, dtype: float64"
            ]
          },
          "execution_count": 40,
          "metadata": {},
          "output_type": "execute_result"
        }
      ],
      "source": [
        "df_titanic['Age'].describe()"
      ]
    },
    {
      "cell_type": "code",
      "execution_count": 43,
      "metadata": {},
      "outputs": [
        {
          "name": "stdout",
          "output_type": "stream",
          "text": [
            "17.875 -6.6875 64.8125\n"
          ]
        }
      ],
      "source": [
        "IQR = 38-20.125\n",
        "lim_sup = 1.5*IQR+38\n",
        "lim_inf = 20.125 - 1.5*IQR\n",
        "print(IQR, lim_inf, lim_sup)"
      ]
    },
    {
      "cell_type": "markdown",
      "metadata": {},
      "source": [
        "## 5) Métricas de Dispersão (amplitude, variância, covariância e desvio padrão <a class=\"anchor\" id=\"cinco\"></a>"
      ]
    },
    {
      "cell_type": "markdown",
      "metadata": {},
      "source": [
        "**Amplitude**: A diferença entre o maior e o menor valor de um conjunto de dados."
      ]
    },
    {
      "cell_type": "code",
      "execution_count": 45,
      "metadata": {},
      "outputs": [
        {
          "data": {
            "text/plain": [
              "79.58"
            ]
          },
          "execution_count": 45,
          "metadata": {},
          "output_type": "execute_result"
        }
      ],
      "source": [
        "#Amplitude:\n",
        "amplitude = df_titanic['Age'].max()-df_titanic['Age'].min()\n",
        "amplitude\n"
      ]
    },
    {
      "cell_type": "markdown",
      "metadata": {},
      "source": [
        "**Amplitude Interquartil:** Diferença entre o 1° e o 3° interquartil."
      ]
    },
    {
      "cell_type": "code",
      "execution_count": 51,
      "metadata": {},
      "outputs": [
        {
          "data": {
            "image/png": "[encoded data removed]",
            "text/plain": [
              "<Figure size 432x288 with 1 Axes>"
            ]
          },
          "metadata": {
            "needs_background": "light"
          },
          "output_type": "display_data"
        }
      ],
      "source": [
        "#Boxplot e describe\n",
        "df_titanic.boxplot(column=['Age','Fare']);"
      ]
    },
    {
      "cell_type": "code",
      "execution_count": 50,
      "metadata": {},
      "outputs": [
        {
          "data": {
            "text/plain": [
              "17.875"
            ]
          },
          "execution_count": 50,
          "metadata": {},
          "output_type": "execute_result"
        }
      ],
      "source": [
        "#Encontrando o primeiro quartil (quantile - 0.25)\n",
        "Q1 = df_titanic['Age'].quantile(0.25)\n",
        "#Encontrando o terceiro quartil (quantile - 0.75)\n",
        "Q3 = df_titanic['Age'].quantile(0.75)\n",
        "\n",
        "IQR = Q3 - Q1\n",
        "IQR"
      ]
    },
    {
      "cell_type": "markdown",
      "metadata": {},
      "source": [
        "**Variância:** Mede o quanto os dados estão dispersos com relação à média. É calculada da seguinte forma:\n",
        "\n",
        "!['Variância'](https://miro.medium.com/max/996/1*7BEyGiM3JHEEmU2XTB1zZA.png)"
      ]
    },
    {
      "cell_type": "code",
      "execution_count": 52,
      "metadata": {},
      "outputs": [
        {
          "data": {
            "text/plain": [
              "211.0191247463081"
            ]
          },
          "execution_count": 52,
          "metadata": {},
          "output_type": "execute_result"
        }
      ],
      "source": [
        "df_titanic['Age'].var() #amostral"
      ]
    },
    {
      "cell_type": "code",
      "execution_count": 54,
      "metadata": {},
      "outputs": [
        {
          "data": {
            "text/plain": [
              "210.7235797536662"
            ]
          },
          "execution_count": 54,
          "metadata": {},
          "output_type": "execute_result"
        }
      ],
      "source": [
        "df_titanic['Age'].var(ddof=0) #populacional"
      ]
    },
    {
      "cell_type": "markdown",
      "metadata": {},
      "source": [
        "**Desvio-padrão**: mais utilizado por estar na unidade dos dados. É a raiz quadrada da variância.\n",
        "\n",
        "!['Desvio-padrão'](https://miro.medium.com/max/1152/1*qPMBPNKhZvuPIBN1BQLV7w.png)\n"
      ]
    },
    {
      "cell_type": "code",
      "execution_count": 53,
      "metadata": {},
      "outputs": [
        {
          "data": {
            "text/plain": [
              "14.526497332334044"
            ]
          },
          "execution_count": 53,
          "metadata": {},
          "output_type": "execute_result"
        }
      ],
      "source": [
        "df_titanic['Age'].std()"
      ]
    },
    {
      "cell_type": "markdown",
      "metadata": {},
      "source": [
        "**Coeficiente de variação:** Variabilidade dos dados em relação à média.\n",
        "\n",
        "**Desvio-padrão** é menor (CV<100%) ou maior (CV>100%) do que a média.\n",
        "\n",
        "!['Coeficiente de Variação'](https://www.questoesestrategicas.com.br//imgs//?i=lAhgne6HtltF2uKrJPYUvB2i0W7KTGqTYsaFKn3c5BM)\n"
      ]
    },
    {
      "cell_type": "code",
      "execution_count": 55,
      "metadata": {},
      "outputs": [
        {
          "data": {
            "text/plain": [
              "count    714.000000\n",
              "mean      29.699118\n",
              "std       14.526497\n",
              "min        0.420000\n",
              "25%       20.125000\n",
              "50%       28.000000\n",
              "75%       38.000000\n",
              "max       80.000000\n",
              "Name: Age, dtype: float64"
            ]
          },
          "execution_count": 55,
          "metadata": {},
          "output_type": "execute_result"
        }
      ],
      "source": [
        "df_titanic.Age.describe()"
      ]
    },
    {
      "cell_type": "code",
      "execution_count": 56,
      "metadata": {},
      "outputs": [
        {
          "data": {
            "text/plain": [
              "count    891.000000\n",
              "mean      32.204208\n",
              "std       49.693429\n",
              "min        0.000000\n",
              "25%        7.910400\n",
              "50%       14.454200\n",
              "75%       31.000000\n",
              "max      512.329200\n",
              "Name: Fare, dtype: float64"
            ]
          },
          "execution_count": 56,
          "metadata": {},
          "output_type": "execute_result"
        }
      ],
      "source": [
        "df_titanic.Fare.describe()"
      ]
    },
    {
      "cell_type": "code",
      "execution_count": 58,
      "metadata": {},
      "outputs": [
        {
          "data": {
            "text/plain": [
              "0.48912218554656756"
            ]
          },
          "execution_count": 58,
          "metadata": {},
          "output_type": "execute_result"
        }
      ],
      "source": [
        "CV1 = df_titanic.Age.std()/df_titanic.Age.mean()\n",
        "CV1"
      ]
    },
    {
      "cell_type": "code",
      "execution_count": 59,
      "metadata": {},
      "outputs": [
        {
          "data": {
            "text/plain": [
              "1.5430725278408517"
            ]
          },
          "execution_count": 59,
          "metadata": {},
          "output_type": "execute_result"
        }
      ],
      "source": [
        "CV2 = df_titanic.Fare.std()/df_titanic.Fare.mean()\n",
        "CV2"
      ]
    },
    {
      "cell_type": "markdown",
      "metadata": {},
      "source": [
        "**Covariância:** A covariância é uma medida estatística onde é possível comparar duas variáveis, permitindo entender como elas se relacionam entre si.\n",
        "\n",
        "!['Covariância'](data:image/png;base64,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)"
      ]
    },
    {
      "cell_type": "code",
      "execution_count": 60,
      "metadata": {},
      "outputs": [
        {
          "data": {
            "text/html": [
              "<div>\n",
              "<style scoped>\n",
              "    .dataframe tbody tr th:only-of-type {\n",
              "        vertical-align: middle;\n",
              "    }\n",
              "\n",
              "    .dataframe tbody tr th {\n",
              "        vertical-align: top;\n",
              "    }\n",
              "\n",
              "    .dataframe thead th {\n",
              "        text-align: right;\n",
              "    }\n",
              "</style>\n",
              "<table border=\"1\" class=\"dataframe\">\n",
              "  <thead>\n",
              "    <tr style=\"text-align: right;\">\n",
              "      <th></th>\n",
              "      <th>PassengerId</th>\n",
              "      <th>Survived</th>\n",
              "      <th>Pclass</th>\n",
              "      <th>Age</th>\n",
              "      <th>SibSp</th>\n",
              "      <th>Parch</th>\n",
              "      <th>Fare</th>\n",
              "    </tr>\n",
              "  </thead>\n",
              "  <tbody>\n",
              "    <tr>\n",
              "      <th>PassengerId</th>\n",
              "      <td>66231.000000</td>\n",
              "      <td>-0.626966</td>\n",
              "      <td>-7.561798</td>\n",
              "      <td>138.696504</td>\n",
              "      <td>-16.325843</td>\n",
              "      <td>-0.342697</td>\n",
              "      <td>161.883369</td>\n",
              "    </tr>\n",
              "    <tr>\n",
              "      <th>Survived</th>\n",
              "      <td>-0.626966</td>\n",
              "      <td>0.236772</td>\n",
              "      <td>-0.137703</td>\n",
              "      <td>-0.551296</td>\n",
              "      <td>-0.018954</td>\n",
              "      <td>0.032017</td>\n",
              "      <td>6.221787</td>\n",
              "    </tr>\n",
              "    <tr>\n",
              "      <th>Pclass</th>\n",
              "      <td>-7.561798</td>\n",
              "      <td>-0.137703</td>\n",
              "      <td>0.699015</td>\n",
              "      <td>-4.496004</td>\n",
              "      <td>0.076599</td>\n",
              "      <td>0.012429</td>\n",
              "      <td>-22.830196</td>\n",
              "    </tr>\n",
              "    <tr>\n",
              "      <th>Age</th>\n",
              "      <td>138.696504</td>\n",
              "      <td>-0.551296</td>\n",
              "      <td>-4.496004</td>\n",
              "      <td>211.019125</td>\n",
              "      <td>-4.163334</td>\n",
              "      <td>-2.344191</td>\n",
              "      <td>73.849030</td>\n",
              "    </tr>\n",
              "    <tr>\n",
              "      <th>SibSp</th>\n",
              "      <td>-16.325843</td>\n",
              "      <td>-0.018954</td>\n",
              "      <td>0.076599</td>\n",
              "      <td>-4.163334</td>\n",
              "      <td>1.216043</td>\n",
              "      <td>0.368739</td>\n",
              "      <td>8.748734</td>\n",
              "    </tr>\n",
              "    <tr>\n",
              "      <th>Parch</th>\n",
              "      <td>-0.342697</td>\n",
              "      <td>0.032017</td>\n",
              "      <td>0.012429</td>\n",
              "      <td>-2.344191</td>\n",
              "      <td>0.368739</td>\n",
              "      <td>0.649728</td>\n",
              "      <td>8.661052</td>\n",
              "    </tr>\n",
              "    <tr>\n",
              "      <th>Fare</th>\n",
              "      <td>161.883369</td>\n",
              "      <td>6.221787</td>\n",
              "      <td>-22.830196</td>\n",
              "      <td>73.849030</td>\n",
              "      <td>8.748734</td>\n",
              "      <td>8.661052</td>\n",
              "      <td>2469.436846</td>\n",
              "    </tr>\n",
              "  </tbody>\n",
              "</table>\n",
              "</div>"
            ],
            "text/plain": [
              "              PassengerId  Survived     Pclass         Age      SibSp  \\\n",
              "PassengerId  66231.000000 -0.626966  -7.561798  138.696504 -16.325843   \n",
              "Survived        -0.626966  0.236772  -0.137703   -0.551296  -0.018954   \n",
              "Pclass          -7.561798 -0.137703   0.699015   -4.496004   0.076599   \n",
              "Age            138.696504 -0.551296  -4.496004  211.019125  -4.163334   \n",
              "SibSp          -16.325843 -0.018954   0.076599   -4.163334   1.216043   \n",
              "Parch           -0.342697  0.032017   0.012429   -2.344191   0.368739   \n",
              "Fare           161.883369  6.221787 -22.830196   73.849030   8.748734   \n",
              "\n",
              "                Parch         Fare  \n",
              "PassengerId -0.342697   161.883369  \n",
              "Survived     0.032017     6.221787  \n",
              "Pclass       0.012429   -22.830196  \n",
              "Age         -2.344191    73.849030  \n",
              "SibSp        0.368739     8.748734  \n",
              "Parch        0.649728     8.661052  \n",
              "Fare         8.661052  2469.436846  "
            ]
          },
          "execution_count": 60,
          "metadata": {},
          "output_type": "execute_result"
        }
      ],
      "source": [
        "df_titanic.cov()"
      ]
    },
    {
      "cell_type": "markdown",
      "metadata": {},
      "source": [
        "## 6) Correlação <a class=\"anchor\" id=\"seis\"></a>"
      ]
    },
    {
      "cell_type": "markdown",
      "metadata": {},
      "source": [
        "A correlação indica a interdependência entre duas ou mais variáveis.\n",
        "\n",
        "Em certos casos essa interdependência é clara:\n",
        "\n",
        "* Massa corporal e altura;\n",
        "* Consumo de combustível e distância percorrida;\n",
        "* Número de anúncios e produtos vendidos;\n",
        "* Tempo de estudo e desempenho na avaliação(nem sempre…rs).\n",
        "* Mas em muitos casos essa relação não é aparente, e assim devemos recorrer a métodos mais confiáveis de detecção. \n",
        "\n",
        "Dentre os métodos mais comuns temos os índices de Pearson, Spearman e Kendall. Vamos falar um pouco sobre esses índices."
      ]
    },
    {
      "cell_type": "markdown",
      "metadata": {},
      "source": [
        "### Correlação de Pearson"
      ]
    },
    {
      "cell_type": "markdown",
      "metadata": {},
      "source": [
        "Também chamado de “coeficiente de correlação produto-momento” ou simplesmente de “ρ de Pearson” mede o grau da correlação (e a direção dessa correlação — se positiva ou negativa) entre duas variáveis. Este coeficiente, normalmente representado por ρ assume apenas valores entre -1 e 1.\n",
        "\n",
        "!['Pearson'](https://miro.medium.com/max/872/1*KWAowigAR0EqWMmSBwOsqg.png)"
      ]
    },
    {
      "cell_type": "code",
      "execution_count": 61,
      "metadata": {},
      "outputs": [
        {
          "data": {
            "text/html": [
              "<div>\n",
              "<style scoped>\n",
              "    .dataframe tbody tr th:only-of-type {\n",
              "        vertical-align: middle;\n",
              "    }\n",
              "\n",
              "    .dataframe tbody tr th {\n",
              "        vertical-align: top;\n",
              "    }\n",
              "\n",
              "    .dataframe thead th {\n",
              "        text-align: right;\n",
              "    }\n",
              "</style>\n",
              "<table border=\"1\" class=\"dataframe\">\n",
              "  <thead>\n",
              "    <tr style=\"text-align: right;\">\n",
              "      <th></th>\n",
              "      <th>PassengerId</th>\n",
              "      <th>Survived</th>\n",
              "      <th>Pclass</th>\n",
              "      <th>Age</th>\n",
              "      <th>SibSp</th>\n",
              "      <th>Parch</th>\n",
              "      <th>Fare</th>\n",
              "    </tr>\n",
              "  </thead>\n",
              "  <tbody>\n",
              "    <tr>\n",
              "      <th>PassengerId</th>\n",
              "      <td>1.000000</td>\n",
              "      <td>-0.005007</td>\n",
              "      <td>-0.035144</td>\n",
              "      <td>0.036847</td>\n",
              "      <td>-0.057527</td>\n",
              "      <td>-0.001652</td>\n",
              "      <td>0.012658</td>\n",
              "    </tr>\n",
              "    <tr>\n",
              "      <th>Survived</th>\n",
              "      <td>-0.005007</td>\n",
              "      <td>1.000000</td>\n",
              "      <td>-0.338481</td>\n",
              "      <td>-0.077221</td>\n",
              "      <td>-0.035322</td>\n",
              "      <td>0.081629</td>\n",
              "      <td>0.257307</td>\n",
              "    </tr>\n",
              "    <tr>\n",
              "      <th>Pclass</th>\n",
              "      <td>-0.035144</td>\n",
              "      <td>-0.338481</td>\n",
              "      <td>1.000000</td>\n",
              "      <td>-0.369226</td>\n",
              "      <td>0.083081</td>\n",
              "      <td>0.018443</td>\n",
              "      <td>-0.549500</td>\n",
              "    </tr>\n",
              "    <tr>\n",
              "      <th>Age</th>\n",
              "      <td>0.036847</td>\n",
              "      <td>-0.077221</td>\n",
              "      <td>-0.369226</td>\n",
              "      <td>1.000000</td>\n",
              "      <td>-0.308247</td>\n",
              "      <td>-0.189119</td>\n",
              "      <td>0.096067</td>\n",
              "    </tr>\n",
              "    <tr>\n",
              "      <th>SibSp</th>\n",
              "      <td>-0.057527</td>\n",
              "      <td>-0.035322</td>\n",
              "      <td>0.083081</td>\n",
              "      <td>-0.308247</td>\n",
              "      <td>1.000000</td>\n",
              "      <td>0.414838</td>\n",
              "      <td>0.159651</td>\n",
              "    </tr>\n",
              "    <tr>\n",
              "      <th>Parch</th>\n",
              "      <td>-0.001652</td>\n",
              "      <td>0.081629</td>\n",
              "      <td>0.018443</td>\n",
              "      <td>-0.189119</td>\n",
              "      <td>0.414838</td>\n",
              "      <td>1.000000</td>\n",
              "      <td>0.216225</td>\n",
              "    </tr>\n",
              "    <tr>\n",
              "      <th>Fare</th>\n",
              "      <td>0.012658</td>\n",
              "      <td>0.257307</td>\n",
              "      <td>-0.549500</td>\n",
              "      <td>0.096067</td>\n",
              "      <td>0.159651</td>\n",
              "      <td>0.216225</td>\n",
              "      <td>1.000000</td>\n",
              "    </tr>\n",
              "  </tbody>\n",
              "</table>\n",
              "</div>"
            ],
            "text/plain": [
              "             PassengerId  Survived    Pclass       Age     SibSp     Parch  \\\n",
              "PassengerId     1.000000 -0.005007 -0.035144  0.036847 -0.057527 -0.001652   \n",
              "Survived       -0.005007  1.000000 -0.338481 -0.077221 -0.035322  0.081629   \n",
              "Pclass         -0.035144 -0.338481  1.000000 -0.369226  0.083081  0.018443   \n",
              "Age             0.036847 -0.077221 -0.369226  1.000000 -0.308247 -0.189119   \n",
              "SibSp          -0.057527 -0.035322  0.083081 -0.308247  1.000000  0.414838   \n",
              "Parch          -0.001652  0.081629  0.018443 -0.189119  0.414838  1.000000   \n",
              "Fare            0.012658  0.257307 -0.549500  0.096067  0.159651  0.216225   \n",
              "\n",
              "                 Fare  \n",
              "PassengerId  0.012658  \n",
              "Survived     0.257307  \n",
              "Pclass      -0.549500  \n",
              "Age          0.096067  \n",
              "SibSp        0.159651  \n",
              "Parch        0.216225  \n",
              "Fare         1.000000  "
            ]
          },
          "execution_count": 61,
          "metadata": {},
          "output_type": "execute_result"
        }
      ],
      "source": [
        "df_titanic.corr(method='pearson') #por padrao é pearson"
      ]
    },
    {
      "cell_type": "markdown",
      "metadata": {},
      "source": [
        "### Correlação de Spearman\n",
        "\n",
        "O coeficiente de correlação de Spearman é indicado para o cálculo da correlação entre variáveis aleatórias x e y relacionadas monotonicamente entre si, mas não necessariamente de maneira linear. Se a relação é linear o método de Pearson é o mais indicado.\n",
        "\n",
        "!['Spearman'](https://miro.medium.com/max/772/1*QmKUAIDKRmOkoXYYp6dlFw.png)"
      ]
    },
    {
      "cell_type": "code",
      "execution_count": 62,
      "metadata": {},
      "outputs": [
        {
          "data": {
            "text/html": [
              "<div>\n",
              "<style scoped>\n",
              "    .dataframe tbody tr th:only-of-type {\n",
              "        vertical-align: middle;\n",
              "    }\n",
              "\n",
              "    .dataframe tbody tr th {\n",
              "        vertical-align: top;\n",
              "    }\n",
              "\n",
              "    .dataframe thead th {\n",
              "        text-align: right;\n",
              "    }\n",
              "</style>\n",
              "<table border=\"1\" class=\"dataframe\">\n",
              "  <thead>\n",
              "    <tr style=\"text-align: right;\">\n",
              "      <th></th>\n",
              "      <th>PassengerId</th>\n",
              "      <th>Survived</th>\n",
              "      <th>Pclass</th>\n",
              "      <th>Age</th>\n",
              "      <th>SibSp</th>\n",
              "      <th>Parch</th>\n",
              "      <th>Fare</th>\n",
              "    </tr>\n",
              "  </thead>\n",
              "  <tbody>\n",
              "    <tr>\n",
              "      <th>PassengerId</th>\n",
              "      <td>1.000000</td>\n",
              "      <td>-0.005007</td>\n",
              "      <td>-0.034091</td>\n",
              "      <td>0.041010</td>\n",
              "      <td>-0.061161</td>\n",
              "      <td>0.001235</td>\n",
              "      <td>-0.013975</td>\n",
              "    </tr>\n",
              "    <tr>\n",
              "      <th>Survived</th>\n",
              "      <td>-0.005007</td>\n",
              "      <td>1.000000</td>\n",
              "      <td>-0.339668</td>\n",
              "      <td>-0.052565</td>\n",
              "      <td>0.088879</td>\n",
              "      <td>0.138266</td>\n",
              "      <td>0.323736</td>\n",
              "    </tr>\n",
              "    <tr>\n",
              "      <th>Pclass</th>\n",
              "      <td>-0.034091</td>\n",
              "      <td>-0.339668</td>\n",
              "      <td>1.000000</td>\n",
              "      <td>-0.361666</td>\n",
              "      <td>-0.043019</td>\n",
              "      <td>-0.022801</td>\n",
              "      <td>-0.688032</td>\n",
              "    </tr>\n",
              "    <tr>\n",
              "      <th>Age</th>\n",
              "      <td>0.041010</td>\n",
              "      <td>-0.052565</td>\n",
              "      <td>-0.361666</td>\n",
              "      <td>1.000000</td>\n",
              "      <td>-0.182061</td>\n",
              "      <td>-0.254212</td>\n",
              "      <td>0.135051</td>\n",
              "    </tr>\n",
              "    <tr>\n",
              "      <th>SibSp</th>\n",
              "      <td>-0.061161</td>\n",
              "      <td>0.088879</td>\n",
              "      <td>-0.043019</td>\n",
              "      <td>-0.182061</td>\n",
              "      <td>1.000000</td>\n",
              "      <td>0.450014</td>\n",
              "      <td>0.447113</td>\n",
              "    </tr>\n",
              "    <tr>\n",
              "      <th>Parch</th>\n",
              "      <td>0.001235</td>\n",
              "      <td>0.138266</td>\n",
              "      <td>-0.022801</td>\n",
              "      <td>-0.254212</td>\n",
              "      <td>0.450014</td>\n",
              "      <td>1.000000</td>\n",
              "      <td>0.410074</td>\n",
              "    </tr>\n",
              "    <tr>\n",
              "      <th>Fare</th>\n",
              "      <td>-0.013975</td>\n",
              "      <td>0.323736</td>\n",
              "      <td>-0.688032</td>\n",
              "      <td>0.135051</td>\n",
              "      <td>0.447113</td>\n",
              "      <td>0.410074</td>\n",
              "      <td>1.000000</td>\n",
              "    </tr>\n",
              "  </tbody>\n",
              "</table>\n",
              "</div>"
            ],
            "text/plain": [
              "             PassengerId  Survived    Pclass       Age     SibSp     Parch  \\\n",
              "PassengerId     1.000000 -0.005007 -0.034091  0.041010 -0.061161  0.001235   \n",
              "Survived       -0.005007  1.000000 -0.339668 -0.052565  0.088879  0.138266   \n",
              "Pclass         -0.034091 -0.339668  1.000000 -0.361666 -0.043019 -0.022801   \n",
              "Age             0.041010 -0.052565 -0.361666  1.000000 -0.182061 -0.254212   \n",
              "SibSp          -0.061161  0.088879 -0.043019 -0.182061  1.000000  0.450014   \n",
              "Parch           0.001235  0.138266 -0.022801 -0.254212  0.450014  1.000000   \n",
              "Fare           -0.013975  0.323736 -0.688032  0.135051  0.447113  0.410074   \n",
              "\n",
              "                 Fare  \n",
              "PassengerId -0.013975  \n",
              "Survived     0.323736  \n",
              "Pclass      -0.688032  \n",
              "Age          0.135051  \n",
              "SibSp        0.447113  \n",
              "Parch        0.410074  \n",
              "Fare         1.000000  "
            ]
          },
          "execution_count": 62,
          "metadata": {},
          "output_type": "execute_result"
        }
      ],
      "source": [
        "df_titanic.corr(method='spearman')"
      ]
    },
    {
      "cell_type": "markdown",
      "metadata": {},
      "source": [
        "### Correlação de Kendall\n",
        "\n",
        "É uma medida de correlação de postos, ou seja, verifica a semelhança entre as ordens dos dados quando classificados por cada uma das quantidades. Recebe este nome em homenagem ao estatístico britânico Maurice Kendall, que o desenvolveu em 1938.\n",
        "\n",
        "A correlação de Kendall leva em consideração apenas a concordância direcional dos chamados pares concordantes e discordantes.\n",
        "\n",
        "!['Kendall'](https://miro.medium.com/max/1174/1*rPQsIVhiD3izV5sIiewMBg.png)"
      ]
    },
    {
      "cell_type": "code",
      "execution_count": 63,
      "metadata": {},
      "outputs": [
        {
          "data": {
            "text/html": [
              "<div>\n",
              "<style scoped>\n",
              "    .dataframe tbody tr th:only-of-type {\n",
              "        vertical-align: middle;\n",
              "    }\n",
              "\n",
              "    .dataframe tbody tr th {\n",
              "        vertical-align: top;\n",
              "    }\n",
              "\n",
              "    .dataframe thead th {\n",
              "        text-align: right;\n",
              "    }\n",
              "</style>\n",
              "<table border=\"1\" class=\"dataframe\">\n",
              "  <thead>\n",
              "    <tr style=\"text-align: right;\">\n",
              "      <th></th>\n",
              "      <th>PassengerId</th>\n",
              "      <th>Survived</th>\n",
              "      <th>Pclass</th>\n",
              "      <th>Age</th>\n",
              "      <th>SibSp</th>\n",
              "      <th>Parch</th>\n",
              "      <th>Fare</th>\n",
              "    </tr>\n",
              "  </thead>\n",
              "  <tbody>\n",
              "    <tr>\n",
              "      <th>PassengerId</th>\n",
              "      <td>1.000000</td>\n",
              "      <td>-0.004090</td>\n",
              "      <td>-0.026824</td>\n",
              "      <td>0.027542</td>\n",
              "      <td>-0.048394</td>\n",
              "      <td>0.000798</td>\n",
              "      <td>-0.008921</td>\n",
              "    </tr>\n",
              "    <tr>\n",
              "      <th>Survived</th>\n",
              "      <td>-0.004090</td>\n",
              "      <td>1.000000</td>\n",
              "      <td>-0.323533</td>\n",
              "      <td>-0.043385</td>\n",
              "      <td>0.085915</td>\n",
              "      <td>0.133933</td>\n",
              "      <td>0.266229</td>\n",
              "    </tr>\n",
              "    <tr>\n",
              "      <th>Pclass</th>\n",
              "      <td>-0.026824</td>\n",
              "      <td>-0.323533</td>\n",
              "      <td>1.000000</td>\n",
              "      <td>-0.286081</td>\n",
              "      <td>-0.039552</td>\n",
              "      <td>-0.021019</td>\n",
              "      <td>-0.573531</td>\n",
              "    </tr>\n",
              "    <tr>\n",
              "      <th>Age</th>\n",
              "      <td>0.027542</td>\n",
              "      <td>-0.043385</td>\n",
              "      <td>-0.286081</td>\n",
              "      <td>1.000000</td>\n",
              "      <td>-0.142746</td>\n",
              "      <td>-0.200112</td>\n",
              "      <td>0.093249</td>\n",
              "    </tr>\n",
              "    <tr>\n",
              "      <th>SibSp</th>\n",
              "      <td>-0.048394</td>\n",
              "      <td>0.085915</td>\n",
              "      <td>-0.039552</td>\n",
              "      <td>-0.142746</td>\n",
              "      <td>1.000000</td>\n",
              "      <td>0.425241</td>\n",
              "      <td>0.358262</td>\n",
              "    </tr>\n",
              "    <tr>\n",
              "      <th>Parch</th>\n",
              "      <td>0.000798</td>\n",
              "      <td>0.133933</td>\n",
              "      <td>-0.021019</td>\n",
              "      <td>-0.200112</td>\n",
              "      <td>0.425241</td>\n",
              "      <td>1.000000</td>\n",
              "      <td>0.330360</td>\n",
              "    </tr>\n",
              "    <tr>\n",
              "      <th>Fare</th>\n",
              "      <td>-0.008921</td>\n",
              "      <td>0.266229</td>\n",
              "      <td>-0.573531</td>\n",
              "      <td>0.093249</td>\n",
              "      <td>0.358262</td>\n",
              "      <td>0.330360</td>\n",
              "      <td>1.000000</td>\n",
              "    </tr>\n",
              "  </tbody>\n",
              "</table>\n",
              "</div>"
            ],
            "text/plain": [
              "             PassengerId  Survived    Pclass       Age     SibSp     Parch  \\\n",
              "PassengerId     1.000000 -0.004090 -0.026824  0.027542 -0.048394  0.000798   \n",
              "Survived       -0.004090  1.000000 -0.323533 -0.043385  0.085915  0.133933   \n",
              "Pclass         -0.026824 -0.323533  1.000000 -0.286081 -0.039552 -0.021019   \n",
              "Age             0.027542 -0.043385 -0.286081  1.000000 -0.142746 -0.200112   \n",
              "SibSp          -0.048394  0.085915 -0.039552 -0.142746  1.000000  0.425241   \n",
              "Parch           0.000798  0.133933 -0.021019 -0.200112  0.425241  1.000000   \n",
              "Fare           -0.008921  0.266229 -0.573531  0.093249  0.358262  0.330360   \n",
              "\n",
              "                 Fare  \n",
              "PassengerId -0.008921  \n",
              "Survived     0.266229  \n",
              "Pclass      -0.573531  \n",
              "Age          0.093249  \n",
              "SibSp        0.358262  \n",
              "Parch        0.330360  \n",
              "Fare         1.000000  "
            ]
          },
          "execution_count": 63,
          "metadata": {},
          "output_type": "execute_result"
        }
      ],
      "source": [
        "df_titanic.corr(method='kendall')"
      ]
    },
    {
      "cell_type": "markdown",
      "metadata": {},
      "source": [
        "## 7) Tabela de Frequências (absoluta, relativa e percentual) <a class=\"anchor\" id=\"sete\"></a>"
      ]
    },
    {
      "cell_type": "code",
      "execution_count": 64,
      "metadata": {},
      "outputs": [],
      "source": [
        "df = df_titanic.Age.dropna()"
      ]
    },
    {
      "cell_type": "code",
      "execution_count": 65,
      "metadata": {},
      "outputs": [],
      "source": [
        "at = df.max() - df.min()"
      ]
    },
    {
      "cell_type": "code",
      "execution_count": 66,
      "metadata": {},
      "outputs": [],
      "source": [
        "import math"
      ]
    },
    {
      "cell_type": "code",
      "execution_count": 69,
      "metadata": {},
      "outputs": [],
      "source": [
        "# calculando a qtd de classes\n",
        "k = math.sqrt(len(df))\n",
        "\n",
        "#amplitude de classe\n",
        "h = at/k\n",
        "h = math.ceil(h)"
      ]
    },
    {
      "cell_type": "code",
      "execution_count": 72,
      "metadata": {},
      "outputs": [],
      "source": [
        "frequencias = []\n",
        "menor = round(df.min(), 1)\n",
        "\n",
        "menor_amp = round(menor+h, 1)\n",
        "\n",
        "valor = menor\n",
        "while valor<df.max():\n",
        "    frequencias.append('{} - {}'.format(round(valor,1),round(valor+h,1)))\n",
        "    valor +=h"
      ]
    },
    {
      "cell_type": "code",
      "execution_count": 74,
      "metadata": {},
      "outputs": [
        {
          "name": "stdout",
          "output_type": "stream",
          "text": [
            "0.4 - 3.4      30\n",
            "3.4 - 6.4      24\n",
            "6.4 - 9.4      29\n",
            "9.4 - 12.4     30\n",
            "12.4 - 15.4    26\n",
            "15.4 - 18.4    25\n",
            "18.4 - 21.4    40\n",
            "21.4 - 24.4    27\n",
            "24.4 - 27.4    15\n",
            "27.4 - 30.4    31\n",
            "30.4 - 33.4    24\n",
            "33.4 - 36.4    18\n",
            "36.4 - 39.4    43\n",
            "39.4 - 42.4    22\n",
            "42.4 - 45.4    25\n",
            "45.4 - 48.4    19\n",
            "48.4 - 51.4    35\n",
            "51.4 - 54.4    15\n",
            "54.4 - 57.4    41\n",
            "57.4 - 60.4    18\n",
            "60.4 - 63.4    27\n",
            "63.4 - 66.4    21\n",
            "66.4 - 69.4    26\n",
            "69.4 - 72.4    23\n",
            "72.4 - 75.4    29\n",
            "75.4 - 78.4    25\n",
            "78.4 - 81.4    26\n",
            "Name: Age, dtype: int64\n"
          ]
        }
      ],
      "source": [
        "freq_abs = pd.qcut(df, len(frequencias), labels=frequencias)\n",
        "print(pd.value_counts(freq_abs).sort_index())"
      ]
    },
    {
      "cell_type": "code",
      "execution_count": null,
      "metadata": {},
      "outputs": [],
      "source": []
    }
  ],
  "metadata": {
    "colab": {
      "name": "Untitled92.ipynb",
      "provenance": []
    },
    "kernelspec": {
      "display_name": "Python 3.9.12 ('base')",
      "language": "python",
      "name": "python3"
    },
    "language_info": {
      "codemirror_mode": {
        "name": "ipython",
        "version": 3
      },
      "file_extension": ".py",
      "mimetype": "text/x-python",
      "name": "python",
      "nbconvert_exporter": "python",
      "pygments_lexer": "ipython3",
      "version": "3.9.12"
    },
    "vscode": {
      "interpreter": {
        "hash": "f18310f7eb04fcdecd41dd2753e42e607afadcee65e6289b049db038aececc7b"
      }
    }
  },
  "nbformat": 4,
  "nbformat_minor": 0
}
