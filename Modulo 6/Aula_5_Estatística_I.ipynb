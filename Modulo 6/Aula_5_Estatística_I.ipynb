{
  "cells": [
    {
      "cell_type": "markdown",
      "metadata": {
        "id": "MnQFsay-kUfW"
      },
      "source": [
        "# Distribuições de Probabilidade"
      ]
    },
    {
      "cell_type": "code",
      "execution_count": null,
      "metadata": {
        "id": "1EuZ8bsGvlkv"
      },
      "outputs": [],
      "source": []
    },
    {
      "cell_type": "markdown",
      "metadata": {
        "id": "ATEAlgiRubV4"
      },
      "source": [
        "### Média e Variância\n",
        "\n",
        "São os 2 números frequentemente usados para definir uma distribuição de probabilidade para a V.A. X.\n",
        "\n",
        "A média (valor esperado) de X, é:\n",
        "\n",
        "$ \\mu = E(X) = \\sum_{i=1}^{n} x_i*f(x_i)$\n",
        "\n",
        "E a variância de X, denotada por $\\sigma^2$ ou V(X), é:\n",
        "\n",
        "$ \\sigma^2 = V(X) = E(X-E(X))^2 = E(X^2)-E(X)^2$"
      ]
    },
    {
      "cell_type": "markdown",
      "metadata": {
        "id": "C1sUN7hjuwpD"
      },
      "source": [
        "Há também outros dois conceitos que nos ajudam a explorar o universo das distribuições de probabilidade, fazendo parte do conceito maior de momento.\n",
        "\n",
        "* Assimetria de X:\n",
        "\n",
        "$\\gamma = E[(\\frac{X-E(X)}{\\sigma})^3] = \\frac{E(X^3)-3E(X)E(X^2)+2E(X)^3}{[E(X^2)-E(X)^2]^3}$\n",
        "\n",
        "![](https://upload.wikimedia.org/wikipedia/commons/thumb/c/cc/Relationship_between_mean_and_median_under_different_skewness.png/434px-Relationship_between_mean_and_median_under_different_skewness.png)\n",
        "\n",
        "* Curtose de X:\n",
        "\n",
        "$\\beta = E[(\\frac{X-E(X)}{\\sigma})^4]=\\frac{E(X^4)-4E(X)E(X^3)+6E(X^2)E(X)^2-3E(X)^4}{[E(X^2)-E(X)^2]^2}$\n",
        "\n",
        "![](https://media-exp1.licdn.com/dms/image/C4E12AQFrAz727TiArg/article-inline_image-shrink_1000_1488/0/1520519998561?e=2147483647&v=beta&t=KcRlV3822t1kC24DJmlpwC3cJ6hA7CTrp4miuI3vFKo)"
      ]
    },
    {
      "cell_type": "markdown",
      "metadata": {
        "id": "9v_pobL8wI0X"
      },
      "source": [
        "**Obs.:** Usamos essas métricas para caracterizar diferentes distribuições: normal, t-student, chi-quadrado, etc."
      ]
    },
    {
      "cell_type": "markdown",
      "metadata": {
        "id": "JdHKNlS51S0b"
      },
      "source": [
        "### Normal"
      ]
    },
    {
      "cell_type": "code",
      "execution_count": 2,
      "metadata": {
        "id": "buwEJsprkT-Q"
      },
      "outputs": [],
      "source": [
        "#Importando o módulo norm (distribuição normal padrão --> média 0 e desvio-padrão 1)\n",
        "from scipy.stats import norm"
      ]
    },
    {
      "cell_type": "code",
      "execution_count": 3,
      "metadata": {
        "colab": {
          "base_uri": "https://localhost:8080/"
        },
        "id": "pbLb02vYkn2k",
        "outputId": "3388292b-0459-48f3-c51b-411f22eaf778"
      },
      "outputs": [
        {
          "name": "stdout",
          "output_type": "stream",
          "text": [
            "média: 0.0, variância: 1.0, assimetria: 0.0, curtose: 0.0\n"
          ]
        }
      ],
      "source": [
        "mean, var, skew, kurt = norm.stats(moments='mvsk')\n",
        "print('média: {}, variância: {}, assimetria: {}, curtose: {}'.format(mean, var, skew, kurt))"
      ]
    },
    {
      "cell_type": "markdown",
      "metadata": {
        "id": "vkhErpZ5k4Q7"
      },
      "source": [
        "Para deslocar ou mudar a escala da distribuição, i.e. informar média e desvio-padrão, pode-se infomar os parâmetros loc e scale, respectivamente. Exemplo:"
      ]
    },
    {
      "cell_type": "code",
      "execution_count": 4,
      "metadata": {
        "colab": {
          "base_uri": "https://localhost:8080/"
        },
        "id": "43Pe2LZYkyTl",
        "outputId": "cbfa1466-33f2-43bf-9cc4-637533b0c285"
      },
      "outputs": [
        {
          "name": "stdout",
          "output_type": "stream",
          "text": [
            "média: 2.0, variância: 0.25\n"
          ]
        }
      ],
      "source": [
        "mean, var = norm.stats(loc=2, scale=0.5, moments='mv')\n",
        "print('média: {}, variância: {}'.format(mean, var, skew, kurt))"
      ]
    },
    {
      "cell_type": "markdown",
      "metadata": {
        "id": "-fMZT-q4lFYN"
      },
      "source": [
        "Para calcular a fdp para um número real x, fazemos:"
      ]
    },
    {
      "cell_type": "code",
      "execution_count": 18,
      "metadata": {
        "colab": {
          "base_uri": "https://localhost:8080/"
        },
        "id": "QuO3VHNgk7XL",
        "outputId": "27226f70-5cfb-490d-acd8-588d7fba0351"
      },
      "outputs": [
        {
          "name": "stdout",
          "output_type": "stream",
          "text": [
            "0.24197072451914337\n"
          ]
        }
      ],
      "source": [
        "x = 1\n",
        "print(norm.pdf(x))"
      ]
    },
    {
      "cell_type": "markdown",
      "metadata": {
        "id": "zmkvcMbilUal"
      },
      "source": [
        "![](https://i.ytimg.com/vi/ec9HWoY2kt8/maxresdefault.jpg)"
      ]
    },
    {
      "cell_type": "code",
      "execution_count": 6,
      "metadata": {
        "colab": {
          "base_uri": "https://localhost:8080/",
          "height": 265
        },
        "id": "FhbzS9belJrM",
        "outputId": "c2fb01b5-db19-491d-d78f-0543734e2d68"
      },
      "outputs": [
        {
          "data": {
            "image/png": "[encoded data removed]",
            "text/plain": [
              "<Figure size 432x288 with 1 Axes>"
            ]
          },
          "metadata": {
            "needs_background": "light"
          },
          "output_type": "display_data"
        }
      ],
      "source": [
        "#Podemos calcular a fdp para cada elemento de um array:\n",
        "import numpy as np\n",
        "import matplotlib.pyplot as plt\n",
        "\n",
        "x = np.linspace(-5, 5,1000)\n",
        "plt.plot(x, norm.pdf(x))\n",
        "plt.show()"
      ]
    },
    {
      "cell_type": "markdown",
      "metadata": {
        "id": "EFnu0jdqn4iT"
      },
      "source": [
        "A função de distribuição acumulada pode ser calculada de maneira muito similar, usando a função cdf:"
      ]
    },
    {
      "cell_type": "code",
      "execution_count": 7,
      "metadata": {
        "colab": {
          "base_uri": "https://localhost:8080/",
          "height": 265
        },
        "id": "mLv_ELV9mSnV",
        "outputId": "b12a8bf5-4501-452f-ea28-dcf34f251e12"
      },
      "outputs": [
        {
          "data": {
            "image/png": "[encoded data removed]",
            "text/plain": [
              "<Figure size 432x288 with 1 Axes>"
            ]
          },
          "metadata": {
            "needs_background": "light"
          },
          "output_type": "display_data"
        }
      ],
      "source": [
        "plt.plot(x, norm.cdf(x))\n",
        "plt.show()"
      ]
    },
    {
      "cell_type": "markdown",
      "metadata": {
        "id": "tcazoanvoLES"
      },
      "source": [
        "# Estimação e Inferência"
      ]
    },
    {
      "cell_type": "markdown",
      "metadata": {
        "id": "YCOibPMPpXHd"
      },
      "source": [
        "![](https://www.inf.ufsc.br/~andre.zibetti/probabilidade/img/inferencia.png)"
      ]
    },
    {
      "cell_type": "markdown",
      "metadata": {
        "id": "LW69JEAnphvk"
      },
      "source": [
        "* **Estimativa pontual:** Estimativa única de um parâmetro populacional.\n",
        "* **Estimativa intervalar:** Dá um intervalo de valores possíveis, no qual se admite esteja o parâmetro populacional.\n",
        "\n",
        "|Parâmetro Populacional|Pontual|Intervalar|\n",
        "|:--------------------:|:-----:|:--------:|\n",
        "|Média|O americano médio consome 40 lb de carne por ano.|O consumo médio de carne no país está entre 30 e 50 lb por pessoa por ano.|\n",
        "|Proporção|22% da população se opõe a um aumento do limite de velocidade.|Entre 18% e 26% da população há oposição a um aumento do limite da velocidade.|\n",
        "|Desvio-padrão|O desvio-padrão da quilometragem de um pneu radial é de 2000 milhas.|O desvio-padrão da quilometragem de um pneu radial está entre 1500 e 2500 milhas.|"
      ]
    },
    {
      "cell_type": "markdown",
      "metadata": {
        "id": "wtPN7RL0sOxl"
      },
      "source": [
        "## Fundamentos lógicos da estimação\n"
      ]
    },
    {
      "cell_type": "markdown",
      "metadata": {
        "id": "DO8eSINv02y_"
      },
      "source": [
        "**Exemplo:** Uma amostra de alunos da turma 850 foi extraída, observando-se uma média de 24,2 anos.\n",
        "\n",
        "**Pergunta:** Sabemos que este é um valor possível da distribuição amostral, mas a questão é: qual deles?\n",
        "\n",
        "Quão próximo da média 24,2 está?"
      ]
    },
    {
      "cell_type": "markdown",
      "metadata": {
        "id": "OYQcwskJsY2-"
      },
      "source": [
        "![](https://drive.google.com/uc?export=view&id=1rQB8KOw2nkO1Ek0uQuFmAAeqI_M98h_2)"
      ]
    },
    {
      "cell_type": "markdown",
      "metadata": {
        "id": "Yv1AO2p81rSR"
      },
      "source": [
        "**Supondo distribuição normal:**\n",
        "\n",
        "![](https://www.inf.ufsc.br/~andre.zibetti/probabilidade/figures/normal.PNG)"
      ]
    },
    {
      "cell_type": "markdown",
      "metadata": {
        "id": "b-Fs9fMvEjv0"
      },
      "source": [
        "Vimos pelo Teorema Central do limite que uma certa estatística Z:\n",
        "\n",
        "$Z = \\frac{\\overset{-}{X} - \\mu}{\\sigma/\\sqrt{n}} \\sim 𝑁(\\mu=0,\\sigma^2=1)$\n",
        "\n",
        "Fixando um nível de confiança $\\gamma = (1-\\alpha)100\\%$:\n",
        "\n",
        "$P(-z_{\\alpha/2} \\le Z \\le z_{\\alpha/2})=P(-z_{\\alpha/2} \\le \\frac{\\overset{-}{X} - \\mu}{\\sigma/\\sqrt{n}} \\le z_{\\alpha/2}) = 1-\\alpha$\n",
        "\n",
        "![](data:image/png;base64,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)"
      ]
    },
    {
      "cell_type": "markdown",
      "metadata": {
        "id": "DU2kncbmGLw9"
      },
      "source": [
        "Reescrevendo:\n",
        "\n",
        "$P(-z_{\\alpha/2} \\frac{\\sigma}{\\sqrt{n}} \\le \\overset{-}{X} - \\mu \\le z_{\\alpha/2} \\frac{\\sigma}{\\sqrt{n}}) = 1-\\alpha$\n",
        "\n",
        "\n",
        "$P(-z_{\\alpha/2} \\frac{\\sigma}{\\sqrt{n}} -\\overset{-}{X} \\le - \\mu \\le z_{\\alpha/2} \\frac{\\sigma}{\\sqrt{n}} - \\overset{-}{X}) = 1-\\alpha$\n",
        "\n",
        "$P(\\overset{-}{X}-z_{\\alpha/2} \\frac{\\sigma}{\\sqrt{n}} \\le \\mu \\le \\overset{-}{X}+z_{\\alpha/2} \\frac{\\sigma}{\\sqrt{n}}) = 1-\\alpha$\n",
        "\n",
        "O I.C. de (1-α)100% para a média populacional μ, com $\\sigma^2$ conhecido.\n",
        "\n",
        "**Interpretação:** Estamos (1-α)100% confiantes de que o intervalo **contém** o verdadeiro valor do parâmetro."
      ]
    },
    {
      "cell_type": "markdown",
      "metadata": {
        "id": "qruhQGcZH9_I"
      },
      "source": [
        "O que nós lemos na aula anterior:"
      ]
    },
    {
      "cell_type": "markdown",
      "metadata": {
        "id": "yI6sDQrswtOU"
      },
      "source": [
        "$P(\\mu-\\sigma<X<\\mu+\\sigma)=0.68$\n",
        "\n",
        "$P(\\mu-2\\sigma<X<\\mu+2\\sigma)=0.95$\n",
        "\n",
        "$P(\\mu-3\\sigma<X<\\mu+3\\sigma)=0.997$"
      ]
    },
    {
      "cell_type": "markdown",
      "metadata": {
        "id": "rOpBuJ8j1v0_"
      },
      "source": [
        "**Questão:** O que isso quer dizer para a gente?\n",
        "* Nível de confiança do intervalo;\n",
        "* Erro máximo esperado."
      ]
    },
    {
      "cell_type": "markdown",
      "metadata": {
        "id": "uICBABlZ2LMf"
      },
      "source": [
        "![](https://drive.google.com/uc?export=view&id=1-5de4RoW5ouXPL98P33lpyrPx1hNrCkG)"
      ]
    },
    {
      "cell_type": "code",
      "execution_count": 8,
      "metadata": {
        "colab": {
          "base_uri": "https://localhost:8080/",
          "height": 650
        },
        "id": "t9Nr8X4NKDmA",
        "outputId": "9081c15a-72b7-4e42-c139-b0e68cee039b"
      },
      "outputs": [
        {
          "data": {
            "image/png": "[encoded data removed]",
            "text/plain": [
              "<Figure size 1008x720 with 1 Axes>"
            ]
          },
          "metadata": {
            "needs_background": "light"
          },
          "output_type": "display_data"
        },
        {
          "name": "stdout",
          "output_type": "stream",
          "text": [
            "Nível de confiança: 0.95\n",
            "Fraçao de intervalos que contém a média: 0.93\n"
          ]
        }
      ],
      "source": [
        "import numpy as np\n",
        "\n",
        "n = 50 # tamanho da amostra\n",
        "Ns = 100 # numero de intervalos\n",
        "mu = 2 # media populacional\n",
        "sigma = 2 # desvio padrão populacional\n",
        "beta = 0.95 # nivel de confianca\n",
        "zalpha = 1.96 # valor de z (a partir de beta)\n",
        "c = 0 # conta o numero de intervalos que contem a media\n",
        "plt.figure(figsize=(14,10))\n",
        "for s in range(1,Ns+1):\n",
        "    x = np.random.normal(mu, sigma, n) # sorteia uma amostra de tamanho n\n",
        "    IC1 = np.mean(x) - zalpha*sigma/np.sqrt(n) #intervalo inferior\n",
        "    IC2 = np.mean(x) + zalpha*sigma/np.sqrt(n) #intervalo superior\n",
        "    if(mu > IC1 and mu < IC2):\n",
        "        c =  c + 1\n",
        "        # mostra o intervalo em cinza se continar a media\n",
        "        plt.vlines(s, ymin=IC1, ymax=IC2, color = 'gray')\n",
        "        plt.plot(s,np.mean(x), 'o', color = 'gray', \n",
        "                 markersize=5)\n",
        "    else:\n",
        "        # mostra o intervalo que nao contem a media\n",
        "        plt.vlines(s, ymin=IC1, ymax=IC2, color = 'black', linestyles = 'dashed')\n",
        "        plt.plot(s,np.mean(x), 'o', color = 'black',\n",
        "                 markersize=5)\n",
        "plt.axhline(y = mu, color = 'black') # mostra a media populacional\n",
        "plt.xlabel('Amostra', fontsize=20)\n",
        "plt.show()\n",
        "print('Nível de confiança:', beta)\n",
        "print('Fraçao de intervalos que contém a média:', c/Ns)"
      ]
    },
    {
      "cell_type": "markdown",
      "metadata": {
        "id": "RtTWpozALDOQ"
      },
      "source": [
        "**Nível de confiança:** Fração de intervalos que contém a média."
      ]
    },
    {
      "cell_type": "markdown",
      "metadata": {
        "id": "rGlOzKml2Sr_"
      },
      "source": [
        "## Intervalo de confiança\n",
        "\n",
        "Nosso intervalo tem a forma $\\overset{-}{x} \\pm z \\sigma_\\overset{-}{x}$.\n",
        "\n",
        "**Exemplo:** Um intervalo de 95% para a média com $\\overset{-}{x}=24,2$ seria:\n",
        "\n",
        "$24,2 \\pm 1.96 \\sigma_\\overset{-}{x}$"
      ]
    },
    {
      "cell_type": "markdown",
      "metadata": {
        "id": "17TeAMMX3v34"
      },
      "source": [
        "### Estimativa da média de uma população:\n",
        "\n",
        "**Com σ conhecido**:\n",
        "\n",
        "* Estimativa pontual de $\\mu_x$: $\\overset{-}{x}$\n",
        "* Estimativa intervalar de $\\mu_x$: $\\overset{-}{x} \\pm z \\sigma_\\overset{-}{x}$\n",
        "\n",
        "Em que:\n",
        "\n",
        "$\\sigma_\\overset{-}{x} = \\sigma_x/\\sqrt{n}$"
      ]
    },
    {
      "cell_type": "markdown",
      "metadata": {
        "id": "yvo2k3EN5TX_"
      },
      "source": [
        "Podemos agora construir alguns intervalos de confiança para a idade média dos alunos da sala 850 usando nossa média amostral de 24.2. Para isso, devemos considerar o tamanho da amostra (n) e o desvio-padrão populacional (σ).\n",
        "\n",
        "Suponhamos $n=36$ e $\\sigma_x = 3.0$. "
      ]
    },
    {
      "cell_type": "code",
      "execution_count": 9,
      "metadata": {
        "colab": {
          "base_uri": "https://localhost:8080/"
        },
        "id": "_CEbE35h4XZV",
        "outputId": "1ad99ff9-bf0f-441a-d127-1120a9e6b700"
      },
      "outputs": [
        {
          "name": "stdout",
          "output_type": "stream",
          "text": [
            "(23.377573186524263, 25.022426813475736)\n"
          ]
        }
      ],
      "source": [
        "# Calculando um I.C. para um Nível de confiança de 90, 95 e 99%\n",
        "print(norm.interval(0.9, loc=24.2, scale=3/6))"
      ]
    },
    {
      "cell_type": "code",
      "execution_count": 10,
      "metadata": {
        "colab": {
          "base_uri": "https://localhost:8080/"
        },
        "id": "FXSZe3Bo4XV2",
        "outputId": "268476a1-3f1f-4e3a-ab10-dac036084ff6"
      },
      "outputs": [
        {
          "name": "stdout",
          "output_type": "stream",
          "text": [
            "(23.220018007729973, 25.179981992270026)\n"
          ]
        }
      ],
      "source": [
        "print(norm.interval(0.95, loc=24.2, scale=3/6))"
      ]
    },
    {
      "cell_type": "code",
      "execution_count": 11,
      "metadata": {
        "colab": {
          "base_uri": "https://localhost:8080/"
        },
        "id": "EUUerpafniWt",
        "outputId": "01b7d2a8-cc3e-4208-a45d-220296c1d52d"
      },
      "outputs": [
        {
          "name": "stdout",
          "output_type": "stream",
          "text": [
            "(22.91208534822555, 25.48791465177445)\n"
          ]
        }
      ],
      "source": [
        "print(norm.interval(0.99, loc=24.2, scale=3/6))"
      ]
    },
    {
      "cell_type": "markdown",
      "metadata": {
        "id": "uO9FGF3050bi"
      },
      "source": [
        "|Confiança desejada|z|Fórmula|Cálculo|erro|Intervalo|\n",
        "|:----------------:|:-:|:---:|:-----:|:--:|:-------:|\n",
        "|90%|1.65|$\\overset{-}{x} \\pm 1.65 \\frac{\\sigma_x}{\\sqrt{n}}$|$24.2 \\pm 1.65 \\frac{3}{\\sqrt{36}}$|$24.2 \\pm 0.825$|23.375 a 25.025|\n",
        "|95%|1.96|$\\overset{-}{x} \\pm 1.96 \\frac{\\sigma_x}{\\sqrt{n}}$|$24.2 \\pm 1.96 \\frac{3}{\\sqrt{36}}$|$24.2 \\pm 0.980$|23.220 a 25.180|\n",
        "|99%|2.58|$\\overset{-}{x} \\pm 2.58 \\frac{\\sigma_x}{\\sqrt{n}}$|$24.2 \\pm 2.58 \\frac{3}{\\sqrt{36}}$|$24.2 \\pm 1.290$|22.912 a 25.488|"
      ]
    },
    {
      "cell_type": "markdown",
      "metadata": {
        "id": "c6Av8kCl82_4"
      },
      "source": [
        "![](https://drive.google.com/uc?export=view&id=1UYipyQmFZESoeSJpXh-HKPK6gFdZIPQ5)"
      ]
    },
    {
      "cell_type": "markdown",
      "metadata": {
        "id": "7wv8XMqi9NmI"
      },
      "source": [
        "* Nós podemos querer especificar o erro associado à dispersão de uma população, dado o tamanho de uma amostra e o nível de confiança.\n",
        "\n",
        "$e = z \\frac{\\sigma_x}{\\sqrt{n}}$\n",
        "\n",
        "* Em alguns casos, contudo, podemos querer especificar um erro tolerável e achar o tamanho da amostra necessária para gerar aquele erro.\n",
        "\n",
        "$n = (z \\frac{\\sigma_x}{e})^2$\n",
        "\n",
        "Logo, o tamanho da amostra dependerá:\n",
        "\n",
        "1. O grau de confiança desejado (z);\n",
        "2. A quantidade de dispersão entre os valores individuais da população ($\\sigma_x$);\n",
        "3. Certa quantidade específica de erro tolerável."
      ]
    },
    {
      "cell_type": "markdown",
      "metadata": {
        "id": "csJrDFPa-XXj"
      },
      "source": [
        "**Desvio-padrão (σ) desconhecido:** Distribuição t de Student"
      ]
    },
    {
      "cell_type": "code",
      "execution_count": 12,
      "metadata": {
        "colab": {
          "base_uri": "https://localhost:8080/",
          "height": 265
        },
        "id": "I3myDgTm9_L3",
        "outputId": "9ee22ee4-1173-48ba-f536-f0f04d0b8458"
      },
      "outputs": [
        {
          "data": {
            "image/png": "[encoded data removed]",
            "text/plain": [
              "<Figure size 432x288 with 1 Axes>"
            ]
          },
          "metadata": {
            "needs_background": "light"
          },
          "output_type": "display_data"
        }
      ],
      "source": [
        "x = np.linspace(-5, 5,1000)\n",
        "from scipy.stats import t\n",
        "plt.plot(x, t.pdf(x,1)) #df --> grau de liberdade da distribuição\n",
        "plt.plot(x, t.pdf(x,3))\n",
        "plt.plot(x, t.pdf(x,6))\n",
        "plt.plot(x, t.pdf(x,30))\n",
        "plt.plot(x, norm.pdf(x))\n",
        "plt.show()"
      ]
    },
    {
      "cell_type": "markdown",
      "metadata": {
        "id": "hVvWs1ezANtK"
      },
      "source": [
        "**Com σ desconhecido:**\n",
        "\n",
        "* Estimativa pontual de $\\mu_x$: $\\overset{-}{x}$\n",
        "* Estimativa intervalar de $\\mu_x$: $\\overset{-}{x} \\pm t \\frac{S_\\overset{-}{x}}{\\sqrt{n}}$\n",
        "\n",
        "Em que:\n",
        "\n",
        "$S_\\overset{-}{x} = \\sqrt{\\frac{\\sum_{k=1}^{N} (x-\\overset{-}{x})^2}{n-1}}$\n",
        "\n"
      ]
    },
    {
      "cell_type": "markdown",
      "metadata": {
        "id": "09wauPk7B4xH"
      },
      "source": [
        "**Exemplo:** Suponha agora que temos uma amostra com a média de 20 anos, um desvio-padrão amostral de 1.5 e tamanho da amostra de 25."
      ]
    },
    {
      "cell_type": "code",
      "execution_count": 13,
      "metadata": {
        "colab": {
          "base_uri": "https://localhost:8080/"
        },
        "id": "hAPKQNim-5rv",
        "outputId": "69c38ca6-a6f1-4701-9fb8-3352ba2dc093"
      },
      "outputs": [
        {
          "name": "stdout",
          "output_type": "stream",
          "text": [
            "(19.48673537602717, 20.513264623972827)\n"
          ]
        }
      ],
      "source": [
        "# Calculando um I.C. para um Nível de confiança de 90, 95 e 99%\n",
        "print(t.interval(0.9, loc=20, scale=1.5/5,df=24))"
      ]
    },
    {
      "cell_type": "code",
      "execution_count": 14,
      "metadata": {
        "colab": {
          "base_uri": "https://localhost:8080/"
        },
        "id": "UmxODKvsCRt8",
        "outputId": "309e4d82-e3e3-43c3-90cf-20d5c863fb03"
      },
      "outputs": [
        {
          "name": "stdout",
          "output_type": "stream",
          "text": [
            "(19.380830431511594, 20.619169568488406)\n"
          ]
        }
      ],
      "source": [
        "print(t.interval(0.95, loc=20, scale=1.5/5,df=24))"
      ]
    },
    {
      "cell_type": "code",
      "execution_count": 15,
      "metadata": {
        "colab": {
          "base_uri": "https://localhost:8080/"
        },
        "id": "SF2opSlPCZDw",
        "outputId": "4cb99656-83d6-4958-9ab6-9ae8e48cab60"
      },
      "outputs": [
        {
          "name": "stdout",
          "output_type": "stream",
          "text": [
            "(19.160918148568157, 20.839081851431843)\n"
          ]
        }
      ],
      "source": [
        "print(t.interval(0.99, loc=20, scale=1.5/5,df=24))"
      ]
    },
    {
      "cell_type": "markdown",
      "metadata": {
        "id": "EHghOJWVCfxB"
      },
      "source": [
        "|Confiança desejada|t|Fórmula|Cálculo|erro|Intervalo|\n",
        "|:----------------:|:-:|:---:|:-----:|:--:|:-------:|\n",
        "|90%|1.711|$\\overset{-}{x} \\pm t \\frac{S_x}{\\sqrt{n}}$|$20 \\pm 1.711 \\frac{1.5}{\\sqrt{25}}$|$20 \\pm 0.513$|19.487 a 20.513|\n",
        "|95%|2.064|$\\overset{-}{x} \\pm t \\frac{S_x}{\\sqrt{n}}$|$20 \\pm 2.064 \\frac{1.5}{\\sqrt{25}}$|$20 \\pm 0.619$|19.381 a 20.619|\n",
        "|99%|2.797|$\\overset{-}{x} \\pm t \\frac{S_x}{\\sqrt{n}}$|$20 \\pm 2.797 \\frac{1.5}{\\sqrt{25}}$|$20 \\pm 0.839$|19.161 a 20.839|"
      ]
    },
    {
      "cell_type": "markdown",
      "metadata": {
        "id": "42rtYLZy2zi4"
      },
      "source": [
        "### Intervalo de confiança para a variância de uma população normal\n",
        "\n",
        "Nós também podemos querer estimar a variância ou o desvio-padrão.\n",
        "\n",
        "Se $X_1, X_2,..., X_n$ for uma V.A. de uma distribuição normal, com média μ e variância $\\sigma^2$ e seja $S^2$ a variância da amostra. Então a V.A.\n",
        "\n",
        "$X^2=\\frac{(n-1)S^2}{\\sigma^2}$\n",
        "\n",
        "tem uma distribuição qui-quadrado $(\\chi^2)$, com $n-1$ graus de liberdade."
      ]
    },
    {
      "cell_type": "code",
      "execution_count": 16,
      "metadata": {
        "colab": {
          "base_uri": "https://localhost:8080/",
          "height": 282
        },
        "id": "G0G8n0QDCbDg",
        "outputId": "2c59b1e8-aad2-490b-dcfe-de6a7d736611"
      },
      "outputs": [
        {
          "data": {
            "text/plain": [
              "[<matplotlib.lines.Line2D at 0x19bfdab3040>]"
            ]
          },
          "execution_count": 16,
          "metadata": {},
          "output_type": "execute_result"
        },
        {
          "data": {
            "image/png": "[encoded data removed]",
            "text/plain": [
              "<Figure size 432x288 with 1 Axes>"
            ]
          },
          "metadata": {
            "needs_background": "light"
          },
          "output_type": "display_data"
        }
      ],
      "source": [
        "from scipy.stats import chi2\n",
        "x = np.linspace(0, 25,1000)\n",
        "plt.plot(x, chi2.pdf(x,df=2))\n",
        "plt.plot(x, chi2.pdf(x,df=5))\n",
        "plt.plot(x, chi2.pdf(x,df=10))"
      ]
    },
    {
      "cell_type": "markdown",
      "metadata": {
        "id": "uzPQmC027M_W"
      },
      "source": [
        "* A variável é não-negativa;\n",
        "* A distribuição de probabilidades é deslocada para direita;\n",
        "* À medida que k aumenta, a distribuição se torna mais simétrica;\n",
        "* $k \\rightarrow ∞$, a forma limite da distribuição é a normal."
      ]
    },
    {
      "cell_type": "markdown",
      "metadata": {
        "id": "Eap6em1q9SEm"
      },
      "source": [
        "Queremos construir um intervalo com $100(1-\\alpha)\\%$ de confiança e $n-1$ graus de liberdade.\n",
        "\n",
        "$P(\\chi^2_{1-\\alpha/2n-1} \\le X^2 \\le \\chi^2_{\\alpha/2n-1}) = 1-\\alpha$\n",
        "\n",
        "Como $X^2=\\frac{(n-1)S^2}{\\sigma^2}$\n",
        "\n",
        "Podemos dizer que:\n",
        "\n",
        "$P(\\chi^2_{1-\\alpha/2n-1} \\le \\frac{(n-1)S^2}{\\sigma^2} \\le \\chi^2_{\\alpha/2n-1}) = 1-\\alpha$\n",
        "\n",
        "Que podemos rearranjar da seguinte forma:\n",
        "\n",
        "$P(\\frac{(n-1)S^2}{\\chi^2_{\\alpha/2n-1}} \\le \\sigma^2 \\le \\frac{(n-1)S^2}{\\chi^2_{1-\\alpha/2n-1}}) = 1-\\alpha$\n",
        "\n",
        "Assim, esse será um **intervalo de confiança de 100(1-α)%** para a $\\sigma^2$."
      ]
    },
    {
      "cell_type": "code",
      "execution_count": 17,
      "metadata": {
        "colab": {
          "base_uri": "https://localhost:8080/"
        },
        "id": "R4eWvYioAfPT",
        "outputId": "95160ee3-99b9-43b7-9270-682c6a6223df"
      },
      "outputs": [
        {
          "data": {
            "text/plain": [
              "(8.921816481987973, 32.8676268617297)"
            ]
          },
          "execution_count": 17,
          "metadata": {},
          "output_type": "execute_result"
        }
      ],
      "source": [
        "chi2.interval(0.95,19,0.0153)"
      ]
    },
    {
      "cell_type": "code",
      "execution_count": null,
      "metadata": {
        "id": "MMlywGhCA4PE"
      },
      "outputs": [],
      "source": []
    }
  ],
  "metadata": {
    "colab": {
      "collapsed_sections": [],
      "provenance": []
    },
    "kernelspec": {
      "display_name": "Python 3.9.12 ('base')",
      "language": "python",
      "name": "python3"
    },
    "language_info": {
      "codemirror_mode": {
        "name": "ipython",
        "version": 3
      },
      "file_extension": ".py",
      "mimetype": "text/x-python",
      "name": "python",
      "nbconvert_exporter": "python",
      "pygments_lexer": "ipython3",
      "version": "3.9.12"
    },
    "vscode": {
      "interpreter": {
        "hash": "f18310f7eb04fcdecd41dd2753e42e607afadcee65e6289b049db038aececc7b"
      }
    }
  },
  "nbformat": 4,
  "nbformat_minor": 0
}
