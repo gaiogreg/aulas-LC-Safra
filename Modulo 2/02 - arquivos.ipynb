{
 "cells": [
  {
   "cell_type": "markdown",
   "metadata": {},
   "source": [
    "# Arquivos\n",
    "\n",
    "Uma característica que nenhum de nossos programas teve agora é a **persistência** de dados. Sempre que nossos programas eram executados, eles precisavam que os usuários digitassem todos os dados de entrada novamente, e após exibir os dados de saída na tela, o programa era fechado e esses dados eram perdidos para sempre.\n",
    "\n",
    "A persistência se dá através de **arquivos**: estruturas abstratas para armazenar dados em uma memória permanente, como o disco rígido, um _drive_ USB ou um servidor _web_.\n",
    "\n",
    "## Arquivos em Python\n",
    "O Python possui algumas funções prontas para manipular arquivos binários puros (onde, conhecendo a estrutura interna de qualquer formato, podemos salvar qualquer tipo de arquivo) e para manipular arquivos de texto (onde os binários são decodificados como _strings_).\n",
    "\n",
    "Focaremos no básico de manipulação de arquivo de texto, pois, na prática, quando formos trabalhar com arquivos mais complexos, é provável que usaremos bibliotecas específicas para lidar com eles, e elas já terão funções próprias para ler e salvar esses arquivos da maneira correta.\n",
    "\n",
    "### Abrindo e fechando arquivos\n",
    "Podemos criar arquivos novos ou abrir arquivos já existentes utilizando a função _open_. Ela possui 2 argumentos: uma com o caminho do arquivo e outra com o modo de operação.\n",
    "\n",
    "| Modo   | Símbolo | Descrição                                                                                                                             |\n",
    "|--------|---------|---------------------------------------------------------------------------------------------------------------------------------------|\n",
    "| _read_   | r       | lê um arquivo existente                                                                                                               |\n",
    "| _write_  | w       | cria um novo arquivo                                                                                                                  |\n",
    "| _append_ | a       | abre um arquivo existente para adicionar informações ao seu final                                                                     |\n",
    "| _update_ | +       | ao ser combinado com outros modos, permite alteração de arquivo já existente (ex: r+ abre um arquivo existente e permite modificá-lo) |\n",
    "\n",
    "Após abrirmos (ou criarmos) um arquivo, podemos realizar diversas operações. Ao final de todas elas, devemos **fechar** o nosso arquivo usando a função _close_. Essa etapa é importante por 2 motivos:\n",
    "* 1. Se alteramos o arquivo mas não o fechamos, as alterações não serão salvas.\n",
    "* 2. Se esquecermos de fechar um arquivo, outros programas podem ter problemas de acesso a ele.\n",
    "\n",
    "A função _open_ retorna alguns dados que devem ser salvos em uma variável que será responsável por guardar alguns dados de acesso ao arquivo, para uso interno do Python.\n",
    "\n",
    "### Escrevendo arquivos\n",
    "Para entender melhor o _open_ e o _close_, façamos um programinha que escreve algo em um arquivo. Além das duas funções que já vimos, também utilizaremos a função _write_, que escreve um texto em um arquivo. É quase como um _print_ mais simples, mas ele aceita apenas uma _string_."
   ]
  },
  {
   "cell_type": "code",
   "execution_count": null,
   "metadata": {},
   "outputs": [],
   "source": [
    "arquivo = open('ola.txt', 'w') # cria um arquivo ola.txt\n",
    "arquivo.write('Olá mundo!') # escreve \"Olá mundo\" no arquivo\n",
    "arquivo.close() # fecha e salva o arquivo"
   ]
  },
  {
   "cell_type": "markdown",
   "metadata": {},
   "source": [
    "Após executar a célula acima, abra a pasta onde seu _notebook_ está salvo. Note que apareceu um ```ola.txt``` lá. Abra-o e verifique seu conteúdo.\n",
    "\n",
    "### Lendo arquivos\n",
    "Para ler um arquivo existente, não basta usar o _open_ para abri-lo. É necessário carregar seu conteúdo para uma _string_, de modo que possamos trabalhar com o texto da mesma forma que sempre trabalhamos. A função _read_ faz o oposto da _write_: ela retorna o texto existente no arquivo.\n",
    "\n",
    "Rode a célula abaixo."
   ]
  },
  {
   "cell_type": "code",
   "execution_count": null,
   "metadata": {},
   "outputs": [],
   "source": [
    "arquivo = open('ola.txt', 'r')\n",
    "conteudo = arquivo.read()\n",
    "print(conteudo)\n",
    "arquivo.close()"
   ]
  },
  {
   "cell_type": "markdown",
   "metadata": {},
   "source": [
    "## Gerenciador de contexto\n",
    "\n",
    "Uma forma alternativa e \"mais segura\" de trabalhar com arquivos é utilizando um _gerenciador de contextos_. O gerenciador de contextos é, de maneira resumida, um pequeno bloco de código que realiza algumas tarefas e tratamentos de erro de maneira automatizada para nós. \n",
    "\n",
    "Com ele não precisamos nos preocupar em fechar o arquivo ao final da manipulação, pois ele irá fechar automaticamente para nós ao final do bloco. "
   ]
  },
  {
   "cell_type": "code",
   "execution_count": null,
   "metadata": {},
   "outputs": [],
   "source": [
    "with open('ola.txt', 'r') as arquivo:\n",
    "    conteudo = arquivo.read()\n",
    "    print(conteudo.title())\n",
    "\n",
    "# note que a linha abaixo dará erro:\n",
    "conteudo2 = arquivo.read()\n",
    "\n",
    "# o erro é:\n",
    "#ValueError: I/O operation on closed file."
   ]
  },
  {
   "cell_type": "markdown",
   "metadata": {},
   "source": [
    "No restante dos exemplos seguiremos utilizando a primeira forma que aprendemos para reforçar que, por dentro, há sempre uma abertura e um fechamento de arquivo. Mas sinta-se livre para utilizar a nova forma sempre que quiser!"
   ]
  },
  {
   "cell_type": "markdown",
   "metadata": {},
   "source": [
    "# Exercícios - parte 1\n",
    "\n",
    "Use o conteúdo ensinado até o momento para realizar os exercícios abaixo. \n",
    "\n",
    "Para os exercícios envolvendo números, você pode utilizar o arquivo ```numeros.txt``` fornecido junto deste _notebook_ para testá-los.\n",
    "\n",
    "-----\n",
    "\n",
    "Escreva um programa que lê um arquivo de texto contendo uma série de números separados por quebra de linha ('\\n') e os adiciona a uma lista. Imprima a lista na tela."
   ]
  },
  {
   "cell_type": "code",
   "execution_count": 10,
   "metadata": {},
   "outputs": [
    {
     "name": "stdout",
     "output_type": "stream",
     "text": [
      "['10', '64', '95', '92', '96', '16', '47', '21', '50', '74', '78', '29', '23', '81', '24', '92', '72', '18', '6', '75', '69', '82', '37', '63', '26', '43', '80', '4', '2', '20']\n"
     ]
    }
   ],
   "source": [
    "arquivo = open('numeros.txt', \"r\")\n",
    "conteudo = arquivo.read()\n",
    "lista_num = conteudo.split('\\n')\n",
    "arquivo.close()\n",
    "\n",
    "print(lista_num)"
   ]
  },
  {
   "cell_type": "markdown",
   "metadata": {},
   "source": [
    "Escreva um programa que lê um arquivo de texto contendo uma série de números separados por quebra de linha (```\\n```) e escreva na tela o somatório dos números."
   ]
  },
  {
   "cell_type": "code",
   "execution_count": 9,
   "metadata": {},
   "outputs": [
    {
     "data": {
      "text/plain": [
       "1489"
      ]
     },
     "execution_count": 9,
     "metadata": {},
     "output_type": "execute_result"
    }
   ],
   "source": [
    "arquivo = open('numeros.txt', \"r\")\n",
    "conteudo = arquivo.read()\n",
    "lista_num = conteudo.split('\\n')\n",
    "arquivo.close()\n",
    "\n",
    "somatorio = 0\n",
    "\n",
    "for i in range(len(lista_num)):\n",
    "    somatorio += int(lista_num[i])\n",
    "\n",
    "somatorio"
   ]
  },
  {
   "cell_type": "markdown",
   "metadata": {},
   "source": [
    "Escreva um programa que lê um arquivo de texto contendo uma série de números separados por quebra de linha (```\\n```). Crie um novo arquivo onde você irá escrever \"primo\" ou \"não-primo\" na linha correspondente a cada número.\n",
    "\n",
    "Lembrete: um número primo é divisível apenas por 1 e por ele mesmo."
   ]
  },
  {
   "cell_type": "code",
   "execution_count": 49,
   "metadata": {},
   "outputs": [],
   "source": [
    "arquivo = open('numeros.txt', \"r\")\n",
    "conteudo = arquivo.read()\n",
    "lista_num = conteudo.split('\\n')\n",
    "arquivo.close()\n",
    "\n",
    "str_primos = ''\n",
    "\n",
    "for i in range(len(lista_num)):\n",
    "    for divisor in range(int(int(lista_num[i])/2),0,-1):\n",
    "        if int(lista_num[i]) % divisor == 0 and divisor != 1:\n",
    "            str_primos += f'{lista_num[i]} nao e primo\\n'\n",
    "            break\n",
    "    else:\n",
    "        str_primos += f'{lista_num[i]} e primo\\n' \n",
    "        \n",
    "arquivo = open('dicionario_primos.txt', 'w')\n",
    "\n",
    "arquivo.write(str_primos)\n",
    "arquivo.close()"
   ]
  },
  {
   "cell_type": "code",
   "execution_count": 27,
   "metadata": {},
   "outputs": [],
   "source": [
    "arquivo = open('numeros.txt', \"r\")\n",
    "conteudo = arquivo.read()\n",
    "lista_num = conteudo.split('\\n')\n",
    "arquivo.close()\n",
    "\n",
    "dicionario_primos = {}\n",
    "\n",
    "for i in range(len(lista_num)):\n",
    "    for divisor in range(int(int(lista_num[i])/2),0,-1):\n",
    "        if int(lista_num[i]) % divisor == 0 and divisor != 1:\n",
    "            dicionario_primos[lista_num[i]] = 'não é primo'\n",
    "            break\n",
    "    else:\n",
    "        dicionario_primos[lista_num[i]] = 'é primo'\n",
    "            "
   ]
  },
  {
   "cell_type": "code",
   "execution_count": null,
   "metadata": {},
   "outputs": [],
   "source": [
    "arquivo = open('numeros.txt', \"r\")\n",
    "conteudo = arquivo.read()\n",
    "lista_num = conteudo.split('\\n')\n",
    "arquivo.close()\n",
    "\n",
    "tuplas_primos = []\n",
    "\n",
    "for i in range(len(lista_num)):\n",
    "    for divisor in range(int(int(lista_num[i])/2),0,-1):\n",
    "        if int(lista_num[i]) % divisor == 0 and divisor != 1:\n",
    "            tuplas_primos.append((lista_num[i],'não é primo'))\n",
    "            break\n",
    "    else:\n",
    "        tuplas_primos.append((lista_num[i],'é primo'))"
   ]
  },
  {
   "cell_type": "markdown",
   "metadata": {},
   "source": [
    "Faça um programa que abre o arquivo ```domcasmurro.txt``` e monta um **histograma** das palavras do livro - ou seja, uma contagem de frequência. Use um dicionário para isso. \n",
    "\n",
    "Ex: para a string 'eu não programo em Java, mas programo em Python', o dicionário ficaria:\n",
    "\n",
    "```python\n",
    "{\n",
    "    'eu': 1,\n",
    "    'não': 1,\n",
    "    'programo': 2,\n",
    "    'em': 2,\n",
    "    'mas': 1,\n",
    "    'Python': 1\n",
    "}\n",
    "```\n",
    "\n",
    "**Importante:** para que seu histograma seja confiável, você precisará \"limpar\" o texto original: diferenças entre maiúsculas e minúsculas devem ser eliminadas, e caracteres como sinais de pontuação e aspas devem ser removidos.\n",
    "\n",
    "**Importante²:** o parâmetro opcional ```encoding='utf-8'``` irá garantir que o arquivo deste exercício será interpretado corretamente pelo Python."
   ]
  },
  {
   "cell_type": "code",
   "execution_count": 1,
   "metadata": {},
   "outputs": [],
   "source": [
    "arquivo = open('domcasmurro.txt', 'r', encoding='utf8')\n",
    "\n",
    "conteudo = arquivo.read().lower()\n",
    "conteudo = conteudo.split()\n",
    "arquivo.close()\n",
    "\n",
    "for i in range(len(conteudo)):\n",
    "    for caracter in conteudo[i]:\n",
    "        if caracter.isalpha() or caracter.isdigit():\n",
    "            pass\n",
    "        else:\n",
    "            conteudo[i] = str(conteudo[i])\n",
    "            conteudo[i].replace(caracter, ' ')\n",
    "            # conteudo[i] = ''.join(conteudo[i])\n",
    "            conteudo[i] = conteudo[i].split()\n",
    "            \n",
    "            while len(conteudo[i]) > 0:\n",
    "                conteudo += conteudo[i].pop()\n",
    "                # if type(conteudo[i]) == list:\n",
    "                #     conteudo.remove(conteudo[i])\n",
    "\n",
    "dicionario_palavras = {}\n",
    "\n",
    "for item in conteudo:\n",
    "    if type(item) != list:\n",
    "        if item not in dicionario_palavras:\n",
    "            dicionario_palavras.update({item: 1})\n",
    "        else:\n",
    "            dicionario_palavras[item] += 1\n",
    "\n"
   ]
  },
  {
   "cell_type": "code",
   "execution_count": 2,
   "metadata": {},
   "outputs": [
    {
     "name": "stdout",
     "output_type": "stream",
     "text": [
      "{'dom': 9, 'casmurro': 9, 'por': 341, 'machado': 1, 'de': 1954, 'assis': 1, 'da': 626, 'academia': 1, 'brazileira': 1, 'h': 1, 'garnier': 1, 'livreiro-editor': 1, 'rua': 81, 'moreira': 1, 'cezar': 1, '71': 1, 'rio': 9, 'janeiro': 7, '6': 2, 'rue': 1, 'des': 3, 'saints-pères': 1, 'pariz': 1, 'i': 1, 'do': 617, 'titulo': 14, 'uma': 435, 'noite': 42, 'destas': 5, 'vindo': 9, 'cidade': 12, 'para': 542, 'o': 1685, 'engenho': 9, 'novo': 17, 'encontrei': 2, 'no': 339, 'trem': 6, 'central': 3, 'um': 770, 'rapaz': 10, 'aqui': 87, 'bairro': 4, 'que': 2657, 'eu': 531, 'conheço': 2, 'vista': 17, 'e': 2175, 'chapéo': 4, 'comprimentou-me': 1, 'sentou-se': 2, 'ao': 369, 'pé': 50, 'mim': 162, 'falou': 17, 'lua': 5, 'dos': 199, 'ministros': 1, 'acabou': 28, 'recitando-me': 1, 'versos': 17, 'a': 2486, 'viagem': 13, 'era': 552, 'curta': 8, 'os': 665, 'póde': 78, 'ser': 167, 'não': 1522, 'fossem': 9, 'inteiramente': 17, 'maus': 1, 'succedeu': 6, 'porém': 19, 'como': 371, 'estava': 89, 'cançado': 4, 'fechei': 3, 'olhos': 164, 'tres': 32, 'ou': 274, 'quatro': 17, 'vezes': 37, 'tanto': 67, 'bastou': 2, 'elle': 239, 'interrompesse': 2, 'leitura': 3, 'mettesse': 3, 'bolso': 9, 'continue': 2, 'disse': 119, 'accordando': 1, 'já': 162, 'acabei': 7, 'murmurou': 5, 'são': 70, 'muito': 151, 'bonitos': 3, 'vi-lhe': 3, 'fazer': 42, 'gesto': 45, 'tiral-os': 1, 'outra': 138, 'vez': 148, 'mas': 606, 'passou': 16, 'amuado': 2, 'dia': 108, 'seguinte': 20, 'entrou': 20, 'dizer': 87, 'nomes': 11, 'feios': 3, 'alcunhando-me': 1, 'visinhos': 3, 'gostam': 1, 'meus': 60, 'habitos': 2, 'reclusos': 1, 'calados': 3, 'deram': 5, 'curso': 2, 'á': 262, 'alcunha': 2, 'afinal': 18, 'pegou': 8, 'nem': 242, 'isso': 59, 'me': 489, 'zanguei': 1, 'contei': 12, 'anecdota': 3, 'aos': 88, 'amigos': 21, 'elles': 46, 'graça': 28, 'chamam-me': 1, 'assim': 157, 'alguns': 64, 'em': 463, 'bilhetes': 3, 'domingo': 17, 'vou': 30, 'jantar': 19, 'com': 536, 'vocêvou': 1, 'petropolis': 2, 'casa': 169, 'é': 705, 'mesma': 55, 'rhenania': 1, 'vê': 7, 'se': 567, 'deixas': 1, 'essa': 20, 'caverna': 1, 'vae': 44, 'lá': 58, 'passar': 15, 'uns': 31, 'quinze': 14, 'dias': 191, 'commigomeu': 1, 'caro': 5, 'cuide': 1, 'dispenso': 1, 'theatro': 16, 'amanhã': 21, 'venha': 6, 'dormirá': 1, 'na': 329, 'dou-lhe': 3, 'camarote': 2, 'chá': 6, 'cama': 23, 'só': 173, 'lhe': 234, 'dou': 7, 'moça': 25, 'consultes': 1, 'diccionarios': 2, 'está': 68, 'sentido': 20, 'dão': 9, 'poz': 5, 'vulgo': 1, 'homem': 67, 'calado': 8, 'mettido': 3, 'comsigo': 11, 'veiu': 37, 'ironia': 2, 'attribuir-me': 1, 'fumos': 1, 'fidalgo': 1, 'tudo': 186, 'estar': 30, 'cochilando': 2, 'tambem': 189, 'achei': 30, 'melhor': 83, 'minha': 342, 'narração': 7, 'tiver': 5, 'outro': 106, \"d'aqui\": 2, 'até': 102, 'fim': 50, 'livro': 30, 'este': 87, 'mesmo': 119, 'meu': 167, 'poeta': 12, 'ficará': 2, 'sabendo': 6, 'guardo': 1, 'rancor': 1, 'pequeno': 21, 'esforço': 4, 'sendo': 15, 'seu': 46, 'poderá': 7, 'cuidar': 5, 'obra': 12, 'sua': 55, 'ha': 152, 'livros': 27, 'apenas': 25, 'terão': 4, 'seus': 58, 'autores': 1, 'ii': 3, 'agora': 146, 'expliquei': 4, 'passo': 18, 'escrever': 18, 'antes': 87, 'disso': 11, 'digamos': 4, 'motivos': 6, 'põem': 1, 'penna': 8, 'mão': 62, 'vivo': 8, 'creado': 2, 'moro': 1, 'propria': 14, 'fil-a': 1, 'construir': 2, 'proposito': 12, 'levado': 2, 'desejo': 18, 'tão': 120, 'particular': 20, 'vexa': 1, 'imprimil-o': 3, 'vá': 21, 'bastantes': 1, 'annos': 70, 'lembrou-me': 11, 'reproduzir': 1, 'criei': 2, 'antiga': 15, 'matacavallos': 23, 'dando-lhe': 2, 'aspecto': 6, 'economia': 2, 'daquella': 19, 'desappareceu': 5, 'constructor': 1, 'pintor': 1, 'entenderam': 2, 'bem': 90, 'as': 533, 'indicações': 1, 'lhes': 7, 'fiz': 23, 'predio': 1, 'assobradado': 1, 'janellas': 9, 'frente': 4, 'varanda': 8, 'fundo': 11, 'mesmas': 9, 'alcovas': 1, 'salas': 1, 'principal': 12, 'pintura': 5, 'tecto': 4, 'das': 144, 'paredes': 7, 'mais': 340, 'menos': 48, 'egual': 12, 'umas': 12, 'grinaldas': 1, 'flores': 4, 'miudas': 2, 'grandes': 22, 'passaros': 6, 'tomam': 2, 'nos': 97, 'bicos': 1, 'espaço': 7, 'cantos': 5, 'figuras': 4, 'estações': 1, 'centro': 3, 'medalhões': 1, 'cesar': 7, 'augusto': 2, 'nero': 2, 'massinissa': 3, 'baixo': 13, 'alcanço': 2, 'razão': 34, 'taes': 25, 'personagens': 3, 'quando': 190, 'fomos': 5, 'ella': 185, 'decorada': 1, 'vinha': 29, 'decennio': 1, 'anterior': 7, 'naturalmente': 39, 'gosto': 31, 'tempo': 119, 'metter': 7, 'sabor': 6, 'classico': 1, 'antigas': 8, 'pinturas': 2, 'americanas': 1, 'analogo': 2, 'parecido': 6, 'tenho': 29, 'chacarinha': 1, 'flôres': 2, 'legume': 1, 'casuarina': 2, 'poço': 9, 'lavadouro': 3, 'uso': 9, 'louça': 3, 'velha': 16, 'mobilia': 1, 'emfim': 13, \"outr'ora\": 8, 'contraste': 2, 'vida': 85, 'interior': 8, 'pacata': 1, 'exterior': 1, 'ruidosa': 2, 'evidente': 1, 'atar': 1, 'duas': 51, 'pontas': 7, 'restaurar': 1, 'velhice': 2, 'adolescencia': 5, 'pois': 58, 'senhor': 50, 'consegui': 3, 'recompor': 1, 'foi': 223, 'fui': 53, 'rosto': 18, 'physionomia': 1, 'differente': 5, 'faltassem': 1, 'outros': 74, 'consola-se': 1, 'pessoas': 35, 'perde': 5, 'falto': 1, 'esta': 95, 'lacuna': 2, 'mal': 81, 'comparando': 1, 'semelhante': 1, 'põe': 2, 'barba': 1, 'cabellos': 20, 'conserva': 1, 'habito': 1, 'externo': 3, 'diz': 6, 'nas': 38, 'autopsias': 1, 'interno': 4, 'aguenta': 2, 'tinta': 3, 'certidão': 1, 'desse': 1, 'vinte': 17, 'edade': 20, 'poderia': 10, 'enganar': 3, 'extranhos': 2, 'todos': 72, 'documentos': 2, 'falsos': 1, 'restam': 1, 'data': 2, 'recente': 5, 'antigos': 5, 'foram': 25, 'estudar': 7, 'geologia': 1, 'campos': 1, 'santos': 9, 'quanto': 24, 'ás': 74, 'amigas': 5, 'algumas': 37, 'datam': 1, 'outras': 53, 'quasi': 35, 'todas': 57, 'creem': 1, 'mocidade': 9, 'fariam': 3, 'crer': 16, 'nella': 15, 'lingua': 16, 'falam': 2, 'obriga': 2, 'muita': 30, 'consultar': 4, 'tal': 75, 'frequencia': 1, 'cançativa': 1, 'entretanto': 14, 'quer': 31, 'peor': 6, 'cousa': 96, 'certos': 3, 'respeitos': 1, 'aquella': 35, 'apparece-me': 1, 'despida': 1, 'muitos': 19, 'encantos': 1, 'exacto': 5, 'perdeu': 5, 'espinho': 1, 'fez': 54, 'molesta': 1, 'memoria': 21, 'conservo': 1, 'alguma': 72, 'recordação': 4, 'doce': 19, 'feiticeira': 1, 'verdade': 72, 'pouco': 75, 'appareco': 1, 'falo': 3, 'distracções': 2, 'raras': 2, 'gasto': 1, 'hortar': 1, 'jardinar': 1, 'ler': 14, 'durmo': 1, 'ora': 33, 'cança': 1, 'monotonia': 2, 'exhaurir-me': 1, 'quiz': 61, 'variar': 2, 'jurisprudencia': 1, 'philosophia': 1, 'politica': 7, 'acudiram-me': 1, 'acudiram': 5, 'forças': 5, 'necessarias': 1, 'depois': 150, 'pensei': 21, 'historia': 19, 'suburbios': 2, 'secca': 3, 'memorias': 5, 'padre': 111, 'luiz': 2, 'gonçalves': 1, 'relativas': 1, 'modesta': 3, 'exigia': 1, 'datas': 4, 'preliminares': 1, 'arido': 1, 'longo': 4, 'então': 101, 'bustos': 1, 'pintados': 1, 'entraram': 3, 'falar-me': 5, 'dizer-me': 5, 'alcançavam': 2, 'reconstituir-me': 1, 'tempos': 5, 'idos': 1, 'pegasse': 3, 'contasse': 3, 'talvez': 33, 'désse': 4, 'illusão': 8, 'sombras': 3, 'viessem': 3, 'perpassar': 1, 'ligeiras': 1, 'fausto': 1, 'ahi': 19, 'vindes': 1, 'inquietas': 1, 'fiquei': 32, 'alegre': 7, 'ideia': 77, 'ainda': 140, 'treme': 1, 'sim': 64, 'tu': 24, 'grande': 66, 'incitas': 1, 'commentarios': 1, 'agradeço-vos': 1, 'conselho': 8, 'deitar': 4, 'papel': 28, 'reminiscencias': 4, 'vierem': 1, 'deste': 22, 'modo': 30, 'viverei': 1, 'vivi': 3, 'assentarei': 1, 'maior': 23, 'tomo': 3, 'eia': 1, 'comecemos': 1, 'evocação': 1, 'celebre': 3, 'tarde': 53, 'novembro': 3, 'nunca': 44, 'esqueceu': 6, 'tive': 28, 'muitas': 15, 'melhores': 3, 'peores': 2, 'apagou': 4, 'espirito': 9, 'vás': 4, 'entender': 8, 'lendo': 5, 'iii': 1, 'denuncia': 8, 'ia': 89, 'entrar': 32, 'sala': 41, 'visitas': 16, 'ouvi': 38, 'proferir': 1, 'nome': 20, 'escondi-me': 1, 'atraz': 15, 'porta': 53, 'mez': 6, 'anno': 29, 'remoto': 2, 'hei': 14, 'trocar': 2, 'agradar': 2, 'amam': 2, 'historias': 3, 'velhas': 12, '1857': 2, 'd': 42, 'gloria': 57, 'senhora': 37, 'persiste': 1, 'nosso': 37, 'bentinho': 56, 'seminario': 85, 'haver': 21, 'difficuldade': 9, 'mãe': 227, 'saber': 43, 'josé': 160, 'instantes': 20, 'concentrarão': 1, 'ver': 74, 'havia': 36, 'alguem': 18, 'corredor': 20, 'deu': 36, 'voltou': 6, 'abafando': 1, 'voz': 42, 'gente': 39, 'padua': 42, 'algum': 56, 'estou': 27, 'isto': 91, 'atrevia': 2, 'parece': 26, 'bonito': 15, 'ande': 8, 'filha': 33, 'tartaruga': 3, 'porque': 88, 'pegam': 3, 'namoro': 6, 'terá': 2, 'lutar': 2, 'separal-os': 1, 'acho': 12, 'mettidos': 1, 'falar': 49, 'segredinhos': 4, 'sempre': 50, 'juntos': 12, 'sae': 5, 'pequena': 13, 'desmiolada': 1, 'pae': 73, 'faz': 18, 'tomara': 1, 'cousas': 27, 'corressem': 1, 'maneira': 13, 'comprehendo': 1, 'crê': 2, 'calculos': 2, 'parece-lhe': 3, 'têm': 1, 'alma': 37, 'candida': 5, 'sr': 12, 'visto': 7, 'pequenos': 7, 'brincando': 7, 'vi': 60, 'nada': 132, 'faça': 8, 'desconfiar': 2, 'basta': 14, 'tem': 66, 'capitú': 339, 'quatorze': 6, 'semana': 8, 'passada': 1, 'dous': 61, 'creançolas': 2, 'esqueça': 6, 'criados': 1, 'desde': 32, 'enchente': 1, 'dez': 15, 'familia': 21, 'tanta': 4, \"d'ahi\": 5, 'vieram': 12, 'nossas': 24, 'relações': 9, 'mano': 4, 'cosme': 54, 'você': 132, 'acha': 10, 'tio': 55, 'respondeu': 21, 'traduzido': 1, 'vulgar': 3, 'queria': 44, 'imaginações': 1, 'divertem-se': 1, 'divirto-me': 1, 'onde': 41, 'gamão': 5, 'creio': 45, 'enganado': 1, 'oxalá': 1, 'tenham': 1, 'creia': 4, 'falei': 8, 'senão': 16, 'examinar': 4, 'todo': 50, 'caso': 34, 'interrompeu': 5, 'tratar': 3, 'mettel-o': 3, 'tem-se': 2, 'ganho': 2, 'satisfazer': 2, 'desejos': 3, 'egreja': 21, 'brasileira': 1, 'altos': 2, 'destinos': 2, 'esqueçamos': 1, 'bispo': 7, 'presidiu': 1, 'constituinte': 1, 'feijó': 1, 'governou': 2, 'imperio': 4, 'cara': 34, \"d'elle\": 1, 'atalhou': 6, 'cedendo': 2, 'rancores': 1, 'politicos': 2, 'perdão': 12, 'doutor': 10, 'defendendo': 2, 'ninguem': 30, 'citando': 1, 'quero': 20, 'clero': 2, 'brasil': 1, 'capote': 2, 'buscar': 11, 'realmente': 25, 'comece': 2, 'missa': 28, 'portas': 5, 'olhe': 9, 'cá': 28, 'mana': 8, 'necessidade': 14, 'fazel-o': 11, 'promessa': 27, 'cumprir-se': 1, 'sei': 55, 'pensado': 2, 'prima': 63, 'justina': 54, 'cada': 24, 'sabe': 23, 'si': 46, 'continuou': 21, 'deus': 69, 'comtudo': 4, 'tantos': 4, 'chorando': 6, 'lagrimas': 19, 'assoou-se': 1, 'sem': 136, 'responder': 7, 'levantou': 4, 'ter': 55, 'seguiu-se': 2, 'alto': 16, 'silencio': 17, 'durante': 9, 'qual': 13, 'estive': 6, 'pique': 2, 'força': 22, 'emoção': 9, 'pude': 19, 'ouvir': 14, 'palavras': 79, 'exhortava': 1, 'desculpava-se': 1, 'soubesse': 3, 'teria': 12, 'falado': 6, 'pela': 66, 'veneração': 2, 'estima': 5, 'pelo': 48, 'affecto': 2, 'cumprir': 7, 'dever': 6, 'amargo': 2, 'amarissimo': 3, 'iv': 1, 'amava': 5, 'superlativos': 4, 'dar': 39, 'feição': 4, 'monumental': 1, 'ideias': 19, 'havendo': 8, 'servir': 8, 'prolongar': 1, 'phrases': 3, 'levantou-se': 3, 'ir': 81, 'cosi-me': 1, 'parede': 14, 'vi-o': 2, 'suas': 33, 'calças': 6, 'brancas': 1, 'engommadas': 1, 'presilhas': 4, 'rodaque': 2, 'gravata': 3, 'mola': 1, 'ultimos': 9, 'usaram': 1, 'neste': 17, 'mundo': 37, 'trazia': 28, 'curtas': 1, 'ficassem': 2, 'esticadas': 2, 'setim': 1, 'preto': 13, 'aro': 1, 'aço': 1, 'dentro': 36, 'immobilisava-lhe': 1, 'pescoço': 4, 'moda': 6, 'chita': 4, 'veste': 1, 'caseira': 1, 'leve': 6, 'parecia': 17, 'nelle': 13, 'casaca': 1, 'cerimonia': 5, 'magro': 3, 'chupado': 2, 'principio': 22, 'calva': 1, 'cincoenta': 3, 'cinco': 11, 'vagaroso': 2, 'costume': 27, 'aquelle': 21, 'vagar': 4, 'arrastado': 2, 'preguiçosos': 1, 'calculado': 1, 'deduzido': 1, 'syllogismo': 1, 'completo': 1, 'premissa': 2, 'consequencia': 4, 'conclusão': 6, 'v': 1, 'aggregado': 29, 'naquelle': 17, 'rigido': 1, 'descompunha': 1, 'accionados': 1, 'rapido': 4, 'lepido': 2, 'movimentos': 4, 'natural': 19, 'nesta': 5, 'naquella': 14, 'outrosim': 4, 'ria': 13, 'largo': 7, 'preciso': 37, 'riso': 13, 'vontade': 28, 'communicativo': 1, 'ponto': 26, 'bochechas': 1, 'dentes': 5, 'toda': 39, 'pessoa': 41, 'pareciam': 9, 'rir': 11, 'lances': 4, 'graves': 3, 'gravissimo': 3, 'fazenda': 1, 'itaguahy': 4, 'acabava': 17, 'nascer': 4, 'appareceu': 4, 'alli': 35, 'vendendo-se': 1, 'medico': 8, 'homeopatha': 2, 'levava': 11, 'manual': 1, 'botica': 1, 'andaço': 1, 'febres': 5, 'curou': 3, 'feitor': 1, 'escrava': 2, 'receber': 5, 'nenhuma': 23, 'remuneração': 1, 'propoz-lhe': 1, 'ficar': 25, 'vivendo': 1, 'ordenado': 4, 'recusou': 3, 'dizendo': 21, 'justo': 3, 'levar': 6, 'saude': 9, 'sapé': 1, 'pobre': 15, 'quem': 53, 'impede': 4, 'partes': 6, 'aonde': 2, 'quizer': 13, 'fique': 4, 'morando': 2, 'comnosco': 13, 'voltarei': 1, 'daqui': 17, 'mezes': 26, 'dalli': 9, 'semanas': 6, 'acceitou': 3, 'comida': 1, 'estipendio': 1, 'salvo': 5, 'quizessem': 3, 'festas': 5, 'eleito': 1, 'deputado': 2, 'teve': 16, 'quarto': 20, 'chacara': 8, 'reinando': 1, 'disse-lhe': 20, 'fosse': 83, 'nossa': 58, 'escravatura': 1, 'deixou-se': 6, 'suspirou': 10, 'confessando': 2, 'tomára': 2, 'ajudar': 2, 'propaganda': 1, 'nova': 25, 'escola': 12, 'consciencia': 7, 'permittia': 3, 'acceitar': 3, 'doentes': 2, 'acertado': 1, 'remedios': 2, 'indicados': 1, 'abaixo': 5, 'charlatão': 1, 'negue': 1, 'procedimento': 1, 'podiam': 14, 'eram': 105, 'dignos': 1, 'homeopathia': 2, 'menti': 1, 'restabelecer': 1, 'despedido': 1, 'pedia': 7, 'podia': 72, 'dispensal-o': 1, 'tinha': 123, 'acceito': 5, 'necessario': 3, 'dava-se': 1, 'falta': 12, 'delle': 41, 'morreu': 18, 'dôr': 5, 'pungiu': 1, 'enorme': 3, 'disseram-me': 1, 'lembra': 22, 'ficou-lhe': 1, 'grata': 1, 'consentiu': 9, 'deixasse': 6, 'setimo': 1, 'despedir-se': 4, 'della': 82, 'obedeço': 1, 'legado': 3, 'testamento': 3, 'apolice': 2, 'louvor': 3, 'copiou': 1, 'encaixilhou-as': 1, 'pendurou-as': 1, 'cima': 18, 'dizia': 26, 'adquiriu': 1, 'certa': 13, 'autoridade': 4, 'audiencia': 5, 'abusava': 1, 'sabia': 27, 'opinar': 3, 'obedecendo': 1, 'cabo': 11, 'amigo': 43, 'direi': 5, 'optimo': 2, 'supponhas': 1, 'subalterna': 1, 'cortezias': 1, 'fizesse': 13, 'vinham': 12, 'calculo': 3, 'indole': 1, 'roupa': 5, 'durava-lhe': 1, 'contrario': 25, 'enxovalham': 1, 'depressa': 42, 'vestido': 9, 'velho': 36, 'escovado': 1, 'liso': 1, 'cirzido': 1, 'abotoado': 1, 'elegancia': 1, 'lido': 5, 'posto': 23, 'atropello': 3, 'bastante': 5, 'divertir': 1, 'serão': 3, 'sobremesa': 1, 'explicar': 7, 'phenomeno': 4, 'effeitos': 1, 'calor': 10, 'frio': 5, 'polos': 1, 'robespierre': 1, 'contava': 18, 'fizera': 10, 'europa': 22, 'confessava': 2, 'sermos': 2, 'nós': 45, 'voltado': 3, 'lisboa': 1, 'acima': 2, 'perguntou-lhe': 6, 'repetiu': 4, 'cheio': 11, 'religiosa': 1, 'gostou': 6, 'punha': 1, 'devido': 1, 'logar': 15, 'sorriu': 16, 'approvando': 1, 'agradeceu': 4, 'cabeça': 62, 'dava-lhe': 4, 'cobres': 1, 'advogado': 6, 'confiava-lhe': 1, 'copia': 3, 'papeis': 10, 'autos': 6, 'vivia': 20, 'enviuvou': 4, 'viuvo': 2, 'viuvos': 1, 'fortuna': 4, 'troca': 5, 'mãos': 38, 'natureza': 10, 'formado': 1, 'serenas': 2, 'funccões': 1, 'capitalismo': 1, 'enriquecia': 1, 'fòro': 3, 'comendo': 2, 'escriptorio': 3, 'violas': 1, 'perto': 20, 'jury': 1, 'extincto': 2, 'aljube': 2, 'trabalhava': 3, 'crime': 2, 'perdia': 3, 'defesas': 1, 'oraes': 1, 'vestia': 4, 'despia': 1, 'toga': 1, 'comprimentos': 1, 'referia': 1, 'debates': 1, 'modesto': 1, 'quizesse': 14, 'sorria': 3, 'persuasão': 4, 'gordo': 2, 'pesado': 1, 'respiração': 2, 'dorminhocos': 1, 'minhas': 29, 'recordações': 5, 'vel-o': 9, 'montar': 3, 'manhãs': 7, 'besta': 5, 'ido': 6, 'cocheira': 2, 'segurava': 1, 'freio': 1, 'emquanto': 16, 'erguia': 4, 'pousava': 1, 'estribo': 1, 'seguia-se': 1, 'minuto': 5, 'descanço': 2, 'reflexão': 13, 'dava': 21, 'impulso': 5, 'primeiro': 49, 'corpo': 10, 'ameaçava': 1, 'subir': 5, 'subia': 3, 'segundo': 20, 'effeito': 19, 'após': 9, 'largos': 2, 'enfeixava': 1, 'physicas': 2, 'moraes': 4, 'ultimo': 15, 'surto': 1, 'terra': 18, 'desta': 17, 'caía': 2, 'selim': 1, 'raramente': 1, 'deixava': 5, 'mostrar': 9, 'accommodava': 1, 'carnes': 3, 'partia': 2, 'trote': 1, 'nascido': 5, 'roça': 9, '(donde': 1, 'vim': 15, 'annos)': 2, 'apezar': 5, 'costumes': 10, 'medo': 23, 'cavallo': 12, 'escanchou-me': 1, '(tinha': 1, 'nove': 6, 'sósinho': 5, 'desamparado': 1, 'chão': 17, 'embaixo': 5, 'entrei': 16, 'gritar': 1, 'desesperadamente': 2, 'mamãe': 56, 'acudiu': 10, 'pallida': 3, 'tremula': 2, 'cuidou': 2, 'estivessem': 2, 'matando': 1, 'apeou-me': 1, 'affagou-me': 1, 'irmão': 3, 'perguntava': 8, 'tamanhão': 1, 'destes': 5, 'mansa': 1, 'acostumado': 3, 'deve': 5, 'acostumar-se': 1, 'seja': 31, 'fôr': 5, 'vigario': 5, 'monte': 2, 'florear': 1, 'rapazes': 9, 'souber': 1, 'queixar-se': 1, 'queixe': 1, 'apprender': 7, 'equitação': 1, 'vergonha': 3, 'namorar': 3, 'devéras': 13, 'disseram': 3, 'comecei': 9, 'licções': 5, 'diria': 11, 'namoros': 1, 'contam': 1, 'damas': 2, 'além': 8, 'partidario': 1, 'exaltado': 1, 'levaram-lhe': 1, 'ardor': 2, 'politico': 3, 'sexual': 2, 'gordura': 1, 'resto': 43, 'publicas': 1, 'especificas': 1, 'cumpria': 6, 'obrigações': 2, 'officio': 10, 'amor': 20, 'horas': 24, 'lazer': 3, 'olhando': 12, 'jogava': 2, 'pilherias': 1, 'vii': 1, 'boa': 27, 'creatura': 10, 'marido': 18, 'pedro': 8, 'albuquerque': 1, 'santiago': 9, 'trinta': 4, 'voltar': 9, 'preferiu': 1, 'fòra': 2, 'sepultado': 1, 'vendeu': 1, 'fazendola': 1, 'escravos': 4, 'comprou': 2, 'pôz': 2, 'alugou': 1, 'duzia': 3, 'predios': 1, 'certo': 35, 'numero': 14, 'apolices': 1, 'vivera': 1, 'casada': 6, 'mineira': 2, 'descendente': 1, 'paulista': 1, 'fernandes': 2, 'maria': 3, 'quarenta': 7, 'bonita': 15, 'teimava': 4, 'esconder': 2, 'saldos': 1, 'juventude': 2, 'preserval-a': 1, 'acção': 9, 'mettida': 3, 'eterno': 3, 'escuro': 4, 'adornos': 1, 'chale': 1, 'dobrado': 2, 'triangulo': 1, 'abrochado': 1, 'peito': 10, 'camafeu': 1, 'bandós': 1, 'apanhados': 2, 'sobre': 36, 'nuca': 2, 'pente': 4, 'touca': 2, 'branca': 1, 'fólhos': 1, 'lidava': 1, 'sapatos': 8, 'cordavão': 1, 'rasos': 4, 'surdos': 2, 'lado': 27, 'vendo': 4, 'guiando': 1, 'serviços': 4, 'inteira': 6, 'manhã': 25, 'retrato': 18, 'quaes': 12, 'escureceu': 1, 'dá': 12, 'ambos': 17, 'vagamente': 3, 'usava': 7, 'cabelleira': 1, 'mostra': 3, 'redondos': 1, 'acompanham': 1, 'lados': 6, 'assombrava': 1, 'preta': 2, 'voltas': 6, 'rapada': 2, 'trechosinho': 1, 'pegado': 2, 'orelhas': 4, 'linda': 1, 'flôr': 5, 'entre': 49, 'dedos': 13, 'painel': 1, 'offerecer': 1, 'lè': 1, 'felicidade': 16, 'conjugal': 1, 'comparada': 1, 'sorte': 5, 'tiraram': 2, 'bilhete': 6, 'comprado': 2, 'sociedade': 2, 'concluo': 3, 'devem': 6, 'abolir': 1, 'loterias': 1, 'nenhum': 21, 'premiado': 1, 'accusou': 1, 'immoraes': 1, 'tachou': 1, 'má': 7, 'boceta': 3, 'pandora': 2, 'tirado': 1, 'esperança': 9, 'parte': 34, 'casados': 3, 'bem-amados': 1, 'bem-aventurados': 1, 'continuar': 1, 'sonho': 12, 'provavelmente': 13, 'loteria': 7, 'aborrecem': 1, 'ergo': 1, 'esqueço': 1, 'brancos': 3, 'fatidica': 1, 'retratos': 4, 'valem': 6, 'originaes': 1, 'estendendo': 2, 'sou': 17, 'guapo': 1, 'cavalheiro': 2, 'commentario': 1, 'vejam': 1, 'padeceram': 1, 'molestias': 4, 'tiveram': 5, 'desgostos': 1, 'creança': 13, 'morte': 33, 'lembra-me': 9, 'chorou': 5, 'estão': 10, 'encardido': 2, 'tirasse': 4, 'primeira': 41, 'expressão': 5, 'photographias': 1, 'instantaneas': 1, 'viii': 1, 'tomar': 8, 'áquella': 1, 'clara': 9, 'fresca': 4, 'socegada': 2, 'trecho': 6, 'moravamos': 1, 'verdadeiramente': 3, 'succedera': 1, 'pintar': 1, 'vestir': 1, 'tinham': 13, 'scena': 2, 'accender': 6, 'luzes': 2, 'preparo': 1, 'rabecas': 1, 'symphonia': 1, 'começar': 2, 'opera': 14, 'dizia-me': 6, 'tenor': 7, 'italiano': 5, 'viveu': 4, 'explicou-me': 1, 'definição': 6, 'valha': 1, 'pena': 9, 'dal-a': 2, 'capitulo': 40, 'ix': 4, 'desuso': 1, 'accrescentava': 1, 'companhia': 9, 'chegava': 4, 'empresario': 2, 'expunha-lhe': 1, 'injustiças': 1, 'ceu': 63, 'commettia': 1, 'saía': 9, 'bradar': 2, 'contra': 8, 'iniquidade': 1, 'bigodes': 1, 'andava': 12, 'cortejar': 2, 'princeza': 2, 'babylonia': 1, 'cantarolava': 1, 'abrir': 6, 'bocca': 36, 'edoso': 1, 'vozes': 9, 'abafadas': 1, 'possiveis': 4, 'commigo': 64, 'chianti': 1, 'repetiu-me': 1, 'dissesse': 9, 'sor': 1, 'mar': 24, 'batalha': 7, 'abanou': 3, 'replicou': 9, 'barytono': 1, 'lutam': 2, 'soprano': 2, 'presença': 5, 'comprimarios': 2, 'contralto': 1, 'mesmos': 12, 'córos': 3, 'numerosos': 1, 'bailados': 1, 'orchestração': 1, 'excellente': 3, 'marcolini': 2, 'quê': 8, 'beber': 3, 'gole': 2, 'licor': 1, 'pousou': 2, 'calix': 4, 'expoz-me': 1, 'creação': 3, 'resumir': 1, 'musica': 12, 'satanaz': 6, 'joven': 9, 'maestro': 4, 'futuro': 9, 'apprendeu': 5, 'conservatorio': 2, 'rival': 2, 'miguel': 1, 'raphael': 1, 'gabriel': 1, 'tolerava': 2, 'precedencia': 1, 'distribuição': 1, 'premios': 2, 'demasia': 1, 'mystica': 2, 'daquelles': 6, 'condiscipulos': 1, 'aborrecivel': 2, 'genio': 4, 'essencialmente': 1, 'tragico': 3, 'tramou': 1, 'rebellião': 1, 'descoberta': 2, 'expulso': 1, 'passado': 15, 'houvesse': 11, 'escripto': 8, 'libretto': 3, 'abrira': 2, 'genero': 3, 'recreio': 2, 'improprio': 1, 'eternidade': 3, 'levou': 8, 'manuscripto': 3, 'inferno': 5, 'valia': 5, 'outrose': 1, 'acaso': 11, 'reconciliar-se': 1, 'ceucompoz': 1, 'partitura': 3, 'logo': 82, 'leval-a': 4, 'desapprendi': 1, 'recebidas': 2, 'tendes': 1, 'escutai-a': 1, 'emendai-a': 1, 'fazei-a': 1, 'executar': 2, 'achardes': 1, 'digna': 2, 'alturas': 1, 'admitti-me': 1, 'vossos': 1, 'pés': 16, 'retorquiu': 4, 'supplicou': 1, 'misericordia': 2, 'executada': 2, 'fóra': 39, 'creou': 1, 'especial': 6, 'planeta': 1, 'inventou': 2, 'primarias': 1, 'comprimarias': 1, 'bailarinos': 1, 'ensaios': 2, 'basta-me': 2, 'composto': 5, 'prompto': 9, 'dividir': 2, 'comtigo': 1, 'direitos': 3, 'autor': 7, 'recusa': 4, 'resultaram': 1, 'desconcertos': 1, 'prévia': 1, 'collaboração': 1, 'amiga': 26, 'teriam': 3, 'evitado': 1, 'logares': 2, 'verso': 19, 'direita': 8, 'esquerda': 11, 'diga': 13, 'nisso': 6, 'belleza': 7, 'composição': 2, 'fugindo': 2, 'explicam': 2, 'tercetto': 1, 'eden': 1, 'aria': 1, 'abel': 1, 'guilhotina': 1, 'escravidão': 1, 'raro': 5, 'reproduzam': 1, 'razao': 1, 'sufficiente': 3, 'cançam': 1, 'repetição': 6, 'obscuridades': 1, 'abusa': 1, 'massas': 1, 'choraes': 1, 'encobrindo': 2, 'confuso': 3, 'orchestraes': 1, 'aliás': 5, 'tratadas': 1, 'pericia': 1, 'opinião': 18, 'imparciaes': 1, 'querem': 2, 'difficilmente': 2, 'possa': 7, 'achar': 14, 'acabada': 1, 'admitte': 1, 'certas': 2, 'rudezas': 1, 'lacunas': 2, 'andar': 19, 'provavel': 9, 'estas': 17, 'sejam': 9, 'preenchidas': 1, 'explicadas': 1, 'aquellas': 3, 'desapparecam': 1, 'negando': 1, 'emendar': 3, 'responde': 1, 'pensamento': 10, 'sublime': 3, 'dizem': 14, 'juram': 2, 'sacrificado': 1, 'corrompeu': 1, 'lettra': 5, 'trabalhada': 1, 'arte': 10, 'absolutamente': 5, 'diversa': 1, 'contraria': 3, 'drama': 2, 'grotesco': 1, 'exemplo': 13, 'texto': 12, 'excrescencia': 1, 'imitar': 12, 'mulheres': 9, 'patuscas': 1, 'windsor': 1, 'contestado': 1, 'pelos': 14, 'satanistas': 1, 'apparencia': 3, 'compoz': 2, 'farça': 1, 'shakespeare': 1, 'nascidos': 2, 'chegam': 3, 'affirmar': 1, 'inglez': 3, 'transcrever': 2, 'fidelidade': 2, 'proprio': 18, 'evidentemente': 3, 'plagiario': 1, 'peça': 6, 'concluiu': 15, 'durará': 1, 'durar': 1, 'podendo': 5, 'calcular': 2, 'será': 7, 'demolido': 1, 'utilidade': 2, 'astronomica': 1, 'exito': 1, 'crescente': 2, 'musico': 2, 'recebem': 2, 'pontualmente': 1, 'autoraes': 1, 'regra': 2, 'divisão': 2, 'aquillo': 8, 'escriptura': 8, 'chamados': 1, 'poucos': 13, 'escolhidos': 1, 'recebe': 4, 'ouro': 10, 'bradou': 2, 'furia': 2, 'aquietou-se': 1, 'horror': 1, 'digo': 32, 'pura': 13, 'ultima': 14, 'forem': 1, 'queimados': 1, 'inuteis': 3, 'ensine': 1, 'homens': 12, 'dó': 2, 'fez-se': 19, 'ré': 1, 'etc': 5, '(e': 4, 'enchia-o': 1, 'novamente)': 1, 'breve': 10, 'estribilho': 1, 'ouve': 7, 'pau': 6, 'pedra': 5, 'cabe': 2, 'x': 2, 'theoria': 3, 'demasiada': 1, 'metaphysica': 2, 'duvida': 5, 'perda': 3, 'explica': 4, 'philosophos': 1, 'resumo': 3, 'tenores': 1, 'desempregados': 1, 'leitor': 21, 'verosimilhança': 1, 'cantei': 1, 'duo': 1, 'ternissimo': 1, 'trio': 1, 'quatuor': 1, 'adeantemos': 1, 'vamos': 32, 'cantava': 4, 'dada': 3, 'principalmente': 6, 'denunciou': 1, 'xi': 1, 'desapparecer': 1, 'deixei': 13, 'esconderijo': 1, 'corri': 16, 'causa': 16, 'fazia': 21, 'verter': 1, 'projectos': 5, 'ecclesiasticos': 2, 'occasião': 19, 'datava': 1, 'dezeseis': 3, 'concebido': 2, 'tendo-lhe': 1, 'morto': 10, 'filho': 74, 'pegou-se': 1, 'vingasse': 2, 'promettendo': 1, 'varão': 1, 'esperasse': 3, 'menina': 7, 'luz': 11, 'entrasse': 2, 'viuva': 10, 'sentiu': 3, 'terror': 4, 'separar-se': 1, 'devota': 3, 'temente': 3, 'buscou': 1, 'testemunhas': 3, 'obrigação': 6, 'confiando': 1, 'parentes': 5, 'familiares': 3, 'unicamente': 4, 'separassemos': 1, 'possivel': 19, 'fez-me': 15, 'primeiras': 9, 'lettras': 11, 'latim': 21, 'doutrina': 5, 'cabral': 31, 'jogar': 4, 'noites': 11, 'prazos': 2, 'faceis': 3, 'subscrever': 1, 'imaginação': 8, 'infinitos': 1, 'esperou': 4, 'ia-me': 2, 'affeiçoando': 1, 'brincos': 2, 'devotos': 1, 'imagens': 1, 'conversações': 3, 'convergia': 1, 'altar': 7, 'iamos': 14, 'reparasse': 1, 'brincava': 3, 'missaum': 1, 'escondidas': 2, 'brincadeira': 1, 'arranjavamos': 2, 'servia': 4, 'sacristão': 10, 'alteravamos': 1, 'ritual': 2, 'dividirmos': 1, 'hostia': 3, 'brincavamos': 1, 'commum': 10, 'visinha': 6, 'hoje': 19, 'respondia': 2, 'affirmativamente': 1, 'pedir': 20, 'voltava': 3, 'engrolavamos': 1, 'precipitavamos': 1, 'cerimonias': 1, 'dominus': 1, 'non': 1, 'sum': 1, 'dignus': 1, 'devia': 27, 'penso': 9, 'golodice': 1, 'bebiamos': 1, 'vinho': 2, 'agua': 6, 'tinhamos': 8, 'segunda': 15, 'viria': 3, 'tirar-nos': 1, 'sacrificio': 1, 'ultimamente': 3, 'falavam': 6, 'suppunha': 1, 'negocio': 11, 'findo': 1, 'vocação': 28, 'pediam': 1, 's': 25, 'ficava': 15, 'olhar': 13, 'perdida': 1, 'pegava-me': 2, 'pretexto': 5, 'apertal-a': 1, 'xii': 1, 'parei': 10, 'tonto': 2, 'atordoado': 3, 'pernas': 18, 'bambas': 1, 'coração': 45, 'parecendo': 6, 'querer': 7, 'sair-me': 1, 'descer': 9, 'quintal': 18, 'visinho': 11, 'estacando': 1, 'amparar-me': 1, 'estacava': 1, 'confusas': 4, 'repetiam': 2, 'discurso': 18, 'tijolos': 1, 'pisei': 1, 'repisei': 1, 'columnas': 1, 'amarelladas': 1, 'passastes': 1, 'vós': 2, 'ficou': 24, 'crise': 6, 'sensação': 11, 'goso': 2, 'envolvia': 2, 'dispersava': 1, 'arrepios': 1, 'derramava': 1, 'balsamo': 1, 'sorrindo': 5, 'ar': 27, 'satisfação': 2, 'desmentia': 1, 'abominação': 1, 'peccado': 17, 'repetiam-se': 1, 'coqueiro': 3, 'vendo-me': 3, 'inquieto': 3, 'adivinhando': 3, 'feio': 10, 'meninos': 2, 'andassem': 2, 'meninas': 3, 'adolescentes': 3, 'cria': 3, 'coqueiros': 1, 'velhos': 10, 'borboletas': 1, 'cigarra': 1, 'ensaiava': 1, 'estio': 1, 'viva': 6, 'cosido': 3, 'saias': 4, 'occorria': 1, 'secreto': 3, 'collegio': 9, 'travessuras': 3, 'creanca': 2, 'saiu': 23, 'restabelecemos': 1, 'intimidade': 9, 'completa': 2, 'materia': 14, 'chamava-me': 3, 'mocetão': 1, 'flòr': 13, 'contar-me': 2, 'recordar': 5, 'esses': 7, 'gestos': 19, 'prazer': 14, 'sentia': 16, 'passava': 8, 'achava': 15, 'lindissimos': 1, 'lindos': 2, 'abanava': 3, 'desengano': 2, 'melancolia': 5, 'espantar': 1, 'admiraveis': 1, 'retorquia': 2, 'chamando-lhe': 1, 'maluca': 2, 'sonhára': 2, 'vespera': 21, 'ouvia-lhe': 1, 'contar': 20, 'aventuras': 3, 'extraordinarias': 1, 'subiamos': 1, 'corcovado': 1, 'dansavamos': 1, 'anjos': 5, 'perguntar-nos': 1, 'afim': 5, 'acabavam': 1, 'sonhos': 14, 'andavamos': 1, 'unidinhos': 1, 'reproduziam': 2, 'familiaridade': 2, 'passavam': 5, 'simples': 28, 'phrase': 7, 'notou': 2, 'differença': 8, 'hesitação': 3, 'sonhava': 1, 'còr': 2, 'pitanga': 1, 'francamente': 7, 'entendia': 2, 'davam': 5, 'essas': 10, 'confidencias': 1, 'fugia-me': 2, 'buscasse': 4, 'suspeitasse': 1, 'silencios': 2, 'descobriam': 2, 'signaes': 7, 'meias': 9, 'perguntas': 5, 'curiosas': 1, 'respostas': 4, 'vagas': 4, 'cuidados': 7, 'infancia': 9, 'adverti': 3, 'accordar': 1, 'escutal-a': 1, 'estremecer': 3, 'ouvia': 13, 'passos': 6, 'falava': 29, 'prestava': 1, 'altenção': 1, \"d'antes\": 1, 'critica': 1, 'desgosto': 2, 'intensos': 2, 'eramos': 8, 'sómente': 9, 'companheiros': 4, 'cheguei': 19, 'pensar': 14, 'missas': 3, 'daquelle': 17, 'intervallos': 2, 'exclusivismo': 1, 'apresentado': 1, 'denunciara': 1, 'perdoava': 1, 'dissera': 5, 'pudesse': 18, 'vir': 19, 'instante': 18, 'eterna': 9, 'valeria': 1, 'bondade': 4, 'demais': 15, 'virtudes': 9, 'eternas': 2, 'amava-me': 1, 'andavam': 4, 'desandavam': 1, 'estacavam': 1, 'tremulas': 1, 'crentes': 2, 'abarcar': 1, 'esse': 25, 'palpitar': 2, 'seiva': 1, 'revelação': 1, 'comparavel': 2, 'qualquer': 26, 'especie': 13, 'xiii': 1, 'repente': 5, 'vem': 9, 'desceram-me': 1, 'degraus': 2, 'caminharam': 1, 'dellas': 21, 'tardes': 8, 'interiores': 1, 'braços': 17, 'rege': 1, 'meio': 35, 'chegaram': 2, 'muro': 13, 'communicação': 1, 'mandada': 1, 'rasgar': 1, 'éramos': 3, 'chave': 3, 'taramela': 1, 'abria-se': 1, 'empurrando': 1, 'puxando': 1, 'fechava-se': 1, 'peso': 2, 'pendente': 3, 'corda': 2, 'exclusivamente': 3, 'creancas': 2, 'faziamos': 1, 'visita': 13, 'batendo': 2, 'recebidos': 1, 'mesuras': 1, 'bonecas': 1, 'adoeciam': 2, 'entrava': 5, 'debaixo': 7, 'braço': 10, 'bengalão': 1, 'joão': 9, 'costa': 2, 'tomava': 1, 'pulso': 1, 'doente': 11, 'pedia-lhe': 2, 'mostrasse': 2, 'surda': 4, 'coitada': 1, 'exclamava': 2, 'coçava': 1, 'queixo': 3, 'mandando': 1, 'applicar-lhe': 1, 'sanguesugas': 1, 'dar-lhe': 4, 'vomitorio': 1, 'therapeutica': 2, 'habitual': 4, 'deixa': 9, 'esburacando': 2, 'viesse': 7, 'fundos': 3, 'andarilhas': 1, 'presas': 5, 'empurrei': 2, 'fronteiro': 1, 'voltada': 2, 'riscando': 2, 'prego': 3, 'rumor': 4, 'fel-a': 1, 'traz': 9, 'encostou-se': 1, 'caminhei': 2, 'mudado': 3, 'perguntou-me': 13, 'inquieta': 2, 'insistir': 1, 'sair': 31, 'certeza': 4, 'fora': 9, 'tirar': 5, 'alta': 7, 'forte': 4, 'cheia': 13, 'apertada': 2, 'desbotado': 1, 'grossos': 3, 'feitos': 3, 'tranças': 7, 'atadas': 1, 'desciam-lhe': 1, 'pelas': 11, 'costas': 14, 'morena': 1, 'claros': 7, 'nariz': 5, 'recto': 3, 'comprido': 4, 'fina': 6, 'despeito': 3, 'officios': 4, 'rudes': 1, 'curadas': 1, 'cheiravam': 1, 'sabões': 1, 'finos': 2, 'aguas': 3, 'toucador': 1, 'sabão': 1, 'trazia-as': 1, 'macula': 1, 'calçava': 2, 'duraque': 1, 'dera': 8, 'pontos': 1, 'balbuciei': 1, 'finalmente': 9, 'emendei': 1, 'noticia': 15, 'què': 1, 'dizer-lhe': 5, 'espreitar': 1, 'impressão': 7, 'faria': 13, 'consternasse': 1, 'gostava': 15, 'obscuro': 2, 'senti': 23, 'claramente': 2, 'nisto': 12, 'olhei': 8, 'estivera': 5, 'escrevendo': 5, 'riscos': 1, 'abertos': 5, 'cobril-os': 1, 'vel-os': 2, 'dei': 23, 'agarrou-me': 1, 'temer': 2, 'acabasse': 5, 'negar': 2, 'correu': 5, 'adeante': 7, 'xiv': 1, 'inscripção': 3, 'seguiu': 3, 'pulo': 1, 'raspasse': 1, 'li': 5, 'estes': 5, 'dispostos': 1, 'bento': 2, 'capitolina': 3, 'voltei-me': 1, 'ergueu-os': 1, 'devagar': 9, 'ficámos': 10, 'confissão': 4, 'creanças': 8, 'valias': 1, 'paginas': 8, 'poupado': 1, 'falámos': 2, 'movemos': 1, 'estenderam': 1, 'pegando-se': 1, 'apertando-se': 1, 'fundindo-se': 1, 'marquei': 1, 'hora': 29, 'exacta': 4, 'tel-a': 3, 'marcado': 3, 'sinto': 6, 'nota': 6, 'escripta': 4, 'poria': 4, 'erros': 2, 'orthographia': 2, 'trouxesse': 2, 'traria': 2, 'estudante': 4, 'adolescente': 3, 'conhecia': 12, 'regras': 1, 'suspeitar': 2, 'amar': 5, 'orgias': 1, 'virgem': 3, 'soltámos': 2, 'ellas': 21, 'deixaram': 1, 'cair': 12, 'cançadas': 2, 'esquecidas': 2, 'fitavam-se': 1, 'desfitavam-se': 1, 'vagarem': 1, 'tornavam': 3, 'metter-se': 1, 'deante': 14, 'faces': 2, 'epistola': 2, 'evangelho': 2, 'labios': 8, 'patena': 1, 'faltava': 3, 'apprende': 2, 'catholica': 2, 'tenhas': 2, 'sacrilego': 1, 'leitora': 6, 'limpeza': 1, 'intenção': 11, 'lava': 1, 'puder': 3, 'curial': 1, 'estylo': 3, 'estavamos': 8, 'unindo': 1, 'nervos': 2, 'faziam': 5, 'creaturas': 5, 'seraphica': 1, 'continuaram': 1, 'infinitas': 1, 'tentavam': 1, 'caladas': 2, 'xv': 1, 'repentina': 4, 'vocês': 4, 'jogando': 4, 'siso': 2, 'mulher': 31, 'atrapalhados': 1, 'disfarçadamente': 1, 'nossos': 12, 'escriptos': 2, 'papae': 30, 'estragues': 1, 'reboco': 1, 'riscava': 2, 'riscado': 1, 'apagar': 2, 'começado': 2, 'perfil': 2, 'fel-o': 3, 'essencial': 2, 'chegou': 14, 'colera': 3, 'meigo': 1, 'duvidoso': 2, 'apanhou': 2, 'grosso': 3, 'curtos': 3, 'abahuladas': 1, 'donde': 9, 'chamava': 10, 'estavam': 13, 'perguntou': 21, 'sabugueiro': 1, 'ri': 4, 'rido': 1, 'séria': 2, 'fitou': 2, 'convidando-me': 1, 'jogo': 3, 'susto': 7, 'serio': 7, 'sob': 1, 'trouxe': 4, 'entrada': 9, 'capaz': 19, 'devesse': 3, 'legitimar': 1, 'resposta': 12, 'cançada': 1, 'esperar': 11, 'desviou': 2, 'apprendem': 1, 'mister': 3, 'fazel-as': 2, 'cedo': 9, 'artificialmente': 1, 'continuava': 5, 'deixando-nos': 1, 'encantados': 1, 'ternura': 12, 'dirá': 4, 'dezesete': 5, 'voltando-se': 9, 'vejo': 4, 'podido': 1, 'ando': 3, 'trabalhos': 1, 'repartição': 5, 'escrevo': 2, 'desespero': 5, 'relatorio': 1, 'viu': 8, 'gaturamo': 1, 'gaiola': 2, 'crê-se': 1, 'facilmente': 4, 'jurar': 4, 'falar-lhe': 7, 'esperava': 7, 'particularmente': 6, 'passarinhos': 3, 'tinha-os': 1, 'varia': 4, 'côr': 10, 'tamanho': 5, 'área': 2, 'cercada': 1, 'gaiolas': 1, 'canarios': 1, 'cantando': 5, 'barulho': 1, 'diabos': 1, 'trocava': 1, 'amadores': 1, 'comprava-os': 1, 'apanhava': 1, 'armando': 1, 'alçapões': 1, 'tratava': 3, 'delles': 21, 'xvi': 1, 'administrador': 6, 'interino': 2, 'empregado': 1, 'dependente': 1, 'ministerio': 1, 'guerra': 5, 'ganhava': 1, 'gastava': 1, 'barata': 1, 'morava': 3, 'assobradada': 1, 'menor': 11, 'propriedade': 1, 'comprou-a': 1, \"n'um\": 3, 'contos': 4, 'reis': 3, 'premio': 3, 'comprar': 3, 'adereço': 1, 'brilhantes': 1, 'sepultura': 6, 'perpetua': 1, 'mandar': 7, 'fortunata': 12, 'falando': 13, 'guardar': 5, 'sobrasse': 1, 'acudir': 3, 'hesitou': 4, 'ceder': 2, 'conselhos': 4, 'pediu': 9, 'auxilio': 1, 'nessa': 5, 'valeu': 4, 'salvar': 1, 'escutai': 1, 'norte': 1, 'commissão': 1, 'ordem': 6, 'regulamentar': 1, 'designação': 1, 'substituindo': 1, 'respectivos': 1, 'honorarios': 2, 'mudança': 5, 'trouxe-lhe': 1, 'vertigem': 5, 'contentou': 2, 'reformar': 3, 'copa': 1, 'atirou-se': 1, 'despezas': 5, 'superfluas': 1, 'joias': 5, 'festa': 2, 'matava': 2, 'leitão': 1, 'theatros': 1, 'verniz': 2, 'supposição': 1, 'interinidade': 2, 'afflicto': 2, 'desvairado': 1, 'perder': 13, 'chegara': 3, 'effectivo': 3, 'velasse': 1, 'infelizes': 1, 'soffrer': 1, 'desgraça': 2, 'matava-se': 1, 'falou-lhe': 1, 'attendia': 2, 'consentirei': 1, 'tornar': 3, 'mato-me': 1, 'confessar': 9, 'miseria': 1, 'dirão': 3, 'publico': 9, 'deixe-se': 1, 'lembre-se': 1, 'enxugou': 6, 'prostrado': 1, 'mudo': 2, 'fechado': 1, 'alcovaou': 1, 'teimasse': 4, 'ralhava': 2, 'joãosinho': 1, 'ouviu': 13, 'favor': 19, 'salvava': 1, 'matar': 6, 'achal-o': 1, 'beira': 1, 'intimou-lhe': 1, 'vivesse': 3, 'maluquice': 2, 'parecer': 7, 'desgraçado': 2, 'gratificação': 1, 'emprego': 3, 'obedeceu': 1, 'confessou': 6, 'acharia': 3, 'desconheço': 1, 'seguintes': 2, 'estragava': 1, 'visinhança': 10, 'risonho': 3, 'administração': 5, 'interina': 2, 'ferida': 4, 'sarando': 1, 'começou': 9, 'interessar-se': 1, 'negocios': 5, 'domesticos': 1, 'dormir': 9, 'tranquillo': 1, 'conversar': 2, 'noticias': 9, 'serenidade': 1, 'regressou': 1, 'alegria': 14, 'figura': 10, 'iam': 20, 'solo': 1, 'tentos': 1, 'sarou': 1, 'interessante': 4, 'saudades': 12, 'vexame': 3, 'desvanecimento': 4, 'orgulho': 4, 'hegyra': 1, 'ah': 9, 'espere': 2, 'justamente': 15, 'seis': 13, 'administrava': 1, 'posthumo': 1, 'glorias': 1, 'interinas': 1, 'bradava': 2, 'vaidade': 10, 'sobrevivente': 1, 'licção': 14, 'eliphaz': 1, 'job': 1, 'desprezes': 1, 'correcção': 2, 'fere': 2, 'cura': 2, 'xvii': 1, 'vermes': 2, 'lança': 1, 'achilles': 2, 'velleidades': 1, 'dissertação': 1, 'pegar': 7, 'mortos': 5, 'enterrados': 1, 'abril-os': 1, 'comparal-os': 1, 'calando': 2, 'origem': 3, 'oraculo': 1, 'pagão': 1, 'israelita': 1, 'catei': 2, 'proprios': 6, 'dissessem': 1, 'textos': 5, 'roidos': 2, 'respondeu-me': 4, 'verme': 1, 'sabemos': 1, 'roemos': 4, 'escolhemos': 1, 'amamos': 1, 'detestamos': 1, 'arranquei': 1, 'houvessem': 2, 'palavra': 51, 'repeliam': 1, 'cantilena': 1, 'discreto': 2, 'roer': 1, 'roido': 2, 'xviii': 2, 'plano': 8, 'falavamos': 2, 'affligia': 2, 'cêra': 1, 'acudi': 5, 'seminarios': 1, 'entro': 5, 'excusado': 1, 'teimarem': 2, 'recolheu': 2, 'metteu-os': 1, 'pupillas': 4, 'surtias': 1, 'entre-aberta': 1, 'parada': 1, 'forca': 1, 'affirmações': 1, 'seria': 37, 'jurava': 3, 'rijo': 2, 'jurei': 3, 'faltasse': 2, 'descrer': 1, 'sequer': 5, 'chamal-a': 1, 'sacudil-a': 1, 'faltou-me': 1, 'animo': 5, 'brincára': 1, 'pulára': 1, 'dansára': 1, 'dormira': 1, 'deixava-me': 1, 'atados': 1, 'medrosos': 1, 'tornou': 10, 'livida': 3, 'rompeu': 2, 'nestas': 1, 'furiosas': 2, 'beata': 2, 'carola': 2, 'papa-missas': 1, 'aturdido': 2, 'tamanha': 2, 'explosão': 1, 'ameaça': 5, 'separação': 13, 'improperios': 1, 'chamasse': 1, 'deprimir': 1, 'religiosos': 4, 'sege': 12, 'rosario': 1, 'cruz': 1, 'defendel-a': 1, 'deixou': 10, 'chamar-lhe': 2, 'ouvida': 2, 'paes': 8, 'irritada': 2, 'disposta': 2, 'cerrava': 3, 'assustado': 2, 'repetia': 5, 'juramentos': 2, 'promettia': 3, 'declarar': 1, 'entraria': 1, 'entra': 7, 'verá': 3, 'calou-se': 3, 'afflicção': 6, 'conversação': 6, \"contei-lh'a\": 1, 'respeito': 3, 'interesse': 11, 'lembrar': 6, 'sujeito': 4, 'ruim': 5, 'deixe': 8, 'pagar': 7, 'dono': 7, 'fica': 23, 'dá-lhe': 1, 'attenção': 9, 'chorasse': 2, 'choro': 3, 'mostrar-se': 1, 'arrependido': 1, 'apanhado': 2, 'canto': 6, 'paga': 4, 'fechando': 3, 'punho': 1, 'proferi': 2, 'ameaças': 1, 'relembral-as': 1, 'ridiculo': 1, 'ridiculas': 2, 'privilegios': 1, 'perigo': 4, 'começa': 2, 'cresce': 1, 'madurera': 1, 'attinge': 1, 'grão': 1, 'ameaçar': 1, 'reflectia': 4, 'rara': 2, 'conheciam-se': 1, 'occasiões': 3, 'apertado': 2, 'pediu-me': 10, 'circumstancias': 4, 'proprias': 4, 'tom': 9, 'inicial': 1, 'conversa': 6, 'significação': 1, 'entendel-as': 1, 'disto': 7, 'certamente': 7, 'deixar': 12, 'satisfeito': 3, 'espontaneamente': 2, 'reparava': 2, 'injurias': 1, 'sairam': 5, 'peguei': 9, 'apertei-a': 1, 'rindo': 17, 'cochilar': 2, 'chegado': 1, 'janella': 25, 'apregoando': 1, 'cocadas': 5, 'parou': 4, 'sinhásinha': 4, 'qué': 1, 'cocada': 1, 'cocadinha': 1, 'tá': 1, 'vá-se': 2, 'embora': 17, 'rispidez': 1, 'dê': 5, 'ca': 1, 'descendo': 1, 'comprei-as': 1, 'comer': 5, 'conservava': 1, 'perfeição': 5, 'imperfeição': 1, 'momento': 10, 'definições': 1, 'fiquemos': 4, 'equilibrada': 1, 'lucida': 1, 'pregão': 1, 'prégão': 8, 'sabido': 3, 'chora': 3, 'vintem': 1, 'deixára': 5, 'aborrecida': 3, 'toada': 8, 'cór': 4, 'longe': 31, 'repetil-a': 1, 'jogos': 1, 'puericia': 1, 'saltando': 1, 'trocando': 1, 'vendendo': 1, 'comprando': 1, 'ausente': 1, 'destinada': 3, 'picar': 1, 'crianças': 1, 'enojou': 1, 'rica': 1, 'fugia': 1, 'mettia-se': 2, 'paquete': 2, 'dito': 11, 'espreitou-me': 1, 'agradeceram': 1, 'sentimento': 6, 'excusar': 1, 'extraordinario': 3, 'aventura': 3, 'vês': 1, 'atrevidas': 3, 'pratica': 4, 'faziam-se': 1, 'habeis': 1, 'sinuosas': 1, 'surdas': 1, 'proposto': 1, 'salto': 1, 'saltinhos': 1, 'explico': 3, 'supponde': 1, 'concepção': 1, 'meios': 2, 'vago': 4, 'hypothetico': 1, 'cumpril-o': 1, 'embarcar': 3, 'fugir': 5, 'estenderia': 1, 'fila': 1, 'canoas': 2, 'fortaleza': 3, 'lage': 1, 'ponte': 1, 'movediça': 1, 'iria': 16, 'bordéos': 1, 'deixando': 2, 'praia': 15, 'espera': 6, 'caracter': 3, 'admira': 3, 'combatendo': 1, 'resistencia': 4, 'franca': 3, 'brandos': 1, 'empenho': 2, 'lenta': 2, 'diuturna': 1, 'examinasse': 1, 'podiamos': 3, 'rejeitou': 3, 'boa-vida': 1, 'approvava': 1, 'ordenação': 3, 'suspendel-a': 1, 'trabalhar': 4, 'confessasse': 2, 'posso': 22, 'apparecer': 2, 'bom': 36, 'importa': 5, 'gosta': 7, 'fale': 8, 'acanhado': 1, 'tenha': 10, 'mostre': 2, 'dê-lhe': 2, 'faça-lhe': 1, 'elogios': 5, 'elogiado': 2, 'presta-lhe': 1, 'tendo': 13, 'falará': 3, 'experimentar': 2, 'experimentemos': 1, 'mude': 1, 'resolução': 7, 'mudar': 3, 'faz-se': 1, 'mette-se': 1, 'bastava': 7, 'lembra-se': 2, 'consentindo': 1, 'pagou': 2, 'mande': 6, 'diga-lhe': 1, 'leis': 10, 'paulo': 12, 'estremeci': 1, 'fragil': 1, 'biombo': 1, 'destinado': 4, 'arredado': 1, 'grossa': 1, 'espiritual': 4, 'prometti': 2, 'termos': 5, 'propostos': 1, 'repetiu-os': 1, 'accentuando': 2, 'principaes': 2, 'inquiria-me': 1, 'entendera': 1, 'trocara': 2, 'insistia': 2, 'pedisse': 2, 'pede': 6, 'copo': 2, 'trazer': 3, 'conto': 7, 'minucias': 2, 'entenda': 1, 'virá': 2, 'fará': 4, 'genesis': 1, 'fizeram': 10, 'successivamente': 1, 'sete': 5, 'xix': 1, 'voltei': 7, 'pensasse': 4, 'falaria': 5, 'formulei': 2, 'pedido': 4, 'escolhendo': 1, 'secco': 2, 'benevolo': 1, 'repeti-as': 3, 'alia': 1, 'adequadas': 2, 'obedeciam': 1, 'recommendações': 3, 'escolha': 4, 'diga-me': 5, 'proferi-as': 1, 'lentamente': 4, 'sublinhal-as': 1, 'achei-as': 1, 'seccas': 1, 'rispidas': 1, 'improprias': 2, 'creançola': 1, 'maduro': 2, 'cuidei': 8, 'escolher': 5, 'dizel-as': 2, 'offendesse': 1, 'prova': 7, 'repetindo-as': 1, 'novamente': 16, 'saíram-me': 1, 'supplices': 2, 'carregar': 1, 'adoçar': 1, 'termo': 5, 'geitoso': 1, 'desfazer': 3, 'xx': 1, 'mil': 17, 'padre-nossos': 6, 'ave-marias': 6, 'levantei': 3, 'começava': 5, 'embruscar-se': 1, 'coberto': 3, 'descoberto': 2, 'refugio': 1, 'prometto': 5, 'rezar': 2, 'arranjar': 2, 'somma': 7, 'carregado': 1, 'promessas': 7, 'cumpridas': 2, 'duzentos': 1, 'duzentas': 1, 'chovesse': 1, 'passeio': 7, 'santa': 19, 'theresa': 2, 'choveu': 1, 'rezei': 3, 'orações': 5, 'pequenino': 4, 'acostumara-me': 1, 'favores': 2, 'mediante': 3, 'adiadas': 1, 'medida': 4, 'amontoavam': 1, 'numeros': 2, 'centenas': 1, 'milhar': 1, 'peitar': 1, 'divina': 7, 'quantia': 2, 'feita': 8, 'jurada': 1, 'divida': 7, 'vão': 11, 'preguiça': 1, 'berço': 3, 'attenuada': 1, 'fazia-me': 3, 'adiava': 1, 'perdi-me': 1, 'contas': 5, 'repeti': 9, 'beneficio': 5, 'immensa': 2, 'salvação': 2, 'naufragio': 3, 'existencia': 5, 'pagasse': 2, 'atrazados': 1, 'irritado': 1, 'esquecimentos': 2, 'negar-se': 1, 'ouvir-me': 2, 'dinheiro': 10, 'grave': 8, 'agitações': 1, 'menino': 11, 'te': 9, 'enfadem': 1, 'achas': 2, 'sublimes': 2, 'cogitei': 2, 'resgatar': 1, 'cumprisse': 1, 'escripturação': 1, 'moral': 9, 'deficit': 1, 'cem': 1, 'joelhos': 5, 'ladeira': 3, 'terra-santa': 2, 'escravas': 2, 'contavam': 2, 'celebres': 3, 'acudia': 1, 'fixar': 2, 'duro': 2, 'feril-os': 1, 'numerosas': 2, 'empenhar-mo': 1, 'xxi': 1, 'passeando': 1, 'patamar': 2, 'conversando': 3, 'distraí-me': 1, 'mentira': 7, 'espantou-me': 1, 'franqueza': 2, 'biocos': 1, 'pensava': 5, 'pareceu': 8, 'novidade': 2, 'quadragenaria': 1, 'magra': 1, 'curiosos': 2, 'intima': 4, 'parenta': 4, 'extranha': 1, 'passeámos': 1, 'minutos': 29, 'alumiada': 1, 'lampião': 3, 'esquecera': 2, 'dizendo-lhe': 2, 'inquiriu-me': 1, 'respondi': 11, 'esquivo': 1, 'pergunto': 4, 'gostaria': 2, 'explicou': 5, 'gósto': 2, 'deseja': 1, 'ordene': 3, 'desejasse': 2, 'metta': 2, 'hade': 1, 'primo': 1, 'conclui': 2, 'enruguei': 1, 'testa': 8, 'interrogativamente': 2, 'completou': 1, 'lembrára': 1, 'passando': 5, 'esquecendo': 2, 'esquecer': 11, 'estiver': 4, 'ouvidos': 8, 'zás': 1, 'darás': 1, 'discursos': 2, 'conhece': 2, 'affectação': 2, 'note': 1, 'religioso': 5, 'achado': 5, 'imagina': 10, 'toa': 2, 'perguntei': 11, 'contou': 7, 'indicando': 1, 'recommendou': 1, 'recapitulou': 1, 'intrigante': 1, 'bajulador': 1, 'especulador': 1, 'casca': 2, 'polidez': 2, 'grosseirão': 1, 'passados': 2, 'supponha': 4, 'gostasse': 2, 'promptamente': 2, 'firme': 4, 'amizade': 15, 'conhecidas': 2, 'avivar-lhe': 1, 'trabalho': 10, 'peço': 5, 'consultasse': 1, 'chamada': 1, 'faço': 9, 'xxii': 1, 'sensações': 9, 'alheias': 5, 'alcancei': 2, 'arrependi-me': 2, 'seguido': 3, 'reteve-me': 1, 'proxima': 4, 'conceição': 2, 'oratorios': 2, 'insinuou-me': 1, 'lindissima': 2, 'bradaria': 1, 'bella': 13, 'receio': 9, 'elogiar-lhe': 1, 'modos': 5, 'gravidade': 1, 'accendeu': 4, 'elogial-a': 1, 'approvação': 3, 'assersões': 1, 'illuminar-me': 1, 'confirmava': 2, 'desconfiava': 1, 'apalpar-me': 1, 'cheirar-me': 1, 'gostar-me': 1, 'sentidos': 2, 'ciumes': 15, 'pirralho': 1, 'quarentona': 1, 'modificou': 1, 'criticas': 1, 'disse-me': 34, 'trefega': 1, 'olhava': 9, 'achou': 16, 'espectaculo': 4, 'resurreição': 2, 'vaga': 4, 'goza': 1, 'influição': 1, 'narram': 1, 'xxiii': 1, 'prazo': 2, 'dado': 8, 'desusado': 1, 'sairia': 1, 'imperativo': 1, 'receiava': 2, 'interrogar': 2, 'hesitar': 3, 'situação': 9, 'andando': 15, 'walter': 1, 'scott': 1, 'lia': 2, 'cantado': 1, 'compassado': 1, 'castellos': 1, 'parques': 1, 'saíam': 4, 'maiores': 6, 'lagos': 1, 'abobada': 1, 'celeste': 1, 'milhares': 2, 'estrellas': 4, 'centelhantes': 1, 'dialogos': 1, 'alternava': 1, 'som': 5, 'levemente': 2, 'grossas': 2, 'finas': 6, 'conforme': 2, 'sexo': 3, 'interlocutores': 1, 'moderação': 2, 'compras': 1, 'pedirei': 1, 'perfeitamente': 5, 'affirmo': 1, 'houve': 13, 'alteração': 1, 'quente': 3, 'entrámos': 2, 'omnibus': 9, 'podemos': 4, 'apear-nos': 1, 'xxiv': 1, 'servo': 2, 'tratava-me': 1, 'extremos': 1, 'attenções': 1, 'conseguiu': 1, 'dispensar-me': 1, 'pagem': 2, 'cuidava': 5, 'arranjos': 1, 'hygiene': 1, 'prosodia': 1, 'oito': 4, 'pluraes': 1, 'careciam': 1, 'desinencia': 1, 'corrigia': 1, 'obter': 2, 'emenda': 3, 'ajudava': 2, 'mestre': 7, 'ensinava': 1, 'sagrada': 1, 'assistia': 2, 'reflexões': 7, 'ecclesiasticas': 1, 'caminha': 1, 'prodigio': 1, 'conhecido': 6, 'intelligentes': 1, 'excedia': 1, 'possuia': 5, 'qualidades': 7, 'solidas': 1, 'avaliasse': 1, 'valor': 6, 'elogio': 4, 'xxv': 1, 'caras': 8, 'vadias': 1, 'espalhavam-se': 1, 'melancolicamente': 1, 'caminho': 14, 'terraço': 3, 'seguimos': 1, 'jardim': 1, 'venho': 4, 'perdôe-me': 1, 'esteve': 4, 'passagem': 6, 'ouça-me': 1, 'falamos': 1, 'andei': 4, 'ficando': 4, 'moco': 1, 'tomando': 2, 'confiança': 3, 'pode': 1, 'gostar': 2, 'apesar': 20, 'diabo': 13, 'reparou': 2, 'cigana': 3, 'obliqua': 5, 'dissimulada': 5, 'adulação': 2, 'oh': 18, 'merece': 5, 'nego': 4, 'honesto': 2, 'possue': 2, 'móra': 1, 'honestidade': 2, 'bastam': 1, 'perdem': 1, 'más': 1, 'companhias': 1, 'anda': 11, 'tendencia': 1, 'réles': 1, 'cheirando': 1, 'chulo': 1, 'odio': 2, 'riu': 5, 'acalcanhados': 1, 'interrompi': 2, 'suspendendo': 1, 'falasse': 4, 'capacidade': 1, 'corno': 1, 'camaras': 1, 'deliciosamente': 2, 'fechou': 3, 'agradeço': 1, 'sangue': 9, 'feito': 14, 'juizos': 1, 'andado': 2, 'subimos': 1, 'olhámos': 2, 'peço-lhe': 3, 'perguntar': 7, 'sacudia-me': 1, 'brandura': 1, 'levantava-me': 1, 'espetava': 1, 'ancioso': 3, 'endireitou-se': 1, 'pasmado': 4, 'continuei': 7, 'geito': 4, 'manda': 3, 'agrado': 2, 'cocheiro': 6, 'carreira': 11, 'enfiado': 3, 'peremptorio': 1, 'pedaços': 3, 'mastigado': 1, 'timida': 2, 'obstante': 5, 'ouvira-o': 1, 'espantado': 6, 'acanhada': 2, 'assombrou': 1, 'salvar-me': 1, 'escancararam-se': 1, 'sobrancelhas': 1, 'arquearam-se': 1, 'protecção': 2, 'mostrou': 3, 'musculos': 2, 'pouca': 6, 'estupefacção': 2, 'revelára': 1, 'final': 13, 'vigor': 1, 'unico': 9, 'tornaram': 2, 'dimensões': 3, 'ordinarias': 1, 'apreciam': 1, 'talento': 3, 'bondades': 2, 'lisonjeado': 1, 'dignas': 2, 'merecem': 2, 'illustres': 1, 'virtuosas': 1, 'perfeitissimo': 2, 'familias': 3, 'distinctas': 1, 'vencer': 6, 'nobreza': 1, 'sentimentos': 4, 'confesso': 6, 'umé': 1, 'digno': 3, 'admiração': 6, 'apreço': 1, 'proteger': 1, 'valer': 3, 'anjo': 13, 'dissuadir': 1, 'projecto': 6, 'ambição': 3, 'longos': 4, 'hontem': 6, 'timidez': 5, 'moeda': 5, 'destemido': 1, 'indignação': 2, 'experimentei': 1, 'rompesse': 1, 'mentiroso': 2, 'confessar-lhe': 1, 'escuta': 2, 'contentei-me': 1, 'servil-o': 2, 'feliz': 14, 'vadiação': 2, 'estude': 1, 'xxvi': 1, 'bellas': 10, 'algo': 4, 'reflexo': 3, 'ideiauma': 1, 'alegrou': 1, 'extraordinariamente': 3, 'voltara': 1, 'barra': 1, 'insistisse': 4, 'provar': 1, 'irei': 4, 'trabalharei': 1, 'querido': 6, 'pernambuco': 1, 'boas': 7, 'universidades': 2, 'conte': 2, 'pegue-se': 1, 'deuscom': 1, 'santissima': 2, 'apontando': 3, 'enfarruscado': 1, 'negros': 1, 'giros': 1, 'avoaçando': 1, 'pairando': 1, 'desciam': 2, 'roçar': 1, 'erguer-se': 1, 'dansas': 1, 'fantasticas': 1, 'desviavam': 1, 'interlocutor': 2, 'emendei-me': 1, 'blaspheme': 1, 'presente': 3, 'peça-lhe': 1, 'prefere': 1, 'theologia': 8, 'ecclesiastica': 10, 'universidade': 3, 'estuda': 1, 'viaja': 1, 'veremos': 3, 'terras': 3, 'estranjeiras': 1, 'ouviremos': 1, 'francez': 2, 'hespanhol': 1, 'russo': 1, 'sueco': 1, 'acompanhal-o': 1, 'quererá': 1, 'guiar': 1, 'matriculas': 1, 'hospedarias': 2, 'bellissimas': 1, 'metia': 1, 'alcançar': 3, 'poder': 9, 'estamos': 5, 'bordo': 6, 'ali': 1, 'perna': 2, 'pirueta': 2, 'ambições': 1, 'acabar': 19, 'tentar': 2, 'louvasse': 1, 'ares': 5, 'bellezas': 2, 'possibilidade': 3, 'estudos': 9, 'xxvii': 1, 'portão': 3, 'mendigo': 2, 'estendeu-nos': 1, 'adiante': 1, 'tirei': 3, 'vintens': 1, 'dei-os': 1, 'beijou': 2, 'pedi-lhe': 6, 'rogasse': 1, 'devoto': 1, 'chamo-me': 1, 'accrescentei': 1, 'esclarecel-o': 1, 'xxviii': 1, 'contente': 4, 'trocou': 3, 'momentos': 2, 'dobradiço': 1, 'mexia-se': 1, 'parar': 5, 'mostrador': 2, 'cartaz': 1, 'contava-me': 4, 'enredo': 1, 'peças': 2, 'recitava': 1, 'monologos': 1, 'recados': 1, 'recebeu': 4, 'alugueis': 6, 'vigesimo': 1, 'tezo': 1, 'rendeu': 2, 'flexivel': 1, 'pausado': 1, 'temi': 1, 'assentada': 1, 'tratal-o': 1, 'carinhosos': 1, 'entrarmos': 1, 'xxix': 1, 'imperador': 15, 'encontrámos': 1, 'medicina': 14, 'vehiculos': 1, 'passageiros': 1, 'desceram': 2, 'chapeu': 1, 'coche': 4, 'imperial': 4, 'passasse': 2, 'tornei': 10, 'fantastica': 1, 'contar-lhe': 2, 'pedir-lhe': 4, 'intervenção': 4, 'confiaria': 1, 'majestade': 3, 'pedindo': 3, 'cede': 2, 'escutando-me': 1, 'reflectindo': 3, 'acabando': 3, 'beijava-lhe': 1, 'cm': 1, 'batedores': 1, 'piquete': 1, 'cavallaria': 1, 'parava': 3, 'apeava-se': 1, 'alvoroço': 7, 'recebel-o': 1, 'beijava': 1, 'entrandonão': 1, 'confusospedia': 1, 'padree': 1, 'lisongeada': 1, 'obediente': 1, 'medicinaporque': 1, 'ensinar': 2, 'vossa': 2, 'ensinar-lhe': 1, 'temos': 4, 'bons': 7, 'professores': 1, 'medicos': 1, 'pódem': 7, 'hombrear': 1, 'sciencia': 2, 'conhecer': 4, 'combatel-as': 1, 'vencel-as': 1, 'milagres': 1, 'doença': 8, 'fatal': 1, 'cuidado': 4, 'mande-o': 1, 'querendo': 9, 'beijar': 4, 'acompanhado': 2, 'atopetadas': 1, 'assombro': 1, 'inclinava-se': 2, 'adeus': 6, 'invejas': 5, 'agradecimentos': 2, 'ariosto': 1, 'fertil': 1, 'namorados': 3, 'visão': 2, 'impossivel': 6, 'precisa': 7, 'recanto': 1, 'consolei-me': 1, 'destruir-se': 1, 'voltar-me': 2, 'xxx': 1, 'santissimo': 5, 'terás': 2, 'entendido': 4, 'lembrança': 13, 'ácerca': 1, 'suggestão': 2, 'accordado': 2, 'tecem-se': 1, 'desenho': 3, 'inclinações': 1, 'esperanças': 9, 'santíssimo': 1, 'ouço': 5, 'sino': 2, 'santo': 5, 'antonio': 3, 'pobres': 2, 'pare': 1, 'recebedor': 2, 'passagens': 2, 'puxou': 2, 'correia': 1, 'desceu': 2, 'rapidas': 1, 'pegou-me': 4, 'iriamos': 3, 'acompanhar': 4, 'effectivamente': 9, 'fieis': 2, 'áquelle': 2, 'serviço': 4, 'sacristia': 1, 'obedeci': 4, 'constrangido': 1, 'caridade': 5, 'distribuir': 1, 'opas': 2, 'esbaforido': 1, 'comprimentar-nos': 1, 'aborrecido': 5, 'lavava': 1, 'baixinho': 3, 'approximou-se': 1, 'solicitava': 1, 'varas': 3, 'pallio': 6, 'disponível': 1, 'aventurou': 2, 'tocha': 8, 'vara': 8, 'baixa': 4, 'conciliar': 2, 'rivalidade': 2, 'seguradores': 1, 'cedesse': 1, 'parochia': 2, 'transtornou': 1, 'combinação': 1, 'disponivel': 1, 'pedia-a': 1, 'seminarista': 11, 'distincção': 6, 'cabia': 3, 'direitamente': 1, 'pallido': 2, 'tochas': 3, 'pôr': 5, 'domingos': 2, 'curioso': 4, 'sel-o': 2, 'piscando': 1, 'olho': 3, 'esquerdo': 2, 'aviso': 4, 'zangado': 3, 'ceder-lhe': 2, 'costumava': 2, 'sacramento': 2, 'moribundos': 1, 'levando': 2, 'conseguira': 1, 'cobrir': 1, 'pia': 3, 'risonha': 2, 'entrára': 1, 'pedil-o': 2, 'tornava': 4, 'interrompida': 3, 'regressava': 1, 'antigo': 9, 'cargo': 3, 'tolheu-me': 1, 'acto': 9, 'generosidade': 1, 'puzesse': 1, 'rompendo': 1, 'marcha': 4, 'enfiadas': 1, 'distribuidas': 1, 'accesas': 2, 'ciborio': 1, 'promptos': 1, 'hyssope': 1, 'campainha': 2, 'prestito': 1, 'ajoelhavam': 2, 'commovido': 3, 'roía': 1, 'amargamente': 1, 'metaphora': 4, 'fórma': 3, 'humilhação': 1, 'miral-o': 2, 'parallelamente': 1, 'exercitos': 1, 'senti-me': 2, 'caíam-me': 1, 'felizmente': 1, 'senado': 2, 'enferma': 3, 'tisica': 1, 'formosa': 1, 'tivesse': 16, 'caíam': 3, 'despenteados': 1, 'faziam-lhe': 1, 'encarquilhar': 1, 'total': 7, 'captivava': 1, 'vigário': 2, 'deu-lhe': 2, 'communhão': 1, 'oleos': 5, 'pranto': 2, 'redobrou': 2, 'molhados': 3, 'fugi': 1, 'porto': 2, 'jannela': 1, 'dor': 3, 'communicativa': 1, 'complicada': 1, 'doeu-me': 3, 'impeto': 5, 'soluçar': 1, 'enfiei': 6, 'chore': 1, 'imagem': 5, 'attribuira': 1, 'encheu': 1, 'vi-a': 1, 'volta': 14, 'distinctamente': 1, 'doçura': 2, 'embriagou': 1, 'lugubres': 1, 'tinham-me': 1, 'lustre': 3, 'nupcial': 2, 'bodas': 1, 'dominou': 1, 'ouvido': 7, 'saida': 8, 'distancia': 9, 'voltavamos': 2, 'menoro': 1, 'mui': 3, 'sol': 10, 'animação': 2, 'fitavam': 2, 'cheios': 3, 'inveja': 6, 'devotas': 2, 'chegavam': 2, 'entravam': 1, 'corredores': 1, 'enchia': 2, 'lepidez': 1, 'humilhado': 1, 'substituido': 1, 'consolar': 1, 'miseravel': 1, 'traziam': 5, 'mostravam': 1, 'compostura': 2, 'garridos': 1, 'tristes': 4, 'via-se': 1, 'caminhavam': 1, 'honra': 3, 'xxxi': 1, 'curiosidades': 5, 'preferia': 3, 'abatida': 2, 'larga': 1, 'mostrou-se': 1, 'satisfeita': 1, 'deixemos': 2, 'socegado': 3, 'marcou': 1, 'prometteu': 1, 'repetisse': 1, 'alterações': 1, 'contára': 1, 'minuciosa': 1, 'attenta': 3, 'dialogo': 2, 'remoer': 1, 'conferia': 1, 'rotulava': 1, 'pregava': 1, 'exposição': 4, 'ventura': 5, 'optima': 1, 'conceitos': 1, 'incutir': 2, 'curiosa': 3, 'explicaveis': 1, 'inexplicaveis': 2, 'uteis': 2, 'frivolas': 1, 'apprendera': 1, 'obras': 2, 'agulha': 2, 'renda': 2, 'justtina': 1, \"lh'o\": 5, 'ensinasse': 1, 'estudou': 1, 'propôr': 1, 'gracejando': 1, 'confessou-me': 6, 'compensação': 1, 'professor': 7, 'parceiro': 3, 'sólo': 1, 'ensinou-lhe': 1, 'apanhar': 5, 'capotinho': 1, 'dizia-lhe': 1, 'obedecia': 1, 'facilidade': 4, 'achal-a': 1, 'desenhando': 1, 'lapís': 1, 'retraio': 1, 'rasgos': 3, 'copiado': 1, 'tela': 1, 'esbogalhados': 1, 'circulos': 1, 'rudimento': 1, 'merecimento': 1, 'descontai-me': 1, 'sympathia': 5, 'apprenderia': 2, 'namorava': 2, 'piano': 6, 'traste': 1, 'inutil': 2, 'estimação': 1, 'romances': 2, 'folheava': 1, 'gravuras': 2, 'ruinas': 1, 'campanhas': 3, 'lograr': 1, 'erudito': 1, 'erudição': 1, 'avultava': 1, 'homoepathia': 1, 'cantagallo': 1, 'disse-lho': 1, 'summariamente': 1, 'demorando-se': 1, 'exclamações': 1, 'latins': 1, 'julio': 1, 'quoque': 1, 'brute': 1, 'acções': 4, 'citadas': 1, 'davam-lhe': 1, 'virada': 1, 'perola': 2, 'milhões': 1, 'sestercios': 1, 'sestercio': 2, 'enthusiasmado': 2, 'accendia': 1, 'preferia-se': 1, 'collar': 2, 'diadema': 1, 'viuvas': 1, 'botou': 1, 'coroação': 2, 'conte-me': 1, 'haviam': 3, 'conheceriam': 1, 'ruas': 7, 'tribunas': 1, 'capella': 1, 'salões': 1, 'bailes': 2, 'nascera': 1, 'daquellas': 6, 'ouvindo': 6, 'varias': 4, 'maioridade': 1, 'teimou': 3, 'acontecimento': 1, \"disseram-lh'o\": 1, 'throno': 1, 'mobilias': 1, 'alfaias': 1, 'adagio': 3, \"d'acolá\": 1, 'xxxii': 1, 'ressaca': 14, 'ensinou': 1, 'ambas': 5, 'contarei': 3, \"n'este\": 1, 'ajuste': 2, 'perguntasse': 1, 'penteando': 1, 'cabello': 4, 'devagarzinho': 1, 'pregar': 1, 'espelho': 4, 'traiu-me': 1, 'espelhinho': 2, 'pataca': 1, '(perdoai': 1, 'barateza)': 1, 'mascate': 1, 'moldura': 2, 'tosca': 1, 'argolinha': 1, 'latão': 1, 'voou': 1, 'pergunta': 7, 'chegue': 3, 'fala': 6, 'pretende': 1, 'tocar': 4, 'assumpto': 10, 'pancada': 4, 'toque': 1, 'entrará': 1, 'influir': 1, 'sentir': 7, 'attendido': 1, 'teime': 1, 'teimo': 1, 'jura': 7, 'juro': 12, 'tinha-me': 1, 'lembrado': 2, 'chamar': 6, 'fitar': 2, 'vira': 4, 'extraordinário': 1, 'intento': 1, 'imaginou': 1, 'miral-os': 1, 'constantes': 1, 'enfiados': 3, 'nelles': 1, 'attribuo': 2, 'entrassem': 1, 'crescidos': 2, 'sombrios': 2, 'rhetorica': 1, 'dá-me': 1, 'comparação': 5, 'poetica': 1, 'aquelles': 6, 'acode': 1, 'quebra': 1, 'dignidade': 1, 'fluido': 3, 'mysterioso': 1, 'energico': 1, 'arrastava': 1, 'retira': 1, 'agarrei-me': 3, 'visinhas': 3, 'espalhados': 1, 'hombros': 2, 'buscava': 6, 'onda': 2, 'crescendo': 4, 'cava': 1, 'escura': 6, 'ameaçando': 1, 'envolver-me': 1, 'puxar-me': 1, 'tragar-me': 1, 'quantos': 4, 'gastámos': 2, 'relogios': 1, 'infinito': 7, 'pendulas': 1, 'duração': 2, 'felicidades': 1, 'supplicios': 1, 'dobrar': 1, 'gozo': 1, 'bemaventurados': 1, 'tormentos': 1, 'padecido': 2, 'inimigos': 2, 'quantidade': 1, 'delicias': 1, 'gozado': 1, 'desaffectos': 1, 'augmentará': 1, 'dores': 1, 'condemnados': 1, 'supplicio': 1, 'escapou': 3, 'divino': 5, 'dante': 2, 'poetas': 2, 'definitivamente': 2, 'disse-lhepara': 1, 'cousaque': 1, 'pentear': 2, 'embaraçar-me': 1, 'embaraçar': 1, 'desembaraça': 1, 'xxxiii': 1, 'penteado': 9, 'deu-me': 11, 'peguei-lhe': 6, 'colhi-os': 1, 'alisal-os': 1, 'ultimas': 4, 'cintura': 3, 'esquecestes': 1, 'nadinha': 1, 'altura': 4, 'sentasse': 1, 'senta': 2, 'cabelleireiro': 2, 'alisar': 1, 'dividi-os': 1, 'porções': 1, 'eguaes': 2, 'compor': 3, 'trancas': 1, 'podem': 1, 'suppôr': 1, 'cabelleireiros': 1, 'devagarinho': 2, 'saboreando': 1, 'tacto': 1, 'fios': 1, 'atrapálhado': 1, 'desaso': 1, 'refazel-o': 1, 'roçavam': 2, 'espaduas': 1, 'vestidas': 1, 'deleite': 1, 'interminaveis': 1, 'pedi': 6, 'aurora': 2, 'divindade': 1, 'apresentaram': 1, 'desejei': 1, 'penteal-os': 1, 'seculos': 6, 'tecer': 1, 'pudessem': 2, 'envolver': 1, 'innominavel': 1, 'vos': 3, 'emphatico': 2, 'penteastes': 1, 'puzestes': 1, 'nympha': 3, 'mythologico': 1, 'thetis': 2, 'risquei': 2, 'risquemos': 1, 'somente': 2, 'amada': 3, 'envolve': 1, 'potencias': 1, 'christãs': 1, 'pagãs': 1, 'fita': 2, 'atar-lhes': 1, 'mesa': 10, 'triste': 10, 'pedaço': 7, 'enxovalhada': 1, 'juntei': 1, 'uni-as': 1, 'laço': 1, 'retoquei': 1, 'alargando': 1, 'achatando': 1, 'exclamei': 2, 'estará': 3, 'veja': 8, 'pensaes': 1, 'esqueçaes': 1, 'quo': 2, 'sentada': 2, 'derreou': 2, 'amparal-a': 1, 'espaldar': 1, 'cadeira': 6, 'inclinei-me': 3, 'trocados': 1, 'linha': 4, 'levantasse': 1, 'tonta': 2, 'machucar': 1, 'feia': 3, 'moveu': 1, 'levanta': 3, 'abrochou': 1, 'desci': 2, 'beijo': 8, 'ergueu-se': 7, 'rapida': 4, 'recuei': 3, 'escuros': 2, 'clarearam': 1, 'atrevi': 1, 'faltava-me': 1, 'preso': 3, 'descolasse': 1, 'atirasse': 1, 'callidas': 1, 'mimosas': 1, 'mofes': 1, 'precoce': 1, 'grieux': 1, 'grieux)': 1, 'sexos': 1, 'xxxiv': 1, 'ouvimos': 3, 'compoz-se': 2, 'apontou': 1, 'laivo': 1, 'amarello': 2, 'contracção': 1, 'acanhamento': 2, 'espontaneo': 1, 'claro': 21, 'alegres': 3, 'penteou': 1, 'transbordando': 1, 'benevolencia': 1, 'redarguiu': 2, 'desfazendo': 2, 'enfadamento': 1, 'gracioso': 1, 'voluntario': 1, 'alisou': 1, 'renovar': 1, 'chamou-lhe': 2, 'maluquices': 1, 'parece-me': 5, 'desconfiou': 1, 'houvera': 1, 'dissimulação': 4, 'disfarçar': 3, 'estado': 6, 'chamei': 1, 'encheram-me': 1, 'fechava-me': 2, 'exclamação': 5, 'artigo': 1, 'investissem': 1, 'logravam': 1, 'romper': 2, 'recolheram-se': 1, 'murmurando': 2, 'eis': 12, 'emoções': 4, 'dominem': 1, 'contrarios': 1, 'publicava': 1, 'tirou-me': 1, 'mandára': 1, 'despedi-me': 3, 'censurava': 1, 'maneiras': 9, 'passei': 5, 'sentei-me': 2, 'recordando': 3, 'estremeções': 1, 'rodeavam': 1, 'viver': 8, 'via': 17, 'proximo': 5, 'beiços': 5, 'sentia-os': 1, 'estirados': 1, 'egualmente': 5, 'esticados': 1, 'unindo-se': 1, 'saiu-me': 1, 'boca': 4, 'suppuz': 2, 'tivessem': 1, 'alcova': 4, 'éco': 1, 'colombo': 1, 'descobrindo': 1, 'america': 1, 'perdoai': 1, 'banalidade': 2, 'cabimento': 1, 'encoberto': 4, 'almirante': 1, 'outubro': 1, 'achados': 1, 'deslumbrou': 1, 'alvoroçara-me': 1, 'abalo': 2, 'vistes': 1, 'ossos': 2, 'carne': 3, 'tocadas': 1, 'apertadas': 1, 'fundidas': 2, 'terceira': 5, 'pensa': 3, 'abortado': 1, 'pesadelo': 1, 'padres': 6, 'abuso': 1, 'osculares': 1, 'saudade': 3, 'repassar': 1, 'comprehensiva': 1, 'revelou': 2, 'vastas': 1, 'doces': 5, 'intellectuaes': 1, 'intensas': 1, 'xxxv': 1, 'protonotario': 24, 'apostolico': 10, 'enfim': 1, 'precisamente': 1, 'advertindo': 1, 'ler-me': 1, 'semblante': 1, 'mentir': 7, 'allegar': 1, 'deitado': 3, 'causaria': 1, 'rejeital-a': 1, 'prometter': 1, 'dezenas': 1, 'aberto': 4, 'conversavam': 2, 'cuidadosamente': 1, 'ralhou': 1, 'recebera': 2, 'recado': 4, 'internuncio': 2, 'soube': 5, 'decreto': 1, 'pontificio': 1, 'nomeado': 1, 'papa': 8, 'dera-lhe': 2, 'contentamento': 1, 'soava': 1, 'acostumados': 1, 'conegos': 1, 'monsenhores': 1, 'bispos': 1, 'nuncios': 1, 'internuncios': 1, 'propriamente': 7, 'curia': 1, 'honras': 3, 'exalçar-se': 1, 'voltarete': 2, 'prepara-te': 1, 'pódes': 3, 'tamborilava': 1, 'tampa': 1, 'dobrava': 2, 'magnificencia': 1, 'ligal-o': 1, 'demasiado': 1, 'dizel-o': 7, 'chamassem': 2, 'subentendia-se': 1, 'protonotarioacudiu': 1, 'acostumando': 2, 'tituloisto': 1, 'roma': 6, 'observou': 3, 'impededisse': 1, 'reflectirnão': 1, 'casos': 6, 'formalidade': 1, 'actos': 5, 'publicos': 1, 'cartas': 11, 'empregue': 2, 'inteiro': 2, 'assentiram': 1, 'applaudiu': 1, 'recordou': 1, 'primeiros': 13, 'pio': 3, 'italia': 2, 'voltando': 5, 'entendi': 4, 'comprimental-o': 1, 'applauso': 1, 'bateu-me': 2, 'bochecha': 1, 'paternalmente': 1, 'dando-me': 2, 'férias': 6, 'sacudindo': 1, 'barriga': 1, 'chamou-me': 1, 'peralta': 8, 'corrigiu': 2, 'festejar': 1, 'conheci': 2, 'semente': 1, 'lançada': 1, 'acostumar': 1, 'tristeza': 5, 'accentuou': 1, 'ligado': 3, 'desaforo': 1, 'quieta': 2, 'muda': 2, 'pedem': 1, 'rematemos': 1, 'alheio': 1, 'esquecido': 4, 'deslumbrava': 1, 'sereno': 4, 'dotado': 1, 'defeitos': 2, 'excelso': 1, 'guloso': 1, 'glotão': 1, 'comia': 2, 'estimava': 2, 'fino': 2, 'cosinha': 1, 'seriam': 8, 'aposlolicos': 1, 'descrevendo': 1, 'ecclesiastico': 2, 'anuo': 1, 'offerecia-se': 1, 'marchetado': 1, 'xxxvi': 1, 'deixei-os': 1, 'brincar': 3, 'fui-me': 3, 'correndo': 4, 'agarrar': 2, 'desfazer-lhe': 1, 'refazel-as': 1, 'concluil-as': 1, 'queriam': 8, 'correr': 9, 'vagarosamente': 1, 'levaram-me': 1, 'marqueza': 1, 'almofada': 1, 'regaço': 1, 'cosendo': 1, 'paz': 3, 'olhou': 11, 'furto': 2, 'preferes': 1, 'phraseologia': 1, 'pararam': 3, 'encravada': 1, 'panno': 3, 'opposto': 2, 'fugiram': 1, 'compridos': 1, 'costura': 3, 'esperou-me': 1, 'cuido': 5, 'haver-me': 4, 'provocado': 1, 'approximação': 1, 'recuou': 2, 'pegal-a': 1, 'puxal-a': 2, 'beijal-a': 2, 'ficaram': 6, 'caidos': 1, 'conhecesse': 2, 'cantico': 3, 'directo': 1, 'obedeceria': 1, 'versiculo': 1, 'applique': 1, 'osculo': 2, 'respeita': 1, 'inertes': 1, 'bastaria': 4, 'vers': 2, '6o': 1, 'cap': 3, 'abraçará': 1, 'vedes': 1, 'chronologia': 1, 'executal-a': 1, 'attitudes': 1, 'retrahidas': 1, 'continuaria': 1, 'parado': 2, 'tirou': 4, 'xxxvii': 1, 'mysterios': 3, 'eslava': 1, 'esperando': 8, 'expliquei-lhe': 4, 'motivo': 6, 'contei-lhe': 3, 'falara': 2, 'apoiando': 1, 'feias': 1, 'duras': 1, 'reflectiu': 2, 'perguntando-me': 1, 'comprimentar': 2, 'meia': 9, 'animou-me': 4, 'troça': 2, 'achei-lhe': 4, 'provar-lhe': 1, 'tremulo': 3, 'puxar': 2, 'obrigal-a': 1, 'achei-me': 1, 'atrevido': 1, 'imitava': 1, 'ensinassem': 2, 'anecdotas': 1, 'violação': 1, 'lucrecia': 1, 'romanos': 1, 'artinha': 1, 'pereira': 2, 'patricios': 1, 'poncio': 1, 'pilatos': 1, 'movimentação': 1, 'amorosa': 1, 'differiam': 1, 'ameacei': 1, 'alvoroçado': 1, 'consciência': 1, 'recuar': 4, 'collocou': 1, 'fugiu': 3, 'busto': 3, 'obrigou': 2, 'reter-lhe': 1, 'cançou': 2, 'cedeu': 4, 'caida': 1, 'inutilisava': 1, 'lodos': 1, 'esforços': 4, 'conhecendo': 1, 'estender': 1, 'suppõe': 2, 'accordo': 4, 'vontades': 1, 'resistia': 1, 'aproveitaria': 1, 'arrancar-se': 1, 'fugir-me': 2, 'luta': 2, 'estrepito': 3, 'ataque': 2, 'defesa': 7, 'perdiamos': 1, 'cautela': 2, 'necessaria': 3, 'puxava': 1, 'iniciou': 2, 'movimento': 3, 'inverso': 1, 'relativamente': 2, 'indo': 8, 'desencontro': 1, 'estivemos': 1, 'ousasse': 1, 'bater': 3, 'abre': 2, 'nanata': 1, 'apparentemente': 2, 'lance': 6, 'considerai': 1, 'acabado': 3, 'compuzessemos': 1, 'lutavamos': 1, 'ferrolho': 1, 'abria': 3, 'soltar': 1, 'tental-o': 1, 'inesperado': 1, 'recusar': 2, 'repito': 2, 'xxxviii': 1, 'inclinada': 1, 'recolhel-a': 1, 'ó': 4, 'vivam': 1, 'exclamou': 5, 'dominava': 3, 'metteu': 2, 'atava': 1, 'ingenuidade': 2, 'batia': 4, 'allegou': 1, 'apertou': 3, 'repeliu-lhe': 1, 'ouvira': 7, 'opinou': 3, 'colligindo': 1, 'petrechos': 1, 'enfiou': 3, 'bradando': 2, 'infantilmente': 1, 'xxxix': 1, 'minimas': 1, 'congratulações': 1, 'odes': 2, 'chega': 4, 'dignificados': 1, 'louvores': 5, 'tributo': 1, 'usual': 1, 'morta': 5, 'inclinação': 3, 'arbusto': 1, 'tocado': 2, 'vento': 7, 'parabém': 1, 'flora': 1, 'universal': 2, 'intimas': 2, 'obrigado': 6, 'estimo': 1, 'goste': 1, 'voce': 2, 'vende': 1, 'rezas': 2, 'respondendo': 2, 'vestidinho': 1, 'deteve-se': 2, 'desforrar': 1, 'concurrencia': 1, 'paternal': 1, 'augustissimo': 1, 'prosa': 3, 'confirmou': 4, 'accrescentou': 7, 'cardeal': 1, 'mastai': 1, 'fôra': 2, 'talhado': 1, 'tiára': 1, 'piscando-me': 2, 'comtanto': 2, 'sacerdote': 3, 'sincera': 3, 'real': 1, 'humanas': 3, 'honradas': 1, 'soberano': 1, 'perseguil-a': 1, 'apostolo': 2, 'contesto': 2, 'póde-se': 4, 'triumphalmente': 2, 'profissão': 1, 'liberal': 1, 'serve': 1, 'devemos': 1, 'moço': 11, 'determine': 1, 'modelo': 2, 'nasci': 2, 'padrinho': 3, 'coadjutor': 1, 'rita': 1, 'tomei': 3, 'ordenando-me': 1, 'acontecia': 3, 'mudava': 1, 'estudado': 1, 'materias': 4, 'ensinadas': 1, 'naquellas': 2, 'casas': 16, 'interveiu': 3, 'manifesta': 3, 'brinquedos': 2, 'adorava': 1, 'divinos': 1, 'provava': 1, 'reitor': 4, 'contara': 1, 'nascimento': 1, 'milagre': 1, 'cosida': 1, 'anciosos': 1, 'mandava': 1, 'escutar': 2, 'consequencias': 2, 'decorou': 2, 'ficassemos': 1, 'sósinhos': 2, 'despediu-se': 4, 'atravessar': 2, 'impulsos': 3, 'atravessal-a': 1, 'seguir': 1, 'terceiro': 11, 'despedir-me': 2, 'importou': 1, 'simulada': 1, 'estacou': 1, 'signal': 10, 'voltasse': 1, 'cheguei-me': 1, 'falaremos': 1, 'dedo': 3, 'vendo-nos': 1, 'attitude': 1, 'escuras': 3, 'ouvissemos': 1, 'entendí': 1, 'segredou-me': 1, 'desconfiara': 1, 'intimou': 1, 'ficasse': 4, 'retirou-se': 2, 'deixei-me': 3, 'pregado': 1, 'agarrado': 1, 'xl': 1, 'egua': 2, 'reflecti': 3, 'fantasia': 2, 'conheceis': 1, 'fantasias': 1, 'contei-vos': 1, 'disse-vos': 1, 'reproduzindo': 1, 'companheira': 3, 'empacar': 1, 'engolir': 1, 'tacito': 1, 'eguas': 1, 'iberas': 1, 'concebiam': 1, \"n'outro\": 1, 'entendeu': 3, 'crendice': 1, 'ibera': 1, 'brisa': 1, 'potro': 1, 'alexandre': 1, 'metaphoras': 2, 'simplesmente': 2, 'amores': 5, 'tornava-me': 1, 'assustava': 1, 'abria-me': 2, 'duvidar': 3, 'conto-lhe': 2, 'xli': 1, 'secreta': 4, 'pensando': 9, 'preparou-se': 1, 'dando': 4, 'acompanhara': 1, 'investindo': 1, 'assustada': 2, 'doia': 2, 'estomago': 2, 'apalpava-me': 1, 'febre': 10, 'escute': 2, 'mau': 4, 'assusta-se': 2, 'molestia': 2, 'constipação': 1, 'disfarças': 1, 'suadouro': 1, 'estás': 3, 'constipado': 1, 'conhece-se': 1, 'tentei': 5, 'permittiu': 1, 'adiar': 2, 'confidencia': 3, 'levou-me': 1, 'vela': 4, 'ordenou-me': 1, 'perguntei-lhe': 5, 'principiar': 1, 'volto': 2, 'sabbados': 5, 'ordenares': 1, 'vens': 1, 'morar': 2, 'enxuguei': 3, 'afagou-me': 1, 'reprehender-me': 1, 'tremia': 1, 'pareceu-me': 5, 'humidos': 2, 'negou': 3, 'ausencia': 6, 'acostumaria': 1, 'mestres': 1, 'acabaria': 1, 'gostando': 4, 'estimei': 2, 'dizel-a': 3, 'unica': 7, 'affeição': 5, 'desviava': 1, 'suspeitas': 2, 'quantas': 3, 'intenções': 1, 'viciosas': 1, 'embarcam': 1, \"n'uma\": 7, 'innocente': 3, 'involuntaria': 1, 'transpiração': 1, 'desviar': 1, 'chamado': 3, 'confirmal-as': 1, 'contradicções': 1, 'intuição': 1, 'deduzir': 1, 'concluiria': 1, 'opposição': 1, 'andasse': 2, 'replicou-me': 2, 'imposição': 1, 'animando': 1, 'dahi': 5, 'discutira': 1, 'confessei': 1, 'gostavas': 2, 'lembras': 2, 'pedias': 1, 'seminaristas': 7, 'batinas': 2, 'reverendissimo': 1, 'rias': 1, 'repetindo': 3, 'contestal-a': 1, 'reprehendeu-me': 1, 'aspereza': 2, 'submisso': 1, 'gravemente': 2, 'longamente': 2, 'affirmou': 2, 'pagamento': 3, 'salvando': 1, 'tua': 5, 'faltar': 4, 'fazem': 7, 'poderoso': 1, 'deixaria': 2, 'castigada': 2, 'vive': 1, 'tao': 2, 'irmã': 3, 'manha': 6, 'deitei': 4, 'queixosos': 1, 'emendou': 3, 'fingir': 1, 'molleza': 2, 'obedecesse': 2, 'ditas': 2, 'atropelladamente': 1, 'saia': 6, 'velada': 1, 'esganada': 1, 'recuava': 1, 'propositos': 1, 'aventurei-me': 1, 'perguntar-lhe': 3, 'dispensasse': 1, 'dispensava': 1, 'num': 1, 'inútil': 1, 'irás': 1, 'saibas': 1, 'estudando': 2, 'ti': 5, 'conhecer-te': 1, 'enthusiasmo': 2, 'caminhou': 2, 'saimos': 4, 'voltou-se': 3, 'saltar-me': 1, 'collo': 2, 'intimo': 2, 'proporção': 1, 'approximava': 1, 'quizera': 7, 'contrahida': 1, 'valesse': 1, 'xlii': 1, 'despedia-se': 1, 'visital-a': 1, 'paula': 1, 'sandia': 2, 'companheiras': 1, 'desessete': 1, 'commerciante': 2, 'objectos': 3, 'americanos': 1, 'lenço': 6, 'atado': 2, 'contou-me': 3, 'excesso': 1, 'lamparina': 1, 'accendesse': 1, 'zangava-se': 1, 'desatasse': 1, 'timidamente': 1, 'atal-o': 1, 'sós': 4, 'accrescentando': 1, 'passara': 1, 'déra': 1, 'entrevista': 1, 'supplicas': 2, 'decisivas': 1, 'fariamos': 2, 'ouvia-me': 1, 'sofrega': 1, 'sombria': 1, 'respirava': 2, 'custo': 1, 'prestes': 1, 'estalar': 1, 'conteve-se': 1, 'segurança': 1, 'vendo-lhe': 1, 'animal-a': 2, 'precisava': 4, 'animado': 1, 'caimos': 1, 'canapé': 8, 'minto': 1, 'fitava': 4, 'fendas': 1, 'moscas': 1, 'lascado': 1, 'distraía-me': 1, 'mexia': 1, 'sacudi': 3, 'brandamente': 1, 'passára': 1, 'satisfil-a': 1, 'attenuando': 1, 'amofinal-a': 1, 'chames': 1, 'dissimulado': 2, 'chama-me': 1, 'compassivo': 1, 'morressem': 2, 'doia-me': 1, 'vel-a': 8, 'padecer': 3, 'verdades': 1, 'arrependia': 1, 'examinando': 1, 'reputava': 1, 'demorado': 2, 'xliii': 1, 'cessando': 1, 'brigar': 1, 'entenderia': 1, 'solta': 2, 'atinar': 1, 'entendo': 5, 'impaciencia': 4, 'mexiam': 1, 'crescer': 5, 'interrogal-a': 1, 'cogitar': 1, \"d'onde\": 1, 'viriam': 2, 'pancadas': 2, 'prender': 3, 'valha-me': 1, 'infecta': 2, 'presiganga': 1, 'quartel': 2, 'barbonos': 3, 'instituições': 1, 'sociaes': 1, 'envolviam': 1, 'mysterio': 5, 'deixassem': 1, 'erro': 6, 'deixal-os': 1, 'infinitamente': 1, 'diminuir': 2, 'normaes': 1, 'dar-lhes': 1, 'affligir-me': 1, 'medroso': 1, 'desculpe': 2, 'está-me': 1, 'botar': 2, 'rodella': 1, 'limão': 1, 'fontes': 1, 'atou': 3, 'seguida': 2, 'acompanhou-me': 1, 'despedir': 1, 'detivemos': 1, 'sentados': 2, 'borda': 2, 'ventava': 1, 'facto': 3, 'definitivo': 1, 'receioso': 2, 'razões': 4, 'cie': 1, 'taquara': 4, 'narizes': 1, 'perfis': 2, 'mettera': 1, 'desenhar': 1, 'diversões': 2, 'lapis': 2, 'lembrassem': 1, 'attendeu': 2, 'xliv': 1, 'obliquo': 1, 'levantar': 3, 'sumida': 1, 'disfarce': 2, 'escolhia': 2, 'morrer': 14, 'mato': 1, 'vier': 3, 'risinho': 1, 'descorado': 2, 'incredulo': 1, 'escreveu': 2, 'extranho': 3, 'atinava': 2, 'acudisse': 2, 'injuria': 3, 'escrevesse': 2, 'lembrava': 4, 'vazia': 1, 'tomei-me': 1, 'solidão': 1, 'andorinhas': 6, 'passaram': 1, 'morro': 1, 'tropel': 2, 'bestas': 2, 'chilrear': 1, 'espiava': 3, 'escarninho': 1, 'repercutia': 1, 'acceital-a': 1, 'desforço': 1, 'pueril': 1, 'atirar-se': 1, 'lavada': 1, 'limitou-se': 1, 'arregalar': 1, 'conego': 4, 'roxas': 2, 'roxo': 1, 'primeiramente': 1, 'mordendo': 2, 'pretas': 3, 'virão': 1, 'avise-me': 1, 'balão': 1, 'babados': 1, 'nesse': 9, 'carmo': 1, 'francisco': 1, 'candelaria': 2, 'sorve': 1, 'ouça': 1, 'figurão': 1, 'faceira': 1, 'bonitoaquella': 1, 'morou': 2, 'mudar-se': 1, 'tornando': 2, 'sarcasmo': 1, 'alva': 2, 'capa': 2, 'pater': 1, 'noster': 1, 'romantico': 1, 'duello': 1, 'ironias': 1, 'contaria': 2, 'botes': 1, 'promptidão': 1, 'furor': 1, 'golpe': 3, 'ouvirá': 1, 'condição': 2, 'reverendíssima': 1, 'promette': 2, 'acudido': 1, 'penitencia': 1, 'absolvição': 3, 'promettida': 1, 'custou': 3, 'chegasse': 2, 'ouviria': 1, 'escreveria': 1, 'incredulos': 1, 'promette-me': 1, 'case': 7, 'commovida': 1, 'descair': 1, 'leva': 1, 'baptisar': 1, 'xlv': 1, 'abane': 2, 'incredulidade': 1, 'tédio': 1, 'fio': 3, 'torne': 1, 'abra': 1, 'pagina': 3, 'veracidade': 1, 'todavia': 2, 'boneca': 1, 'espanto': 3, 'mistura': 1, 'exquisita': 3, 'percorreu-me': 1, 'casamento': 6, 'portanto': 3, 'absoluta': 1, 'anniquilação': 1, 'produzia': 1, 'estupido': 2, 'xlvi': 1, 'pazes': 2, 'fizeram-se': 1, 'negociações': 1, 'partiram': 1, 'estivesse': 12, 'cabisbaixo': 2, 'abaixou': 1, 'fiz-me': 3, 'rogado': 1, 'levantar-me': 1, 'fitou-me': 2, 'ternos': 2, 'posição': 2, 'passei-lhe': 1, 'ponta': 4, 'descargo': 1, 'devoção': 2, 'certificar': 1, 'realidade': 4, 'apertar': 5, 'pacificámos': 1, 'culpas': 1, 'pediamos': 1, 'reciprocamente': 1, 'allegava': 1, 'insomnia': 1, 'abatimento': 1, 'calundús': 1, 'chorão': 1, 'puro': 9, 'padecimentos': 2, 'amiguinha': 1, 'reconciliação': 3, 'xlvii': 1, 'explique-me': 1, 'bolir': 1, 'explicação': 6, 'agradou-me': 1, 'reconhecer': 2, 'dessas': 8, 'creadas': 1, 'pressa': 3, 'cumplicidade': 1, 'eguala': 1, 'contando': 6, 'enganadas': 1, 'descem': 1, 'arrependimento': 3, 'creada': 1, 'galante': 1, 'appetecivel': 1, 'ama': 2, 'sommando': 2, 'illusões': 1, 'temores': 1, 'começando': 1, 'sommar': 2, 'xlviii': 1, 'juramento': 9, 'havido': 2, 'espantou': 1, 'casar': 12, 'somos': 1, 'creançolasjá': 1, 'passam': 2, 'vermelhas': 1, 'jurou': 2, 'cumprirei': 1, 'casando': 2, 'queira': 3, 'apaixonar-se': 1, 'lembrar-se': 1, 'casarei': 1, 'bastar': 2, 'atrevo': 1, 'juremos': 3, 'havemos': 2, 'haja': 3, 'houver': 2, 'comprehendeis': 1, 'eleição': 1, 'conjuge': 1, 'affirmação': 2, 'matrimonio': 2, 'formula': 4, 'limitada': 1, 'exclusiva': 1, 'solteirões': 1, 'vantagem': 4, 'fortalecer': 1, 'investidura': 3, 'jurámos': 2, 'felizes': 5, 'tínhamos': 1, 'testemunha': 1, 'temia': 2, '**se': 1, 'conta': 7, 'ordens': 4, 'acceitando': 2, 'alvitre': 4, 'affligiamos': 1, 'correria': 1, 'fazer-se': 2, 'confirmaria': 2, 'xlix': 1, 'tantas': 4, 'canceiras': 1, 'tocavamos': 1, 'deviamos': 2, 'abrigado': 1, 'censures': 1, 'piloto': 1, 'navegam': 1, 'corações': 3, 'mares': 3, 'contentes': 1, 'entramos': 2, 'esposa': 6, 'viriamos': 1, 'arrabalde': 1, 'aborrecer': 3, 'plantei-lhe': 1, 'escolhi': 2, 'moveis': 3, 'oratorio': 2, 'haviamos': 4, 'jacarandá': 1, 'demorei-me': 1, 'compensar': 2, 'batina': 1, 'ortigas': 1, 'restava': 1, 'intuito': 2, 'inconsciente': 1, 'captara': 1, 'sabbabos': 1, 'l': 1, 'chorei': 3, 'sommaria': 1, 'vertidas': 1, 'adão': 1, 'eva': 1, 'exageração': 3, 'escrupulo': 4, 'exactidão': 1, 'afflige': 1, 'ativer': 1, 'fico': 1, 'preparado': 1, 'padeci': 1, 'padeceu': 2, 'soffria': 1, 'achára': 2, 'experimentar-me': 1, 'revelasse': 1, 'seguiria': 1, 'nega': 1, 'disposição': 3, 'concedeu': 1, 'concessão': 1, 'antecipado': 1, 'fazendo': 6, 'credor': 3, 'relevação': 2, 'brilharam': 1, 'alcançado': 1, 'agarrou-se': 1, 'apoiou': 1, 'decisiva': 2, 'passa': 6, 'amiguinho': 1, 'remedio': 7, 'annunciou': 1, 'ida': 3, 'definitiva': 3, 'companheiro': 4, 'fez-lhe': 3, 'tratamento': 2, '(era': 1, 'dava)': 1, 'beijou-lhe': 1, 'supportar': 1, 'paciencia': 5, 'estariam': 3, 'mudadas': 1, 'despedida': 6, 'prendiamos': 1, 'prendendo': 1, 'assidua': 1, 'terna': 2, 'sympathico': 1, 'sensivel': 1, 'doía': 1, 'aprazia': 1, 'porção': 3, 'graças': 6, 'novas': 9, 'dotes': 2, 'raros': 1, 'anel': 1, 'galanterias': 1, 'photographar-se': 1, 'miniatura': 1, 'hesitações': 1, 'resolveu': 1, \"dar-lh'a\": 1, 'mimo': 1, 'descrevem': 2, 'obliquos': 1, 'lucidos': 1, 'paixão': 7, 'fusco': 2, 'durou': 1, 'pôde': 1, 'velas': 2, 'despedimos': 1, 'aperto': 1, 'sellou': 1, 'contracto': 5, 'conjuncção': 1, 'boccas': 1, 'amorosas': 2, 'risque': 1, 'mandamento': 1, 'cartorio': 2, 'sello': 1, 'limpas': 2, 'limpos': 1, 'malicia': 4, 'perversa': 2, 'casal': 2, 'meninice': 2, 'aula': 2, 'sacerdotal': 1, 'eras': 4, 'lii': 1, 'ja': 2, 'adeuses': 1, 'licença': 6, 'mettendo': 1, 'apertar-lhe': 1, 'abraçou-me': 3, 'ficam': 1, 'estimamos': 1, 'disserem': 2, 'acredite': 1, 'intrigas': 2, 'casei': 1, 'victima': 3, 'desfizeram-se': 1, 'descobre': 1, 'tiocousa': 1, 'allumia': 1, 'excedentes': 1, 'grato': 1, 'finezas': 2, 'parasitas': 1, 'vindos': 1, 'desunião': 2, 'aduladores': 1, 'baixos': 1, 'papando': 1, 'jantares': 2, 'alheia': 2, 'importancia': 2, 'trapinho': 1, 'caderno': 1, 'latino': 2, 'botão': 1, 'collete': 1, 'preste': 1, 'sobresalto': 2, 'embrulhado': 1, 'cacho': 1, 'cortados': 1, 'leval-os': 1, 'dal-o': 3, 'saberia': 1, 'lomal-o': 1, 'guardal-o': 2, 'embrulho': 2, \"dei-lh'o\": 1, 'guarde': 1, 'cachinho': 1, 'abrindo': 2, 'dai-o': 1, 'cuidadosa': 1, 'corta': 1, 'abraço': 1, 'desenganados': 1, 'empregou': 2, 'economias': 2, 'branco': 3, 'maldito': 1, 'numeroum': 1, 'liii': 1, 'poupa-me': 1, 'despedidas': 3, 'apertava-me': 1, 'suspirava': 2, 'acodem': 2, 'diz-se': 1, 'padecem': 1, 'disfarçava': 1, 'intimos': 1, 'emendando': 1, 'descuidos': 1, 'fazendo-me': 2, 'beijei': 2, 'volta-me': 2, 'evitar': 4, 'estariamos': 1, 'achasse': 5, 'explicou-se': 2, 'atlantico': 1, 'indagar': 5, 'iremos': 4, 'março': 3, 'abril': 2, 'suspensorios': 2, 'formalmente': 1, 'duvidaria': 1, 'approvar': 1, 'podridão': 2, 'allopatha': 2, 'allopathia': 3, 'assassinato': 1, 'systemas': 1, 'physiologia': 1, 'anatomia': 1, 'pathologia': 1, 'allopathicas': 1, 'homeopathicas': 1, 'cultores': 1, 'falára': 2, 'proferia': 1, 'aphorismo': 1, 'religião': 3, 'lembro-me': 2, 'dividil-o': 1, 'possuil-o': 1, 'quadro': 5, 'amantissimo': 2, 'lindo': 4, 'moleques': 1, 'cochichavam': 1, 'tomavam': 1, 'benção': 8, 'nhõ': 1, 'joanna': 1, 'miquelina': 1, 'rezando': 1, 'vosmecê': 1, 'insistiu': 1, 'aguente': 1, 'arranjado': 1, 'liv': 1, 'panegyrico': 15, 'monica': 6, 'componha': 1, 'abreviado': 1, 'tratei': 3, 'sarna': 1, 'pega': 1, 'despega': 1, 'curar-se': 1, 'junqueira': 1, 'freire': 1, 'cujo': 3, 'frade': 1, 'ordenou-se': 1, 'encontrei-o': 1, 'còro': 1, 'novos': 3, 'continuando': 2, 'procurar': 1, 'cantar': 3, 'cocegas': 2, 'coçou-se': 1, 'falou-me': 4, 'infinidade': 1, 'sermão': 1, 'vigairaria': 1, 'chamava-se': 2, 'baste': 1, 'alcançou': 2, 'dedicou-o': 1, 'agostinho': 1, '1882': 1, 'marinha': 1, 'collega': 4, 'chefe': 1, 'secção': 1, 'administrativa': 1, 'casára': 1, 'distribuindo': 1, 'precisasse': 1, 'informações': 1, \"pedir-lh'as\": 1, 'prompta': 3, 'copioso': 1, 'conversamos': 1, 'pessoaes': 2, 'estudo': 2, 'incidentes': 2, 'verbo': 1, 'mote': 1, 'palhada': 1, 'rimos': 1, 'suspiramos': 1, 'vivemos': 3, 'moços': 2, 'sombra': 6, 'perdera': 2, 'ordenados': 1, 'voltaram': 1, 'provincias': 1, 'tomaram': 1, 'vigairarias': 1, 'fitando': 1, 'murchos': 1, 'teimosos': 3, 'conservou': 2, 'mover': 2, 'lembrou': 5, 'pesquiza': 1, 'mental': 2, 'conservára': 1, 'mudanças': 1, 'viagens': 3, 'levar-lhe': 4, 'exemplar': 3, 'folheto': 2, 'manchado': 1, 'dedicatoria': 2, 'manuscripta': 1, 'respeitosa': 1, 'penultimo': 1, 'resta': 1, 'visse': 5, 'folhear': 2, 'opusculo': 5, 'intervallo': 2, 'amizades': 2, 'estreitas': 2, 'assiduas': 2, 'cortezia': 1, 'lauda': 1, 'achavam': 1, 'echo': 1, 'concordou': 6, 'apontou-as': 1, 'recorda-se': 1, 'remontar': 1, 'acontecimentos': 3, 'vêm': 2, 'lei': 2, 'convivencia': 1, 'recreios': 3, 'lopes': 2, 'recolhendo': 1, 'suspiro': 2, 'agradado': 1, 'lv': 1, 'soneto': 11, 'dita': 2, 'apertou-me': 3, 'vasto': 3, 'agradecimento': 2, 'folhas': 5, 'lembraram': 1, 'ides': 1, 'estando': 4, 'notar': 4, 'insonmia': 1, 'musa': 1, 'arregalados': 1, 'longa': 6, 'pediam-me': 1, 'unhas': 2, 'coçava-me': 1, 'rima': 1, 'solto': 1, 'ative-me': 1, 'poema': 1, 'prestadio': 1, 'envolvido': 1, 'lençol': 2, 'poetar': 1, 'sente': 1, 'competir': 2, 'monge': 1, 'bahia': 2, 'revelado': 1, 'tristezas': 3, 'claustro': 1, 'decorei': 1, 'repetia-o': 1, 'lençóes': 3, 'achava-o': 1, 'máu': 2, 'virtude': 5, 'poesia': 1, 'conceito': 2, 'coubesse': 1, 'aguardei': 1, 'recitando': 1, 'direito': 6, 'atinai': 1, 'sonetos': 3, 'gabados': 1, 'concluiam': 1, 'desses': 3, 'capitaes': 1, 'forjar': 1, 'chaves': 4, 'considerando': 1, 'saindo': 6, 'chronologicamente': 1, 'treze': 3, 'anteriores': 3, 'louvada': 1, 'imaginei': 2, 'fechadura': 1, 'determinei': 1, 'compôr': 1, 'suar': 1, 'perde-se': 4, 'ganha-se': 3, 'magnifico': 2, 'sonoro': 1, 'victoria': 2, 'ganha': 2, 'custa': 5, 'alevantado': 1, 'nobre': 1, 'mysteriosa': 2, 'achei-o': 3, 'recitei': 2, 'seguidamente': 1, 'dispuz-me': 1, 'ligal-os': 1, 'doze': 1, 'centraes': 1, 'justiça': 8, 'pugna': 1, 'perder-se-hia': 1, 'occorreu': 1, 'lula': 1, 'patria': 1, 'flor': 2, 'liberdade': 4, 'accepção': 1, 'caber': 2, 'gastei': 1, 'acceitei': 5, 'languidamente': 1, 'brio': 2, 'perfeito': 3, 'banho': 1, 'inspiração': 2, 'evoquei': 1, 'notei': 2, 'facilimos': 1, 'suscitavam': 1, 'impetos': 1, 'raiva': 1, 'acudissem': 1, 'alterar': 2, 'transposição': 1, 'exercendo': 1, 'ganhar': 2, 'esperei': 5, 'vagalumes': 1, 'luzindo': 1, 'rimas': 1, 'daria': 8, 'esquivos': 1, 'consoantes': 1, 'trabalhei': 1, 'busquei': 3, 'escrevi': 5, 'compondo': 1, 'achando': 2, 'senhores': 1, 'consola': 2, 'existem': 1, 'dramas': 1, 'desoccupado': 1, 'chovendo': 1, 'encher': 1, 'lvi': 1, 'citações': 1, 'latinas': 1, 'irmãos': 2, 'albuquerques': 1, 'especifico': 1, 'amarella': 1, 'bastos': 1, 'magricella': 1, 'meia-ponte': 1, 'borges': 1, 'senador': 1, 'frias': 2, 'nascente': 1, 'lel-as': 2, 'lograva': 1, 'encanto': 2, 'inconscientemente': 2, 'folha': 1, 'acostumada': 1, 'ajudal-os': 1, 'ezequiel': 50, 'souza': 2, 'escobar': 110, 'esbelto': 1, 'fugitivos': 2, 'sentir-se': 1, 'apertavam': 1, 'deixavam': 3, 'delgados': 1, 'tel-os': 1, 'pousar': 1, 'obstaculo': 1, 'sorriso': 4, 'instantaneo': 1, 'folgado': 1, 'fugitiva': 1, 'cogitando': 1, 'respondia-nus': 1, 'meditava': 1, 'recordava': 1, 'pedia-me': 2, 'frequentemente': 1, 'explicações': 4, 'repetições': 1, 'guardal-as': 1, 'faculdade': 1, 'prejudicasse': 1, 'trez': 4, 'corityba': 1, 'aparentado': 1, 'correspondente': 3, 'fortes': 3, 'catholicos': 1, 'escreve-me': 1, 'mostrar-lhe': 1, 'affectuosas': 3, 'cheias': 1, 'caricias': 3, 'interessantes': 2, 'seduzido': 1, 'timido': 1, 'entrado': 3, 'cessavam': 1, 'pousados': 1, 'sabes': 11, 'fechadas': 2, 'poucas': 4, 'gradeadas': 1, 'semelhança': 4, 'conventos': 1, 'prisões': 1, 'capellas': 1, 'bazares': 1, 'alpendres': 1, 'paços': 1, 'sumptuosos': 1, 'tolhia': 1, 'fechaduras': 1, 'empurral-as': 1, 'empurrou-as': 1, 'lvii': 1, 'preparação': 3, 'trouxeram': 2, 'passadas': 1, \"contal'a\": 1, 'ache': 1, 'honestos': 1, 'casta': 2, 'castos': 1, 'torpe': 1, 'torpes': 1, 'castissima': 1, 'finado': 4, 'podeis': 2, 'metto': 1, 'austera': 1, 'linhas': 2, 'repouso': 1, 'sirva': 1, 'examina': 1, 'proporções': 1, 'robusto': 2, 'disposto': 3, 'verás': 1, 'esperteza': 1, 'porquanto': 4, 'aches': 1, 'cru': 1, 'esperavas': 1, 'lviii': 1, 'tratado': 2, 'segunda-feira': 1, 'latim)': 1, 'lavadas': 1, 'sujou': 1, 'ligas': 5, 'seda': 1, 'vexada': 2, 'sacudiu-se': 1, 'francezas': 1, 'ouvidor': 1, 'commentando': 1, 'queda': 1, 'moças': 6, 'andaram': 1, 'tique-tique': 6, 'afrancezado': 2, 'ouvil-o': 7, 'branqueavam': 1, 'enroscavam-se': 1, 'erguiam-se': 1, 'iam-se': 2, 'chegámos': 3, 'esquina': 3, 'desastrada': 1, 'machucou': 1, 'arranhado': 1, 'presteza': 1, 'arranhados': 1, 'quéda': 2, 'adivinhei': 1, 'justas': 1, 'haveria': 5, 'levasse': 7, 'esgarçando': 1, 'reticencias': 1, 'diffusas': 1, 'seguro': 2, 'insupportavel': 1, 'lembravam-me': 2, 'encontrara': 1, 'mostravam-me': 1, 'relance': 1, 'azues': 2, 'sonhei': 2, 'multidão': 1, 'abominaveis': 1, 'roda': 2, 'ageis': 1, 'accordei': 3, 'afugental-as': 1, 'esconjuros': 1, 'methodos': 1, 'dormi': 3, 'circulo': 1, 'trepadas': 4, 'choviam': 1, 'madrugada': 3, 'credos': 1, 'interromper': 3, 'pegava': 2, 'oração': 1, 'concertal-a': 1, 'interrupção': 2, 'unia': 1, 'vencel-o': 1, 'perdesse': 1, 'sabios': 1, 'adivinhai': 1, 'rejeitar': 2, 'quadros': 2, 'recorri': 1, 'visões': 2, 'feminis': 1, 'avante': 1, 'consideradas': 1, 'encarnações': 1, 'vicios': 1, 'contemplaveis': 1, 'temperar': 1, 'aguerril-o': 1, 'combates': 1, 'asperos': 1, 'tacitamente': 1, 'repugnancia': 2, 'evocava': 3, 'fortalecer-me': 1, 'rejeitava': 1, 'lix': 1, 'convivas': 2, 'reminiscências': 1, 'descançam': 1, 'publique': 1, 'arrenegar': 2, 'conviva': 1, 'comquanto': 4, 'fraca': 1, 'exactamente': 4, 'vivido': 1, 'passe': 2, 'eternos': 2, 'affeições': 2, 'grava': 1, 'continuidade': 1, 'invejo': 1, 'esqueceram': 1, 'vestiram': 1, 'atino': 1, 'amarellas': 3, 'execro': 1, 'olvido': 2, 'confusão': 5, 'explico-me': 1, 'confusos': 1, 'omissos': 1, 'leio': 1, 'afflijo': 1, 'chegando': 5, 'cerrar': 1, 'evocar': 1, 'profundas': 1, 'rios': 1, 'montanhas': 2, 'egrejas': 1, 'lidas': 1, 'apparecem': 1, 'arvores': 2, 'altares': 1, 'generaes': 1, 'sacam': 1, 'espadas': 1, 'ficado': 1, 'bainha': 1, 'clarins': 1, 'soltam': 1, 'notas': 3, 'dormiam': 2, 'metal': 3, 'imprevista': 1, 'falho': 1, 'preencho': 1, 'preencher': 1, 'lx': 1, 'puz-lhe': 1, 'viste': 3, 'vários': 1, 'prestavas': 1, 'presta': 3, 'par': 3, 'chinellas': 3, 'aroma': 2, 'gastas': 1, 'rotas': 1, 'deixam': 1, 'erguer': 1, 'descalçava': 1, 'vale': 13, 'contacto': 1, 'lembranças': 3, 'assobio': 1, 'quitanda': 3, 'curtido': 2, 'grudal-o': 1, 'jarretei': 1, 'mostrei': 2, 'ingenuamente': 1, 'accordasse': 1, 'aconteça': 1, 'profissionaes': 1, 'lerem': 1, 'poupar': 1, 'editor': 1, 'despeza': 1, 'gravura': 2, 'vès': 1, 'puz': 2, 'ponho': 5, 'pregões': 1, 'opusculos': 1, 'encerrem': 1, 'incolor': 1, 'lxi': 1, 'vacca': 3, 'homero': 5, 'sairem': 1, 'duros': 1, 'opacos': 1, 'embargo': 2, 'conforto': 1, 'trazidas': 1, 'saudosos': 1, 'pintou': 2, 'approvasse': 1, 'accrescentasse': 1, 'nessas': 1, 'indescriptivel': 1, 'lacrimosa': 1, 'enternecia': 1, 'excellentissima': 3, 'galhofa': 1, 'furtivamente': 1, 'lagrima': 1, '1859': 2, '1860': 2, 'demos': 1, 'util': 1, 'ungido': 2, 'pontolembra-me': 1, 'hojeos': 1, 'fulguraram': 1, 'intensamente': 1, 'encheram': 2, 'palpebras': 3, 'cairam': 2, 'ergueram': 1, 'fixaram-se': 1, 'palco': 1, 'embebidos': 1, 'despegaram-se': 1, 'pateo': 2, 'comparal-o': 1, 'gemia': 1, 'parir': 1, 'lentes': 3, 'caminhando': 1, 'direcção': 3, 'passarem': 1, 'cortejou-os': 1, 'deferencias': 1, 'devidas': 1, 'pediu-lhes': 1, 'affiançar': 1, 'dará': 4, 'ouvir-lhe': 2, 'ordenar-se': 1, 'fizer': 1, 'demorando': 1, 'irá': 7, 'fulguração': 1, 'interrogação': 2, 'errava': 1, 'lente': 2, \"disse-lh'o\": 1, 'explicando': 1, 'escapavam': 1, 'escrevia': 2, 'orava': 1, 'gostei': 4, 'succeder': 1, 'imaginamos': 1, '58': 1, 'expôl-o': 1, 'cederá': 1, 'duvido': 2, 'embarque': 4, 'haverá': 3, 'censuras': 1, 'queixas': 1, 'docilidade': 1, 'apparente': 1, 'portado': 1, 'combinar': 1, 'tosse': 3, 'tusso': 1, 'avisar': 1, 'tossir': 1, 'tossesinha': 1, 'fastio': 1, 'preparando': 1, 'servida': 1, 'dedical-o': 1, 'bezerro': 1, 'materna': 2, 'repliquei': 3, 'desconfio': 1, 'ronqueira': 1, 'cae': 2, 'comnoscoou': 1, 'apressal-a': 1, 'saio': 3, 'cuidaremos': 1, 'maio': 2, 'deixo': 4, 'pigarrear': 1, 'garganta': 3, 'queima-roupa': 1, 'lxii': 1, 'iago': 3, 'imprudente': 1, 'transferir': 1, 'equivalia': 1, 'repulsa': 1, 'improvavel': 1, 'comprehendi': 1, 'emendar-me': 1, 'tontinha': 1, 'empallideci': 1, 'chorava': 2, 'produziu-me': 1, 'violento': 1, 'humano': 2, 'excessivas': 1, 'diminutas': 1, 'compensam': 1, 'ajustando-se': 1, 'entendermos': 1, 'chegaremos': 2, 'esqueças': 1, 'explicasse': 3, 'pulando': 1, 'retive-me': 1, 'nãoum': 1, 'cruel': 3, 'desconhecido': 1, 'ciume': 4, 'entranhas': 1, 'mordeu': 2, 'repetir': 2, 'pensara': 1, 'desastre': 4, 'noção': 1, 'peraltas': 4, 'vária': 1, 'idade': 1, 'feitio': 1, 'passeadores': 2, 'lembrava-me': 2, 'olhavam': 3, 'capitúe': 1, 'olhassem': 1, 'separados': 3, 'destino': 8, 'apparecia-me': 1, 'suspeita': 6, 'acompanhal-o-hia': 1, 'falar-lhe-hia': 1, 'trocariam': 2, 'escusado': 1, 'acharás': 1, 'etymologia': 1, 'achaste': 1, 'comprehenderás': 1, 'atirar-me': 1, 'chegar': 6, 'intimar-lhe': 1, 'naquelles': 4, 'logica': 2, 'pensamentos': 2, 'soltos': 1, 'emendados': 2, 'truncado': 3, 'torto': 1, 'turbilhão': 1, 'cegava': 1, 'ensurdecia': 1, 'concluía': 1, \"perguntar-lh'o\": 1, 'gerações': 1, 'limitei-me': 1, 'inquirir': 1, 'sabbado': 11, 'lxiii': 1, 'metades': 2, 'perseguiam-me': 1, 'alongar': 1, 'porei': 1, 'nasceu': 3, 'formem': 1, 'dona': 4, 'culpa': 5, 'vosso': 1, 'perturbava': 1, 'parochial': 1, 'pastoral': 1, 'encyclica': 1, 'recommendára': 1, 'cumpri': 1, 'napoleão': 1, 'tenente': 1, 'seculo': 3, 'espiar': 3, 'conversava': 3, 'avancei': 1, 'enxugando': 1, 'mirando': 5, 'lista': 1, 'saira': 1, '4004': 1, 'symetria': 1, 'algarismos': 7, 'andára': 1, 'dava-me': 3, 'sortes': 2, 'pequenas': 1, 'inclinou-se': 2, 'relancei': 1, 'deserta': 1, 'resmunguei': 1, 'dormitorio': 1, 'acabas': 1, 'dormia': 4, 'nuncas': 1, 'poderás': 1, 'energia': 1, 'obstinação': 1, 'empreguei': 3, 'fechar': 5, 'apertal-os': 1, 'somno': 4, 'concilial-o': 1, 'pequenasnada': 1, 'nadas': 1, 'lxiv': 1, 'relendo': 1, 'acóde-me': 2, 'banal': 3, 'disposições': 1, 'reproducção': 2, 'ligar': 1, 'tentasse': 1, 'dormisse': 2, 'continua': 1, 'provisoriamente': 1, 'concluir': 3, 'hão': 8, 'tenues': 1, 'esgarçam': 1, 'continuam': 2, 'morros': 1, 'pallejavam': 1, 'luar': 1, 'morria': 4, 'declarou-me': 2, 'pertencem': 1, 'jurisdicção': 1, 'moravam': 2, 'ilha': 2, 'luciano': 2, 'palacio': 1, 'dar-me-hia': 1, 'mudaram': 1, 'aposentados': 1, 'modernos': 1, 'moram': 2, 'cerebro': 5, 'poderiam': 1, 'ilhas': 2, 'objecto': 3, 'estados-unidos': 1, 'allusão': 2, 'fillipinas': 1, 'amo': 2, 'internacional': 1, 'filhos': 1, 'digestão': 1, 'quieto': 1, 'apagado': 1, 'lxv': 1, 'affeiçoando-me': 1, 'alternando': 2, 'gostavam': 1, 'penas': 1, 'refreou-me': 1, 'segredo': 13, 'calei-me': 1, 'aconselhou': 2, 'mostrava': 2, 'lucidez': 1, 'citar': 1, 'exemplos': 2, 'citados': 1, 'omissão': 1, 'quarta': 1, 'vinda': 1, 'disciplina': 1, 'mães': 1, 'inventa': 1, 'cançar': 1, 'ellavocê': 1, 'convicção': 5, 'lançando-lho': 1, 'mostrára': 1, 'portasse': 1, 'suspeitavam': 1, 'tivera': 3, 'desconsoladas': 1, 'indagal-o': 1, 'encobertas': 1, 'mostro-me': 1, 'pareça': 2, 'verdadeira': 5, 'parecesse': 1, 'tratariam': 1, 'separar-nos': 2, 'acabassem': 2, 'recebendo': 3, 'dissimular': 4, 'gosar': 1, 'tranquillos': 1, 'completa-se': 1, 'almoço': 7, 'en': 1, 'abençoar': 1, 'povo': 2, 'casam': 1, 'espero': 1, 'cosmo': 1, 'dessorriu': 1, 'franziu': 1, 'olhado': 1, 'resistir': 1, 'comi': 2, 'almocei': 1, 'referir-lhe': 1, 'louvar-lhe': 1, 'astucia': 1, 'agradecida': 1, 'concluí': 1, 'lxvi': 1, 'entrando': 3, 'viviam': 3, 'juntas': 5, 'chuva': 3, 'coser': 1, 'acompanhava': 2, 'assaz': 1, 'existira': 1, 'agudeza': 1, 'posthuma': 1, 'brigas': 1, 'acabaram': 2, 'orar': 1, 'pensou': 1, 'travesseiro': 2, 'comprehende-se': 1, 'devida': 1, 'aspirasse': 1, 'dispostas': 1, 'excedem': 1, 'naturaes': 4, 'fazem-se': 2, 'risonhas': 1, 'multiplicam': 1, 'precedem': 1, 'famulos': 1, 'azedume': 1, 'implicancia': 1, 'explica-se': 1, 'desestimasse': 1, 'calasse': 2, 'resentimentos': 2, 'detestar': 1, 'supplementares': 1, 'fugindo-lhe': 1, 'indagava': 1, 'procural-a': 1, 'cumpre': 2, 'infringir': 1, 'deslavadamente': 1, 'magia': 1, 'captiva': 1, 'azedo': 1, 'adoecesse': 1, 'pòz': 1, 'servisse': 1, 'enfermeira': 3, 'aliviasse': 1, 'penosos': 1, 'perdoou': 1, 'soltou-lhe': 1, 'epigramma': 1, 'lxvii': 2, 'tiro': 2, 'amanheceu': 3, 'transtornada': 1, 'ordenou': 1, 'mandassem': 1, 'mandem': 2, 'buscal-o': 2, 'salva': 2, 'assustal-o': 1, 'digam': 3, 'demorem': 1, 'cuidaram': 1, 'delirio': 1, 'custando': 1, 'trazer-me': 1, 'incumbido': 1, 'assustou': 1, 'recebi': 5, 'alterando': 1, 'costumea': 1, 'conclusãomas': 1, 'suspirando': 3, 'temendo': 2, 'dura': 7, 'suspiros': 1, 'batia-me': 1, 'bambeavam-me': 1, 'anceio': 1, 'complicava-se': 2, 'temor': 2, 'apparecia': 3, 'encarava': 1, 'furados': 1, 'aterrava': 1, 'prantos': 1, 'defuncto': 14, 'expòr': 1, 'terriveis': 2, 'superlativamente': 1, 'voavam': 1, 'corneta': 2, 'tocava': 8, 'municipaes': 1, 'permanentes': 1, 'resoava': 1, 'trombeta': 5, 'juizo': 3, 'arcos': 1, 'invalidos': 7, 'ousar': 1, 'humana': 3, 'combater': 1, 'segredou': 1, 'articulou': 1, 'traduzida': 1, 'defuncta': 1, 'acaba': 2, 'relampago': 1, 'alumiou': 1, 'esvaiu': 1, 'escuridão': 1, 'cerrada': 1, 'remorso': 4, 'luxuria': 1, 'egoismo': 1, 'piedade': 3, 'filial': 1, 'desmaiou': 1, 'perspectiva': 1, 'desapparecimento': 1, 'devedor': 3, 'centesimo': 1, 'complicar': 1, 'adivinhado': 2, 'castigar-me': 1, 'pezar': 1, 'angustia': 1, 'nó': 1, 'enxugue': 1, 'mocinho': 3, 'superlativo': 3, 'periodo': 2, 'achares': 1, 'avisa-me': 1, 'emende': 1, 'edição': 1, 'longuissimas': 1, 'brevissimas': 1, 'subi': 6, 'escada': 6, 'debruçado': 1, 'ternas': 1, 'apertava': 1, 'chamando-me': 2, 'queimando': 1, 'ardiam': 1, 'consumida': 1, 'volcão': 1, 'ajoelhei-me': 1, 'leito': 1, 'suspeitou': 1, 'causas': 3, 'mordia': 1, 'velleidade': 1, 'doesse': 2, 'usei': 1, 'espirituaes': 1, 'perdoasse': 1, 'salvasse': 1, 'rezaria': 1, 'lês': 1, 'perdoa': 2, 'recurso': 2, 'fé': 6, 'paguei': 1, 'almas': 1, 'candidas': 1, 'verdadeiras': 4, 'fiduciariaainda': 1, 'pague': 1, 'lxviii': 1, 'adiemos': 1, 'confessarei': 1, 'importar': 1, 'montaigne': 1, 'ce': 1, 'ne': 1, 'sont': 1, 'pas': 1, 'mes': 2, 'gestes': 2, \"j'ecris\": 1, \"c'est\": 2, 'moi': 1, 'mon': 2, 'essence': 2, 'essencia': 3, 'contal-a': 1, 'lembrando': 3, 'convindo': 1, 'construção': 1, 'reconstrucção': 1, 'contemporanea': 1, 'lembrasse': 1, 'transferida': 1, 'opportunidade': 1, 'perderás': 1, 'provaveis': 1, 'peccados': 3, 'reduz-se': 1, 'nasce': 1, 'alliados': 5, 'compensarem': 1, 'conjuges': 1, 'guia': 1, 'individuo': 1, 'praticado': 1, 'commettido': 1, 'isento': 1, 'dar-se': 1, 'simultanea': 1, 'portador': 2, 'resplendor': 1, 'fundamentar': 1, 'falta-me': 1, 'toca': 1, 'casaes': 2, 'possuo': 1, 'dòr': 2, 'desejar': 2, 'estourasse': 1, 'morresse': 2, 'perdi': 2, 'estrada': 2, 'bengala': 2, 'cego': 1, 'bordão': 1, 'voilà': 2, 'lxix': 1, 'exprimem': 1, 'principiou': 1, 'vestir-se': 1, 'lento': 1, 'desviasse': 1, 'reconciliar-me': 1, 'agradecer': 1, 'restabelecimento': 1, 'renunciar': 1, 'jehovah': 1, 'rothschild': 1, 'moratorias': 1, 'dividas': 1, 'integralmente': 1, 'cortar': 1, 'pagaria': 2, 'agradeci': 2, 'officiante': 1, 'solemne': 2, 'estabeleceu': 1, 'confessionario': 1, 'authentico': 1, 'instrumentos': 1, 'incorrigivel': 1, 'receiei': 1, 'confessor': 1, 'chego': 3, 'publical-o': 1, 'lxx': 1, 'persignei-me': 1, 'sedas': 1, 'chitas': 1, 'bellos': 3, 'saudações': 1, 'cochichos': 1, 'adro': 1, 'chegaram-me': 1, 'queres': 3, 'pergunte': 2, 'sancha': 35, 'restabelecida': 1, 'mostrou-me': 2, 'viemos': 2, 'gurgel': 12, 'propensão': 1, 'engrossar': 1, 'ventre': 1, 'obsequioso': 1, 'almoçar': 3, 'espera-me': 1, 'manda-se': 2, 'almoçando': 1, 'feições': 5, 'tiram': 1, 'recusasse': 1, 'descançasse': 1, 'quis': 1, 'armazem': 3, 'rocommendações': 1, 'lxxi': 1, 'mentido': 1, 'voltára': 2, 'mudando': 1, 'acontecido': 1, 'tranquillidade': 1, 'visitar-me': 1, 'visitára': 1, 'aproveitou': 2, 'respirou': 1, 'souberam': 2, 'gostaram': 1, 'polido': 1, 'expansivo': 2, 'jantasse': 1, 'lembrando-me': 1, 'janta': 2, 'incommodo': 4, 'jantou': 1, 'rápidos': 1, 'mostrei-lhe': 1, 'contemplação': 2, 'virou-se': 1, 'vê-se': 2, 'dulcissimos': 1, 'definiu': 1, 'mantenho': 1, 'pelle': 1, 'lisa': 1, 'risca': 1, 'sobrancelha': 1, 'affrontar': 1, 'chocarreira': 1, 'curvo': 1, 'delgado': 1, 'séstro': 2, 'sacudir': 1, 'hombro': 1, 'perdel-o': 1, 'corrigir-se': 1, 'miudos': 2, 'agradassem': 1, 'apreciavel': 1, 'defeito': 1, 'importante': 4, 'hospede': 1, 'resalva': 1, 'descobrir': 4, 'restringir': 1, 'restricção': 1, 'leval-o': 2, 'esperámos': 1, 'pescadores': 1, 'demorar': 2, 'separámo-nos': 1, 'conservei-me': 1, 'olharia': 1, 'adivinham': 1, 'espreitara': 1, 'veneziana': 1, 'apparecera': 1, 'rasgadas': 1, 'merecia': 1, 'pôr-me': 1, 'lxxii': 1, 'reforma': 1, 'dramatica': 1, 'dramaturgos': 1, 'annuncia': 1, 'peripecias': 1, 'desfecho': 2, 'apagam-se': 1, 'espectadores': 1, 'porventura': 1, 'proporia': 1, 'ensaio': 1, 'começassem': 1, 'othello': 5, 'mataria': 2, 'desdemona': 4, 'dados': 1, 'decrescente': 1, 'ficaria': 1, 'scenas': 2, 'iniciaes': 1, 'turcos': 1, 'mette': 2, 'bolsa': 1, 'espectador': 2, 'charada': 1, 'periodicos': 1, 'explicariam': 1, 'amou': 1, 'affligira': 1, 'amei': 1, 'lxxiii': 1, 'contra-regra': 4, 'dramaturgo': 1, 'designa': 1, 'dá-lhes': 1, 'executa': 1, 'correspondentes': 1, 'trovoada': 1, 'carro': 13, 'representou-se': 1, 'personagem': 1, 'ashaverus': 3, 'concluia': 1, 'monologo': 1, 'archanjo': 3, 'envergonhado': 1, 'advertir': 1, 'disfarçamente': 1, 'bastidor': 1, 'surda**': 1, 'piston': 4, 'desatou': 1, 'soou': 3, 'gaiato': 1, 'platéa': 1, 'estada': 1, 'cavalleiro': 4, 'dandy': 2, 'diziamos': 1, 'montava': 1, 'bello': 3, 'alazão': 1, 'sella': 1, 'redea': 2, 'cinta': 2, 'botas': 3, 'postura': 1, 'esbeltas': 1, 'desconhecida': 2, 'namoradas': 1, 'relê': 4, 'alencar': 1, '(dizia': 1, '1858)': 1, 'namorada': 3, 'alvares': 1, 'azevedo': 1, 'poesias': 1, '(1851)': 1, 'residia': 1, 'catumby': 1, 'cattete': 5, 'alugara': 1, 'baio': 1, 'deixava-se': 1, 'dente': 1, 'rigor': 1, 'admirar': 1, 'campo': 1, 'acclamação': 1, 'raciocinar': 1, 'braza': 1, 'saí': 10, 'lxxiv': 1, 'presilha': 3, 'sentado': 2, 'parando': 2, 'disséra': 1, 'aggravou': 2, 'guardada': 2, 'dispoz': 1, 'olhares': 1, 'gola': 1, 'hypothese': 5, 'parára': 1, 'ver-me': 4, 'impaciente': 3, 'imaginava': 1, 'saisse': 5, 'tardasse': 1, 'imaginando': 1, \"dizer-m'o\": 1, 'tapar-lhe': 1, 'fital-o': 1, 'caindo': 1, 'viram': 2, 'desabotoada': 1, 'abotoe': 1, 'lxxv': 1, 'escapei': 4, 'falava-me': 1, 'perseguia-me': 1, 'atirava-me': 1, 'rolava': 2, 'abafava': 1, 'soluços': 1, 'fazer-me': 1, 'via-me': 1, \"d'ella\": 1, 'choraria': 1, 'pediria': 2, 'desprezo': 3, 'voltava-lhe': 1, 'chamava-lhe': 1, 'viera': 2, 'avisasse': 1, 'surdo': 1, 'cravar-lhe': 1, 'enterral-as': 1, 'ver-lhe': 1, 'lxxvi': 1, 'abatido': 3, 'estirado': 2, 'recommendação': 1, 'congestão': 1, 'ergui-me': 2, 'estaria': 5, 'afflicta': 1, 'reclusão': 2, 'abalou': 1, 'ceei': 2, 'convinha': 1, 'simulei': 1, 'zangada': 1, 'querer-me': 1, 'preferir': 1, 'resolver': 2, 'ouvil-a': 2, 'julgal-a': 1, 'leviana': 1, 'julgasse': 1, 'romperam-lhe': 1, 'beijei-as': 1, 'olhara': 1, 'quadrou-me': 1, 'equivocação': 1, 'retirar': 1, 'dissolvido': 1, 'lxxvii': 1, 'dôres': 2, 'quadra': 1, 'espiritualisaram': 1, 'diluir-se': 1, 'referir': 2, 'aborrecimento': 2, 'lxxviii': 1, 'referi': 5, 'quarta-feira': 2, 'demorasse': 1, 'perguntava-me': 1, 'espetando-me': 1, 'distrahido': 2, 'attento': 3, 'distrae': 1, 'hesitei': 1, 'disser': 2, 'notaram': 2, 'importo': 1, 'precipitava': 1, 'absolvido': 1, 'acreditam': 1, 'esperam': 1, 'commercio': 4, 'sussurrei': 1, 'escassa': 2, 'reticencia': 1, 'entendesse': 1, 'cuides': 3, 'pasmou': 1, 'namorado': 2, 'espetou-me': 1, 'demoradamente': 2, 'repisar': 1, 'escutava': 3, 'enterrado': 2, 'cemiterio': 13, 'protegia': 1, 'sinceros': 1, 'calculas': 1, 'mimoso': 1, 'contado': 4, 'voltámos': 3, 'louvava': 1, 'adequada': 2, 'simpleza': 1, 'modestia': 5, 'insinuei': 1, 'conveniencia': 1, 'convidou': 1, 'convidar': 3, 'confesso-lhe': 1, 'adoravel': 4, 'retorqui': 1, 'lxxix': 1, 'mirar-lhe': 1, 'pende': 1, 'impressa': 1, 'qualidade': 2, 'penetrar-lhe': 1, 'obrigando': 1, 'obrigava': 2, 'pesquizava': 1, 'presumi': 1, 'toquei': 1, 'complexo': 1, 'delicado': 1, 'subtil': 1, 'attender': 2, 'torna': 2, 'prejuizo': 1, '(ao': 1, 'contrario)': 1, 'terrestre': 1, 'prefacio': 1, 'lxxx': 1, 'venhamos': 2, 'praticas': 1, 'religiosas': 1, 'animava': 1, 'ignoras': 1, 'opportunamente': 1, 'vinculo': 2, 'confiou': 2, 'fervor': 1, 'acceita': 1, 'leite': 2, 'mamar': 1, 'alterasse': 1, 'planos': 1, 'encaminhasse': 1, 'inconciliaveis': 2, 'partidos': 1, 'governo': 1, 'morrera': 1, 'devedora': 1, 'aphorismos': 1, 'franklin': 1, 'paschoa': 1, 'quaresma': 2, 'mandasse': 2, 'chama': 1, 'commercialmente': 1, 'archi-millionario': 1, 'dependia': 1, 'transferencias': 1, 'aggravar': 1, 'taxa': 1, 'serviam': 1, 'endossantes': 1, 'letra': 1, 'entregar': 1, 'preço': 3, 'ajustado': 1, 'capitulos': 3, 'recolhi-me': 2, 'verteu': 1, 'presentes': 1, 'examinadas': 1, 'prévias': 1, 'magoa': 1, 'separaçãoe': 1, '(é': 2, 'ponto)': 1, 'cumprem': 1, 'questão': 6, 'opportuno': 1, 'adequado': 1, 'negativa': 2, 'puniria': 1, 'negando-lhe': 1, \"lh'a\": 2, 'dedicar': 1, 'ab': 1, 'ovo': 1, 'raciocinio': 1, 'tardio': 1, 'sido': 5, 'gerado': 2, 'bastando': 1, 'destruir': 1, 'manteve': 1, 'cochilo': 1, 'resolvido': 2, 'velava': 1, 'ingenuos': 1, 'conservar-me': 1, 'casado': 4, 'presumo': 1, 'supponho': 2, 'deslealdade': 1, 'corrente': 1, 'ordinaria': 1, 'temperada': 1, 'assiduidade': 1, 'fazer-se-lhe': 1, 'veiu-lhe': 1, 'annunciado)': 1, 'tornando-me': 1, 'incompativel': 1, 'invadir': 1, 'romperia': 1, 'confiado': 1, 'guardasse': 1, 'desobriga': 1, 'contractante': 1, 'contractar': 1, 'has': 5, 'tido': 1, 'conflictos': 1, 'parecidos': 1, 'és': 2, 'haverás': 1, 'buscado': 1, 'identico': 1, 'acabam': 2, 'conciliando-se': 1, 'gemeos': 1, 'abrahão': 1, 'lenha': 2, 'holocausto': 1, 'fogo': 3, 'cutello': 2, 'isaac': 1, 'feixe': 2, 'levantou-o': 1, 'ordena': 1, 'faças': 1, 'teu': 4, 'temes': 1, 'extraordinarios': 1, 'frescor': 1, 'apalpava-lhe': 1, 'revolvia-lhe': 1, 'senha': 1, 'futura': 1, 'lxxxi': 1, 'descobri': 1, 'trasladar': 1, 'entenderá': 1, 'vaes': 3, 'disseste': 1, 'offereceu': 3, 'pediu-lhe': 1, 'namorando': 1, 'insinuou': 2, 'matei': 1, 'ferro': 1, 'pistola': 1, 'punhal': 1, 'supprido': 1, 'providencia': 1, 'armas': 2, 'fuga': 1, 'bastavam': 1, 'inimigo': 1, 'exerceriam': 1, 'vingança': 2, 'accressimo': 1, 'desnortear': 1, 'matadores': 1, 'piedosos': 1, 'correriam': 1, 'chorar': 2, 'insinuação': 1, 'onze': 4, 'recebeu-me': 1, 'desalinho': 1, 'caira': 1, 'aggravando': 1, 'annunciou-me': 1, 'funebre': 1, 'mortes': 1, 'suicidios': 1, 'assassinatos': 1, 'anciava': 2, 'raio': 1, 'azul': 4, 'mandara': 1, 'bocadinho': 1, 'fadiga': 2, 'commoção': 1, 'mocinha': 1, 'lepida': 2, 'espantada': 3, 'custou-lhe': 2, 'conversámos': 1, 'abafado': 1, 'ouviram': 3, 'tèm': 2, 'lxxxii': 1, 'comprehendido': 1, 'palhinha': 1, 'insistencia': 2, 'acceitámos': 1, 'sentámos': 1, 'alliar': 1, 'decoro': 1, 'debater': 1, 'aberração': 1, 'fizemos': 3, 'demora': 4, 'brilhavam': 1, 'seremos': 1, 'apertando': 3, 'prestar': 1, 'cabeças': 3, 'lxxxiii': 1, 'levantei-me': 1, 'mettia': 4, 'cadeiras': 1, 'augmentára': 1, 'estendeu-me': 1, 'governasse': 1, 'murmurei': 1, 'carreiras': 1, 'fórmas': 2, 'arredondavam-se': 1, 'avigoravam-se': 1, 'intensidade': 1, 'moralmente': 1, 'arvorecer': 1, 'apressado': 1, 'achava-a': 1, 'pendia': 1, 'parecida': 2, 'concordar': 1, 'aggrava': 1, 'aborrece': 1, 'impõe': 1, 'conheceram': 2, 'diziam': 5, 'semelhantes': 1, 'irmãs': 1, 'sanchinha': 6, 'semelhanças': 3, 'exquisitas': 1, 'lxxxiv': 1, 'saguão': 1, 'examinei': 2, 'desconfiado': 2, 'puz-me': 1, 'cresceu': 1, 'loja': 9, 'meio-cerradas': 1, 'grisalho': 1, 'manduca': 21, 'enterra-se': 1, 'mandei': 5, 'caixão': 2, 'coitado': 3, 'doe': 1, 'custa-me': 2, 'peque': 1, 'excessivo': 1, 'diminuto': 1, \"n'outra\": 1, 'curiosidade': 2, 'ajustam': 1, 'combinam': 1, 'turvação': 2, 'às': 1, 'perderam': 1, 'trocarem': 1, 'cinza': 1, 'distingui': 1, 'claras': 2, 'encostado': 1, 'portal': 1, 'culpo': 1, 'culpem': 1, 'conjugassem': 1, 'melodias': 1, 'apropriada': 1, 'obito': 1, 'morre-se': 1, 'lxxxv': 1, 'cerradas': 1, 'espantadas': 1, 'cadaver': 5, 'jazia': 2, 'suspendamos': 2, 'espairecer': 2, 'horrivel': 2, 'respira': 1, 'cabra': 1, 'rumina': 1, 'carroça': 1, 'gallinha': 1, 'marisca': 1, 'bufa': 1, 'assobia': 1, 'fumega': 1, 'palmeira': 1, 'investe': 1, 'torre': 2, 'folhagem': 1, 'becco': 2, 'empina': 1, 'papagaio': 1, 'morre': 2, 'chame': 1, 'este**': 1, 'dezoito': 2, 'dezenove': 2, 'darias': 1, 'escondia': 1, 'dobras': 1, 'diga-se': 3, 'existe': 2, 'evidencia': 1, 'vexe': 1, 'dôa': 1, 'padecia': 2, 'enfermidade': 1, 'lepra': 4, 'estendido': 1, 'apavorado': 1, 'desviei': 2, 'occulta': 1, 'compelliu': 1, 'fugida': 1, 'cedi': 1, 'soluçava': 1, 'esperado': 1, 'enterro': 13, 'atravessei': 1, 'saltei': 1, 'lxxxvi': 1, 'amai': 4, 'folego': 1, 'disforme': 1, 'repugnante': 1, 'imaginal-o': 1, 'arredei': 1, 'segundos': 2, 'bastou-me': 2, 'lindase': 1, 'graciosas': 1, 'infecto': 1, 'trocam': 1, 'lxxxvii': 1, 'degrau': 2, 'grades': 2, 'cancella': 5, 'pedindo-me': 1, 'alugasse': 1, 'conducção': 1, 'ceremonia': 1, 'chovia': 3, 'poude': 4, 'escravo': 2, 'nhonhô': 2, 'recommendasse': 1, 'nhã': 1, 'saborear': 1, 'obsoleta': 1, 'rodas': 1, 'estreita': 1, 'cortinas': 1, 'couro': 1, 'corriam': 1, 'cortina': 2, 'oculo': 1, 'vidro': 2, 'escanchado': 1, 'mula': 1, 'segurando': 1, 'chicote': 2, 'mulas': 1, 'lojas': 1, 'abertas': 1, 'atravessavam': 1, 'pernadas': 2, 'impedimento': 1, 'animaes': 1, 'paradas': 1, 'calçada': 2, 'adivinhavam': 1, 'recondita': 1, 'continuámos': 2, 'conhecida': 1, 'deixal-a': 2, 'vender': 2, 'abriu': 5, 'obrigaram': 1, 'sentimental': 1, 'conservado': 1, 'integral': 1, 'carrancismo': 1, 'exprimia': 1, 'modas': 1, 'museo': 1, 'reliquias': 1, 'pentes': 1, 'desusados': 1, 'mantilha': 1, 'moedas': 1, 'cobre': 1, 'datadas': 1, '1824': 1, '1825': 1, 'alcançava': 1, 'lxxxviii': 1, 'doçuras': 1, 'acompanhando': 1, 'demorada': 2, 'accessoriamente': 1, 'immediata': 1, 'voltaria': 2, 'sinházinha': 1, 'abri': 2, 'transpôl-a': 1, 'lxxxix': 1, 'perplexa': 1, 'fiz-lhe': 1, 'venceu': 3, 'escondido': 2, 'desagradou': 1, 'xc': 1, 'polemica': 5, 'pararou': 1, 'vol-o': 1, 'engano': 3, 'receiando': 1, 'conheciamos': 2, 'tivemos': 2, 'breves': 2, 'distantes': 1, 'nellas': 3, 'reduziam-se': 1, 'criméa': 2, 'desfastio': 1, 'enfiava-lhe': 1, 'camisola': 1, 'trazia-o': 1, 'palmo': 2, 'ia-lhe': 1, 'apertar-se': 1, 'attrahia': 1, 'falassemos': 1, 'ardia': 1, 'jornaes': 6, 'russos': 5, 'transcrevendo': 1, 'temperamento': 1, 'moscovita': 1, 'defendi': 1, 'russia': 2, 'tocámos': 1, 'propoz': 2, 'trocassemos': 1, 'argumentação': 1, 'terça': 1, 'contendo': 1, 'integridade': 1, 'turquia': 3, 'concluindo': 1, 'prophetica': 1, 'constantinopla': 4, 'li-a': 1, 'metti-me': 2, 'refutal-a': 1, 'recorda': 1, 'argumentos': 2, 'conhecel-os': 1, 'expirar': 1, 'irrespondiveis': 1, 'fizeram-me': 1, 'colcha': 2, 'retalhos': 2, 'sincero': 1, 'nojosa': 1, 'accendou': 1, 'dissimulou': 2, 'physico': 1, 'responderia': 1, 'exaltada': 1, 'permittiria': 1, 'profunda': 1, 'réplica': 1, 'crescia': 1, 'trepliquei': 1, 'ardente': 1, 'cedia': 1, 'clientes': 1, 'sobravam': 1, 'distrahiam': 1, 'exercicios': 1, 'adversario': 1, 'deitou-se': 1, 'debate': 1, 'radical': 1, 'compridas': 2, 'desapprenderam': 1, 'choravam': 2, 'escreve': 1, 'mando': 3, 'caixeiro': 1, 'demorará': 1, 'moleque': 1, 'toma': 3, 'atira-se': 1, 'lel-os': 1, 'come': 3, 'cancei': 1, 'contestação': 1, 'apologias': 1, 'affirmava': 2, 'predicção': 3, 'chegarão': 1, 'problema': 2, 'difficil': 2, 'gastou': 1, 'dissolução': 1, 'resistiu': 1, 'faltou': 2, 'alliança': 1, 'anglo-franceza': 1, 'considerar': 1, 'pharmacia': 2, 'estados': 1, 'morrem': 1, 'morrerá': 1, 'poupa': 1, 'entrarão': 1, 'leproso': 1, 'rota': 1, 'xci': 1, 'feitas': 3, 'gabinete': 10, 'servi': 2, 'allivio': 2, 'consola-me': 1, 'esquecerei': 1, 'fazendo-lhe': 1, 'liquidação': 1, 'pagará': 1, 'purgando': 1, 'mezesdonde': 1, 'concluirá': 1, '(já': 1, 'tarde)': 1, 'gemido': 1, 'xcii': 1, 'pinta': 2, 'enterrou-se': 1, 'aconteceu': 1, 'sentisse': 1, 'affligiu-me': 1, 'recebia': 1, 'propunha': 1, 'refutal-os': 1, 'resurreições': 1, 'ajudal-o': 1, 'cuja': 1, 'dormiu': 2, 'exigir': 1, 'temperando': 1, 'anti-russa': 1, 'consolava': 2, 'consolações': 1, 'excellentes': 1, 'diverte': 1, 'contrastes': 1, 'nojentos': 1, 'afflictos': 1, 'acena': 1, 'jardineiro': 1, 'affirma': 1, 'violetas': 1, 'terem': 2, 'cheiro': 2, 'superior': 1, 'estrume': 1, 'porco': 1, 'xciii': 1, 'obliterativa': 1, 'suppria': 1, 'cerca': 2, 'agradeceu-lhe': 1, 'carecesse': 1, 'obedecia-lhe': 1, 'aprimorada': 1, 'educação': 2, 'engasgada': 1, 'invenção': 1, 'desfechou-lhe': 1, 'capotes': 1, 'tacha': 1, 'confessar-nos': 1, 'mettidiço': 1, 'policiaes': 1, 'escapava': 2, 'reflectidos': 1, 'seguramente': 2, 'casa-se': 1, 'discordar': 1, '(sem': 1, 'naturalmente)': 1, 'elogiou': 2, 'distincta': 2, 'vagam': 1, 'ente': 1, 'perguntando': 1, 'omissas': 1, 'frescas': 1, 'contavamos': 1, 'voltamos': 1, 'thomaz': 2, 'horta': 1, 'chegou-se': 1, 'soccando': 1, 'milho': 1, 'alembra': 1, 'damião': 1, 'alphabeto': 2, 'differentes': 2, 'reparei': 1, 'apontei': 1, 'distinguindo-se': 1, 'appellido': 1, 'fulo': 1, 'gorda': 1, 'nação': 1, 'benguella': 1, 'moçambique': 1, 'andam': 2, 'ganhando': 1, 'alugados': 1, 'acostumasse': 1, 'alugadas': 2, 'cidade-nova': 1, 'tectos': 1, 'caminhámos': 1, 'passámos': 1, 'asseio': 1, 'engenhosas': 1, 'accordava': 1, 'altas': 1, 'commoveram': 1, 'ajusta': 1, 'physica': 1, 'xciv': 1, 'arithmeticas': 4, 'elogiar': 1, 'holmes': 1, '(2+2=4)': 1, 'sommava': 1, 'multiplicava': 1, 'operações': 1, 'difficeis': 1, 'voltados': 1, 'sussurrava': 2, 'denominações': 1, 'sommas': 1, 'conceituosos': 1, 'letras': 2, 'dispensaveis': 1, 'diverso': 1, 'prestam': 1, 't': 1, 'b': 1, 'p': 2, 'c': 2, 'z': 1, 'k': 1, 'g': 1, 'trapalhices': 1, 'calligraphicas': 1, 'façam': 1, '4': 3, '7': 3, 'admire': 1, 'formam': 3, 'exprime': 1, '11': 2, 'dobre': 1, '22': 1, 'multiplique': 1, '484': 1, 'zero': 2, 'negativo': 1, 'augmentar': 1, '5': 2, 'ponha-lhe': 1, '00': 1, '500': 1, 'dobradas': 1, 'approvo': 1, 'pp': 1, 'criado': 3, 'custava-me': 1, 'blasphemias': 1, 'ousava': 1, 'refutal-o': 1, 'preconceito': 1, 'menear': 1, 'philosophico': 1, 'linguistico': 1, 'quaesquer': 1, 'quantias': 1, 'dê-me': 3, 'saiba': 1, 'enforque-me': 1, 'aposta': 1, 'levei-lhe': 1, 'passou-os': 1, 'decorar': 1, 'relogio': 6, 'rápido': 1, 'bradava-me': 1, '1070$000': 3, 'mensaes': 1, 'considera': 1, 'variavam': 1, '70$000': 1, '180$000': 1, 'gastaria': 2, 'minutose': 1, 'papelfel-o': 1, 'olhava-me': 1, 'papelinho': 2, \"mostrei-lh'o\": 1, 'atrapalhada': 1, 'abraçal-o': 2, 'effusão': 1, 'disse-nos': 2, 'consente': 1, 'excessivos': 1, 'estimar-se': 1, 'observou-me': 1, 'propoz-me': 3, 'interrompi-o': 1, 'quebremos-lhe': 1, 'castanha': 1, 'doem': 1, 'longas': 1, 'xcv': 1, 'fecunda': 1, 'chamaram': 1, 'santuario': 1, 'certíssima': 1, 'revelou-me': 2, 'deslumbrado': 1, 'grandeza': 1, 'espiritualidade': 1, 'arrependida': 1, 'desejaria': 1, 'prendia': 2, 'indissoluvelmente': 1, 'rompel-o': 1, 'desligar': 1, 'apostolos': 3, 'exponho-lhe': 1, 'partir': 1, 'deixe-me': 1, 'amofina': 1, 'rigorosamente': 1, 'neguei': 1, 'confiasse': 1, 'reflectir': 2, 'resolvamos': 1, 'gastar': 2, 'camisas': 2, 'pão': 2, 'diário': 1, 'serei': 3, 'prégando': 1, 'prégal-a': 1, 'buscal-a': 1, 'levaremos': 1, 'ministro': 1, 'capuchinhos': 1, 'objecção': 1, 'oppôr': 1, 'dispensa': 2, 'vaticano': 1, 'prostrar-se': 1, 'levita': 1, 'promettido': 1, 'ternissima': 1, 'dulcissima': 1, 'considere': 1, 'beijando': 1, 'príncipe': 1, 'santidade': 1, 'evangelico': 1, 'inclina-se': 1, 'interroga': 1, 'absolve': 1, 'abençoa': 1, 'contemplam': 1, 'recommenda': 1, 'satisfeitos': 1, 'amado': 2, 'catholico': 2, 'alliviada': 1, 'geographicamente': 1, 'espiritualmente': 1, 'xcvi': 1, 'substituto': 2, 'expuz': 1, 'ouviu-me': 3, 'attentamente': 1, 'esquece-me': 2, 'esquece': 4, 'cantoras': 1, 'julga-se': 2, 'presa': 2, 'adoptar': 1, 'jurasse': 1, 'estarei': 1, 'soltado': 1, 'replicasse': 1, 'bulha': 3, 'disfarçado': 1, 'declarou': 2, 'cumpriria': 1, 'fugidios': 1, 'comeram': 1, 'clarão': 1, 'ouvi-lhe': 1, 'volubilidade': 1, 'melhornão': 1, 'tudomas': 1, 'produz': 1, 'orphão': 2, 'ordenar': 1, 'consulte': 1, 'consulto': 1, 'fala-se': 1, 'cumpre-se': 1, 'perdendo': 2, 'economico': 1, 'facil': 2, 'precisaria': 1, 'commodidades': 1, 'citou': 1, 'melhorar': 1, 'in': 1, 'hoc': 1, 'signo': 1, 'vinces': 1, 'sentia-me': 2, 'pilherico': 1, 'alegra': 1, 'perdidos': 1, 'havel-o': 3, 'contentissimo': 1, 'xcvii': 1, 'teor': 1, 'consultado': 1, 'inexperiencia': 1, 'valerão': 1, 'sacrificios': 1, 'analyse': 2, 'tiveste': 1, 'deves': 1, 'metade': 7, 'curiosissimo': 1, 'superlativa': 1, 'acabo': 2, 'condemnar': 1, 'recolhimento': 1, 'casto': 1, 'assomos': 1, 'petulancia': 1, 'atrevimento': 1, 'achavam-me': 1, \"diziam-m'o\": 1, 'mirar': 2, 'corrupção': 1, 'xcviii': 1, 'bacharel': 4, 'mudára': 1, 'resolvera-se': 1, 'envelhecer': 1, 'espalhadamente': 1, 'vestidos': 2, 'andaria': 2, 'descançar': 2, 'edosa': 1, 'fineza': 2, 'assistir': 1, 'graduação': 2, 'serra': 2, 'viçoso': 1, 'fallecera': 1, 'aposentára-se': 1, 'demissão': 1, 'negociar': 1, 'café': 11, 'trabalhado': 1, 'affagára': 1, 'segundas': 1, 'nupcias': 1, 'associal-a': 1, 'tentamens': 1, 'commerciaes': 1, 'adeantou-lhe': 1, 'dinheiros': 3, 'restituiu': 1, 'remoque': 1, 'medrosa': 1, 'esfriou': 1, 'travou': 1, 'estreitaram': 1, 'acceital-o': 1, 'repugnava-me': 1, 'entregou-lhe': 1, 'carta': 8, 'avó': 1, 'suspendeu': 1, 'obsequio': 5, 'casouadivinha': 1, 'quemcasou': 1, 'escrevendo-me': 1, 'cunhadinha': 3, 'parentescos': 1, 'xcix': 1, 'regressei': 1, 'estalou': 1, 'ver-nos': 2, 'abraçados': 1, 'moderno': 1, 'chalaça': 1, 'ordena-se': 1, 'consentir': 1, 'sintas': 1, 'recebesses': 1, 'sagração': 1, 'olha': 9, 'parecias': 1, 'bigode': 2, 'desfaz': 1, 'beijava-me': 2, 'alegral-a': 1, 'repetiam-me': 1, 'serás': 6, 'mala': 1, 'tirando': 2, 'lata': 1, 'illustre': 1, 'zeloso': 1, 'fada': 3, 'invisivel': 1, 'macia': 1, 'callida': 1, 'endireitando': 1, 'tronco': 2, 'fitando-me': 1, 'erguendo-me': 1, 'fadas': 1, 'expulsas': 1, 'metteram-se': 1, 'feiticeiras': 1, 'escocia': 1, 'rei': 4, 'macbethtu': 1, 'mereceu': 1, 'diploma': 1, 'cajú': 1, 'escobares': 1, 'distincto': 1, 'trabalhador': 2, 'truz': 1, '**enfim': 1, 'anjissimo': 1, 'perdoe': 3, 'cincada': 1, 'accentuar': 1, 'confundi': 1, 'expressões': 3, 'travêssa': 1, 'pensativos': 1, 'caprichosa': 1, 'fructo': 2, 'sadio': 1, 'sabem': 1, 'approvado': 1, 'approva': 1, 'pergunte-lhe': 2, 'positivos': 1, 'nora': 3, 'discreta': 1, 'prendada': 1, 'tomou': 1, 'aposentou': 1, 'entregal-o': 1, 'distribue': 1, 'rol': 1, 'cuida': 1, 'mantimento': 1, 'formosura': 1, 'consultou': 2, 'positivamente': 2, 'amuada': 1, '(não': 1, 'contou)': 1, 'inclinados': 1, 'viuvez': 1, 'casando-se': 1, 'commentou': 1, 'gracejo': 1, 'diversos': 1, 'confirmaram': 1, 'consentimento': 1, 'prophecia': 1, 'redacção': 1, 'própria': 1, 'ci': 1, 'sejamos': 1, 'pegue': 1, 'casemo-nos': 1, '1865': 1, 'tijuca': 3, 'ninho': 1, 'noivos': 1, 'descobertas': 2, 'abriu-nos': 1, 'fez-nos': 3, 'tocar-nos': 1, 'baculo': 1, 'recitou': 2, 'versiculos': 1, 'sujeitas': 1, 'maridos': 2, 'adorno': 1, 'enfeite': 2, 'riçados': 1, 'rendas': 2, 'co-habitai': 1, 'tratando-as': 1, 'vasos': 1, 'fracos': 1, 'herdeiras': 1, 'comvosco': 1, 'entoaram': 1, 'concertadamente': 1, 'desmentiriam': 1, 'execução': 2, 'wagner': 1, 'visitámos': 1, 'descança': 2, 'farei': 1, 'descripção': 1, 'idoneas': 1, 'ex-seminarista': 1, 'desejado': 1, 'jamais': 1, 'cii': 1, 'pendulo': 2, 'vissem': 2, 'escriptas': 1, 'mostraria': 1, 'tornavamos': 1, 'divertiamo-nos': 1, 'relembrar': 2, 'calamidades': 1, 'sairmos': 1, 'riamos': 1, 'conspirou': 1, 'festejando': 1, 'consorcio': 1, 'marcadas': 1, 'esperávamos': 1, 'concordava': 1, 'daquillo': 1, 'arrufámos': 1, 'fechando-me': 1, 'aborrecer-me': 1, 'desejosos': 1, 'imaginar': 1, 'descemos': 1, 'exteriores': 1, 'pisando': 1, 'inventava': 1, 'passeios': 2, 'confirmasses': 1, 'invejassem': 1, 'voltavam': 2, 'paravam': 1, 'perguntavam': 1, 'explicava': 2, 'casou': 1, 'residem': 1, 'mocetona': 2, 'ciii': 1, 'visitou': 1, 'abraços': 1, 'musicas': 1, 'poupando': 1, 'deliciosas': 1, 'comparou-nos': 1, 'aves': 2, 'criadas': 1, 'vãos': 1, 'telhado': 1, 'contiguos': 2, 'emplumando': 1, 'azas': 4, 'surtindo': 1, 'contel-as': 1, 'escutavamos': 1, 'commovidos': 1, 'convencidos': 1, '1858': 1, 'civ': 1, 'pyramides': 2, 'dividia-se': 1, 'almoços': 1, 'corria': 5, 'sogro': 1, 'ricas': 1, 'processos': 1, 'contribuira': 1, 'estréas': 1, 'admitisse': 1, 'banca': 2, 'arranjou-me': 1, 'procurações': 1, 'previamente': 1, 'continuavam': 1, 'casadas': 1, 'andarahy': 6, 'fossemos': 2, 'desejavamos': 1, 'gozarmos': 1, 'compridamente': 1, 'separavamos': 1, 'rijos': 1, 'filhinha': 2, 'actriz': 1, 'bailarina': 1, 'escandalo': 1, 'lastimava': 1, 'der': 1, 'fiquem': 1, 'complemento': 2, 'so': 1, 'fòr': 1, 'necessário': 2, 'pedia-o': 1, 'pagava': 1, 'antecipadamente': 1, 'cv': 1, 'divertir-se': 1, 'espectaculos': 1, 'passaro': 2, 'arranjava-se': 1, 'comprasse': 1, 'affligiu-se': 1, 'placida': 2, 'raros)': 1, 'passavamos': 2, 'navios': 1, 'astronomia': 4, 'amador': 1, 'cochillasse': 1, 'recreações': 1, 'cumpriu': 2, 'dansar': 1, 'enfeitava-se': 1, 'baile': 4, 'nús': 1, 'marmore': 2, 'esculptor': 3, 'entrelaçassem': 1, 'casacas': 1, 'fartavam': 1, 'mangas': 3, 'vexado': 2, 'apoio': 2, 'confiei': 2, 'candidamente': 1, 'tedios': 1, 'indecente': 1, 'chamar-nos': 1, 'chamou': 2, 'levou-os': 1, 'escomilha': 1, 'cobria': 1, 'descobria': 1, 'sendal': 1, 'camões': 2, 'cvi': 1, 'libras': 8, 'esterlinas': 3, 'poupada': 2, 'usadas': 1, 'guardam': 1, 'tradição': 1, 'sapatinhos': 1, 'fitas': 1, 'cruzavam': 1, 'usou': 1, 'calçar': 1, 'botinas': 1, 'trouxe-os': 1, 'tirava-os': 1, 'gaveta': 1, 'commoda': 1, 'velharias': 1, 'dizendo-me': 2, 'puras': 2, 'perdeu-se': 1, 'concentração': 1, 'sirius': 4, 'marte': 4, 'apressada': 1, 'apanhára': 1, 'percebel-o': 1, 'mimosa': 1, 'parcella': 1, 'tratava-se': 1, 'conversão': 1, 'desentadar-me': 1, 'calculando': 1, 'joelho': 1, 'buscam': 1, 'sobras': 1, 'mensalmente': 1, 'avarenta': 1, 'tinir': 1, 'corretor': 1, 'desconfiasse': 1, 'dobro': 1, 'commemorativo': 1, 'deteve-me': 1, 'consultou-me': 1, 'guarde-as': 1, 'ri-me': 2, '(continuava': 1, 'capitú)': 1, 'tinha-lhe': 1, 'naquillo': 1, 'economisar': 1, 'caronão': 1, 'arranjou': 1, 'gastadeira': 1, 'pensarias': 1, 'proximas': 2, 'consolação': 1, 'cvii': 1, 'descobriria': 1, 'torno': 2, 'desattenção': 1, 'explicar-te': 1, 'culpadas': 3, 'terço': 1, 'quinto': 1, 'decimo': 1, 'infinita': 1, 'recordem': 1, 'deleitem': 1, 'mortal': 1, 'trocado': 1, 'aceno': 1, 'miudo': 2, 'anonymo': 1, 'anonyma': 1, 'mettamos': 1, 'confusões': 1, 'mo': 1, 'empallidecer': 1, 'calar': 1, 'derrubaria': 1, 'reconstruiria': 1, 'meiga': 1, 'brando': 1, 'revelavam': 1, 'cautelas': 1, 'descobrir-me': 1, 'foram-se': 1, 'cviii': 1, 'sède': 1, 'viamos': 1, 'familiarmente': 1, 'capitúsinha': 1, 'differençal-a': 1, 'ficavamos': 1, 'graciosa': 1, 'gorducha': 1, 'faladeira': 1, 'agudezas': 1, 'vinhamos': 1, 'mentalmente': 1, 'nol-as': 1, 'matassem': 1, 'morreram': 1, 'nasceram': 1, 'tardou': 2, 'escasso': 1, 'rapagão': 2, 'identica': 1, 'loucura': 1, 'affligir': 2, 'convalescente': 1, 'observal-o': 1, 'tolices': 1, 'pensadas': 1, 'deliradas': 1, 'descuido': 2, 'davamos': 1, 'olhavamos': 1, 'conversavamos': 1, 'amamentação': 1, 'chupando': 1, 'união': 1, 'nutrição': 1, 'constancia': 1, 'escusai': 1, 'dedicação': 1, 'solteira': 1, 'tratal-a': 1, 'virei': 1, 'sigo': 1, 'usavamos': 1, 'recolhi': 1, 'casmurrice': 1, 'linguagem': 2, 'jantava': 1, 'ia-se': 2, 'desciamos': 1, 'negociante': 2, 'metti-o': 1, 'bancos': 1, 'consultada': 1, 'cri': 1, 'orador': 2, 'redarguia': 1, 'desmosthenes': 1, 'creancices': 1, 'interrogava': 1, 'apertei': 1, 'assignei': 1, 'pacto': 1, 'atropelo': 1, 'afinadas': 1, 'propuz': 1, 'encaminhassemos': 1, 'educarão': 1, 'unida': 1, 'correcta': 1, 'madrinha': 1, 'carinhos': 1, 'velhaco': 1, 'desisto': 1, 'baptisado': 2, 'discretamente': 1, 'comprehendesse': 1, 'desculpasse': 1, 'riu-se': 1, 'magoou': 1, 'espaçar': 1, 'succumbia': 1, 'supprir': 1, 'compadrio': 1, 'cix': 1, 'christão': 1, 'inquietos': 1, 'considerares': 1, 'incerto': 2, 'imaginarás': 1, 'somnos': 2, 'sustos': 1, 'metteram': 1, 'crises': 2, 'febricula': 1, 'acudiamos': 1, 'urgia': 1, 'leitores': 1, 'obtusos': 1, 'entendem': 1, 'relata': 2, 'cx': 1, 'come-me': 1, 'vidas': 1, 'completas': 1, 'acabadas': 1, 'desmentir': 1, 'adivinhavam-se': 1, 'vocações': 1, 'vadio': 2, 'cala': 1, 'agitava-se': 1, 'instava': 1, 'persuadir': 1, 'farto': 1, \"d'elles\": 1, 'levam': 1, 'opinava': 1, 'implicitamente': 1, 'apostolado': 1, 'trouxessem': 1, 'ria-se': 1, 'annunciava-me': 1, 'socio': 1, 'vendia': 2, 'lembrará': 1, 'esquecimento': 1, 'lembrarão': 1, 'olvidado': 1, 'treplica': 1, 'transcrevesse': 1, '(bastou-me': 1, \"repetir-lh'o\": 1, 'memoria)': 1, 'guardei': 3, 'procural-o': 1, 'romance': 1, 'pedacinho': 2, \"expliquei-lh'o\": 1, 'teclou': 1, 'delicioso': 1, 'teclava': 1, 'pedir-me': 2, 'desmentisse': 1, 'militar': 1, 'actor': 2, 'bailarino': 1, 'cavallos': 1, 'espada': 4, 'batalhões': 1, 'ancias': 1, 'tropa': 1, 'tambores': 1, 'commandante': 2, 'soldados': 1, 'tocando': 2, 'dei-lhe': 2, 'cornetinha': 1, 'comprei-lhe': 1, 'soldadinhos': 1, 'chumbo': 1, 'batalhas': 1, 'mirava': 1, 'artilharia': 1, 'soldado': 2, 'caído': 1, 'alçada': 2, '(ingenua': 1, 'edade)': 1, 'pintado': 3, 'gravador': 2, 'summa': 2, 'gato': 9, 'rato': 9, 'atravessado': 1, 'fugisse': 3, 'acocorou-se': 1, 'perguntámos-lhe': 1, 'calassemos': 1, 'ratos': 1, 'infestar-me': 1, 'acompanhei-os': 1, 'circumstancia': 3, 'esperneando': 1, 'enlevado': 1, 'curto': 3, 'dispoz-se': 1, 'tirar-lhe': 1, 'significar': 1, 'totalidade': 1, 'guinchos': 1, 'frouxissimos': 1, 'moviam': 1, 'desordenadamente': 1, 'bati': 1, 'palmas': 2, 'atalhar-me': 1, 'comido': 1, 'riram-se': 1, 'cxi': 1, 'successos': 2, 'occorridos': 1, 'pesa': 1, 'repudio': 1, 'parcial': 1, 'exclusões': 1, 'injustas': 1, 'acham': 1, 'inferior': 1, 'desamo': 1, 'incompativeis': 1, 'roe-me': 1, 'queijo': 1, 'perdoei': 1, 'cachorro': 1, 'cães': 3, 'latiam': 1, 'procurei': 2, 'fiscal': 1, 'procurasse': 1, 'resolvi': 1, 'matal-os': 2, 'comprei': 2, 'veneno': 3, 'bolas': 4, 'inseri': 1, 'droga': 3, 'afastaram-se': 1, 'flamengo': 10, 'assobiando': 1, 'estalinhos': 1, 'latiu': 1, 'fiado': 1, 'foi-se': 1, 'calou': 1, 'continuasse': 2, 'mexendo': 1, 'cauda': 1, 'envenenadas': 2, 'deitar-lhe': 1, 'carinho': 1, 'remetteu': 1, 'cão': 1, 'attribuir': 1, 'perfidia': 1, 'entregou-se-me': 1, 'livrou': 1, 'cxii': 1, 'imitações': 2, 'comporia': 1, 'recusaria': 2, 'pedrada': 1, 'dessem': 1, 'batalhador': 1, 'gostamos': 1, 'sairá': 1, 'maricas': 1, 'descubro': 1, 'defeitosinho': 1, 'altitudes': 1, 'imita': 3, 'emendal-o': 1, 'vezo': 1, 'parecia-lhe': 1, 'succede': 1, 'mortifical-o': 1, 'corrigil-o': 1, 'zangava': 2, 'concordo': 1, 'batendo-lhe': 1, 'face': 2, 'escarneo': 1, 'risos': 1, 'pintarão': 1, 'estirou': 1, \"atirou-m'os\": 1, '(velha': 1, 'imagem)': 1, 'transferisse': 1, 'altitude': 2, 'brilharia': 1, 'artista': 2, 'grupo': 2, 'saem': 1, 'saberiamos': 1, 'cxiii': 1, 'embargos': 8, 'perguntes': 1, 'cioso': 2, 'indifferença': 1, 'valsa': 2, 'desconfiança': 2, '(disse-me': 1, 'dia)': 1, 'correspondencia': 1, 'affectos': 1, 'procuravam': 1, 'confessado': 1, 'vindouras': 2, 'bonitas': 1, 'receberia': 1, 'minima': 1, 'estréa': 1, 'adoecido': 1, 'falar-te': 1, 'saido': 2, 'ficára': 3, 'queixava-se': 1, 'vou-me': 1, 'occorrera': 1, 'incidente': 4, 'jantado': 1, 'falemos': 2, 'sóbe': 1, 'desces': 1, 'aggravára': 1, 'padecimento': 1, 'divertir-me': 1, 'mentia': 1, 'cxiv': 1, 'explicado': 5, 'expliquemos': 2, '(cap': 1, 'cx)': 1, 'chocha': 1, 'trazem': 1, 'ensinamentos': 1, 'agradaveis': 1, 'jurado': 1, 'tabellião': 1, 'registra': 1, 'tragicamente': 1, 'aproveitei': 2, 'beijar-lhe': 1, 'recordal-a': 1, 'pontual': 1, 'manter': 1, 'futuras': 1, 'constituição': 1, 'transferindo': 1, 'profundamente': 1, 'terrivel': 1, 'compromisso': 1, 'infidelidade': 1, 'importara': 1, 'purgatorio': 3, 'confundam': 1, 'penhores': 1, 'empresta': 1, 'renovam-se': 1, 'medianas': 1, 'pagam': 1, 'cxv': 1, 'duvidas': 6, 'escrevel-os': 1, 'contal-os': 1, 'reforçar': 1, 'tomaremos': 1, 'tomámos': 1, 'cuidasse': 1, 'recusava': 1, 'forrar-me': 1, 'escrevel-a': 1, 'desfez': 1, 'dissipar': 1, 'olympio': 1, 'impressionado': 1, 'demanda': 3, 'tens': 1, 'puxa': 1, 'coaxavam': 1, 'rans': 1, 'tirarem': 1, 'fria': 2, 'arredia': 1, 'sogra': 1, 'mamãesinha': 1, 'passem': 1, 'augmentem': 1, 'faltando': 2, 'neto': 1, 'notado': 1, 'totalmente': 1, 'comparativamente': 1, 'fresco': 1, 'quinquagenaria': 1, 'ancianidade': 1, 'viçosa': 1, 'melancolias': 1, 'costumada': 1, 'esperassemos': 1, 'sogras': 1, 'mudavam': 1, 'recrudescia': 1, 'espertar-me': 1, 'deliciosa': 1, 'havíamos': 1, 'chegada': 2, 'enchia-me': 1, 'beijos': 2, 'cxvi': 1, 'apalpei': 2, 'incessantes': 1, 'virtuosa': 1, 'côro': 1, 'envergonhadissimo': 1, 'travessa': 1, 'separou': 1, 'elogia': 1, 'comadre': 1, 'achacada': 1, 'rheumatismos': 1, 'imagine': 1, 'obrigada': 1, 'observar-lhe': 1, 'frieza': 1, 'estendi': 1, 'prophetasinho': 1, '(assim': 1, 'ezequiel)': 1, 'biblico': 1, '(estivera': 1, 'depois)': 1, 'perguntava-lhe': 1, 'dize-me': 1, 'teus': 4, 'agastada': 1, 'biblia': 2, 'cruas': 1, 'grosseiras': 1, '**mas': 1, 'repetidos': 1, 'apanhara': 1, 'travesso': 1, 'começámos': 1, 'saltou': 1, 'reprehendeu': 1, 'cxvii': 1, 'proximos': 2, 'comprára': 1, 'gana': 1, 'mortas': 1, 'pesados': 1, 'confundem': 1, 'vivos': 1, 'defunctos': 2, 'agitado': 1, 'accendi': 1, 'charuto': 1, 'subido': 1, 'alteraram': 1, 'irem': 2, 'cavar': 2, 'more': 1, 'permeio': 1, 'historiador': 1, 'barros': 1, 'barbaro': 1, 'mansas': 1, 'portuguezes': 1, 'propunham': 1, 'estabelecer': 1, 'deviam': 1, 'zangarem': 1, 'batiam': 2, 'rochedo': 1, 'viam': 1, 'escriptor': 3, 'adornar': 1, 'ullysses': 1, 'esquecia': 2, '(salvo': 1, 'tempo)': 1, 'observasse': 1, 'acontecer': 1, 'acharam': 1, 'frequentam': 1, 'parecendo-se': 1, 'opinei': 1, 'succedia': 1, 'cxviii': 1, 'truismo': 1, 'accrescentar': 1, 'castello': 2, 'despegará': 1, 'perca': 1, 'construcções': 1, 'solido': 1, 'inseparaveis': 1, 'falando-me': 1, 'precisavamos': 1, 'contradança': 1, 'adivinhar': 1, 'tirava': 1, 'falaramos': 1, 'ergueu': 1, 'convidavam': 1, 'expansões': 1, 'fraternaes': 1, 'quentes': 1, 'intimativos': 1, 'afastassem': 1, 'pensativo': 1, 'encontrei-os': 1, 'passassem': 1, 'nenhuns': 1, 'desligou-nos': 1, 'olhára': 1, 'passa**': 1, 'dar-se-hia': 1, 'transluzisse': 1, 'invencivel': 2, 'repete': 1, 'desafiar': 1, 'maioresvocê': 1, 'bravia': 1, 'nadar': 3, 'pulmõesdisse': 1, 'apalpa': 1, 'apalpei-lhe': 1, 'supprimil-a': 1, 'jarretar': 1, 'achei-os': 1, 'tive-lhes': 1, 'accresce': 1, 'sabiam': 1, 'saímos': 1, 'demorou-se': 1, 'sancção': 1, 'trabalhavam': 1, '**uma': 1, 'deliciosissima': 2, 'moderei': 1, 'emendando-me': 1, 'ouvia-se': 1, 'fortecomo': 1, 'casaa': 1, 'viam-se': 1, 'ondas': 1, 'detiveram-se': 1, 'trocámos': 1, 'achava-lhes': 1, 'intercalavam-se': 1, 'marcando': 1, 'alternativamente': 1, 'perdição': 1, 'demorei': 1, 'combati': 1, 'sinceramente': 2, 'rejeitei': 2, 'chamei-me': 1, 'desleal': 1, 'ligar-se': 1, 'provaria': 1, 'fulgurante': 1, 'remorsos': 1, 'nascem': 1, 'conciliava': 1, 'achava-me': 1, 'attracção': 1, 'méro': 1, 'accidente': 1, 'compleição': 1, 'genealogicamente': 1, 'celestial': 1, 'reflectiria': 1, 'vaguei': 2, 'tôa': 1, 'capricho': 1, 'deitar-me': 1, 'cxix': 1, 'querida': 2, 'cavatina': 1, 'fechal-o': 2, 'pressas': 2, 'beiramos': 1, 'abysmo': 1, 'rumo': 1, 'cxx': 1, 'livre': 1, 'abominações': 1, 'chamei-lhes': 1, 'allucinações': 1, 'percorri': 1, 'lapa': 3, 'allegações': 2, 'adversa': 1, 'falsas': 1, 'inadmissiveis': 1, 'praxes': 1, 'consultei': 2, 'dalloz': 1, 'photographia': 6, 'tirada': 2, 'sobrecasaca': 1, 'abotoada': 1, 'dorso': 1, 'garbo': 1, 'naturalidade': 1, 'encobria': 1, 'cartão': 2, '20-4-70': 1, 'fortaleceram-me': 1, 'espancaram': 1, 'cxxi': 1, 'catastrophe': 1, 'precipitados': 1, 'soaram': 1, 'golpes': 1, 'sinhô': 2, 'nadando': 1, 'morrendo': 1, 'vesti-me': 1, 'metteu-se': 1, 'arriscou-se': 1, 'bravio': 1, 'enrolado': 1, 'puderam': 1, 'trazer-lhe': 2, 'cxxii': 1, 'poupo-vos': 1, 'sai': 2, 'esperavam-me': 1, 'enfastiada': 1, 'pomposo': 1, 'affluencia': 1, 'numerosa': 2, 'praça': 2, 'carros': 2, 'particulares': 1, 'fallecèra': 1, 'divergindo': 1, 'avaliação': 1, 'bens': 2, 'passivo': 1, 'elogiavam': 1, 'discutia': 1, '1871': 1, 'mostrei-as': 1, 'pesando': 1, 'espalhou': 1, 'conhecidos': 1, 'interrogar-me': 1, 'tinha-as': 1, 'impedisse': 1, 'improvisar': 1, 'tilbury': 1, 'sympathias': 1, 'começada': 1, 'continuada': 1, 'separar': 1, 'promettiam': 1, 'unidas': 1, 'enxugava': 2, 'arrancando': 1, 'cxxiii': 1, 'encommendação': 1, 'partida': 2, 'consternou': 1, 'amparando': 1, 'vencer-se': 1, 'arrancal-a': 1, 'geral': 3, 'fixa': 3, 'apaixonadamente': 1, 'saltassem': 1, 'cessaram': 1, 'enxugou-as': 1, 'retinha': 1, 'fitaram': 1, 'tragar': 1, 'nadador': 1, 'cxxiv': 1, 'convidava': 1, 'ataúde': 2, 'fechámol-o': 1, 'argolas': 1, 'alarido': 1, 'atirar': 1, 'caixao': 1, 'desatar': 1, 'correias': 1, 'feretro': 1, 'cova': 2, 'descido': 1, 'cal': 1, 'pá': 1, 'quietos': 1, 'attentas': 1, 'sussurro': 1, 'interrogativas': 1, 'jus': 1, 'annunciado': 1, 'machinalmente': 1, 'metti': 1, 'saquei': 1, 'li-o': 1, 'trambolhões': 1, 'parecia-me': 1, 'tremiam-me': 1, 'confessadas': 1, 'meritos': 1, 'adivinhassem': 1, 'forcejava': 1, 'escondel-a': 1, 'comprehensão': 2, 'solidariedade': 1, 'eloquencia': 1, 'jornalista': 1, 'cxxv': 1, 'priamo': 2, 'infeliz': 1, 'matou': 1, 'contal-o': 1, 'narrações': 1, 'exactas': 1, 'compara': 1, 'louvar': 1, 'digas': 1, 'faltam': 1, 'homeros': 1, 'apontada': 1, 'faltam-nos': 1, 'priamos': 1, 'procuram': 1, 'enxugadas': 1, 'appareçam': 1, 'matasse': 1, 'heitor': 1, 'cxxvi': 1, 'scismando': 2, 'rasguei': 1, 'portinhola': 1, 'impedil-o': 1, 'tentação': 2, 'imprimir': 2, 'destruido': 1, 'demonstrou': 1, 'activo': 1, 'amantissima': 2, 'deixei-o': 1, 'scismar': 2, 'scismei': 1, 'senhoras': 2, \"d'isto\": 1, 'iriam': 1, 'pausadas': 1, 'afrouxar': 2, 'arrepiar': 1, 'scismasse': 1, 'comparado': 1, 'desvaneceu': 1, 'recompôr-lhe': 1, 'ajuntamento': 1, 'impôr-lhe': 1, 'deductiva': 1, 'barafunda': 1, 'solavancos': 1, 'interrupções': 1, 'raciocinava': 1, 'offuscava': 1, 'desvairar': 1, 'affligiam': 1, 'ponhamos': 1, 'socegar': 1, 'endireitei': 1, 'padaria': 1, 'cxxvii': 1, 'barbeiro': 4, 'rabeca': 2, 'executava': 1, '(tudo': 1, 'pretextos': 1, 'agoniado)': 1, 'viu-me': 1, 'freguez': 1, 'confiar-lhe': 1, 'navalha': 1, 'perdeu-os': 1, 'consideração': 1, 'levantando': 1, 'fechava': 2, 'apontar': 1, 'trigueira': 1, 'descobriu': 1, 'agradecer-me': 1, 'freguezes': 1, 'grudava': 1, 'instrumento': 1, 'arco': 2, 'formando': 1, 'escadas': 2, 'maxima': 2, 'compiladores': 1, 'inserir': 1, 'compendios': 1, 'barbas': 1, 'transeunte': 1, 'ir-se': 1, 'namorar-lhe': 1, 'tocaria': 1, 'cxxviii': 1, 'punhado': 1, 'encostada': 1, 'saleta': 1, 'suspenderam': 1, 'censurou': 1, 'imprudencia': 1, 'offereci-me': 1, 'ser-lhe': 1, 'penosa': 1, 'ponderou': 1, 'começassemos': 1, 'concertou': 2, 'pareceria': 1, 'soubessemos': 1, 'vermelhos': 1, 'dormindo': 2, 'pensára': 1, 'reparar': 1, 'acabámos': 1, 'rasgado': 1, 'recompôl-o': 1, 'soltas': 1, 'falso': 1, 'recolher': 1, 'pedacinhos': 1, 'deitados': 1, 'varridos': 1, 'inventariei': 1, 'tinteiro': 1, 'bronze': 1, 'marfim': 1, 'album': 1, 'paizagens': 2, 'paraná': 2, 'regalos': 1, 'empanava': 1, 'deixados': 1, 'feira': 2, 'terça-feira': 1, 'nomeava': 1, 'testamenteiro': 1, 'escrevera': 1, 'separada': 1, 'inventario': 1, 'andou': 1, 'cxxix': 1, 'leia': 2, 'abandone': 1, 'queimal-o': 1, 'abril-o': 1, 'respondo': 1, 'desmentimos': 1, 'indelevel': 1, 'envelhecendo': 1, 'encontraremos': 1, 'renovados': 1, 'plantas': 1, 'piante': 1, 'novelle': 2, 'rinovalatte': 1, 'di': 1, 'fronde': 1, 'cxxx': 1, 'minas': 1, 'serie': 1, 'aconselhados': 1, 'melancolicos': 1, 'respondesse': 1, 'recusei': 1, 'repliquei-lhe': 1, 'animar-me': 1, 'tornariam': 1, 'vendidos': 1, 'residir': 1, 'viveriamos': 1, 'socegados': 1, 'esquecidos': 1, 'tornariamos': 1, 'tona': 1, 'commover': 1, 'pedras': 1, 'respondi-lhe': 2, 'seccamente': 1, 'acceitasse': 1, 'precedido': 1, 'occorrido': 1, 'escrevel-o': 1, 'antepôl-o': 1, 'prélo': 1, 'seguirá': 1, 'cxxxi': 1, 'rendia-me': 1, '1872': 1, 'espressão': 1, 'revirar': 1, 'queriam-se': 1, 'approximei-me': 1, 'pareceram': 1, 'exquisitos': 1, 'dariam': 1, 'saltou-me': 1, 'passear': 4, 'abanando': 1, 'unicos': 1, 'entrou-me': 1, 'corresse': 1, 'enchesse': 1, 'radicalmente': 1, 'futuros': 1, 'cxxxii': 1, 'debuxo': 3, 'colorido': 1, 'restantes': 1, 'apurando': 1, 'primitivo': 1, 'enchendo': 1, 'colorindo': 1, 'sorrir': 1, 'pendura': 1, 'aponta': 1, 'vagarosa': 1, 'lê-se': 1, 'coada': 1, 'persianas': 1, 'distinguir': 1, 'fugia-lhe': 1, 'vidraças': 1, 'clarissima': 1, 'surgindo': 1, 'sentar': 1, 'receber-me': 1, 'beijar-me': 1, 'repulsivas': 1, 'tolerava-as': 1, 'praticava-as': 1, 'embaçada': 1, 'agoniada': 1, 'creaturinha': 1, 'desarmado': 1, 'differia': 1, 'castigo': 1, 'notará': 1, 'repetido': 1, 'falha': 1, 'canceira': 1, 'temporaes': 1, 'continuos': 1, 'tardava': 1, 'abríamos': 1, 'levavam': 1, 'universo': 1, 'desbaratava': 1, 'postos': 1, 'esperavamos': 1, 'bonança': 1, 'tardia': 2, 'dubia': 1, 'releva-me': 1, 'cheiram': 2, 'maré': 1, 'comborço': 2, 'marujo': 1, 'liamos': 1, 'vibrante': 1, 'levei': 2, 'levei-o': 1, 'levára': 1, 'temporaria': 1, 'attenuar': 1, 'descostume': 1, 'completando': 1, 'ruidoso': 1, 'turbulento': 1, 'demo': 1, 'aversão': 1, 'encobrir': 1, 'encontradiço': 1, 'arrebaldes': 1, 'cxxxiii': 1, 'diaera': 1, 'sexta': 1, 'feiranão': 1, 'negrejava': 1, 'batel-as': 1, 'sexta-feira': 2, 'educado': 1, 'balladas': 1, 'vindas': 1, 'metropole': 1, 'agouro': 1, 'almanaks': 1, 'batesse': 1, 'cumprida': 1, 'entendendo': 1, 'lê': 1, 'cxxxiv': 1, 'sacudisse': 1, 'suppondo': 1, 'trepidas': 1, 'avoasse': 1, 'retina': 1, 'encobrisse': 1, 'externas': 1, 'via-as': 1, 'atra': 1, 'demorarem': 1, 'substancia': 2, 'espertar': 1, 'proval-a': 1, 'falliu': 1, 'banqueiro': 1, 'banco': 1, 'prospera': 1, 'gasta-se': 1, 'gasta': 1, 'cxxxv': 1, 'jantei': 2, 'representava-se': 1, 'lera': 1, 'coincidencia': 1, 'raivas': 1, 'mouro': 4, 'lençoum': 1, 'lençoe': 1, 'meditação': 1, 'psychologos': 1, 'continentes': 1, 'furtar': 1, 'observação': 1, 'tragedia': 1, 'lenços': 1, 'perderam-se': 1, 'precisos': 2, 'turvas': 1, 'convulso': 1, 'distilava': 1, 'calumnia': 1, 'levantava': 1, 'expôr-me': 1, 'encontrar': 1, 'ficavam': 1, 'camarotes': 1, 'fumar': 1, 'jazesse': 1, 'incoherencias': 1, 'applausos': 1, 'freneticos': 1, 'abaixoque': 1, 'culpada': 2, 'intenso': 1, 'consumisse': 1, 'reduzisse': 1, 'pó': 2, 'lançado': 1, 'extincção': 1, 'derradeiros': 1, 'varredores': 1, 'carroças': 1, 'ruidos': 1, 'albores': 1, 'veria': 1, 'fugiam': 1, 'tornaria': 1, 'contemplar': 1, 'orgãos': 1, 'santa-cruz': 1, 'communs': 1, 'repetiria': 2, 'ante-pé': 1, 'camisa': 1, 'dirigida': 1, 'queimei-o': 1, 'diffuso': 1, 'continha': 1, 'lutas': 1, 'havidas': 1, 'falava-lhe': 1, 'cxxxvi': 1, 'chicara': 8, 'dissolver': 1, 'ingeril-a': 1, 'romana': 1, 'catão': 1, 'leu': 1, 'releu': 1, 'platão': 2, 'plutarcho': 2, 'narrada': 1, 'romano': 1, 'occupar': 1, 'imital-o': 2, 'estirei-me': 1, 'coragem': 1, 'precisára': 1, 'philosopho': 1, 'intrepidamente': 1, 'males': 1, 'ignorancia': 1, 'mata': 1, 'nobremente': 1, 'expira': 1, 'cocaina': 1, 'imitação': 1, 'encontrado': 1, 'gazetas': 1, 'assentei': 1, 'pôl-o': 1, 'copeiro': 1, 'rumores': 1, 'tremeu-me': 1, 'embrulhada': 1, 'despejar': 1, 'mexer': 1, 'vagos': 2, 'intrometter-se': 1, 'acabemos': 1, 'saissem': 1, 'beberia': 1, 'descrevo': 1, 'estante': 1, 'esticou-se': 1, 'dar-me': 1, 'puxando-me': 1, 'cxxxvii': 1, 'olhasse': 1, 'bebel-o': 2, 'vã': 1, 'chamem-me': 1, 'assassino': 1, 'desdiga': 1, 'contradiga': 1, 'criminoso': 1, 'bebe': 1, 'cheguei-lhe': 1, 'entornei': 1, 'fazel-a': 1, 'guela': 1, 'repugnasse': 1, 'temperatura': 1, 'doudamente': 1, 'cxxxviii': 1, 'parecerá': 1, 'mór': 1, 'extensão': 1, 'recompoz-se': 1, 'tuas': 1, 'confessal-o': 1, 'episodio': 1, 'repeti-lhe': 1, 'fôro': 1, 'já**': 1, 'varios': 1, 'retorcia': 1, 'menores': 1, 'digacontinuou': 1, 'nadadiga': 1, 'despeça-me': 1, 'tinha-se': 1, 'confusa': 1, 'porte': 1, 'accusada': 1, 'defenda': 1, 'decidida': 1, 'redargui': 1, 'pegando-lhe': 1, 'proposta': 1, 'fizessemos': 1, 'insiste': 1, 'alludir': 1, 'proferir-lhe': 1, 'juntamente': 1, 'ironico': 1, 'melancolico': 1, 'escapam': 1, 'capinha': 1, 'plena': 1, 'justificação': 1, 'desdem': 1, 'casualidade': 1, 'explicará': 1, 'ri-se': 1, 'acredita': 1, 'cxxxix': 1, 'phantasmagoria': 1, 'allucinado': 1, 'gritandomamãe': 1, 'restituiu-me': 1, 'involuntariamente': 1, 'cxl': 1, 'perdido': 1, 'solução': 3, 'aberta': 1, 'reparação': 2, 'havel-a': 1, 'regresso': 2, 'amarguras': 1, 'indispensavel': 1, 'embuçados': 1, 'espreitando': 1, 'debilidade': 1, 'incerteza': 1, 'paternidade': 2, 'falhou': 1, 'impressões': 1, 'evocára': 1, 'lembrar-te': 1, 'reduzem-se': 1, 'attentando': 1, 'envolta': 1, 'episodios': 1, 'remotos': 1, 'encontros': 1, 'cegueira': 1, 'sonhando': 1, 'atordoaram': 1, 'esganei': 1, 'telegraphico': 1, 'cautelosos': 1, 'desenfiaram': 1, 'contei-lhes': 1, 'acharam-lhe': 1, 'arame': 1, 'cosidas': 1, 'ninhos': 1, 'chins': 2, 'inventaram': 1, 'classicos': 1, 'falaram': 1, 'aborreciamos': 1, 'cxli': 1, 'pegámos': 1, 'parámos': 1, 'suissa': 2, 'professora': 1, 'rio-grande': 1, 'ensinando': 1, 'escolas': 2, 'paiz': 1, 'regulada': 1, 'brazil': 1, 'começára': 1, 'escrever-me': 1, 'brevidade': 1, 'sequidão': 1, 'submissas': 1, 'saudosas': 1, 'embarquei': 1, 'resultado': 1, 'lembravam': 1, \"dava-lh'as\": 1, 'simular': 1, 'cxlii': 1, 'entenda-se': 1, 'invalido': 1, 'envelheceu': 1, 'commoviam': 1, 'sé': 1, 'embarcou': 1, 'procura': 1, 'baptista': 1, 'indicação': 1, 'achou-a': 1, 'ponderou-me': 1, 'santas': 1, 'atalhei': 1, 'canonisada': 1, 'terrena': 1, 'finada': 1, 'possuiu': 1, 'conserval-a': 1, 'postuma': 1, 'afiliação': 1, 'importará': 1, 'filiação': 1, 'hesito': 1, 'conheceu': 2, 'conheci-o': 1, 'padre-modelo': 1, 'canonista': 1, 'latinista': 1, 'caridoso': 1, 'prendas': 1, 'insigne': 1, 'admitte-se': 1, 'assistiu': 1, 'diligencias': 1, 'meticuloso': 1, 'desculpa': 1, 'conhecessem': 1, 'mandariam': 1, 'esculpir': 1, 'cxliii': 1, 'separaria': 1, 'enterrar-me': 1, 'correspondia-se': 1, 'adiando': 1, 'remessa': 1, 'correio': 2, 'avô': 1, 'preparava': 1, 'geração': 1, 'converto-me': 1, 'catholicismo': 1, 'agonia': 1, 'abrissemos': 1, 'fazer-lhe': 1, 'abrimos': 1, 'soergueu-se': 1, 'lindissimo': 1, 'proferiu': 1, 'cxliv': 1, 'chorem': 1, 'tenho-me': 1, 'móro': 1, 'reproduza': 1, 'perguntar-me': 1, 'impedi': 1, 'demolissem': 2, 'reproduzil-a': 1, 'inspecção': 1, 'desconheceu': 1, 'aroeira': 1, 'pitangueira': 1, 'caçamba': 1, 'deixara': 1, 'pasmava': 1, 'intruso': 1, 'buscando': 1, 'ramagem': 1, 'sussurrar': 1, 'cantiga': 1, 'dessa': 1, 'sonora': 1, 'jovial': 1, 'grunhir': 1, 'porcos': 1, 'concentrada': 1, 'philosophica': 1, 'adverso': 1, 'architecto': 1, 'cxlv': 1, 'vestir-me': 2, 'fil-o': 1, 'mãecreio': 1, 'enterrada': 1, 'repousa': 1, 'manso': 1, 'crespo': 1, 'cauteloso': 1, 'conheceu-me': 1, 'mexi': 1, 'cores': 1, 'vivas': 1, 'trajava': 1, 'moderna': 1, 'reproduzia': 1, 'verdadeiro': 1, 'luto': 1, 'sentámo-nos': 1, 'sotaque': 1, 'diferia': 1, 'interrogatorio': 1, 'dominar': 1, 'resurgindo': 1, 'eil-o': 1, 'louvando-me': 1, 'pensas': 1, 'enganas-te': 1, 'completasse': 1, 'mae': 1, 'crendo': 1, 'deixado': 1, 'lembrar-me': 1, 'desesperado': 1, 'puxão': 1, 'perninhas': 1, 'estendeu': 1, 'offerecia': 1, 'bebeu': 1, 'prato': 1, 'archeologia': 1, 'antiguidade': 1, 'egypto': 2, 'arithmetica': 1, 'familiar': 1, 'diabrete': 1, 'deveras': 1, 'persistiria': 1, 'verificar': 2, 'regalo': 1, 'atalhei-o': 1, 'levou-a': 1, 'viu-lhe': 1, 'iam-lhe': 1, 'admirava-se': 1, 'grecia': 1, 'palestina': 1, 'scientifica': 1, 'ruina': 1, 'collegas': 1, 'prometti-lhe': 1, 'recursos': 1, 'furtivos': 1, 'archeologias': 1, 'atravessou': 1, 'perverso': 1, 'apertal-o': 1, 'encarei-o': 1, 'deitou': 1, 'agradecidos': 1, 'cxlvi': 1, 'typhoide': 1, 'immediações': 1, 'jerusalem': 1, 'levantaram': 1, 'tumulo': 1, 'propheta': 1, 'grego': 2, 'caminhos': 2, 'mandaram-me': 1, 'despesas': 1, 'triplo': 1, 'vulgata': 1, 'ajuntar': 1, 'cxlvii': 1, 'retrospectiva': 2, 'lacerada': 1, 'solitaria': 1, 'descôr': 1, 'faltarem': 1, 'consolassem': 1, 'caprichos': 1, 'assistem': 1, 'fartam': 1, 'esmorece': 1, 'libré': 1, 'modestamente': 1, 'calcante': 1, 'levas': 1, 'catalogo': 2, 'levo': 1, 'consultava': 1, 'entravamos': 1, 'mostrava-lhe': 1, 'historicos': 1, 'aquarella': 1, 'pastel': 1, 'gouache': 1, 'cançava': 1, 'cxlviii': 1, 'caprichosas': 1, 'mudada': 1, 'jesus': 1, 'sirach': 1, 'dir-me-hia': 1, '1': 1, 'enganar-te': 1, 'concordarás': 1, 'fruta': 1, 'summas': 1, 'restos': 1, 'extremosos': 1, 'queridos': 1, 'juntando-se': 1, 'enganando-me': 1}\n"
     ]
    }
   ],
   "source": [
    "def limpa_linha(linha: str) -> list:\n",
    "    linha = linha.strip().lower()\n",
    "    pontuacao = [\",\", \".\", \":\", \";\", \"--\", \"_\", \"?\", \"!\", \"«\", \"»\"]\n",
    "    for ponto in pontuacao:\n",
    "        linha = linha.replace(ponto, \"\")\n",
    "    return linha.split() if linha else []\n",
    "\n",
    "def atualiza_histograma(histograma, linha):\n",
    "    for palavra in linha:\n",
    "        if palavra in histograma:\n",
    "            histograma[palavra] += 1\n",
    "        else:\n",
    "            histograma[palavra] = 1\n",
    "    return histograma\n",
    "\n",
    "with open('domcasmurro.txt', 'r', encoding='utf8') as arquivo:\n",
    "    histograma = {}\n",
    "    for linha in arquivo:\n",
    "        linha = limpa_linha(linha)\n",
    "        histograma = atualiza_histograma(histograma, linha)\n",
    "    print(histograma)"
   ]
  },
  {
   "cell_type": "markdown",
   "metadata": {},
   "source": [
    "# Arquivos CSV\n",
    "Muitos dados interessantes ou importantes estão disponíveis na forma de tabela. A capacidade de manipular planilhas foi determinante no sucesso dos computadores pessoais, dada sua importância para empresas e indivíduos.\n",
    "\n",
    "Aprenderemos a manipular dados utilizando um dos formatos de planilha mais amplamente utilizados na _web_: o formato CSV. Mas antes, como podemos representar tabelas em Python?\n",
    "\n",
    "## Tabelas em Python\n",
    "Conforme já mencionamos, temos módulos prontos para realizar muitas tarefas para nós. Um dos módulos mais populares em Python é o _pandas_, que mesmo não vindo instalado por padrão é provavelmente o módulo mais usado para manipular planilhas. Porém, como este é um curso introdutório, convém entendermos um pouquinho de lógica de como manipular uma tabela para futuramente sermos capazes de trabalhar corretamente com os módulos prontos.\n",
    "\n",
    "Uma das formas mais simples de se representar uma tabela em Python seria através de uma lista de listas. Nossa lista principal seria a tabela como um todo, e cada lista interna seria uma linha da tabela. \n",
    "\n",
    "Para acessar um elemento individual, utilizamos 2 índices: o primeiro indica a lista interna (linha) e o segundo o elemento individual na lista (coluna). Para percorrer a tabela inteira, utilizamos 2 _for_ aninhados: o mais externo fixa uma linha e o mais interno percorre cada elemento daquela linha."
   ]
  },
  {
   "cell_type": "code",
   "execution_count": 53,
   "metadata": {},
   "outputs": [
    {
     "name": "stdout",
     "output_type": "stream",
     "text": [
      "Imprimindo cada elemento individual da tabela:\n",
      "Aluno\n",
      "Nota 1\n",
      "Nota 2\n",
      "Presenças\n",
      "Luke\n",
      "7\n",
      "9\n",
      "15\n",
      "Han\n",
      "4\n",
      "7\n",
      "10\n",
      "Leia\n",
      "9\n",
      "9\n",
      "16\n",
      "Imprimindo cada \"linha\" da tabela:\n",
      "['Aluno', 'Nota 1', 'Nota 2', 'Presenças']\n",
      "['Luke', 7, 9, 15]\n",
      "['Han', 4, 7, 10]\n",
      "['Leia', 9, 9, 16]\n",
      "Imprimindo o elemento na linha 2, coluna 0:\n",
      "Han\n"
     ]
    }
   ],
   "source": [
    "tabela = [['Aluno', 'Nota 1', 'Nota 2', 'Presenças'],\n",
    "          ['Luke', 7, 9, 15],\n",
    "          ['Han', 4, 7, 10],\n",
    "          ['Leia', 9, 9, 16]]\n",
    "          \n",
    "print('Imprimindo cada elemento individual da tabela:')\n",
    "for linha in tabela:\n",
    "    for elemento in linha:\n",
    "        print(elemento)\n",
    "        \n",
    "print('Imprimindo cada \"linha\" da tabela:')\n",
    "for linha in tabela:\n",
    "    print(linha)\n",
    "        \n",
    "print('Imprimindo o elemento na linha 2, coluna 0:')\n",
    "print(tabela[2][0])\n"
   ]
  },
  {
   "cell_type": "markdown",
   "metadata": {},
   "source": [
    "## O formato CSV\n",
    "A sigla CSV significa _Comma-Separated Values_, ou \"valores separados por vírgula\". Este formato é uma forma padrão de representar tabelas usando arquivos de texto simples: cada elemento é separado por uma vírgula, e cada linha é separada por uma quebra de linha. \n",
    "\n",
    "Na prática, nem sempre o padrão é seguido à risca: podemos utilizar outros símbolos para fazer a separação. Um bom motivo é o fato de a vírgula ser utilizada para representar casa decimal em algumas línguas, como a língua portuguesa. O importante é ser coerente: todos os elementos deverão ser separados pelo mesmo símbolo, e todas as linhas deverão ter o mesmo número de elementos.\n",
    "\n",
    "Cole o texto abaixo em um editor de texto puro (como o Bloco de Notas, no Windows) e salve-o com a extensão .csv. \n",
    "\n",
    "```\n",
    "Aluno;Nota 1;Nota 2;Presenças\n",
    "Luke;7;9;15\n",
    "Han;4;7;10\n",
    "Leia;9;9;16\n",
    "```\n",
    "\n",
    "Caso você tenha um editor de planilha instalado, como o Excel, é provável que o ícone representando o arquivo seja o ícone do editor de planilhas, e não de um arquivo de texto. Abra-o com seu editor de planilha e observe como ele interpreta corretamente os dados!\n",
    "\n",
    "Devido ao fato de ser um formato aberto (ou seja, não é necessário pagar por propriedade intelectual para usar) e ser muito fácil de manipular, diversos programas diferentes possuem a opção de importar ou exportar dados em CSV, e diversas bases de dados na _web_ fornecem a opção de baixar os dados neste formato.\n",
    "\n",
    "## O módulo CSV em Python\n",
    "Devido à facilidade de trabalhar com arquivos CSV, com o que vimos sobre arquivos até o momento já conseguimos facilmente escrever um programinha que escreva uma planilha (representada como lista de listas) em um arquivo CSV. Da mesma forma, utilizando as funções que vimos de _strings_, conseguimos abrir um arquivo CSV e adequadamente reconhecer seus elementos (dica: _split_).\n",
    "\n",
    "Porém, como mencionamos antes, o Python possui muita coisa pronta, então não precisamos constantemente reinventar a roda. Existe um módulo chamado _csv_ que já vem instalado com o Python. Ele já faz sozinho o serviço bruto de transformar nossa lista de listas em um texto separado por símbolos e vice-versa.\n",
    "\n",
    "### Escrevendo um CSV\n",
    "Para escrever um CSV utilizando o módulo, precisamos ter nossos dados representados como uma lista de listas. Criaremos (ou abriremos) um arquivo usando o _open_, como já fizemos antes, e utilizaremos um _CSV writer_ - uma estrutura que guardará as regrinhas para escrever nosso CSV. Execute o exemplo abaixo:"
   ]
  },
  {
   "cell_type": "code",
   "execution_count": 2,
   "metadata": {},
   "outputs": [],
   "source": [
    "import csv\n",
    "\n",
    "tabela = [['Aluno', 'Nota 1', 'Nota 2', 'Presenças'],\n",
    "          ['Luke', 7, 9, 15],\n",
    "          ['Han', 4, 7, 10],\n",
    "          ['Leia', 9, 9, 16]]\n",
    "\n",
    "# cria o arquivo CSV\n",
    "arquivo = open('alunos.csv', 'w')\n",
    "\n",
    "# definindo as regras do nosso CSV:\n",
    "# ele será escrito no arquivo apontado pela variável 'arquivo'\n",
    "# seus elementos serão delimitados (delimiter) pelo símbolo ';'\n",
    "# suas linhas serão encerradas (lineterminator) por uma quebra de linha\n",
    "escritor = csv.writer(arquivo, delimiter=';', lineterminator='\\n')\n",
    "\n",
    "# escreve uma lista de listas em formato CSV:\n",
    "escritor.writerows(tabela)\n",
    "\n",
    "# fecha e salva o arquivo\n",
    "arquivo.close()"
   ]
  },
  {
   "cell_type": "markdown",
   "metadata": {},
   "source": [
    "Após executar o programa acima, deve ter surgido um programa _alunos.csv_ na mesma pasta, e seu editor de planilhas provavelmente o reconhece com sucesso. Se você abri-lo com um editor de texto puro, verá os dados separados por **;** igualzinho ao arquivo que criamos manualmente antes.\n",
    "\n",
    "### Lendo um CSV\n",
    "O processo para ler o CSV é semelhante: utilizamos um _CSV reader_, com os mesmos parâmetros utilizados no _CSV writer_. A função _csv.reader_ já retorna para nós uma estrutura iterável (ou seja, que pode ser percorrida com _for_) contendo cada linha já organizada como lista."
   ]
  },
  {
   "cell_type": "code",
   "execution_count": 56,
   "metadata": {},
   "outputs": [
    {
     "name": "stdout",
     "output_type": "stream",
     "text": [
      "['Aluno', 'Nota 1', 'Nota 2', 'Presenças']\n",
      "['Luke', '7', '9', '15']\n",
      "['Han', '4', '7', '10']\n",
      "['Leia', '9', '9', '16']\n"
     ]
    }
   ],
   "source": [
    "import csv\n",
    "\n",
    "arquivo = open('alunos.csv', 'r')\n",
    "\n",
    "planilha = csv.reader(arquivo, delimiter=';', lineterminator='\\n')\n",
    "\n",
    "for linha in planilha:\n",
    "\tprint(linha)\n",
    "\n",
    "arquivo.close()"
   ]
  },
  {
   "cell_type": "markdown",
   "metadata": {},
   "source": [
    "Note que a estrutura **não é** uma lista, mas um objeto iterável. Vejamos o que acontece se tentarmos imprimi-lo diretamente:"
   ]
  },
  {
   "cell_type": "code",
   "execution_count": 60,
   "metadata": {},
   "outputs": [
    {
     "name": "stdout",
     "output_type": "stream",
     "text": [
      "<_csv.reader object at 0x000002134EDBAB20>\n"
     ]
    }
   ],
   "source": [
    "import csv\n",
    "\n",
    "arquivo = open('alunos.csv', 'r')\n",
    "\n",
    "planilha = csv.reader(arquivo, delimiter=';', lineterminator='\\n')\n",
    "\n",
    "print(planilha)\n",
    "\n",
    "arquivo.close()"
   ]
  },
  {
   "cell_type": "markdown",
   "metadata": {},
   "source": [
    "Caso você precise de mais flexibilidade para trabalhar com a sua planilha - por exemplo, caso deseje editá-la, criar novas colunas etc, convém converter a estrutura para uma lista de verdade. É possível usar um ```list``` no objeto para fazer a conversão:"
   ]
  },
  {
   "cell_type": "code",
   "execution_count": 59,
   "metadata": {},
   "outputs": [
    {
     "name": "stdout",
     "output_type": "stream",
     "text": [
      "[['Aluno', 'Nota 1', 'Nota 2', 'Presenças'], ['Luke', '7', '9', '15'], ['Han', '4', '7', '10'], ['Leia', '9', '9', '16']]\n"
     ]
    }
   ],
   "source": [
    "import csv\n",
    "\n",
    "arquivo = open('alunos.csv', 'r')\n",
    "\n",
    "planilha = list(csv.reader(arquivo, delimiter=';', lineterminator='\\n'))\n",
    "\n",
    "arquivo.close()\n",
    "\n",
    "print(planilha)"
   ]
  },
  {
   "cell_type": "markdown",
   "metadata": {},
   "source": [
    "# Exercícios - parte 2\n",
    "\n",
    "Use o módulo ```csv``` recém-estudado para fazer os próximos exercícios.\n",
    "\n",
    "-----\n",
    "\n",
    "Faça um programa que pede para o usuário digitar a quantidade de provas aplicadas, a quantidade de alunos em uma turma e cada uma das notas. O seu programa deverá salvar as notas digitadas em um arquivo CSV onde cada linha representa um aluno e cada coluna representa uma prova."
   ]
  },
  {
   "cell_type": "code",
   "execution_count": 203,
   "metadata": {},
   "outputs": [],
   "source": [
    "import csv\n",
    "\n",
    "linhas = int(input('Digite o numero de alunos: '))\n",
    "colunas = int(input('Digite o numero de provas: '))\n",
    "\n",
    "lista_geral = []\n",
    "\n",
    "for j in range(linhas):\n",
    "    lista_notas = []\n",
    "\n",
    "    for i in range(colunas):\n",
    "        nota = input('Digite a nota: ')\n",
    "        lista_notas.append(nota)\n",
    "    lista_geral.append(lista_notas)\n",
    "\n",
    "arquivo = open('notas_alunos.csv', 'w')\n",
    "escritor = csv.writer(arquivo, delimiter=';', lineterminator='\\n')\n",
    "escritor.writerows(lista_geral)\n",
    "arquivo.close()\n"
   ]
  },
  {
   "cell_type": "code",
   "execution_count": 94,
   "metadata": {},
   "outputs": [],
   "source": [
    "# import csv\n",
    "\n",
    "# colunas = int(input('Digite o numero de provas: '))\n",
    "# linhas = int(input('Digite o numero de alunos: '))\n",
    "\n",
    "# lista_geral = [[]]*linhas\n",
    "\n",
    "# for i in range(linhas):\n",
    "#     for j in range(colunas):\n",
    "#         nota = int(input('Digite a nota: '))\n",
    "#         lista_geral[i].append(nota)\n",
    "\n",
    "# arquivo = open('notas_alunos.csv', 'w')\n",
    "# escritor = csv.writer(arquivo, delimiter=';', lineterminator='\\n')\n",
    "# escritor.writerows(lista_geral)\n",
    "# arquivo.close()"
   ]
  },
  {
   "cell_type": "markdown",
   "metadata": {},
   "source": [
    "Faça um programa que carrega um arquivo CSV de notas (como o gerado pelo exercício anterior) e pede para o usuário digitar a nota mínima para aprovação. Ele deverá gerar um novo arquivo contendo as notas originais e 2 colunas adicionais: a média de cada aluno na primeira (com, no máximo, 2 casas decimais) e \"APR\" ou \"REP\" na segunda, indicando se a média atingiu o valor mínimo ou não."
   ]
  },
  {
   "cell_type": "code",
   "execution_count": 194,
   "metadata": {},
   "outputs": [],
   "source": [
    "import csv\n",
    "\n",
    "arquivo = open('notas_alunos.csv', 'r')\n",
    "planilha = list(csv.reader(arquivo, delimiter=';', lineterminator='\\n'))\n",
    "arquivo.close()\n",
    "\n",
    "for lista in planilha:\n",
    "    soma_notas = 0\n",
    "    for i in range(len(lista)):\n",
    "        soma_notas += float(lista[i])\n",
    "    media = round(soma_notas/len(lista),2)\n",
    "    lista.append(media)\n",
    "\n",
    "    if media >= 6: lista.append('APR')\n",
    "    else: lista.append('REP')\n",
    "\n",
    "arquivo_novo = open('aprovados_reprovados.csv', 'w')\n",
    "escritor = csv.writer(arquivo_novo, delimiter=';', lineterminator='\\n')\n",
    "escritor.writerows(planilha)\n",
    "arquivo_novo.close()"
   ]
  },
  {
   "cell_type": "markdown",
   "metadata": {},
   "source": [
    "Faça um programa que abre o arquivo ```daily_IBM.csv``` e responda em qual data houve a maior oscilação de valor em um mesmo dia e quais foram os valores máximo e mínimo nessa data."
   ]
  },
  {
   "cell_type": "code",
   "execution_count": 200,
   "metadata": {},
   "outputs": [
    {
     "name": "stdout",
     "output_type": "stream",
     "text": [
      "2022-01-25 137.34 128.3 R$9.04\n"
     ]
    }
   ],
   "source": [
    "arquivo = open('daily_IBM.csv', 'r')\n",
    "planilha = list(csv.reader(arquivo, delimiter=',', lineterminator='\\n'))\n",
    "arquivo.close()\n",
    "\n",
    "planilha.pop(0)\n",
    "oscilacao = float(planilha[0][2])-float(planilha[0][3])\n",
    "\n",
    "for lista in planilha:\n",
    "    if float(lista[2]) - float(lista[3]) > oscilacao:\n",
    "        oscilacao = round(float(lista[2]) - float(lista[3]),2)\n",
    "        lista_oscilacao = lista\n",
    "\n",
    "print(lista_oscilacao[0], round(float(lista_oscilacao[2]), 2), round(float(lista_oscilacao[3]), 2), f'R${oscilacao}')"
   ]
  },
  {
   "cell_type": "markdown",
   "metadata": {},
   "source": [
    "# Bônus: arquivos JSON\n",
    "\n",
    "JSON é uma sigla para _JavaScript Object Notation_. O _JavaScript_ é uma linguagem muito utilizada em web, e assim como o Python, ela é uma linguagem orientada a objeto. Ocorre que a forma como objetos são representados nessa linguagem é bastante legível para seres humanos e fácil de decompor usando programação também.\n",
    "\n",
    "Veja um exemplo de como podemos representar, por exemplo, um estudante em JavaScript:\n",
    "\n",
    "```\n",
    "{\n",
    "    nome: 'Mario',\n",
    "    modulo: 2,\n",
    "    media: 9.5 \n",
    "}\n",
    "```\n",
    "\n",
    "Parece familiar? É extremamente parecido com dicionários em Python. O Python possui um módulo já instalado chamado ```json``` que nos ajuda a converter entre uma _string_ contendo um JSON e um dicionário.\n",
    "\n",
    "> **Atenção:** No caso do JSON faremos *exatamente* como nos dicionários em Python: as chaves deverão vir entre aspas.\n",
    "\n",
    "Os valores de um JSON podem ser vários tipos de dados que estamos acostumados em Python: inteiros, reais, _strings_, booleanos, e até mesmo listas (representadas com colchetes) e outros JSON/dicionários (representados por chaves). Por exemplo:\n",
    "\n",
    "```\n",
    "{\n",
    "    'escola':\"Let's Code\",\n",
    "    'cursos':[{'nome':'Python Pro', 'duracao':2}, \n",
    "            {'nome':'Data Science', 'duracao':2},\n",
    "            {'nome':'Front-End', 'duracao':2}]\n",
    "}\n",
    "```\n",
    "\n",
    "### JSON para dicionário\n",
    "O método ```loads``` recebe uma _string_ contendo um JSON e retorna um dicionário, o que torna bastante fácil o acesso a informações individuais:"
   ]
  },
  {
   "cell_type": "code",
   "execution_count": 126,
   "metadata": {},
   "outputs": [
    {
     "name": "stdout",
     "output_type": "stream",
     "text": [
      "Mario\n",
      "0\n",
      "{'nome': 'Mario', 'pontuacao': 0}\n"
     ]
    }
   ],
   "source": [
    "import json\n",
    "\n",
    "jogador = '{\"nome\":\"Mario\",\"pontuacao\":0}'\n",
    "\n",
    "dicionario = json.loads(jogador)\n",
    "\n",
    "print(dicionario['nome'])\n",
    "print(dicionario['pontuacao'])\n",
    "print(dicionario)"
   ]
  },
  {
   "cell_type": "markdown",
   "metadata": {},
   "source": [
    "### Dicionário para JSON\n",
    "Já o método ```dumps``` recebe um dicionário e retorna uma _string_ pronta para ser salva ou enviada como JSON:"
   ]
  },
  {
   "cell_type": "code",
   "execution_count": 127,
   "metadata": {},
   "outputs": [
    {
     "name": "stdout",
     "output_type": "stream",
     "text": [
      "{\"nome\": \"Mario\", \"pontuacao\": 0}\n"
     ]
    }
   ],
   "source": [
    "import json\n",
    "\n",
    "jogador = dict()\n",
    "jogador['nome']  = 'Mario'\n",
    "jogador['pontuacao'] = 0\n",
    "\n",
    "string_json = json.dumps(jogador)\n",
    "\n",
    "print(string_json)"
   ]
  },
  {
   "cell_type": "markdown",
   "metadata": {},
   "source": [
    "### E os arquivos?\n",
    "\n",
    "Arquivos JSON, assim como CSV, são arquivos de texto puro onde o texto deve representar a estrutura dada acima. Sendo assim, caso você tenha um arquivo ```.json```, você pode abri-lo usando as mesmas técnicas que estudamos para arquivos de texto (```open```/```read```) e em seguida usar o ```loads``` para obter um dicionário. \n",
    "\n",
    "Já quando temos um dicionário que gostaríamos de salvar como um ```.json```, basta usar o ```dumps``` para obter a string, e em seguida podemos utilizar ```write``` no arquivo desejado. "
   ]
  },
  {
   "cell_type": "markdown",
   "metadata": {},
   "source": [
    "# Exercício final\n",
    "\n",
    "Incremente o seu exercício do histograma de palavras exportando o resultado para json."
   ]
  },
  {
   "cell_type": "code",
   "execution_count": 10,
   "metadata": {},
   "outputs": [
    {
     "data": {
      "text/plain": [
       "146407"
      ]
     },
     "execution_count": 10,
     "metadata": {},
     "output_type": "execute_result"
    }
   ],
   "source": [
    "import json\n",
    "\n",
    "def limpa_linha(linha: str) -> list:\n",
    "    linha = linha.strip().lower()\n",
    "    pontuacao = [\",\", \".\", \":\", \";\", \"--\", \"_\", \"?\", \"!\", \"«\", \"»\"]\n",
    "    for ponto in pontuacao:\n",
    "        linha = linha.replace(ponto, \"\")\n",
    "    return linha.split() if linha else []\n",
    "\n",
    "def atualiza_histograma(histograma, linha):\n",
    "    for palavra in linha:\n",
    "        if palavra in histograma:\n",
    "            histograma[palavra] += 1\n",
    "        else:\n",
    "            histograma[palavra] = 1\n",
    "    return histograma\n",
    "\n",
    "with open('domcasmurro.txt', 'r', encoding='utf-8') as arquivo:\n",
    "    histograma = {}\n",
    "    for linha in arquivo:\n",
    "        linha = limpa_linha(linha)\n",
    "        histograma = atualiza_histograma(histograma, linha)\n",
    "    \n",
    "histograma_json = json.dumps(histograma)\n",
    "\n",
    "arquivo_json = open('histograma_dom_casmurro.json', 'w', encoding= 'utf-8')\n",
    "arquivo_json.write(histograma_json)"
   ]
  }
 ],
 "metadata": {
  "interpreter": {
   "hash": "ad2bdc8ecc057115af97d19610ffacc2b4e99fae6737bb82f5d7fb13d2f2c186"
  },
  "kernelspec": {
   "display_name": "Python 3.9.7 ('base')",
   "language": "python",
   "name": "python3"
  },
  "language_info": {
   "codemirror_mode": {
    "name": "ipython",
    "version": 3
   },
   "file_extension": ".py",
   "mimetype": "text/x-python",
   "name": "python",
   "nbconvert_exporter": "python",
   "pygments_lexer": "ipython3",
   "version": "3.9.7"
  },
  "orig_nbformat": 4
 },
 "nbformat": 4,
 "nbformat_minor": 2
}
