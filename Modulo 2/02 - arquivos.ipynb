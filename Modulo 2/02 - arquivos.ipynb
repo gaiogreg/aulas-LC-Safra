{
 "cells": [
  {
   "cell_type": "markdown",
   "metadata": {},
   "source": [
    "# Arquivos\n",
    "\n",
    "Uma característica que nenhum de nossos programas teve agora é a **persistência** de dados. Sempre que nossos programas eram executados, eles precisavam que os usuários digitassem todos os dados de entrada novamente, e após exibir os dados de saída na tela, o programa era fechado e esses dados eram perdidos para sempre.\n",
    "\n",
    "A persistência se dá através de **arquivos**: estruturas abstratas para armazenar dados em uma memória permanente, como o disco rígido, um _drive_ USB ou um servidor _web_.\n",
    "\n",
    "## Arquivos em Python\n",
    "O Python possui algumas funções prontas para manipular arquivos binários puros (onde, conhecendo a estrutura interna de qualquer formato, podemos salvar qualquer tipo de arquivo) e para manipular arquivos de texto (onde os binários são decodificados como _strings_).\n",
    "\n",
    "Focaremos no básico de manipulação de arquivo de texto, pois, na prática, quando formos trabalhar com arquivos mais complexos, é provável que usaremos bibliotecas específicas para lidar com eles, e elas já terão funções próprias para ler e salvar esses arquivos da maneira correta.\n",
    "\n",
    "### Abrindo e fechando arquivos\n",
    "Podemos criar arquivos novos ou abrir arquivos já existentes utilizando a função _open_. Ela possui 2 argumentos: uma com o caminho do arquivo e outra com o modo de operação.\n",
    "\n",
    "| Modo   | Símbolo | Descrição                                                                                                                             |\n",
    "|--------|---------|---------------------------------------------------------------------------------------------------------------------------------------|\n",
    "| _read_   | r       | lê um arquivo existente                                                                                                               |\n",
    "| _write_  | w       | cria um novo arquivo                                                                                                                  |\n",
    "| _append_ | a       | abre um arquivo existente para adicionar informações ao seu final                                                                     |\n",
    "| _update_ | +       | ao ser combinado com outros modos, permite alteração de arquivo já existente (ex: r+ abre um arquivo existente e permite modificá-lo) |\n",
    "\n",
    "Após abrirmos (ou criarmos) um arquivo, podemos realizar diversas operações. Ao final de todas elas, devemos **fechar** o nosso arquivo usando a função _close_. Essa etapa é importante por 2 motivos:\n",
    "* 1. Se alteramos o arquivo mas não o fechamos, as alterações não serão salvas.\n",
    "* 2. Se esquecermos de fechar um arquivo, outros programas podem ter problemas de acesso a ele.\n",
    "\n",
    "A função _open_ retorna alguns dados que devem ser salvos em uma variável que será responsável por guardar alguns dados de acesso ao arquivo, para uso interno do Python.\n",
    "\n",
    "### Escrevendo arquivos\n",
    "Para entender melhor o _open_ e o _close_, façamos um programinha que escreve algo em um arquivo. Além das duas funções que já vimos, também utilizaremos a função _write_, que escreve um texto em um arquivo. É quase como um _print_ mais simples, mas ele aceita apenas uma _string_."
   ]
  },
  {
   "cell_type": "code",
   "execution_count": null,
   "metadata": {},
   "outputs": [],
   "source": [
    "arquivo = open('ola.txt', 'w') # cria um arquivo ola.txt\n",
    "arquivo.write('Olá mundo!') # escreve \"Olá mundo\" no arquivo\n",
    "arquivo.close() # fecha e salva o arquivo"
   ]
  },
  {
   "cell_type": "markdown",
   "metadata": {},
   "source": [
    "Após executar a célula acima, abra a pasta onde seu _notebook_ está salvo. Note que apareceu um ```ola.txt``` lá. Abra-o e verifique seu conteúdo.\n",
    "\n",
    "### Lendo arquivos\n",
    "Para ler um arquivo existente, não basta usar o _open_ para abri-lo. É necessário carregar seu conteúdo para uma _string_, de modo que possamos trabalhar com o texto da mesma forma que sempre trabalhamos. A função _read_ faz o oposto da _write_: ela retorna o texto existente no arquivo.\n",
    "\n",
    "Rode a célula abaixo."
   ]
  },
  {
   "cell_type": "code",
   "execution_count": null,
   "metadata": {},
   "outputs": [],
   "source": [
    "arquivo = open('ola.txt', 'r')\n",
    "conteudo = arquivo.read()\n",
    "print(conteudo)\n",
    "arquivo.close()"
   ]
  },
  {
   "cell_type": "markdown",
   "metadata": {},
   "source": [
    "## Gerenciador de contexto\n",
    "\n",
    "Uma forma alternativa e \"mais segura\" de trabalhar com arquivos é utilizando um _gerenciador de contextos_. O gerenciador de contextos é, de maneira resumida, um pequeno bloco de código que realiza algumas tarefas e tratamentos de erro de maneira automatizada para nós. \n",
    "\n",
    "Com ele não precisamos nos preocupar em fechar o arquivo ao final da manipulação, pois ele irá fechar automaticamente para nós ao final do bloco. "
   ]
  },
  {
   "cell_type": "code",
   "execution_count": null,
   "metadata": {},
   "outputs": [],
   "source": [
    "with open('ola.txt', 'r') as arquivo:\n",
    "    conteudo = arquivo.read()\n",
    "    print(conteudo.title())\n",
    "\n",
    "# note que a linha abaixo dará erro:\n",
    "conteudo2 = arquivo.read()\n",
    "\n",
    "# o erro é:\n",
    "#ValueError: I/O operation on closed file."
   ]
  },
  {
   "cell_type": "markdown",
   "metadata": {},
   "source": [
    "No restante dos exemplos seguiremos utilizando a primeira forma que aprendemos para reforçar que, por dentro, há sempre uma abertura e um fechamento de arquivo. Mas sinta-se livre para utilizar a nova forma sempre que quiser!"
   ]
  },
  {
   "cell_type": "markdown",
   "metadata": {},
   "source": [
    "# Exercícios - parte 1\n",
    "\n",
    "Use o conteúdo ensinado até o momento para realizar os exercícios abaixo. \n",
    "\n",
    "Para os exercícios envolvendo números, você pode utilizar o arquivo ```numeros.txt``` fornecido junto deste _notebook_ para testá-los.\n",
    "\n",
    "-----\n",
    "\n",
    "Escreva um programa que lê um arquivo de texto contendo uma série de números separados por quebra de linha ('\\n') e os adiciona a uma lista. Imprima a lista na tela."
   ]
  },
  {
   "cell_type": "code",
   "execution_count": 10,
   "metadata": {},
   "outputs": [
    {
     "name": "stdout",
     "output_type": "stream",
     "text": [
      "['10', '64', '95', '92', '96', '16', '47', '21', '50', '74', '78', '29', '23', '81', '24', '92', '72', '18', '6', '75', '69', '82', '37', '63', '26', '43', '80', '4', '2', '20']\n"
     ]
    }
   ],
   "source": [
    "arquivo = open('numeros.txt', \"r\")\n",
    "conteudo = arquivo.read()\n",
    "lista_num = conteudo.split('\\n')\n",
    "arquivo.close()\n",
    "\n",
    "print(lista_num)"
   ]
  },
  {
   "cell_type": "markdown",
   "metadata": {},
   "source": [
    "Escreva um programa que lê um arquivo de texto contendo uma série de números separados por quebra de linha (```\\n```) e escreva na tela o somatório dos números."
   ]
  },
  {
   "cell_type": "code",
   "execution_count": 9,
   "metadata": {},
   "outputs": [
    {
     "data": {
      "text/plain": [
       "1489"
      ]
     },
     "execution_count": 9,
     "metadata": {},
     "output_type": "execute_result"
    }
   ],
   "source": [
    "arquivo = open('numeros.txt', \"r\")\n",
    "conteudo = arquivo.read()\n",
    "lista_num = conteudo.split('\\n')\n",
    "arquivo.close()\n",
    "\n",
    "somatorio = 0\n",
    "\n",
    "for i in range(len(lista_num)):\n",
    "    somatorio += int(lista_num[i])\n",
    "\n",
    "somatorio"
   ]
  },
  {
   "cell_type": "markdown",
   "metadata": {},
   "source": [
    "Escreva um programa que lê um arquivo de texto contendo uma série de números separados por quebra de linha (```\\n```). Crie um novo arquivo onde você irá escrever \"primo\" ou \"não-primo\" na linha correspondente a cada número.\n",
    "\n",
    "Lembrete: um número primo é divisível apenas por 1 e por ele mesmo."
   ]
  },
  {
   "cell_type": "code",
   "execution_count": 49,
   "metadata": {},
   "outputs": [],
   "source": [
    "arquivo = open('numeros.txt', \"r\")\n",
    "conteudo = arquivo.read()\n",
    "lista_num = conteudo.split('\\n')\n",
    "arquivo.close()\n",
    "\n",
    "str_primos = ''\n",
    "\n",
    "for i in range(len(lista_num)):\n",
    "    for divisor in range(int(int(lista_num[i])/2),0,-1):\n",
    "        if int(lista_num[i]) % divisor == 0 and divisor != 1:\n",
    "            str_primos += f'{lista_num[i]} nao e primo\\n'\n",
    "            break\n",
    "    else:\n",
    "        str_primos += f'{lista_num[i]} e primo\\n' \n",
    "        \n",
    "arquivo = open('dicionario_primos.txt', 'w')\n",
    "\n",
    "arquivo.write(str_primos)\n",
    "arquivo.close()"
   ]
  },
  {
   "cell_type": "code",
   "execution_count": 27,
   "metadata": {},
   "outputs": [],
   "source": [
    "arquivo = open('numeros.txt', \"r\")\n",
    "conteudo = arquivo.read()\n",
    "lista_num = conteudo.split('\\n')\n",
    "arquivo.close()\n",
    "\n",
    "dicionario_primos = {}\n",
    "\n",
    "for i in range(len(lista_num)):\n",
    "    for divisor in range(int(int(lista_num[i])/2),0,-1):\n",
    "        if int(lista_num[i]) % divisor == 0 and divisor != 1:\n",
    "            dicionario_primos[lista_num[i]] = 'não é primo'\n",
    "            break\n",
    "    else:\n",
    "        dicionario_primos[lista_num[i]] = 'é primo'\n",
    "            "
   ]
  },
  {
   "cell_type": "code",
   "execution_count": null,
   "metadata": {},
   "outputs": [],
   "source": [
    "arquivo = open('numeros.txt', \"r\")\n",
    "conteudo = arquivo.read()\n",
    "lista_num = conteudo.split('\\n')\n",
    "arquivo.close()\n",
    "\n",
    "tuplas_primos = []\n",
    "\n",
    "for i in range(len(lista_num)):\n",
    "    for divisor in range(int(int(lista_num[i])/2),0,-1):\n",
    "        if int(lista_num[i]) % divisor == 0 and divisor != 1:\n",
    "            tuplas_primos.append((lista_num[i],'não é primo'))\n",
    "            break\n",
    "    else:\n",
    "        tuplas_primos.append((lista_num[i],'é primo'))"
   ]
  },
  {
   "cell_type": "markdown",
   "metadata": {},
   "source": [
    "Faça um programa que abre o arquivo ```domcasmurro.txt``` e monta um **histograma** das palavras do livro - ou seja, uma contagem de frequência. Use um dicionário para isso. \n",
    "\n",
    "Ex: para a string 'eu não programo em Java, mas programo em Python', o dicionário ficaria:\n",
    "\n",
    "```python\n",
    "{\n",
    "    'eu': 1,\n",
    "    'não': 1,\n",
    "    'programo': 2,\n",
    "    'em': 2,\n",
    "    'mas': 1,\n",
    "    'Python': 1\n",
    "}\n",
    "```\n",
    "\n",
    "**Importante:** para que seu histograma seja confiável, você precisará \"limpar\" o texto original: diferenças entre maiúsculas e minúsculas devem ser eliminadas, e caracteres como sinais de pontuação e aspas devem ser removidos.\n",
    "\n",
    "**Importante²:** o parâmetro opcional ```encoding='utf-8'``` irá garantir que o arquivo deste exercício será interpretado corretamente pelo Python."
   ]
  },
  {
   "cell_type": "code",
   "execution_count": 192,
   "metadata": {},
   "outputs": [
    {
     "name": "stdout",
     "output_type": "stream",
     "text": [
      "{'dom': 6, 'casmurro': 1, 'por': 336, 'machado': 1, 'de': 1949, 'assis': 1, 'da': 625, 'academia': 1, 'brazileira': 1, 'rua': 49, 'moreira': 1, '71': 1, 'rio': 9, 'janeiro': 2, 'rue': 1, 'des': 3, '6': 5, 'pariz': 1, 'i': 6490, 'do': 617, 'uma': 426, 'noite': 19, 'vindo': 6, 'cidade': 3, 'para': 539, 'o': 10355, 'engenho': 9, 'encontrei': 2, 'no': 338, 'trem': 5, 'central': 3, 'um': 761, 'rapaz': 3, 'aqui': 65, 'que': 2552, 'eu': 452, 'conheço': 1, 'vista': 10, 'e': 12701, 'ao': 367, 'pé': 32, 'falou': 14, 'lua': 2, 'dos': 199, 'acabou': 25, 'a': 13882, 'viagem': 10, 'era': 528, 'os': 659, 'versos': 10, 'póde': 69, 'ser': 151, 'não': 1342, 'fossem': 9, 'inteiramente': 12, 'como': 356, 'estava': 85, 'fechei': 3, 'olhos': 123, 'tres': 32, 'ou': 269, 'quatro': 12, 'tanto': 55, 'bastou': 2, 'elle': 167, 'interrompesse': 2, 'leitura': 3, 'mettesse': 3, 'disse': 103, 'murmurou': 4, 'muito': 118, 'fazer': 37, 'gesto': 34, 'outra': 111, 'vez': 115, 'mas': 529, 'passou': 14, 'dia': 65, 'seguinte': 8, 'entrou': 19, 'dizer': 71, 'mim': 62, 'nomes': 6, 'gostam': 1, 'meus': 48, 'habitos': 1, 'reclusos': 1, 'deram': 5, 'curso': 1, 'á': 378, 'afinal': 13, 'nem': 235, 'isso': 36, 'me': 489, 'contei': 12, 'anecdota': 3, 'aos': 88, 'amigos': 13, 'alguns': 61, 'em': 458, 'domingo': 8, 'vou': 24, 'jantar': 13, 'com': 535, 'casa': 77, 'é': 812, 'mesma': 48, 'vê': 4, 'se': 551, 'deixas': 1, 'essa': 17, 'caverna': 1, 'vae': 36, 'lá': 41, 'passar': 12, 'uns': 31, 'quinze': 13, 'dias': 116, 'caro': 5, 'cuide': 1, 'dispenso': 1, 'theatro': 7, 'venha': 3, 'dormirá': 1, 'na': 328, 'só': 158, 'lhe': 234, 'dou': 7, 'consultes': 1, 'está': 55, 'sentido': 14, 'elles': 32, 'poz': 4, 'vulgo': 1, 'homem': 42, 'calado': 5, 'mettido': 3, 'veiu': 36, 'fumos': 1, 'tudo': 121, 'estar': 27, 'tambem': 129, 'achei': 29, 'melhor': 65, 'titulo': 9, 'minha': 327, 'tiver': 5, 'outro': 60, 'até': 100, 'fim': 35, 'este': 78, 'meu': 161, 'poeta': 6, 'ficará': 2, 'sabendo': 6, 'guardo': 1, 'pequeno': 13, 'sendo': 15, 'poderá': 6, 'cuidar': 5, 'obra': 10, 'ha': 139, 'livros': 14, 'apenas': 24, 'terão': 4, 'seus': 53, 'agora': 110, 'expliquei': 2, 'passo': 13, 'escrever': 14, 'antes': 68, 'digamos': 4, 'motivos': 5, 'põem': 1, 'penna': 7, 'vivo': 5, 'moro': 1, 'construir': 2, 'levado': 2, 'desejo': 14, 'tão': 119, 'particular': 8, 'vexa': 1, 'vá': 16, 'bastantes': 1, 'reproduzir': 1, 'novo': 5, 'criei': 2, 'antiga': 8, 'mesmo': 80, 'aspecto': 5, 'economia': 2, 'daquella': 19, 'constructor': 1, 'pintor': 1, 'entenderam': 1, 'bem': 48, 'as': 531, 'indicações': 1, 'lhes': 7, 'predio': 1, 'janellas': 6, 'varanda': 3, 'mesmas': 5, 'alcovas': 1, 'principal': 9, 'pintura': 4, 'tecto': 2, 'das': 144, 'paredes': 5, 'mais': 298, 'menos': 40, 'umas': 12, 'grinaldas': 1, 'flores': 3, 'miudas': 1, 'grandes': 17, 'passaros': 4, 'tomam': 2, 'nos': 96, 'espaço': 5, 'cantos': 4, 'figuras': 3, 'centro': 3, 'medalhões': 1, 'nero': 1, 'alcanço': 1, 'razão': 20, 'taes': 23, 'quando': 178, 'fomos': 4, 'já': 147, 'ella': 140, 'assim': 114, 'vinha': 24, 'decennio': 1, 'naturalmente': 31, 'gosto': 29, 'tempo': 67, 'metter': 7, 'sabor': 6, 'classico': 1, 'antigas': 3, 'pinturas': 1, 'analogo': 1, 'tenho': 25, 'poço': 3, 'uso': 8, 'louça': 1, 'velha': 9, 'mobilia': 1, 'contraste': 1, 'vida': 52, 'evidente': 1, 'atar': 1, 'duas': 48, 'pontas': 5, 'restaurar': 1, 'velhice': 1, 'consegui': 3, 'recompor': 1, 'foi': 214, 'rosto': 10, 'physionomia': 1, 'faltassem': 1, 'pessoas': 27, 'falto': 1, 'esta': 85, 'lacuna': 1, 'mal': 51, 'semelhante': 1, 'põe': 2, 'barba': 1, 'conserva': 1, 'habito': 1, 'diz': 6, 'nas': 38, 'interno': 2, 'aguenta': 1, 'certidão': 1, 'desse': 1, 'vinte': 15, 'annos': 25, 'edade': 12, 'poderia': 10, 'enganar': 3, 'todos': 55, 'documentos': 2, 'restam': 1, 'são': 56, 'data': 2, 'antigos': 3, 'foram': 23, 'estudar': 7, 'geologia': 1, 'campos': 1, 'quanto': 24, 'ás': 74, 'algumas': 35, 'datam': 1, 'outras': 41, 'quasi': 32, 'todas': 49, 'creem': 1, 'fariam': 3, 'crer': 14, 'nella': 4, 'lingua': 8, 'falam': 2, 'obriga': 2, 'muita': 29, 'consultar': 4, 'tal': 75, 'frequencia': 1, 'differente': 3, 'quer': 23, 'certos': 3, 'aquella': 33, 'despida': 1, 'muitos': 16, 'encantos': 1, 'exacto': 1, 'perdeu': 4, 'espinho': 1, 'fez': 51, 'conservo': 1, 'alguma': 67, 'recordação': 4, 'doce': 10, 'pouco': 48, 'appareco': 1, 'distracções': 2, 'gasto': 1, 'jardinar': 1, 'durmo': 1, 'monotonia': 1, 'quiz': 57, 'philosophia': 1, 'politica': 2, 'acudiram': 4, 'forças': 5, 'pensei': 17, 'secca': 1, 'memorias': 5, 'padre': 55, 'luiz': 2, 'gonçalves': 1, 'relativas': 1, 'exigia': 1, 'arido': 1, 'então': 73, 'bustos': 1, 'pintados': 1, 'entraram': 2, 'alcançavam': 2, 'tempos': 2, 'pegasse': 2, 'contasse': 3, 'talvez': 31, 'narração': 5, 'désse': 4, 'sombras': 2, 'viessem': 2, 'perpassar': 1, 'ahi': 15, 'vindes': 1, 'inquietas': 1, 'fiquei': 31, 'alegre': 2, 'ainda': 131, 'treme': 1, 'grande': 50, 'incitas': 1, 'deitar': 4, 'papel': 16, 'reminiscencias': 4, 'vierem': 1, 'deste': 17, 'viverei': 1, 'assentarei': 1, 'mão': 36, 'maior': 19, 'comecemos': 1, 'evocação': 1, 'celebre': 3, 'tarde': 18, 'nunca': 35, 'tive': 26, 'apagou': 4, 'vás': 4, 'iii': 1, 'ia': 88, 'entrar': 28, 'sala': 18, 'ouvi': 32, 'proferir': 1, 'nome': 9, 'atraz': 11, 'mez': 5, 'anno': 17, 'hei': 12, 'trocar': 2, 'datas': 1, 'agradar': 2, 'amam': 2, 'historias': 3, 'senhora': 26, 'persiste': 1, 'ideia': 58, 'nosso': 36, 'bentinho': 13, 'haver': 19, 'mãe': 125, 'saber': 38, 'josé': 149, 'depois': 105, 'instantes': 10, 'ver': 62, 'havia': 35, 'alguem': 13, 'deu': 29, 'voltou': 6, 'abafando': 1, 'difficuldade': 4, 'gente': 27, 'algum': 55, 'estou': 23, 'parece': 17, 'bonito': 6, 'ande': 4, 'filha': 16, 'porque': 78, 'pegam': 3, 'terá': 2, 'lutar': 1, 'mettidos': 1, 'modo': 26, 'sempre': 39, 'sae': 4, 'pequena': 8, 'pae': 46, 'faz': 17, 'tomara': 1, 'cousas': 22, 'corressem': 1, 'comprehendo': 1, 'seu': 43, 'crê': 2, 'têm': 1, 'alma': 26, 'visto': 7, 'pequenos': 4, 'vi': 55, 'nada': 44, 'faça': 8, 'basta': 12, 'tem': 54, 'capitú': 200, 'quatorze': 5, 'semana': 4, 'dous': 54, 'esqueça': 4, 'criados': 1, 'desde': 31, 'dez': 15, 'familia': 6, 'padua': 20, 'tanta': 3, 'vieram': 11, 'nossas': 22, 'pois': 24, 'mano': 3, 'você': 93, 'tio': 54, 'cosme': 26, 'respondeu': 19, 'traduzido': 1, 'queria': 39, 'imaginações': 1, 'onde': 40, 'creio': 37, 'senhor': 23, 'oxalá': 1, 'tenham': 1, 'creia': 2, 'falei': 7, 'senão': 16, 'todo': 34, 'interrompeu': 5, 'tratar': 3, 'seminario': 23, 'ganho': 2, 'satisfazer': 2, 'desejos': 1, 'sua': 47, 'egreja': 10, 'brasileira': 1, 'altos': 1, 'esqueçamos': 1, 'bispo': 1, 'presidiu': 1, 'feijó': 1, 'governou': 1, 'cara': 27, 'atalhou': 6, 'cedendo': 1, 'rancores': 1, 'defendendo': 2, 'quero': 17, 'clero': 1, 'buscar': 9, 'realmente': 11, 'comece': 2, 'missa': 12, 'olhe': 2, 'mana': 6, 'necessidade': 13, 'promessa': 15, 'prima': 54, 'cada': 24, 'sabe': 20, 'continuou': 18, 'deus': 43, 'tantos': 4, 'ora': 18, 'isto': 62, 'cousa': 40, 'sem': 134, 'justina': 35, 'levantou': 4, 'ter': 54, 'alto': 10, 'durante': 9, 'qual': 12, 'estive': 5, 'pique': 2, 'força': 15, 'pude': 17, 'ouvir': 13, 'palavras': 50, 'teria': 11, 'pela': 66, 'pelo': 48, 'cumprir': 4, 'dever': 5, 'iv': 1, 'amava': 5, 'dar': 39, 'feição': 3, 'monumental': 1, 'servir': 7, 'prolongar': 1, 'ir': 76, 'interior': 4, 'suas': 30, 'calças': 5, 'brancas': 1, 'rodaque': 2, 'gravata': 3, 'ultimos': 9, 'usaram': 1, 'presilhas': 2, 'neste': 16, 'trazia': 27, 'curtas': 1, 'ficassem': 2, 'setim': 1, 'aro': 1, 'aço': 1, 'veste': 1, 'caseira': 1, 'parecia': 16, 'nelle': 7, 'casaca': 1, 'principio': 19, 'cincoenta': 2, 'cinco': 11, 'vagaroso': 2, 'aquelle': 20, 'vagar': 4, 'arrastado': 1, 'calculado': 1, 'syllogismo': 1, 'premissa': 2, 'consequencia': 2, 'v': 1633, 'naquelle': 17, 'descompunha': 1, 'rapido': 2, 'lepido': 2, 'natural': 13, 'nesta': 4, 'naquella': 14, 'ria': 7, 'riso': 11, 'ponto': 21, 'toda': 35, 'mundo': 11, 'pareciam': 9, 'rir': 4, 'lances': 4, 'aggregado': 12, 'fazenda': 1, 'acabava': 17, 'appareceu': 3, 'alli': 28, 'medico': 3, 'levava': 10, 'andaço': 1, 'curou': 3, 'feitor': 1, 'receber': 4, 'nenhuma': 11, 'ficar': 18, 'dizendo': 18, 'justo': 1, 'levar': 6, 'saude': 5, 'sapé': 1, 'impede': 4, 'aonde': 2, 'fique': 2, 'morando': 2, 'daqui': 13, 'dalli': 6, 'acceitou': 2, 'comida': 1, 'salvo': 5, 'quizessem': 3, 'eleito': 1, 'deputado': 2, 'teve': 15, 'quarto': 6, 'fundo': 3, 'reinando': 1, 'febres': 3, 'fosse': 74, 'nossa': 56, 'suspirou': 7, 'confessando': 2, 'tomára': 2, 'ajudar': 2, 'propaganda': 1, 'nova': 13, 'consciencia': 6, 'permittia': 3, 'acceitar': 3, 'remedios': 2, 'indicados': 1, 'abaixo': 2, 'procedimento': 1, 'podiam': 14, 'eram': 103, 'homeopathia': 1, 'restabelecer': 1, 'pedia': 5, 'podia': 69, 'tinha': 112, 'acceito': 4, 'falta': 6, 'pessoa': 27, 'dôr': 5, 'pungiu': 1, 'consentiu': 8, 'deixasse': 5, 'setimo': 1, 'legado': 2, 'apolice': 1, 'copiou': 1, 'cima': 13, 'dizia': 23, 'adquiriu': 1, 'certa': 10, 'autoridade': 2, 'sabia': 25, 'opinar': 3, 'direi': 5, 'optimo': 1, 'supponhas': 1, 'cortezias': 1, 'fizesse': 10, 'vinham': 10, 'calculo': 3, 'roupa': 3, 'contrario': 6, 'enxovalham': 1, 'depressa': 16, 'vestido': 6, 'velho': 29, 'escovado': 1, 'elegancia': 1, 'pobre': 12, 'posto': 23, 'bastante': 3, 'divertir': 1, 'serão': 3, 'explicar': 4, 'falar': 41, 'effeitos': 1, 'calor': 8, 'polos': 1, 'contava': 16, 'fizera': 6, 'confessava': 2, 'sermos': 2, 'voltado': 3, 'repetiu': 3, 'cheio': 11, 'gostou': 5, 'punha': 1, 'devido': 1, 'sorriu': 13, 'agradeceu': 1, 'copia': 3, 'papeis': 6, 'vivia': 20, 'fortuna': 3, 'troca': 5, 'mãos': 28, 'formado': 1, 'serenas': 1, 'funccões': 1, 'enriquecia': 1, 'escriptorio': 2, 'perto': 10, 'extincto': 1, 'trabalhava': 3, 'perdia': 3, 'defesas': 1, 'oraes': 1, 'quem': 38, 'vestia': 3, 'despia': 1, 'comprimentos': 1, 'referia': 1, 'modesto': 1, 'quizesse': 11, 'sorria': 2, 'gordo': 1, 'respiração': 1, 'curta': 2, 'minhas': 25, 'recordações': 4, 'montar': 1, 'manhãs': 4, 'besta': 4, 'preto': 9, 'ido': 6, 'segurava': 1, 'emquanto': 16, 'erguia': 4, 'pousava': 1, 'minuto': 3, 'descanço': 2, 'dava': 21, 'corpo': 7, 'ameaçava': 1, 'segundo': 19, 'egual': 8, 'após': 9, 'enfeixava': 1, 'physicas': 1, 'ultimo': 13, 'surto': 1, 'desta': 16, 'caía': 1, 'raramente': 1, 'deixava': 4, 'mostrar': 8, 'accommodava': 1, 'partia': 2, 'esqueceu': 4, 'nascido': 3, 'roça': 3, 'vim': 14, 'apezar': 5, 'costumes': 5, 'medo': 7, 'pegou': 7, 'nove': 4, 'sósinho': 4, 'chão': 3, 'entrei': 15, 'gritar': 1, 'acudiu': 8, 'pallida': 2, 'cuidou': 2, 'estivessem': 2, 'irmão': 2, 'tamanhão': 1, 'destes': 5, 'fôr': 4, 'vigario': 4, 'preciso': 27, 'monte': 2, 'quizer': 5, 'florear': 1, 'outros': 42, 'verdade': 25, 'apprender': 7, 'equitação': 1, 'vergonha': 1, 'namorar': 3, 'disseram': 3, 'comecei': 9, 'diria': 10, 'costume': 8, 'contam': 1, 'muitas': 14, 'além': 8, 'partidario': 1, 'ardor': 1, 'politico': 2, 'gordura': 1, 'resto': 20, 'ideias': 13, 'publicas': 1, 'cumpria': 5, 'obrigações': 2, 'officio': 5, 'horas': 12, 'lazer': 2, 'olhando': 10, 'vii': 1, 'boa': 16, 'morreu': 9, 'pedro': 4, 'albuquerque': 1, 'trinta': 2, 'voltar': 7, 'preferiu': 1, 'fòra': 2, 'vendeu': 1, 'fazendola': 1, 'comprou': 2, 'pôz': 2, 'duzia': 3, 'certo': 23, 'numero': 12, 'vivera': 1, 'descendente': 1, 'graça': 10, 'maria': 3, 'gloria': 23, 'fernandes': 1, 'santiago': 2, 'quarenta': 6, 'bonita': 4, 'teimava': 4, 'esconder': 2, 'saldos': 1, 'natureza': 8, 'acção': 9, 'mettida': 3, 'eterno': 2, 'chale': 1, 'dobrado': 1, 'triangulo': 1, 'abrochado': 1, 'peito': 2, 'apanhados': 2, 'sobre': 36, 'nuca': 2, 'pente': 2, 'touca': 1, 'branca': 1, 'lidava': 1, 'sapatos': 6, 'cordavão': 1, 'rasos': 4, 'lado': 18, 'vendo': 3, 'guiando': 1, 'serviços': 4, 'manhã': 10, 'parede': 7, 'retrato': 13, 'quaes': 11, 'escureceu': 1, 'dá': 10, 'lembra': 16, 'vagamente': 2, 'usava': 7, 'cabelleira': 1, 'mostra': 3, 'acompanham': 1, 'effeito': 8, 'assombrava': 1, 'pescoço': 1, 'preta': 1, 'trechosinho': 1, 'pegado': 2, 'flôr': 5, 'entre': 48, 'painel': 1, 'offerecer': 1, 'lè': 1, 'ambos': 8, 'felicidade': 12, 'conjugal': 1, 'comparada': 1, 'sorte': 4, 'tiraram': 2, 'bilhete': 5, 'comprado': 2, 'concluo': 3, 'devem': 6, 'abolir': 1, 'nenhum': 14, 'premiado': 1, 'accusou': 1, 'ninguem': 16, 'tachou': 1, 'má': 4, 'boceta': 2, 'tirado': 1, 'esperança': 8, 'parte': 27, 'casados': 1, 'continuar': 1, 'sonho': 7, 'loteria': 2, 'pandora': 1, 'ergo': 1, 'esqueço': 1, 'bilhetes': 2, 'brancos': 3, 'retratos': 3, 'valem': 6, 'estendendo': 2, 'guapo': 1, 'moça': 13, 'padeceram': 1, 'sei': 44, 'tiveram': 4, 'creança': 4, 'morte': 22, 'chorou': 3, 'estão': 10, 'encardido': 1, 'tirasse': 4, 'primeira': 36, 'photographias': 1, 'instantaneas': 1, 'viii': 1, 'tomar': 8, 'áquella': 1, 'clara': 6, 'socegada': 2, 'trecho': 6, 'verdadeiramente': 3, 'succedera': 1, 'pintar': 1, 'vestir': 1, 'tinham': 13, 'accender': 6, 'preparo': 1, 'começar': 2, 'tenor': 3, 'italiano': 1, 'viveu': 3, 'maneira': 7, 'valha': 1, 'pena': 8, 'ix': 1, 'desuso': 1, 'companhia': 6, 'chegava': 4, 'empresario': 2, 'injustiças': 1, 'terra': 9, 'commettia': 1, 'saía': 8, 'bradar': 2, 'contra': 6, 'bigodes': 1, 'cortejar': 2, 'princeza': 1, 'abrir': 6, 'edoso': 1, 'vozes': 7, 'abafadas': 1, 'commigo': 18, 'definição': 4, 'dissesse': 7, 'sor': 1, 'mar': 17, 'abanou': 3, 'cabeça': 29, 'opera': 4, 'barytono': 1, 'lutam': 2, 'presença': 4, 'baixo': 6, 'soprano': 1, 'contralto': 1, 'mesmos': 7, 'córos': 3, 'orchestração': 1, 'beber': 2, 'gole': 1, 'pousou': 2, 'historia': 11, 'musica': 9, 'joven': 7, 'maestro': 4, 'apprendeu': 4, 'conservatorio': 1, 'rival': 1, 'raphael': 1, 'tolerava': 2, 'precedencia': 1, 'distribuição': 1, 'demasia': 1, 'mystica': 2, 'daquelles': 6, 'condiscipulos': 1, 'aborrecivel': 2, 'genio': 2, 'essencialmente': 1, 'tramou': 1, 'rebellião': 1, 'descoberta': 2, 'expulso': 1, 'passado': 7, 'houvesse': 10, 'escripto': 4, 'libretto': 2, 'abrira': 2, 'entender': 7, 'genero': 2, 'recreio': 1, 'improprio': 1, 'satanaz': 5, 'levou': 6, 'manuscripto': 2, 'comsigo': 3, 'valia': 5, 'acaso': 9, 'logo': 50, 'desapprendi': 1, 'licções': 2, 'tendes': 1, 'achardes': 1, 'digna': 2, 'vossos': 1, 'retorquiu': 4, 'supplicou': 1, 'cançado': 2, 'fóra': 13, 'creou': 1, 'inventou': 2, 'primarias': 1, 'composto': 5, 'prompto': 5, 'dividir': 2, 'comtigo': 1, 'direitos': 2, 'della': 32, 'resultaram': 1, 'desconcertos': 1, 'audiencia': 4, 'prévia': 1, 'collaboração': 1, 'amiga': 18, 'teriam': 3, 'logares': 1, 'verso': 10, 'direita': 7, 'diga': 10, 'nisso': 3, 'belleza': 5, 'fugindo': 1, 'explicam': 2, 'tercetto': 1, 'aria': 1, 'guilhotina': 1, 'raro': 3, 'razao': 1, 'cançam': 1, 'abusa': 1, 'massas': 1, 'encobrindo': 2, 'partes': 4, 'orchestraes': 1, 'aliás': 4, 'tratadas': 1, 'opinião': 10, 'querem': 2, 'difficilmente': 2, 'possa': 7, 'achar': 14, 'admitte': 1, 'certas': 2, 'rudezas': 1, 'andar': 16, 'provavel': 8, 'estas': 15, 'sejam': 9, 'preenchidas': 1, 'aquellas': 3, 'desapparecam': 1, 'negando': 1, 'emendar': 3, 'responde': 1, 'pensamento': 9, 'sublime': 2, 'dizem': 10, 'juram': 2, 'partitura': 1, 'corrompeu': 1, 'seja': 24, 'trabalhada': 1, 'arte': 6, 'absolutamente': 4, 'diversa': 1, 'contraria': 3, 'texto': 4, 'excrescencia': 1, 'imitar': 9, 'patuscas': 1, 'contestado': 1, 'pelos': 14, 'satanistas': 1, 'apparencia': 2, 'compoz': 2, 'farça': 1, 'shakespeare': 1, 'chegam': 3, 'affirmar': 1, 'inglez': 2, 'transcrever': 2, 'lettra': 2, 'proprio': 17, 'autor': 3, 'concluiu': 10, 'durará': 1, 'durar': 1, 'podendo': 5, 'calcular': 2, 'será': 4, 'demolido': 1, 'utilidade': 1, 'exito': 1, 'musico': 1, 'recebem': 2, 'pontualmente': 1, 'regra': 2, 'divisão': 1, 'aquillo': 4, 'poucos': 10, 'recebe': 4, 'bradou': 2, 'horror': 1, 'digo': 23, 'pura': 3, 'forem': 1, 'queimados': 1, 'ensine': 1, 'calix': 2, 'breve': 4, 'ouve': 4, 'pau': 3, 'cabe': 2, 'x': 265, 'demasiada': 1, 'metaphysica': 1, 'perda': 1, 'voz': 35, 'explica': 4, 'philosophos': 1, 'tenores': 1, 'leitor': 9, 'theoria': 2, 'cantei': 1, 'vamos': 17, 'denuncia': 7, 'dada': 3, 'principalmente': 4, 'xi': 1, 'desapparecer': 1, 'deixei': 12, 'corri': 16, 'lagrimas': 9, 'causa': 15, 'fazia': 19, 'verter': 1, 'provavelmente': 10, 'projectos': 5, 'occasião': 13, 'datava': 1, 'dezeseis': 3, 'fui': 49, 'morto': 5, 'primeiro': 38, 'esperasse': 3, 'entrasse': 2, 'enviuvou': 3, 'sentiu': 3, 'terror': 3, 'temente': 3, 'buscou': 1, 'testemunhas': 3, 'confiando': 1, 'parentes': 4, 'separassemos': 1, 'primeiras': 7, 'latim': 13, 'amigo': 19, 'jogar': 4, 'prazos': 2, 'largos': 1, 'faceis': 2, 'imaginação': 6, 'esperou': 2, 'affeiçoando': 1, 'brincos': 1, 'imagens': 1, 'conversações': 3, 'convergia': 1, 'iamos': 14, 'reparasse': 1, 'brincava': 2, 'arranjavamos': 2, 'servia': 3, 'alteravamos': 1, 'dividirmos': 1, 'hostia': 3, 'brincavamos': 1, 'commum': 6, 'respondia': 2, 'pedir': 17, 'voltava': 3, 'engrolavamos': 1, 'precipitavamos': 1, 'non': 1, 'sum': 1, 'devia': 26, 'penso': 8, 'golodice': 1, 'bebiamos': 1, 'vinho': 2, 'tinhamos': 8, 'segunda': 12, 'viria': 3, 'ultimamente': 2, 'falavam': 5, 'suppunha': 1, 'negocio': 10, 'havendo': 7, 'pediam': 1, 'ficava': 13, 'olhar': 11, 'pretexto': 5, 'xii': 1, 'parei': 7, 'pernas': 14, 'coração': 25, 'parecendo': 5, 'querer': 6, 'bocca': 23, 'atrevia': 1, 'descer': 7, 'quintal': 8, 'estacando': 1, 'andava': 10, 'confusas': 1, 'repetiam': 2, 'discurso': 9, 'tijolos': 1, 'pisei': 1, 'repisei': 1, 'columnas': 1, 'amarelladas': 1, 'passastes': 1, 'vós': 1, 'ficou': 22, 'sensação': 9, 'goso': 2, 'envolvia': 1, 'derramava': 1, 'balsamo': 1, 'vezes': 18, 'ar': 17, 'desmentia': 1, 'abominação': 1, 'inquieto': 1, 'adivinhando': 2, 'si': 21, 'feio': 7, 'meninos': 2, 'andassem': 2, 'meninas': 1, 'adolescentes': 2, 'coqueiro': 2, 'cria': 3, 'coqueiros': 1, 'velhos': 5, 'cigarra': 1, 'ensaiava': 1, 'viva': 4, 'cosido': 3, 'saias': 2, 'occorria': 1, 'nós': 28, 'devéras': 5, 'travessuras': 2, 'saiu': 15, 'restabelecemos': 1, 'materia': 13, 'recordar': 5, 'esses': 6, 'gestos': 12, 'prazer': 10, 'sentia': 16, 'passava': 6, 'achava': 13, 'lindos': 2, 'abanava': 3, 'expressão': 3, 'desengano': 2, 'espantar': 1, 'cabellos': 12, 'retorquia': 1, 'perguntava': 7, 'sonhára': 2, 'contar': 17, 'aventuras': 3, 'subiamos': 1, 'corcovado': 1, 'dansavamos': 1, 'anjos': 4, 'afim': 5, 'acabavam': 1, 'sonhos': 11, 'andavamos': 1, 'reproduziam': 2, 'passavam': 4, 'simples': 19, 'repetição': 2, 'notou': 2, 'bonitos': 1, 'còr': 2, 'entendia': 2, 'emoção': 7, 'davam': 4, 'essas': 9, 'buscasse': 4, 'silencios': 1, 'descobriam': 1, 'signaes': 6, 'meias': 7, 'perguntas': 4, 'respostas': 3, 'adverti': 3, 'phenomeno': 3, 'recente': 3, 'accordar': 1, 'estremecer': 1, 'ouvia': 11, 'falava': 23, 'prestava': 1, 'altenção': 1, 'louvor': 2, 'desgosto': 2, 'intensos': 1, 'eramos': 8, 'sómente': 7, 'companheiros': 3, 'cheguei': 18, 'pensar': 10, 'missas': 2, 'daquelle': 17, 'exclusivismo': 1, 'apresentado': 1, 'denunciara': 1, 'perdoava': 1, 'pudesse': 11, 'vir': 17, 'eterna': 4, 'valeria': 1, 'demais': 3, 'virtudes': 6, 'tremulas': 1, 'crentes': 2, 'abarcar': 1, 'esse': 23, 'palpitar': 1, 'revelação': 1, 'comparavel': 2, 'qualquer': 23, 'xiii': 1, 'dentro': 20, 'degraus': 2, 'caminharam': 1, 'interiores': 1, 'rege': 1, 'meio': 34, 'chegaram': 2, 'porta': 36, 'communicação': 1, 'mandada': 1, 'rasgar': 1, 'éramos': 3, 'chave': 3, 'empurrando': 1, 'puxando': 1, 'peso': 2, 'pedra': 3, 'pendente': 2, 'exclusivamente': 2, 'faziamos': 1, 'visita': 9, 'batendo': 2, 'recebidos': 1, 'bonecas': 1, 'entrava': 4, 'debaixo': 6, 'bengalão': 1, 'doutor': 6, 'joão': 7, 'tomava': 1, 'pulso': 1, 'mostrasse': 2, 'exclamava': 2, 'coçava': 1, 'mandando': 1, 'sanguesugas': 1, 'therapeutica': 1, 'habitual': 2, 'esburacando': 1, 'vem': 4, 'viesse': 7, 'presas': 3, 'fiz': 18, 'empurrei': 2, 'muro': 4, 'voltada': 2, 'riscando': 1, 'rumor': 3, 'caminhei': 2, 'insistir': 1, 'tirar': 5, 'creatura': 7, 'forte': 3, 'apertada': 2, 'feitos': 1, 'atadas': 1, 'moda': 3, 'pelas': 11, 'claros': 3, 'nariz': 3, 'recto': 1, 'fina': 6, 'queixo': 2, 'despeito': 3, 'officios': 4, 'curadas': 1, 'cheiravam': 1, 'sabões': 1, 'finos': 2, 'aguas': 2, 'agua': 3, 'sabão': 1, 'calçava': 2, 'dera': 5, 'balbuciei': 1, 'emendei': 1, 'espreitar': 1, 'impressão': 5, 'consternasse': 1, 'gostava': 13, 'obscuro': 1, 'senti': 23, 'nisto': 6, 'olhei': 7, 'logar': 10, 'estivera': 4, 'escrevendo': 4, 'dissera': 3, 'riscos': 1, 'dei': 23, 'temer': 2, 'acabasse': 4, 'negar': 2, 'correu': 5, 'adeante': 3, 'ler': 9, 'xiv': 1, 'capitulo': 18, 'seguiu': 3, 'raspasse': 1, 'li': 4, 'estes': 4, 'abertos': 3, 'bento': 1, 'capitolina': 1, 'ficámos': 10, 'confissão': 3, 'tu': 12, 'valias': 1, 'falámos': 2, 'estenderam': 1, 'marquei': 1, 'hora': 22, 'exacta': 3, 'sinto': 6, 'nota': 5, 'escripta': 2, 'poria': 3, 'erros': 2, 'orthographia': 2, 'traria': 2, 'differença': 6, 'estudante': 2, 'conhecia': 9, 'regras': 1, 'suspeitar': 2, 'orgias': 1, 'virgem': 3, 'soltámos': 2, 'ellas': 14, 'deixaram': 1, 'cair': 8, 'cançadas': 1, 'vagarem': 1, 'tornavam': 3, 'deante': 12, 'faces': 2, 'epistola': 1, 'labios': 3, 'faltava': 3, 'catholica': 2, 'tenhas': 2, 'leitora': 2, 'limpeza': 1, 'intenção': 7, 'lava': 1, 'puder': 1, 'curial': 1, 'estavamos': 7, 'ceu': 29, 'unindo': 1, 'faziam': 5, 'creaturas': 4, 'continuaram': 1, 'tentavam': 1, 'caladas': 1, 'xv': 1, 'jogando': 4, 'nossos': 11, 'estragues': 1, 'reboco': 1, 'riscava': 2, 'apagar': 2, 'começado': 1, 'delle': 12, 'chegou': 12, 'duvidoso': 2, 'braços': 9, 'costas': 9, 'donde': 9, 'alcunha': 1, 'chamava': 8, 'estavam': 13, 'sabugueiro': 1, 'ri': 2, 'rido': 1, 'papae': 9, 'fitou': 2, 'susto': 3, 'sob': 1, 'trouxe': 4, 'entrada': 8, 'capaz': 18, 'devesse': 3, 'legitimar': 1, 'resposta': 4, 'cançada': 1, 'desviou': 2, 'apprendem': 1, 'mister': 3, 'nascer': 1, 'cedo': 5, 'artificialmente': 1, 'continuava': 5, 'encantados': 1, 'dirá': 4, 'mamãe': 22, 'vontade': 19, 'capote': 1, 'ando': 2, 'trabalhos': 1, 'escrevo': 1, 'noites': 7, 'viu': 7, 'jurar': 3, 'particularmente': 6, 'varia': 4, 'côr': 9, 'área': 2, 'cercada': 1, 'gaiolas': 1, 'cantando': 2, 'barulho': 1, 'trocava': 1, 'apanhava': 1, 'armando': 1, 'tratava': 3, 'delles': 8, 'xvi': 1, 'administrador': 5, 'empregado': 1, 'repartição': 4, 'dependente': 1, 'ministerio': 1, 'ganhava': 1, 'mulher': 18, 'gastava': 1, 'assobradada': 1, 'propriedade': 1, 'contos': 2, 'comprar': 3, 'cavallo': 9, 'adereço': 1, 'brilhantes': 1, 'sepultura': 3, 'perpetua': 1, 'mandar': 6, 'europa': 6, 'fortunata': 9, 'fundos': 1, 'falando': 11, 'guardar': 5, 'sobrasse': 1, 'acudir': 3, 'molestias': 1, 'hesitou': 4, 'ceder': 2, 'conselhos': 2, 'pediu': 8, 'nessa': 5, 'salvar': 1, 'ordem': 5, 'especial': 2, 'substituindo': 1, 'respectivos': 1, 'mudança': 4, 'contentou': 2, 'reformar': 2, 'despezas': 2, 'joias': 3, 'festa': 2, 'matava': 2, 'mezes': 13, 'supposição': 1, 'afflicto': 1, 'perder': 12, 'chegara': 3, 'effectivo': 3, 'velasse': 1, 'infelizes': 1, 'soffrer': 1, 'attendia': 2, 'consentirei': 1, 'tornar': 3, 'confessar': 8, 'dirão': 3, 'enxugou': 6, 'prostrado': 1, 'fechado': 1, 'teimasse': 2, 'ouviu': 10, 'favor': 12, 'salvava': 1, 'marido': 8, 'beira': 1, 'maluquice': 1, 'parecer': 7, 'gratificação': 1, 'emprego': 2, 'confessou': 6, 'acharia': 3, 'obrigação': 2, 'desconheço': 1, 'sair': 21, 'estragava': 1, 'chapéo': 3, 'administração': 4, 'ferida': 3, 'começou': 8, 'negocios': 4, 'dormir': 3, 'tranquillo': 1, 'conversar': 2, 'noticias': 8, 'serenidade': 1, 'figura': 10, 'iam': 20, 'sarou': 1, 'saudades': 7, 'vexame': 1, 'desvanecimento': 3, 'seis': 12, 'posthumo': 1, 'glorias': 1, 'bradava': 2, 'vaidade': 5, 'visinho': 6, 'licção': 8, 'eliphaz': 1, 'desprezes': 1, 'correcção': 1, 'fere': 2, 'xvii': 1, 'lança': 1, 'achilles': 2, 'velleidades': 1, 'dissertação': 1, 'pegar': 7, 'calando': 1, 'origem': 3, 'oraculo': 1, 'pagão': 1, 'catei': 1, 'proprios': 5, 'vermes': 1, 'dissessem': 1, 'textos': 3, 'roidos': 1, 'longo': 3, 'verme': 1, 'sabemos': 1, 'escolhemos': 1, 'amamos': 1, 'detestamos': 1, 'arranquei': 1, 'houvessem': 2, 'repeliam': 1, 'discreto': 1, 'silencio': 4, 'roer': 1, 'xviii': 1, 'falavamos': 2, 'noticia': 11, 'affligia': 1, 'acudi': 5, 'excusado': 1, 'teimarem': 2, 'recolheu': 2, 'pupillas': 2, 'vagas': 3, 'forca': 1, 'seria': 34, 'jurava': 3, 'jurei': 3, 'luz': 9, 'faltasse': 2, 'sequer': 5, 'brincára': 1, 'dormira': 1, 'atados': 1, 'tornou': 10, 'rompeu': 2, 'nestas': 1, 'tamanha': 2, 'ameaça': 4, 'chamasse': 1, 'deprimir': 1, 'cruz': 1, 'ouro': 5, 'livro': 17, 'beata': 1, 'alta': 3, 'ouvida': 2, 'irritada': 2, 'disposta': 1, 'cerrava': 3, 'repetia': 2, 'promettia': 3, 'declarar': 1, 'entraria': 1, 'verá': 2, 'entra': 5, 'conversação': 3, 'interesse': 7, 'lembrar': 6, 'sujeito': 3, 'deixe': 8, 'dono': 6, 'fica': 17, 'attenção': 6, 'canto': 5, 'fechando': 3, 'proferi': 2, 'acho': 7, 'adolescencia': 2, 'infancia': 4, 'perigo': 4, 'começa': 2, 'cresce': 1, 'madurera': 1, 'attinge': 1, 'grão': 1, 'ameaçar': 1, 'executar': 1, 'reflexão': 5, 'rara': 2, 'occasiões': 3, 'apertado': 1, 'circumstancias': 1, 'proprias': 3, 'tom': 9, 'inicial': 1, 'certamente': 7, 'deixar': 12, 'satisfeito': 2, 'espontaneamente': 1, 'reparava': 2, 'injurias': 1, 'sairam': 5, 'peguei': 9, 'conversa': 3, 'cochilar': 2, 'chegado': 1, 'apregoando': 1, 'parou': 2, 'frente': 1, 'qué': 1, 'cocada': 1, 'tá': 1, 'replicou': 5, 'descendo': 1, 'braço': 6, 'comer': 2, 'conservava': 1, 'perfeição': 5, 'momento': 9, 'definições': 1, 'fiquemos': 3, 'equilibrada': 1, 'pregão': 1, 'prégão': 5, 'velhas': 8, 'sabido': 3, 'bairro': 2, 'deixára': 4, 'toada': 6, 'cór': 1, 'jogos': 1, 'trocando': 1, 'comprando': 1, 'destinada': 3, 'picar': 1, 'enojou': 1, 'paquete': 2, 'dito': 8, 'agradeceram': 1, 'sentimento': 5, 'excusar': 1, 'extraordinario': 1, 'atrevidas': 2, 'pratica': 3, 'explico': 3, 'supponde': 1, 'concepção': 1, 'executada': 1, 'meios': 2, 'vago': 1, 'hypothetico': 1, 'faria': 11, 'embarcar': 2, 'estenderia': 1, 'fila': 1, 'canoas': 2, 'fortaleza': 2, 'lage': 1, 'ponte': 1, 'iria': 14, 'deixando': 2, 'caracter': 2, 'admira': 3, 'combatendo': 1, 'resistencia': 2, 'persuasão': 3, 'lenta': 2, 'examinasse': 1, 'podiamos': 3, 'rejeitou': 3, 'approvava': 1, 'trabalhar': 3, 'confessasse': 2, 'apparecer': 1, 'bom': 29, 'gosta': 5, 'fale': 5, 'tenha': 10, 'mostre': 2, 'tendo': 13, 'falará': 3, 'perde': 4, 'mude': 1, 'bastava': 6, 'escola': 4, 'pagou': 2, 'leis': 7, 'estremeci': 1, 'paulo': 3, 'fragil': 1, 'destinado': 3, 'arredado': 1, 'grossa': 1, 'espiritual': 2, 'prometti': 2, 'termos': 5, 'accentuando': 2, 'entendera': 1, 'trocara': 2, 'insistia': 2, 'pedisse': 2, 'pede': 5, 'copo': 2, 'conto': 6, 'minucias': 1, 'entenda': 1, 'virá': 1, 'fará': 4, 'fizeram': 9, 'successivamente': 1, 'xix': 1, 'voltei': 7, 'pensasse': 3, 'falaria': 4, 'formulei': 2, 'pedido': 3, 'escolhendo': 1, 'secco': 2, 'adequadas': 2, 'obedeciam': 1, 'recommendações': 1, 'escolha': 3, 'lentamente': 3, 'seccas': 1, 'improprias': 2, 'creançola': 1, 'cuidei': 8, 'escolher': 4, 'prova': 7, 'carregar': 1, 'adoçar': 1, 'geitoso': 1, 'desfazer': 3, 'plano': 5, 'xx': 1, 'mil': 11, 'levantei': 2, 'começava': 5, 'coberto': 2, 'rezar': 2, 'arranjar': 1, 'somma': 7, 'carregado': 1, 'promessas': 7, 'ultima': 8, 'duzentos': 1, 'duzentas': 1, 'chovesse': 1, 'passeio': 6, 'santa': 13, 'rezei': 3, 'pequenino': 2, 'mediante': 3, 'orações': 2, 'medida': 4, 'amontoavam': 1, 'numeros': 2, 'centenas': 1, 'peitar': 1, 'divina': 6, 'quantia': 2, 'feita': 7, 'jurada': 1, 'pagar': 5, 'divida': 5, 'vão': 7, 'matar': 2, 'preguiça': 1, 'berço': 2, 'attenuada': 1, 'adiava': 1, 'repeti': 9, 'beneficio': 4, 'salvação': 1, 'naufragio': 1, 'existencia': 2, 'pagasse': 2, 'atrazados': 1, 'irritado': 1, 'possivel': 10, 'agitações': 1, 'menino': 6, 'te': 9, 'achas': 2, 'sublimes': 2, 'cogitei': 2, 'resgatar': 1, 'especie': 8, 'escripturação': 1, 'moral': 5, 'cem': 1, 'subir': 4, 'joelhos': 2, 'ladeira': 2, 'escravas': 2, 'contavam': 2, 'acudia': 1, 'fixar': 2, 'duro': 2, 'xxi': 1, 'passeando': 1, 'patamar': 2, 'conversando': 2, 'perguntou': 17, 'mentira': 6, 'franqueza': 1, 'francamente': 2, 'pensava': 5, 'pareceu': 8, 'magra': 1, 'comnosco': 1, 'intima': 3, 'parenta': 2, 'passeámos': 1, 'minutos': 17, 'alumiada': 1, 'esquecera': 2, 'ecclesiasticos': 1, 'respondi': 9, 'pergunto': 3, 'gostaria': 2, 'explicou': 5, 'gósto': 2, 'deseja': 1, 'cá': 22, 'metta': 2, 'hade': 1, 'primo': 1, 'importa': 1, 'enruguei': 1, 'testa': 5, 'soubesse': 2, 'completou': 1, 'lembrára': 1, 'passando': 3, 'esquecendo': 2, 'esquecer': 9, 'estiver': 4, 'zás': 1, 'discursos': 2, 'elogios': 3, 'note': 1, 'dê': 3, 'hoje': 10, 'namoro': 2, 'indicando': 1, 'novamente': 13, 'recommendou': 1, 'recapitulou': 1, 'casca': 1, 'passados': 2, 'supponha': 4, 'gostasse': 2, 'firme': 2, 'mudar': 2, 'trabalho': 9, 'desgraça': 1, 'xxii': 1, 'sensações': 6, 'alcancei': 1, 'seguido': 1, 'conselho': 4, 'proxima': 2, 'finalmente': 4, 'bradaria': 1, 'bella': 8, 'receio': 7, 'amor': 9, 'accendeu': 4, 'approvação': 2, 'assersões': 1, 'confirmava': 2, 'desconfiava': 1, 'ciumes': 9, 'pirralho': 1, 'viuva': 2, 'quarentona': 1, 'modificou': 1, 'trefega': 1, 'olhava': 9, 'achou': 16, 'espectaculo': 4, 'alheias': 2, 'resurreição': 1, 'vaga': 4, 'goza': 1, 'influição': 1, 'xxiii': 1, 'prazo': 2, 'desusado': 1, 'sairia': 1, 'imperativo': 1, 'estylo': 1, 'andando': 9, 'walter': 1, 'scott': 1, 'lia': 2, 'cantado': 1, 'castellos': 1, 'parques': 1, 'saíam': 4, 'maiores': 4, 'lagos': 1, 'milhares': 2, 'estrellas': 1, 'alternava': 1, 'som': 4, 'levemente': 2, 'grossas': 1, 'conforme': 2, 'sexo': 1, 'moderação': 1, 'ternura': 8, 'compras': 1, 'pedirei': 1, 'affirmo': 1, 'grave': 3, 'houve': 11, 'quente': 2, 'entrámos': 2, 'podemos': 4, 'xxiv': 1, 'extremos': 1, 'attenções': 1, 'conseguiu': 1, 'cuidava': 5, 'arranjos': 1, 'hygiene': 1, 'oito': 4, 'pluraes': 1, 'desinencia': 1, 'serio': 2, 'risonho': 1, 'obter': 2, 'perdão': 5, 'ajudava': 2, 'mestre': 6, 'cabral': 18, 'ensinava': 1, 'doutrina': 3, 'assistia': 2, 'reflexões': 7, 'caminha': 1, 'conhecido': 5, 'excedia': 1, 'possuia': 3, 'qualidades': 7, 'moraes': 3, 'avaliasse': 1, 'valor': 6, 'xxv': 1, 'caras': 7, 'doentes': 1, 'vadias': 1, 'melancolicamente': 1, 'caminho': 6, 'seguimos': 1, 'venho': 2, 'esteve': 4, 'trazer': 2, 'falamos': 1, 'andei': 4, 'ficando': 4, 'tomando': 2, 'pode': 1, 'gostar': 2, 'apesar': 18, 'diabo': 6, 'reparou': 2, 'cigana': 3, 'obliqua': 4, 'merece': 2, 'nego': 4, 'possue': 2, 'honestidade': 1, 'estima': 2, 'perdem': 1, 'más': 1, 'companhias': 1, 'tendencia': 1, 'cheirando': 1, 'chulo': 1, 'interrompi': 2, 'suspendendo': 1, 'falasse': 3, 'capacidade': 1, 'corno': 1, 'esforço': 2, 'fechou': 3, 'agradeço': 1, 'feito': 9, 'juizos': 1, 'disso': 6, 'subimos': 1, 'olhámos': 2, 'perguntar': 6, 'espetava': 1, 'ancioso': 3, 'posso': 17, 'continuei': 4, 'pasmado': 2, 'faço': 7, 'cocheiro': 4, 'carreira': 7, 'enfiado': 1, 'surda': 1, 'acanhada': 1, 'assombrou': 1, 'sobrancelhas': 1, 'protecção': 2, 'mostrou': 3, 'pouca': 6, 'revelára': 1, 'palavra': 33, 'final': 8, 'vigor': 1, 'tornaram': 1, 'dimensões': 2, 'favores': 1, 'merecem': 2, 'illustres': 1, 'cavalheiro': 1, 'familias': 2, 'vencer': 4, 'nobreza': 1, 'talento': 2, 'acha': 6, 'confesso': 5, 'digno': 3, 'admiração': 4, 'proteger': 1, 'anjo': 6, 'dissuadir': 1, 'projecto': 5, 'ambição': 2, 'longos': 3, 'hontem': 3, 'timidez': 5, 'ruim': 3, 'indignação': 2, 'rompesse': 1, 'responder': 6, 'estude': 1, 'xxvi': 1, 'algo': 3, 'parecido': 3, 'reflexo': 3, 'alegrou': 1, 'voltara': 1, 'provar': 1, 'irei': 3, 'prometto': 3, 'trabalharei': 1, 'boas': 6, 'universidades': 2, 'conte': 2, 'apontando': 3, 'negros': 1, 'avoaçando': 1, 'desciam': 2, 'roçar': 1, 'dansas': 1, 'fantasticas': 1, 'desviavam': 1, 'espirito': 5, 'presente': 3, 'prefere': 1, 'ecclesiastica': 5, 'veremos': 1, 'terras': 2, 'ouviremos': 1, 'russo': 1, 'quererá': 1, 'guiar': 1, 'metia': 1, 'poder': 9, 'estamos': 4, 'imagina': 8, 'perna': 1, 'ambições': 1, 'acabar': 18, 'tentar': 2, 'louvasse': 1, 'ares': 3, 'possibilidade': 3, 'eternidade': 2, 'xxvii': 1, 'portão': 2, 'mendigo': 1, 'tirei': 3, 'vintens': 1, 'bolso': 3, 'beijou': 2, 'rogasse': 1, 'accrescentei': 1, 'xxviii': 1, 'contente': 3, 'trocou': 3, 'momentos': 1, 'dobradiço': 1, 'parar': 3, 'mostrador': 1, 'cartaz': 1, 'enredo': 1, 'recitava': 1, 'monologos': 1, 'recados': 1, 'recebeu': 3, 'alugueis': 5, 'vigesimo': 1, 'tezo': 1, 'rendeu': 2, 'temi': 1, 'mudado': 1, 'resolução': 5, 'entrarmos': 1, 'xxix': 1, 'encontrámos': 1, 'omnibus': 2, 'passageiros': 1, 'desceram': 2, 'coche': 3, 'imperial': 2, 'tornei': 10, 'majestade': 2, 'imperador': 8, 'reflectindo': 1, 'acabando': 2, 'cm': 1, 'batedores': 1, 'piquete': 1, 'parava': 1, 'alvoroço': 5, 'beijava': 1, 'lisongeada': 1, 'manda': 1, 'ensinar': 2, 'agrado': 1, 'vossa': 1, 'temos': 4, 'bons': 4, 'medicos': 1, 'pódem': 7, 'hombrear': 1, 'melhores': 2, 'medicina': 7, 'conhecer': 4, 'doença': 5, 'cuidado': 2, 'acompanhado': 2, 'cheia': 9, 'invejas': 3, 'ariosto': 1, 'fertil': 1, 'creanças': 4, 'visão': 1, 'impossivel': 5, 'precisa': 6, 'recanto': 1, 'xxx': 1, 'terás': 2, 'entendido': 3, 'lembrança': 9, 'ácerca': 1, 'suggestão': 2, 'accordado': 1, 'desenho': 3, 'inclinações': 1, 'esperanças': 6, 'ouço': 3, 'santo': 4, 'antonio': 3, 'recebedor': 1, 'passagens': 2, 'puxou': 2, 'correia': 1, 'voltas': 3, 'rapidas': 1, 'iriamos': 3, 'acompanhar': 4, 'sino': 1, 'fieis': 1, 'áquelle': 2, 'serviço': 3, 'caridade': 3, 'sacristão': 5, 'distribuir': 1, 'lavava': 1, 'solicitava': 1, 'varas': 2, 'aventurou': 2, 'leve': 3, 'baixa': 1, 'conciliar': 2, 'seguradores': 1, 'pallio': 2, 'cedesse': 1, 'vara': 4, 'transtornou': 1, 'distincção': 4, 'cabia': 3, 'pôr': 4, 'curioso': 1, 'piscando': 1, 'olho': 1, 'esquerdo': 1, 'costumava': 2, 'santissimo': 2, 'sacramento': 1, 'levando': 2, 'conseguira': 1, 'cobrir': 1, 'tocha': 3, 'contou': 6, 'pia': 1, 'entrára': 1, 'tornava': 4, 'interinidade': 1, 'regressava': 1, 'antigo': 5, 'acto': 5, 'rompendo': 1, 'marcha': 4, 'opas': 1, 'tochas': 2, 'distribuidas': 1, 'ciborio': 1, 'hyssope': 1, 'campainha': 2, 'prestito': 1, 'roía': 1, 'fórma': 1, 'humilhação': 1, 'parallelamente': 1, 'felizmente': 1, 'enferma': 1, 'chorando': 3, 'tivesse': 14, 'caíam': 2, 'encarquilhar': 1, 'total': 4, 'captivava': 1, 'vigário': 1, 'communhão': 1, 'santos': 4, 'pranto': 2, 'redobrou': 2, 'molhados': 1, 'porto': 2, 'dor': 3, 'communicativa': 1, 'complicada': 1, 'emfim': 1, 'impeto': 5, 'soluçar': 1, 'enfiei': 6, 'chore': 1, 'imagem': 5, 'attribuira': 1, 'encheu': 1, 'distinctamente': 1, 'doçura': 2, 'lugubres': 1, 'lustre': 3, 'vejo': 2, 'dominou': 1, 'voltavamos': 2, 'distancia': 4, 'mui': 3, 'sol': 8, 'animação': 2, 'rapazes': 4, 'fitavam': 2, 'cheios': 3, 'devotas': 1, 'chegavam': 2, 'entravam': 1, 'corredores': 1, 'ajoelhavam': 1, 'enchia': 2, 'lepidez': 1, 'substituido': 1, 'consolar': 1, 'miseravel': 1, 'comtudo': 1, 'traziam': 5, 'mostravam': 1, 'compostura': 1, 'caminhavam': 1, 'xxxi': 1, 'curiosidades': 5, 'preferia': 3, 'abatida': 1, 'larga': 1, 'vingasse': 1, 'deixemos': 2, 'marcou': 1, 'prometteu': 1, 'repetisse': 1, 'alterações': 1, 'minuciosa': 1, 'remoer': 1, 'rotulava': 1, 'pregava': 1, 'memoria': 13, 'ventura': 5, 'optima': 1, 'dellas': 6, 'conceitos': 1, 'incutir': 2, 'dão': 7, 'explicaveis': 1, 'uteis': 2, 'collegio': 3, 'sete': 3, 'apprendera': 1, 'obras': 2, 'justtina': 1, 'estudou': 1, 'propôr': 1, 'professor': 5, 'parceiro': 3, 'apanhar': 1, 'obedecia': 1, 'jogava': 1, 'desenhando': 1, 'lapís': 1, 'copiado': 1, 'tela': 1, 'circulos': 1, 'rudimento': 1, 'apprenderia': 2, 'facilmente': 3, 'namorava': 2, 'piano': 3, 'traste': 1, 'folheava': 1, 'querendo': 8, 'orgulho': 2, 'erudição': 1, 'avultava': 1, 'homoepathia': 1, 'exclamações': 1, 'julio': 1, 'perfil': 1, 'acções': 4, 'citadas': 1, 'virada': 1, 'perola': 2, 'milhões': 1, 'cesar': 1, 'accendia': 1, 'diadema': 1, 'botou': 1, 'festas': 4, 'paes': 3, 'haviam': 3, 'conheceriam': 1, 'tribunas': 1, 'capella': 1, 'salões': 1, 'nascera': 1, 'daquellas': 6, 'ouvindo': 4, 'varias': 4, 'teimou': 3, 'fora': 5, 'throno': 1, 'mobilias': 1, 'alfaias': 1, 'mocidade': 3, 'adagio': 2, 'xxxii': 1, 'caso': 20, 'ambas': 5, 'contarei': 3, 'ajuste': 2, 'perguntasse': 1, 'penteando': 1, 'devagarzinho': 1, 'pregar': 1, 'espelho': 1, 'espelhinho': 1, 'pataca': 1, 'mascate': 1, 'moldura': 2, 'argolinha': 1, 'voou': 1, 'chegue': 3, 'amanhã': 3, 'pretende': 1, 'tocar': 2, 'entrará': 1, 'influir': 1, 'sentir': 7, 'inferno': 2, 'teime': 1, 'lembrado': 1, 'dissimulada': 1, 'chamar': 5, 'fitar': 2, 'imaginou': 1, 'enfiados': 3, 'attribuo': 2, 'entrassem': 1, 'crescidos': 1, 'rhetorica': 1, 'comparação': 4, 'poetica': 1, 'aquelles': 6, 'acode': 1, 'quebra': 1, 'dignidade': 1, 'fluido': 2, 'mysterioso': 1, 'arrastava': 1, 'retira': 1, 'espalhados': 1, 'buscava': 6, 'onda': 1, 'cava': 1, 'ameaçando': 1, 'quantos': 2, 'gastámos': 2, 'relogios': 1, 'marcado': 1, 'infinito': 4, 'pendulas': 1, 'deixa': 7, 'duração': 1, 'felicidades': 1, 'dobrar': 1, 'gozo': 1, 'bemaventurados': 1, 'tormentos': 1, 'padecido': 2, 'quantidade': 1, 'delicias': 1, 'gozado': 1, 'desaffectos': 1, 'augmentará': 1, 'dores': 1, 'condemnados': 1, 'supplicio': 1, 'escapou': 3, 'divino': 4, 'cabo': 7, 'definitivamente': 2, 'cabello': 2, 'desembaraça': 1, 'xxxiii': 1, 'ultimas': 4, 'esquecestes': 1, 'nadinha': 1, 'alisar': 1, 'porções': 1, 'compor': 3, 'podem': 1, 'suppôr': 1, 'cabelleireiros': 1, 'saboreando': 1, 'tacto': 1, 'fios': 1, 'dedos': 4, 'roçavam': 2, 'espaduas': 1, 'vestidas': 1, 'pedi': 6, 'divindade': 1, 'poetas': 1, 'apresentaram': 1, 'desejei': 1, 'seculos': 1, 'tecer': 1, 'tranças': 1, 'pudessem': 2, 'envolver': 1, 'innominavel': 1, 'vos': 3, 'desgraçado': 1, 'penteastes': 1, 'puzestes': 1, 'risquei': 2, 'risquemos': 1, 'somente': 2, 'envolve': 1, 'potencias': 1, 'christãs': 1, 'acabei': 5, 'fita': 2, 'triste': 5, 'pedaço': 6, 'juntei': 1, 'retoquei': 1, 'alargando': 1, 'achatando': 1, 'pensaes': 1, 'esqueçaes': 1, 'quo': 2, 'derreou': 2, 'espaldar': 1, 'cadeira': 3, 'linha': 4, 'levantasse': 1, 'machucar': 1, 'abrochou': 1, 'desci': 2, 'recuei': 2, 'atrevi': 1, 'descolasse': 1, 'atirasse': 1, 'callidas': 1, 'mofes': 1, 'grieux': 1, 'xxxiv': 1, 'sou': 14, 'ouvimos': 3, 'passos': 3, 'apontou': 1, 'laivo': 1, 'contracção': 1, 'espontaneo': 1, 'cabelleireiro': 1, 'veja': 6, 'transbordando': 1, 'redarguiu': 2, 'desfazendo': 2, 'enfadamento': 1, 'gracioso': 1, 'voluntario': 1, 'alisou': 1, 'renovar': 1, 'maluquices': 1, 'houvera': 1, 'disfarçar': 2, 'chamei': 1, 'beijo': 4, 'investissem': 1, 'logravam': 1, 'romper': 2, 'emoções': 4, 'publicava': 1, 'mandára': 1, 'censurava': 1, 'maneiras': 7, 'passei': 4, 'recordando': 3, 'penteado': 3, 'esquecimentos': 1, 'viver': 7, 'via': 16, 'proximo': 2, 'beiços': 2, 'embaixo': 2, 'egualmente': 5, 'esticados': 1, 'boca': 2, 'suppuz': 2, 'tivessem': 1, 'éco': 1, 'colombo': 1, 'descobrindo': 1, 'perdoai': 1, 'banalidade': 2, 'adolescente': 1, 'almirante': 1, 'achados': 1, 'deslumbrou': 1, 'valeu': 3, 'ossos': 1, 'carne': 2, 'sangue': 5, 'terceira': 4, 'pensa': 3, 'pesadelo': 1, 'nervos': 1, 'homens': 8, 'abuso': 1, 'saudade': 2, 'repassar': 1, 'revelou': 2, 'vastas': 1, 'doces': 4, 'menor': 9, 'xxxv': 1, 'protonotario': 14, 'advertindo': 1, 'semblante': 1, 'allegar': 1, 'vertigem': 3, 'deitado': 3, 'causaria': 1, 'prometter': 1, 'dezenas': 1, 'aberto': 4, 'conversavam': 1, 'ralhou': 1, 'recebera': 2, 'vespera': 8, 'recado': 3, 'soube': 5, 'decreto': 1, 'nomeado': 1, 'papa': 3, 'contentamento': 1, 'soava': 1, 'acostumados': 1, 'propriamente': 7, 'cargo': 2, 'honras': 2, 'pódes': 3, 'tamborilava': 1, 'tampa': 1, 'tamanho': 2, 'dobrava': 2, 'demasiado': 1, 'chamassem': 2, 'acostumando': 2, 'observou': 3, 'casos': 4, 'actos': 4, 'cartas': 9, 'empregue': 1, 'assentiram': 1, 'applaudiu': 1, 'primeiros': 12, 'politicos': 1, 'pio': 3, 'voltando': 5, 'entendi': 3, 'applauso': 1, 'bochecha': 1, 'sacudindo': 1, 'corrigiu': 2, 'festejar': 1, 'conheci': 2, 'semente': 1, 'lançada': 1, 'acostumar': 1, 'ouvidos': 4, 'accentuou': 1, 'ligado': 3, 'deixou': 9, 'quieta': 1, 'pedem': 1, 'rematemos': 1, 'ordenação': 1, 'assumpto': 3, 'alheio': 1, 'esquecido': 3, 'propria': 12, 'deslumbrava': 1, 'dotado': 1, 'defeitos': 2, 'excelso': 1, 'comia': 2, 'estimava': 2, 'fino': 2, 'seriam': 7, 'descrevendo': 1, 'futuro': 1, 'anuo': 1, 'marchetado': 1, 'xxxvi': 1, 'aventura': 2, 'correndo': 1, 'agarrar': 2, 'queriam': 8, 'correr': 6, 'vagarosamente': 1, 'sentada': 1, 'almofada': 1, 'cosendo': 1, 'olhou': 10, 'furto': 2, 'preferes': 1, 'phraseologia': 1, 'encravada': 1, 'agulha': 1, 'opposto': 1, 'fugiram': 1, 'perguntei': 9, 'cuido': 5, 'provocado': 1, 'recuou': 2, 'ficaram': 6, 'caidos': 1, 'directo': 1, 'obedeceria': 1, 'osculo': 2, 'respeita': 1, 'bastaria': 3, 'esquerda': 4, 'abraçará': 1, 'vedes': 1, 'chronologia': 1, 'conhecesse': 1, 'attitudes': 1, 'continuaria': 1, 'tirou': 3, 'xxxvii': 1, 'eslava': 1, 'esperando': 4, 'motivo': 3, 'falara': 2, 'apoiando': 1, 'feias': 1, 'reflectiu': 2, 'comprimentar': 2, 'meia': 9, 'troça': 2, 'puxar': 2, 'imitava': 1, 'ensinassem': 1, 'anecdotas': 1, 'violação': 1, 'romanos': 1, 'artinha': 1, 'pereira': 2, 'patricios': 1, 'poncio': 1, 'movimentação': 1, 'justamente': 9, 'ameacei': 1, 'consciência': 1, 'recuar': 2, 'collocou': 1, 'pés': 8, 'fugiu': 1, 'obrigou': 2, 'busto': 2, 'cançou': 1, 'caida': 1, 'inutilisava': 1, 'lodos': 1, 'conhecendo': 1, 'estender': 1, 'suppõe': 2, 'accordo': 4, 'resistia': 1, 'aproveitaria': 1, 'ataque': 1, 'perdiamos': 1, 'cautela': 2, 'necessaria': 2, 'iniciou': 1, 'movimento': 3, 'relativamente': 2, 'indo': 6, 'desencontro': 1, 'ousasse': 1, 'bater': 3, 'apparentemente': 1, 'lance': 5, 'considerai': 1, 'aviso': 1, 'lutavamos': 1, 'ferrolho': 1, 'corredor': 4, 'soltar': 1, 'recusar': 2, 'xxxviii': 1, 'inclinada': 1, 'ó': 98, 'exclamou': 5, 'dominava': 3, 'metteu': 2, 'situação': 6, 'atava': 1, 'ingenuidade': 1, 'batia': 4, 'allegou': 1, 'apertou': 3, 'ouvira': 7, 'opinou': 3, 'colligindo': 1, 'petrechos': 1, 'enfiou': 3, 'bradando': 1, 'xxxix': 1, 'minimas': 1, 'congratulações': 1, 'chega': 2, 'dignificados': 1, 'louvores': 5, 'tributo': 1, 'estado': 4, 'inclinação': 1, 'tocado': 2, 'parabém': 1, 'flora': 1, 'traz': 2, 'intimas': 1, 'finas': 4, 'estimo': 1, 'goste': 1, 'voce': 2, 'vende': 1, 'respondendo': 2, 'promptamente': 1, 'vestidinho': 1, 'familiaridade': 1, 'instante': 6, 'beijar': 3, 'desforrar': 1, 'honra': 1, 'paternal': 1, 'augustissimo': 1, 'confirmou': 4, 'accrescentou': 6, 'cardeal': 1, 'mastai': 1, 'evidentemente': 2, 'fôra': 2, 'talhado': 1, 'tiára': 1, 'vocação': 18, 'ecclesiastico': 1, 'comtanto': 2, 'sacerdote': 1, 'falo': 2, 'sincera': 2, 'lettras': 6, 'volta': 9, 'profissão': 1, 'liberal': 1, 'serve': 1, 'moço': 9, 'nasci': 2, 'coadjutor': 1, 'tomei': 3, 'estudos': 3, 'acontecia': 2, 'mudava': 1, 'estudado': 1, 'materias': 4, 'ensinadas': 1, 'naquellas': 2, 'brinquedos': 1, 'adorava': 1, 'reitor': 2, 'contara': 1, 'nascimento': 1, 'cosida': 1, 'anciosos': 1, 'escutar': 2, 'decorou': 2, 'ficassemos': 1, 'dado': 6, 'atravessar': 2, 'claro': 12, 'impulsos': 3, 'seguir': 1, 'visinha': 1, 'terceiro': 7, 'importou': 1, 'estacou': 1, 'signal': 10, 'dedo': 2, 'lampião': 1, 'riu': 3, 'sympathia': 3, 'ouvissemos': 1, 'entendí': 1, 'escrava': 1, 'intimou': 1, 'agarrado': 1, 'xl': 1, 'reflecti': 3, 'conheceis': 1, 'reproduzindo': 1, 'companheira': 3, 'timida': 1, 'engolir': 1, 'campanhas': 1, 'lido': 4, 'tacito': 1, 'eguas': 1, 'iberas': 1, 'concebiam': 1, 'entendeu': 3, 'crendice': 1, 'egua': 1, 'brisa': 1, 'metaphoras': 1, 'fantasia': 1, 'amores': 4, 'xli': 1, 'voltarete': 1, 'dando': 4, 'acompanhara': 1, 'investindo': 1, 'disfarças': 1, 'estás': 3, 'tentei': 5, 'permittiu': 1, 'adiar': 2, 'volto': 1, 'sabbados': 1, 'ordenares': 1, 'vens': 1, 'morar': 2, 'enxuguei': 3, 'negou': 3, 'acostumaria': 1, 'acabaria': 1, 'gostando': 4, 'estimei': 2, 'unica': 6, 'desviava': 1, 'suspeitas': 2, 'quantas': 3, 'intenções': 1, 'viciosas': 1, 'phrase': 4, 'innocente': 1, 'involuntaria': 1, 'desviar': 1, 'chamado': 1, 'contradicções': 1, 'candida': 4, 'anterior': 3, 'intuição': 1, 'deduzir': 1, 'concluiria': 1, 'repentina': 2, 'opposição': 1, 'andasse': 2, 'segredinhos': 1, 'imposição': 1, 'animando': 1, 'dahi': 5, 'discutira': 1, 'confessei': 1, 'gostavas': 2, 'lembras': 2, 'pedias': 1, 'seminaristas': 3, 'rias': 1, 'repetindo': 2, 'filho': 34, 'submisso': 1, 'gravemente': 1, 'longamente': 2, 'affirmou': 2, 'pagamento': 2, 'salvando': 1, 'tua': 5, 'mentir': 3, 'fazem': 6, 'deixaria': 2, 'castigada': 1, 'conhece': 1, 'vive': 1, 'tao': 2, 'feliz': 2, 'deitei': 3, 'emendou': 2, 'fingir': 1, 'molleza': 1, 'obedecesse': 2, 'ditas': 2, 'saia': 5, 'velada': 1, 'recuava': 1, 'dispensasse': 1, 'num': 1, 'irás': 1, 'saibas': 1, 'fala': 2, 'ti': 3, 'caminhou': 2, 'saimos': 2, 'collo': 1, 'proporção': 1, 'approximava': 1, 'quizera': 7, 'valesse': 1, 'xlii': 1, 'amigas': 4, 'paula': 1, 'companheiras': 1, 'desessete': 1, 'commerciante': 2, 'objectos': 2, 'lenço': 3, 'atado': 1, 'excesso': 1, 'accendesse': 1, 'desatasse': 1, 'timidamente': 1, 'sós': 3, 'accrescentando': 1, 'passara': 1, 'déra': 1, 'entrevista': 1, 'fariamos': 2, 'respirava': 2, 'prestes': 1, 'estalar': 1, 'succedeu': 3, 'segurança': 1, 'precisava': 4, 'caimos': 1, 'fitava': 4, 'roido': 1, 'moscas': 1, 'sacudi': 3, 'passára': 1, 'attenuando': 1, 'chames': 1, 'receiava': 1, 'morressem': 2, 'arrependia': 1, 'falado': 4, 'examinando': 1, 'ouvido': 3, 'reputava': 1, 'xliii': 1, 'cessando': 1, 'pergunta': 5, 'atinar': 1, 'ressaca': 4, 'mexiam': 1, 'cogitar': 1, 'viriam': 2, 'escura': 2, 'quartel': 2, 'barbonos': 1, 'bellas': 5, 'instituições': 1, 'sociaes': 1, 'envolviam': 1, 'deixassem': 1, 'crescer': 4, 'erro': 4, 'diminuir': 2, 'pancada': 1, 'prender': 2, 'desculpe': 1, 'botar': 2, 'rodella': 1, 'limão': 1, 'atou': 3, 'despedir': 1, 'detivemos': 1, 'sentados': 2, 'borda': 2, 'facto': 1, 'receioso': 2, 'razões': 4, 'cie': 1, 'narizes': 1, 'mettera': 1, 'lembrassem': 1, 'xliv': 1, 'obliquo': 1, 'levantar': 2, 'mato': 1, 'vier': 2, 'risinho': 1, 'descorado': 1, 'taquara': 1, 'escreveu': 2, 'extranho': 2, 'atinava': 2, 'acudisse': 1, 'injuria': 3, 'escrevesse': 2, 'lembrava': 4, 'solidão': 1, 'andorinhas': 5, 'passaram': 1, 'lados': 3, 'morro': 1, 'tropel': 1, 'chilrear': 1, 'passarinhos': 1, 'espiava': 2, 'repercutia': 1, 'secreta': 3, 'lavada': 1, 'arregalar': 1, 'roxo': 1, 'pensando': 8, 'conego': 2, 'primeiramente': 1, 'mordendo': 2, 'virão': 1, 'balão': 1, 'babados': 1, 'nesse': 8, 'carmo': 1, 'ouça': 1, 'faceira': 1, 'morou': 1, 'tornando': 2, 'capa': 1, 'romantico': 1, 'duello': 1, 'contaria': 2, 'botes': 1, 'promptidão': 1, 'furor': 1, 'golpe': 1, 'ouvirá': 1, 'reverendíssima': 1, 'acudido': 1, 'penitencia': 1, 'esperava': 3, 'chegasse': 2, 'ouviria': 1, 'escreveria': 1, 'case': 6, 'descair': 1, 'esperar': 7, 'leva': 1, 'baptisar': 1, 'xlv': 1, 'abane': 2, 'tédio': 1, 'fio': 3, 'torne': 1, 'abra': 1, 'veracidade': 1, 'mistura': 1, 'casamento': 4, 'separação': 4, 'produzia': 1, 'brincando': 1, 'xlvi': 1, 'pazes': 1, 'negociações': 1, 'partiram': 1, 'estivesse': 11, 'abaixou': 1, 'posição': 2, 'ponta': 4, 'desappareceu': 2, 'descargo': 1, 'rezas': 1, 'certificar': 1, 'realidade': 2, 'apertar': 5, 'cintura': 1, 'culpas': 1, 'pediamos': 1, 'reciprocamente': 1, 'allegava': 1, 'abatimento': 1, 'chorão': 1, 'padecimentos': 2, 'xlvii': 1, 'bolir': 1, 'explicação': 3, 'reconhecer': 2, 'dessas': 7, 'creadas': 1, 'pressa': 1, 'visitas': 5, 'cumplicidade': 1, 'peccado': 6, 'eguala': 1, 'condição': 1, 'contando': 5, 'cochilando': 1, 'creada': 1, 'sommando': 2, 'começando': 1, 'sommar': 1, 'xlviii': 1, 'juramento': 5, 'exclamei': 1, 'havido': 2, 'espantou': 1, 'somos': 1, 'passam': 1, 'jura': 2, 'casar': 6, 'vermelhas': 1, 'jurou': 2, 'cumprirei': 1, 'casando': 2, 'juro': 4, 'casarei': 1, 'atrevo': 1, 'juremos': 3, 'havemos': 2, 'haja': 3, 'comprehendeis': 1, 'eleição': 1, 'affirmação': 2, 'formula': 2, 'vantagem': 4, 'fortalecer': 1, 'investidura': 3, 'jurámos': 2, 'felizes': 2, 'tínhamos': 1, 'temia': 2, 'conta': 7, 'tomo': 2, 'acceitando': 2, 'affligiamos': 1, 'correria': 1, 'confirmaria': 2, 'xlix': 1, 'vela': 2, 'eis': 11, 'tantas': 4, 'tocavamos': 1, 'deviamos': 2, 'abrigado': 1, 'piloto': 1, 'navegam': 1, 'corações': 2, 'mares': 2, 'entramos': 1, 'esposa': 4, 'viriamos': 1, 'escolhi': 2, 'sege': 6, 'haviamos': 4, 'oratorio': 1, 'compensar': 2, 'batina': 1, 'restava': 1, 'intuito': 2, 'secreto': 1, 'inconsciente': 1, 'captara': 1, 'l': 3603, 'chorei': 3, 'sommaria': 1, 'vertidas': 1, 'adão': 1, 'escrupulo': 2, 'exactidão': 1, 'ativer': 1, 'fico': 1, 'longe': 15, 'preparado': 1, 'padeci': 1, 'soffria': 1, 'achára': 2, 'revelasse': 1, 'seguiria': 1, 'cumpridas': 1, 'nega': 1, 'disposição': 3, 'concedeu': 1, 'concessão': 1, 'fazendo': 5, 'credor': 2, 'relevação': 2, 'alcançado': 1, 'apoiou': 1, 'manifesta': 2, 'passa': 2, 'remedio': 6, 'annunciou': 1, 'ida': 2, 'definitiva': 1, 'companheiro': 3, 'tratamento': 2, 'supportar': 1, 'estariam': 3, 'unicamente': 3, 'prendiamos': 1, 'prendendo': 1, 'assidua': 1, 'doía': 1, 'aprazia': 1, 'porção': 3, 'graças': 5, 'dotes': 2, 'anel': 1, 'resolveu': 1, 'durou': 1, 'despedimos': 1, 'aperto': 1, 'sellou': 1, 'conjuncção': 1, 'boccas': 1, 'risque': 1, 'mandamento': 1, 'contracto': 3, 'cartorio': 2, 'malicia': 3, 'perversa': 1, 'casal': 2, 'puro': 4, 'aula': 2, 'eras': 4, 'lii': 1, 'ja': 1, 'adeuses': 1, 'mettendo': 1, 'ficam': 1, 'estimamos': 1, 'disserem': 2, 'victima': 2, 'descobre': 1, 'excedentes': 1, 'grato': 1, 'finezas': 1, 'vindos': 1, 'desunião': 1, 'aduladores': 1, 'papando': 1, 'jantares': 2, 'sufficiente': 2, 'affeição': 3, 'trapinho': 1, 'caderno': 1, 'botão': 1, 'preste': 1, 'valer': 2, 'embrulhado': 1, 'cacho': 1, 'cortados': 1, 'saberia': 1, 'embrulho': 1, 'cachinho': 1, 'abrindo': 2, 'obrigado': 2, 'cuidadosa': 1, 'corta': 1, 'humidos': 1, 'empregou': 2, 'economias': 2, 'branco': 1, 'maldito': 1, 'liii': 1, 'chorasse': 1, 'acodem': 2, 'padecem': 1, 'disfarçava': 1, 'emendando': 1, 'descuidos': 1, 'beijei': 2, 'evitar': 4, 'estariamos': 1, 'achasse': 4, 'iremos': 4, 'março': 2, 'suspensorios': 2, 'formalmente': 1, 'duvidaria': 1, 'approvar': 1, 'podridão': 2, 'allopathia': 3, 'sciencia': 1, 'allopathicas': 1, 'cultores': 1, 'falára': 2, 'proferia': 1, 'aphorismo': 1, 'religião': 2, 'lindo': 1, 'moleques': 1, 'tomavam': 1, 'nhõ': 1, 'miquelina': 1, 'rezando': 1, 'insistiu': 1, 'estará': 2, 'liv': 1, 'panegyrico': 2, 'componha': 1, 'abreviado': 1, 'sarna': 1, 'pega': 1, 'despega': 1, 'junqueira': 1, 'cujo': 3, 'frade': 1, 'còro': 1, 'continuando': 2, 'procurar': 1, 'cantar': 3, 'cocegas': 2, 'prosa': 1, 'infinidade': 1, 'sermão': 1, 'vigairaria': 1, 'seminarista': 2, 'baste': 1, 'elogiado': 1, 'alcançou': 2, 'licença': 5, 'chefe': 1, 'secção': 1, 'casára': 1, 'distribuindo': 1, 'precisasse': 1, 'prompta': 1, 'conversamos': 1, 'incidentes': 1, 'palhada': 1, 'rimos': 1, 'suspiramos': 1, 'vivemos': 3, 'sombra': 6, 'perdera': 2, 'voltaram': 1, 'tomaram': 1, 'vigairarias': 1, 'fitando': 1, 'murchos': 1, 'mover': 2, 'lembrou': 5, 'pesquiza': 1, 'folheto': 1, 'manchado': 1, 'dedicatoria': 1, 'manuscripta': 1, 'penultimo': 1, 'resta': 1, 'visse': 5, 'folhear': 2, 'intervallo': 1, 'morrer': 4, 'amizades': 2, 'estreitas': 1, 'phrases': 2, 'achavam': 1, 'echo': 1, 'concordou': 6, 'remontar': 1, 'acontecimentos': 2, 'vêm': 2, 'lei': 2, 'recolhendo': 1, 'agradado': 1, 'lv': 1, 'dita': 1, 'vasto': 2, 'folhas': 5, 'lembraram': 1, 'soneto': 4, 'ides': 1, 'flòr': 9, 'estando': 4, 'exclamação': 1, 'notar': 4, 'musa': 1, 'longa': 5, 'rima': 1, 'poema': 1, 'envolvido': 1, 'tratei': 2, 'sente': 1, 'competir': 2, 'monge': 1, 'decorei': 1, 'conceito': 1, 'coubesse': 1, 'metaphora': 2, 'aguardei': 1, 'recitando': 1, 'atinai': 1, 'sonetos': 3, 'gabados': 1, 'concluiam': 1, 'desses': 3, 'capitaes': 1, 'forjar': 1, 'considerando': 1, 'saindo': 6, 'chronologicamente': 1, 'treze': 2, 'imaginei': 2, 'chaves': 3, 'fundidas': 1, 'determinei': 1, 'compôr': 1, 'victoria': 1, 'ganha': 1, 'custa': 4, 'alevantado': 1, 'mysteriosa': 2, 'recitei': 2, 'doze': 1, 'pugna': 1, 'batalha': 2, 'occorreu': 1, 'lula': 1, 'flor': 2, 'caber': 2, 'gastei': 1, 'acceitei': 5, 'banho': 1, 'evoquei': 1, 'notei': 2, 'impetos': 1, 'cama': 5, 'tinta': 2, 'alterar': 2, 'transposição': 1, 'trouxesse': 1, 'exercendo': 1, 'ganhar': 2, 'novas': 4, 'luzindo': 1, 'rimas': 1, 'daria': 8, 'consoantes': 1, 'sentidos': 1, 'trabalhei': 1, 'escrevi': 5, 'paginas': 5, 'compondo': 1, 'achando': 2, 'consola': 1, 'existem': 1, 'odes': 1, 'desoccupado': 1, 'encher': 1, 'lvi': 1, 'citações': 1, 'perfis': 1, 'irmãos': 2, 'descoberto': 1, 'especifico': 1, 'febre': 5, 'senador': 1, 'frias': 1, 'juventude': 1, 'lograva': 1, 'encanto': 2, 'folha': 1, 'lendo': 4, 'acostumada': 1, 'ezequiel': 29, 'souza': 1, 'acostumado': 2, 'apertavam': 1, 'deixavam': 3, 'delgados': 1, 'pousar': 1, 'obstaculo': 1, 'sorriso': 4, 'folgado': 1, 'meditava': 1, 'recordava': 1, 'intimidade': 6, 'frequentemente': 1, 'explicações': 4, 'repetições': 1, 'faculdade': 1, 'prejudicasse': 1, 'trez': 4, 'advogado': 4, 'aparentado': 1, 'correspondente': 3, 'fortes': 3, 'sentimentos': 3, 'escobar': 61, 'cheias': 1, 'caricias': 2, 'bondade': 1, 'seduzido': 1, 'entrado': 3, 'modos': 3, 'fugitivos': 1, 'cessavam': 1, 'fechadas': 1, 'poucas': 4, 'semelhança': 2, 'conventos': 1, 'capellas': 1, 'alpendres': 1, 'paços': 1, 'tolhia': 1, 'portas': 4, 'lvii': 1, 'trouxeram': 2, 'ache': 1, 'honestos': 1, 'casta': 1, 'torpe': 1, 'finado': 2, 'podeis': 2, 'metto': 1, 'linhas': 2, 'repouso': 1, 'sirva': 1, 'examina': 1, 'proporções': 1, 'robusto': 2, 'verás': 1, 'esperteza': 1, 'aches': 1, 'cru': 1, 'lviii': 1, 'porquanto': 1, 'ligas': 3, 'francezas': 1, 'commentando': 1, 'moças': 5, 'branqueavam': 1, 'chegámos': 2, 'arranhado': 1, 'presteza': 1, 'desejasse': 1, 'adivinhei': 1, 'esticadas': 1, 'haveria': 5, 'levasse': 7, 'esgarçando': 1, 'diffusas': 1, 'certeza': 3, 'batinas': 1, 'quéda': 1, 'encontrara': 1, 'relance': 1, 'sonhei': 2, 'multidão': 1, 'abominaveis': 1, 'roda': 2, 'ageis': 1, 'busquei': 2, 'esconjuros': 1, 'dormi': 3, 'circulo': 1, 'trepadas': 4, 'choviam': 1, 'interromper': 3, 'escuro': 2, 'pegava': 2, 'unia': 1, 'manha': 1, 'perdesse': 1, 'sabios': 1, 'adivinhai': 1, 'rejeitar': 2, 'recorri': 1, 'tratado': 1, 'visões': 2, 'feminis': 1, 'avante': 1, 'consideradas': 1, 'encarnações': 1, 'temperar': 1, 'combates': 1, 'asperos': 1, 'evocava': 3, 'lix': 1, 'convivas': 1, 'reminiscências': 1, 'descançam': 1, 'arrenegar': 2, 'conviva': 1, 'comquanto': 4, 'fraca': 1, 'exactamente': 4, 'vivido': 1, 'raras': 1, 'passe': 2, 'eternos': 1, 'moveis': 1, 'grava': 1, 'continuidade': 1, 'invejo': 1, 'esqueceram': 1, 'atino': 1, 'amarellas': 2, 'execro': 1, 'olvido': 2, 'emenda': 1, 'leio': 1, 'afflijo': 1, 'chegando': 4, 'cerrar': 1, 'evocar': 1, 'egrejas': 1, 'apparecem': 1, 'generaes': 1, 'sacam': 1, 'espadas': 1, 'ficado': 1, 'clarins': 1, 'soltam': 1, 'notas': 1, 'dormiam': 2, 'preencho': 1, 'lacunas': 1, 'preencher': 1, 'lx': 1, 'querido': 4, 'viste': 3, 'vários': 1, 'prestavas': 1, 'presta': 2, 'par': 3, 'chinellas': 2, 'aroma': 2, 'gastas': 1, 'deixam': 1, 'erguer': 1, 'descalçava': 1, 'contacto': 1, 'assobio': 1, 'cocadas': 2, 'curtido': 2, 'jarretei': 1, 'ingenuamente': 1, 'accordasse': 1, 'aconteça': 1, 'profissionaes': 1, 'poupar': 1, 'editor': 1, 'despeza': 1, 'vès': 1, 'puz': 2, 'pregões': 1, 'opusculos': 1, 'encerrem': 1, 'lxi': 1, 'vacca': 3, 'sairem': 1, 'duros': 1, 'embargo': 2, 'conforto': 1, 'padres': 2, 'trazidas': 1, 'pintou': 1, 'tristeza': 3, 'approvasse': 1, 'accrescentasse': 1, 'nessas': 1, 'enternecia': 1, 'excellentissima': 1, 'commovido': 1, 'choro': 2, 'galhofa': 1, 'furtivamente': 1, 'saida': 1, '1859': 2, 'demos': 1, 'vale': 12, 'ungido': 2, 'oleos': 4, 'fulguraram': 1, 'intensamente': 1, 'encheram': 2, 'palpebras': 2, 'cairam': 2, 'embebidos': 1, 'pateo': 1, 'gemia': 1, 'caminhando': 1, 'passarem': 1, 'deferencias': 1, 'dará': 4, 'fizer': 1, 'demorando': 1, 'irá': 6, 'fulguração': 1, 'movimentos': 3, 'errava': 1, 'lente': 1, 'theologia': 1, 'explicando': 1, 'escapavam': 1, 'escrevia': 1, 'gostei': 4, 'lentes': 1, 'succeder': 1, 'cederá': 1, 'haverá': 3, 'paciencia': 2, 'censuras': 1, 'docilidade': 1, 'apparente': 1, 'elogio': 1, 'portado': 1, '1860': 1, 'combinar': 1, 'ausencia': 4, 'avisar': 1, 'tossesinha': 1, 'preparando': 1, 'deve': 4, 'doente': 3, 'desconfio': 1, 'anda': 5, 'cae': 1, 'tosse': 1, 'saio': 2, 'cuidaremos': 1, 'embarque': 1, 'abril': 1, 'deixo': 4, 'pigarrear': 1, 'lxii': 1, 'transferir': 1, 'equivalia': 1, 'unico': 3, 'repulsa': 1, 'improvavel': 1, 'comprehendi': 1, 'andado': 1, 'peralta': 7, 'frio': 2, 'chorava': 1, 'exageração': 2, 'humano': 1, 'excessivas': 1, 'entendermos': 1, 'chegaremos': 2, 'pancadas': 1, 'esqueças': 1, 'explicasse': 2, 'alegria': 10, 'cruel': 3, 'repetir': 2, 'pensara': 1, 'intervenção': 2, 'noção': 1, 'peraltas': 3, 'vária': 1, 'idade': 1, 'passeadores': 2, 'olhavam': 3, 'olhassem': 1, 'separados': 1, 'trocariam': 2, 'sabes': 9, 'escusado': 1, 'acharás': 1, 'comprehenderás': 1, 'chegar': 5, 'naquelles': 4, 'logica': 2, 'emendados': 1, 'truncado': 3, 'cegava': 1, 'concluía': 1, 'gerações': 1, 'inquirir': 1, 'peça': 2, 'mande': 3, 'lxiii': 1, 'metades': 2, 'alongar': 1, 'porei': 1, 'nasceu': 2, 'formem': 1, 'dona': 4, 'culpa': 4, 'vosso': 1, 'perturbava': 1, 'recommendára': 1, 'cumpri': 1, 'tenente': 1, 'destinos': 1, 'espiar': 2, 'conversava': 3, 'avancei': 1, 'enxugando': 1, 'mirando': 5, 'lista': 1, 'premios': 1, 'saira': 1, 'symetria': 1, 'algarismos': 2, 'andára': 1, 'sortes': 2, 'destas': 2, 'relancei': 1, 'resmunguei': 1, 'accordei': 2, 'acabas': 1, 'esforços': 2, 'dormia': 2, 'nuncas': 1, 'poderás': 1, 'energia': 1, 'obstinação': 1, 'empreguei': 1, 'fechar': 5, 'somno': 3, 'nadas': 1, 'lxiv': 1, 'relendo': 1, 'banal': 2, 'disposições': 1, 'reproducção': 2, 'ligar': 1, 'tentasse': 1, 'continua': 1, 'provisoriamente': 1, 'concluir': 3, 'janella': 9, 'indagar': 4, 'hão': 8, 'tenues': 1, 'esgarçam': 1, 'continuam': 2, 'deliciosamente': 1, 'morros': 1, 'pallejavam': 1, 'luar': 1, 'morria': 4, 'pertencem': 1, 'moravam': 2, 'ilha': 2, 'luciano': 1, 'mudaram': 1, 'modernos': 1, 'moram': 2, 'cerebro': 1, 'poderiam': 1, 'ilhas': 2, 'objecto': 3, 'rivalidade': 1, 'allusão': 2, 'amo': 2, 'peço': 2, 'filhos': 1, 'quieto': 1, 'lxv': 1, 'alternando': 2, 'gostavam': 1, 'semanas': 3, 'penas': 1, 'direito': 3, 'segredo': 6, 'obedeci': 1, 'aconselhou': 2, 'queira': 2, 'mostrava': 2, 'lucidez': 1, 'citar': 1, 'exemplos': 1, 'omissão': 1, 'quarta': 1, 'vinda': 1, 'doia': 1, 'mães': 1, 'inventa': 1, 'cançar': 1, 'duvida': 1, 'mostrára': 1, 'suspeitavam': 1, 'tivera': 2, 'tristes': 3, 'pareça': 2, 'tratariam': 1, 'acabassem': 2, 'dissimular': 2, 'gosar': 1, 'liberdade': 3, 'tranquillos': 1, 'exemplo': 2, 'en': 1, 'abençoar': 1, 'povo': 2, 'casam': 1, 'espero': 1, 'cosmo': 1, 'franziu': 1, 'olhado': 1, 'resistir': 1, 'comi': 2, 'dissimulação': 1, 'concluí': 1, 'lxvi': 1, 'entrando': 2, 'viviam': 3, 'proposito': 5, 'acompanhava': 2, 'assaz': 1, 'existira': 1, 'agudeza': 1, 'andavam': 2, 'acabaram': 2, 'justiça': 3, 'mortos': 2, 'orar': 1, 'pensou': 1, 'aspirasse': 1, 'dispostas': 1, 'excedem': 1, 'multiplicam': 1, 'precedem': 1, 'azedume': 1, 'vivesse': 1, 'desestimasse': 1, 'calasse': 1, 'resentimentos': 1, 'detestar': 1, 'indagava': 1, 'infringir': 1, 'magia': 1, 'adoecesse': 1, 'pòz': 1, 'servisse': 1, 'aliviasse': 1, 'cuidados': 3, 'perdoou': 1, 'lxvii': 1, 'tiro': 1, 'amanheceu': 2, 'transtornada': 1, 'ordenou': 1, 'mandassem': 1, 'mandem': 2, 'digam': 3, 'cuidaram': 1, 'custando': 1, 'incumbido': 1, 'atordoado': 1, 'recebi': 5, 'alterando': 1, 'cabisbaixo': 1, 'temendo': 2, 'dura': 5, 'suspiros': 1, 'anceio': 1, 'temor': 2, 'apparecia': 3, 'encarava': 1, 'furados': 1, 'aterrava': 1, 'expòr': 1, 'terriveis': 1, 'superlativamente': 1, 'casas': 10, 'voavam': 1, 'corneta': 2, 'tocava': 5, 'municipaes': 1, 'permanentes': 1, 'resoava': 1, 'trombeta': 5, 'juizo': 3, 'interrogar': 1, 'ousar': 1, 'combater': 1, 'segredou': 1, 'articulou': 1, 'traduzida': 1, 'acaba': 1, 'alumiou': 1, 'escuridão': 1, 'remorso': 2, 'luxuria': 1, 'piedade': 2, 'filial': 1, 'desmaiou': 1, 'perspectiva': 1, 'desapparecimento': 1, 'centesimo': 1, 'complicar': 1, 'afflicção': 3, 'pezar': 1, 'angustia': 1, 'nó': 1, 'enxugue': 1, 'mocinho': 3, 'ficasse': 3, 'superlativo': 2, 'achares': 1, 'emende': 1, 'longuissimas': 1, 'subi': 5, 'tremulo': 2, 'debruçado': 1, 'ternas': 1, 'apertava': 1, 'ardiam': 1, 'consumida': 1, 'volcão': 1, 'suspeitou': 1, 'causas': 2, 'velleidade': 1, 'usei': 1, 'perdoasse': 1, 'salvasse': 1, 'rezaria': 1, 'perdoa': 2, 'crise': 3, 'paguei': 1, 'almas': 1, 'candidas': 1, 'verdadeiras': 2, 'moeda': 1, 'devedor': 2, 'lxviii': 1, 'adiemos': 1, 'animo': 3, 'confessarei': 1, 'importar': 1, 'montaigne': 1, 'ne': 1, 'sont': 1, 'pas': 1, 'mes': 2, 'gestes': 1, 'mon': 2, 'lembrando': 3, 'convindo': 1, 'construção': 1, 'reconstrucção': 1, 'transferida': 1, 'perderás': 1, 'possiveis': 1, 'peccados': 2, 'nasce': 1, 'alliados': 2, 'matrimonio': 1, 'compensarem': 1, 'conjuges': 1, 'guia': 1, 'praticado': 1, 'virtude': 2, 'commettido': 1, 'isento': 1, 'simultanea': 1, 'portador': 2, 'resplendor': 1, 'fundamentar': 1, 'dòr': 2, 'desejar': 2, 'estourasse': 1, 'morresse': 1, 'perdi': 2, 'bengala': 2, 'cego': 1, 'voilà': 1, 'lxix': 1, 'exprimem': 1, 'essencia': 2, 'devoção': 1, 'principiou': 1, 'lento': 1, 'desviasse': 1, 'agradecer': 1, 'restabelecimento': 1, 'renunciar': 1, 'rothschild': 1, 'dividas': 1, 'cortar': 1, 'pagaria': 2, 'agradeci': 2, 'benção': 6, 'officiante': 1, 'solemne': 2, 'estabeleceu': 1, 'confessionario': 1, 'authentico': 1, 'instrumentos': 1, 'contas': 1, 'incorrigivel': 1, 'receiei': 1, 'confessor': 1, 'chego': 3, 'lxx': 1, 'sedas': 1, 'feios': 1, 'direcção': 1, 'saudações': 1, 'sinhásinha': 3, 'viemos': 2, 'gurgel': 6, 'propensão': 1, 'engrossar': 1, 'almoçar': 1, 'feições': 3, 'tiram': 1, 'viuvo': 1, 'recusasse': 1, 'descançasse': 1, 'quis': 1, 'rocommendações': 1, 'largo': 4, 'lxxi': 1, 'mentido': 1, 'voltára': 2, 'mudando': 1, 'acontecido': 1, 'visitára': 1, 'relações': 7, 'aproveitou': 2, 'gostaram': 1, 'vira': 3, 'expansivo': 1, 'jantasse': 1, 'janta': 2, 'interveiu': 2, 'rápidos': 1, 'franca': 2, 'definiu': 1, 'mantenho': 1, 'rapada': 1, 'pelle': 1, 'alva': 1, 'risca': 1, 'sobrancelha': 1, 'altura': 3, 'affrontar': 1, 'interessante': 1, 'curvo': 1, 'séstro': 1, 'sacudir': 1, 'hombro': 1, 'agradassem': 1, 'defeito': 1, 'importante': 3, 'resalva': 1, 'descobrir': 3, 'esperámos': 1, 'passagem': 3, 'armazem': 1, 'demorar': 2, 'olharia': 1, 'adivinham': 1, 'espreitara': 1, 'despedidas': 1, 'rasgadas': 1, 'merecia': 1, 'lxxii': 1, 'reforma': 1, 'annuncia': 1, 'peripecias': 1, 'panno': 2, 'espectadores': 1, 'porventura': 1, 'peças': 1, 'começassem': 1, 'othello': 3, 'mataria': 2, 'desdemona': 2, 'seguintes': 1, 'dados': 1, 'decrescente': 1, 'ficaria': 1, 'scenas': 2, 'iniciaes': 1, 'dinheiro': 5, 'charada': 1, 'periodicos': 1, 'explicariam': 1, 'desfecho': 1, 'amou': 1, 'amei': 1, 'lxxiii': 1, 'destino': 4, 'designa': 1, 'personagens': 2, 'executa': 1, 'correspondentes': 1, 'drama': 1, 'personagem': 1, 'quadro': 3, 'concluia': 1, 'monologo': 1, 'advertir': 1, 'disfarçamente': 1, 'effectivamente': 5, 'publico': 1, 'desatou': 1, 'soou': 2, 'ashaverus': 1, 'gaiato': 1, 'platéa': 1, 'piston': 1, 'estada': 1, 'montava': 1, 'bello': 3, 'redea': 2, 'botas': 1, 'postura': 1, 'relê': 4, 'alvares': 1, 'poesias': 1, 'residia': 1, 'namorada': 1, 'alugara': 1, 'baio': 1, 'cavalleiro': 1, 'dente': 1, 'ciume': 1, 'admirar': 1, 'morava': 2, 'campo': 1, 'raciocinar': 1, 'saí': 6, 'lxxiv': 1, 'disséra': 1, 'visinhança': 1, 'aggravou': 2, 'inconscientemente': 1, 'dispoz': 1, 'parára': 1, 'imaginava': 1, 'saisse': 5, 'assustada': 1, 'tardasse': 1, 'imaginando': 1, 'viram': 1, 'insistisse': 1, 'abotoe': 1, 'lxxv': 1, 'escapei': 4, 'rolava': 2, 'abafava': 1, 'soluços': 1, 'choraria': 1, 'arrependimento': 2, 'pediria': 2, 'viera': 1, 'abalo': 1, 'unhas': 1, 'lxxvi': 1, 'estirado': 2, 'recommendação': 1, 'estaria': 5, 'afflicta': 1, 'ceei': 1, 'examinar': 2, 'doesse': 1, 'simulei': 1, 'zangada': 1, 'preferir': 1, 'resolver': 2, 'defesa': 2, 'reclusão': 1, 'leviana': 1, 'julgasse': 1, 'olhara': 1, 'retirar': 1, 'suspeita': 4, 'dissolvido': 1, 'entro': 2, 'lxxvii': 1, 'dôres': 2, 'espiritualisaram': 1, 'referir': 2, 'lxxviii': 1, 'referi': 5, 'demorasse': 1, 'distrahido': 1, 'distrae': 1, 'disser': 2, 'importo': 1, 'precipitava': 1, 'commercio': 1, 'sussurrei': 1, 'escassa': 2, 'porém': 2, 'cuides': 3, 'pasmou': 1, 'demoradamente': 2, 'repisar': 1, 'escutava': 3, 'enterrado': 2, 'mau': 3, 'protegia': 1, 'calculas': 1, 'confidencia': 1, 'mimoso': 1, 'contado': 4, 'voltámos': 2, 'louvava': 1, 'adequada': 2, 'insinuei': 1, 'conveniencia': 1, 'retorqui': 1, 'lxxix': 1, 'pende': 1, 'impressa': 1, 'obrigando': 1, 'obrigava': 2, 'esperei': 3, 'pesquizava': 1, 'presumi': 1, 'toquei': 1, 'delicado': 1, 'attender': 2, 'torna': 2, 'prejuizo': 1, 'humana': 2, 'terrestre': 1, 'prefacio': 1, 'lxxx': 1, 'venhamos': 2, 'praticas': 1, 'fé': 4, 'ignoras': 1, 'vinculo': 2, 'confiou': 2, 'acceita': 1, 'guardada': 1, 'intimo': 1, 'leite': 2, 'alterasse': 1, 'encaminhasse': 1, 'embora': 4, 'luta': 1, 'partidos': 1, 'governo': 1, 'morrera': 1, 'aphorismos': 1, 'franklin': 1, 'quaresma': 2, 'mandasse': 2, 'commercialmente': 1, 'dependia': 1, 'transferencias': 1, 'aggravar': 1, 'taxa': 1, 'familiares': 1, 'serviam': 1, 'endossantes': 1, 'entregar': 1, 'preço': 2, 'capitulos': 1, 'verteu': 1, 'magoa': 1, 'questão': 6, 'opportuno': 1, 'adequado': 1, 'dedicar': 1, 'raciocinio': 1, 'sido': 4, 'conclusão': 4, 'bastando': 1, 'cochilo': 1, 'resolvido': 2, 'velava': 1, 'casado': 2, 'supponho': 1, 'corrente': 1, 'temperada': 1, 'assiduidade': 1, 'incompativel': 1, 'invadir': 1, 'romperia': 1, 'confiado': 1, 'importancia': 1, 'guardasse': 1, 'desobriga': 1, 'contractar': 1, 'has': 5, 'tido': 1, 'conflictos': 1, 'parecidos': 1, 'és': 2, 'haverás': 1, 'buscado': 1, 'identico': 1, 'acabam': 2, 'lenha': 1, 'fogo': 2, 'isaac': 1, 'feixe': 2, 'cutello': 1, 'ordena': 1, 'faças': 1, 'teu': 4, 'temes': 1, 'crescente': 1, 'frescor': 1, 'senha': 1, 'lxxxi': 1, 'descobri': 1, 'trasladar': 1, 'entenderá': 1, 'vaes': 2, 'disseste': 1, 'sancha': 21, 'offereceu': 2, 'dormisse': 1, 'insinuou': 2, 'matei': 1, 'ferro': 1, 'pistola': 1, 'supprido': 1, 'providencia': 1, 'armas': 2, 'fuga': 1, 'bastavam': 1, 'inimigo': 1, 'exerceriam': 1, 'vingança': 2, 'accressimo': 1, 'desnortear': 1, 'matadores': 1, 'correriam': 1, 'chorar': 1, 'onze': 4, 'desalinho': 1, 'caira': 1, 'funebre': 1, 'suicidios': 1, 'anciava': 2, 'raio': 1, 'mandara': 1, 'enfermeira': 2, 'fadiga': 2, 'mocinha': 1, 'fresca': 2, 'conversámos': 1, 'abafado': 1, 'tèm': 1, 'ouviram': 1, 'lxxxii': 1, 'canapé': 2, 'comprehendido': 1, 'insistencia': 2, 'acceitámos': 1, 'alliar': 1, 'debater': 1, 'mulheres': 6, 'aberração': 1, 'naturaes': 2, 'demora': 2, 'brilhavam': 1, 'apertando': 2, 'prestar': 1, 'cabeças': 3, 'juntas': 2, 'lxxxiii': 1, 'mettia': 4, 'sobresalto': 1, 'mysterio': 3, 'lembranças': 2, 'governasse': 1, 'murmurei': 1, 'crescendo': 2, 'fórmas': 2, 'arvorecer': 1, 'pendia': 1, 'parecida': 2, 'concordar': 1, 'aborrece': 1, 'conheceram': 1, 'diziam': 3, 'amizade': 9, 'semelhanças': 3, 'lxxxiv': 1, 'saguão': 1, 'examinei': 1, 'desconfiado': 1, 'cresceu': 1, 'loja': 5, 'grisalho': 1, 'manduca': 12, 'mandei': 5, 'peque': 1, 'excessivo': 1, 'facilidade': 3, 'defuncto': 5, 'ajustam': 1, 'turvação': 2, 'às': 1, 'perderam': 1, 'metal': 1, 'trocarem': 1, 'cinza': 1, 'distingui': 1, 'encostado': 1, 'culpo': 1, 'culpem': 1, 'conjugassem': 1, 'passasse': 1, 'aborrecida': 2, 'melodias': 1, 'apropriada': 1, 'lxxxv': 1, 'confuso': 2, 'alcova': 1, 'espantadas': 1, 'cadaver': 4, 'jazia': 2, 'suspendamos': 2, 'espairecer': 2, 'respira': 1, 'cabra': 1, 'rumina': 1, 'gallinha': 1, 'marisca': 1, 'estrada': 1, 'fumega': 1, 'palmeira': 1, 'investe': 1, 'torre': 1, 'musculos': 1, 'becco': 1, 'empina': 1, 'papagaio': 1, 'chame': 1, 'dezoito': 2, 'dezenove': 1, 'darias': 1, 'escondia': 1, 'dobras': 1, 'existe': 1, 'evidencia': 1, 'vexe': 1, 'padecia': 2, 'estendido': 1, 'apavorado': 1, 'desviei': 2, 'occulta': 1, 'compelliu': 1, 'soluçava': 1, 'esperado': 1, 'atravessei': 1, 'saltei': 1, 'lxxxvi': 1, 'pallido': 1, 'arredei': 1, 'lepida': 1, 'amai': 1, 'lindase': 1, 'trocam': 1, 'lxxxvii': 1, 'grades': 2, 'enterro': 5, 'alugasse': 1, 'conservou': 1, 'saborear': 1, 'estreita': 1, 'cortinas': 1, 'couro': 1, 'corriam': 1, 'cortina': 2, 'oculo': 1, 'escanchado': 1, 'mula': 1, 'segurando': 1, 'chicote': 2, 'grosso': 1, 'lojas': 1, 'abertas': 1, 'atravessavam': 1, 'pernadas': 1, 'impedimento': 1, 'paradas': 1, 'calçada': 2, 'adivinhavam': 1, 'recondita': 1, 'continuámos': 1, 'conhecida': 1, 'vender': 2, 'abriu': 5, 'cocheira': 1, 'obrigaram': 1, 'inutil': 1, 'conservado': 1, 'integral': 1, 'carrancismo': 1, 'exprimia': 1, 'fidelidade': 1, 'museo': 1, 'pentes': 1, 'moedas': 1, 'cobre': 1, 'datadas': 1, '1824': 1, 'alcançava': 1, 'lxxxviii': 1, 'carro': 7, 'acompanhando': 1, 'accessoriamente': 1, 'immediata': 1, 'voltaria': 2, 'sinházinha': 1, 'abri': 2, 'lxxxix': 1, 'perplexa': 1, 'escondido': 2, 'xc': 1, 'receiando': 1, 'conheciamos': 1, 'tivemos': 2, 'breves': 2, 'guerra': 2, 'camisola': 1, 'palmo': 2, 'comendo': 1, 'falassemos': 1, 'ardia': 1, 'jornaes': 5, 'transcrevendo': 1, 'moscovita': 1, 'defendi': 1, 'tocámos': 1, 'propoz': 2, 'trocassemos': 1, 'argumentação': 1, 'terça': 1, 'contendo': 1, 'exposição': 3, 'integridade': 1, 'concluindo': 1, 'russos': 4, 'recorda': 1, 'argumentos': 1, 'seculo': 1, 'colcha': 2, 'polemica': 3, 'repugnancia': 1, 'nojosa': 1, 'accendou': 1, 'dissimulou': 2, 'convicção': 2, 'responderia': 1, 'molestia': 1, 'clientes': 1, 'sobravam': 1, 'compridas': 1, 'desapprenderam': 1, 'choravam': 2, 'escreve': 1, 'mando': 2, 'caixeiro': 1, 'demorará': 1, 'pergunte': 1, 'toma': 2, 'come': 2, 'almoço': 4, 'cancei': 1, 'recebendo': 2, 'contestação': 1, 'affirmava': 2, 'predicção': 2, 'chegarão': 1, 'problema': 2, 'gastou': 1, 'resistiu': 1, 'cedeu': 2, 'faltou': 2, 'alliança': 1, 'considerar': 1, 'estados': 1, 'turquia': 1, 'poupa': 1, 'entrarão': 1, 'rota': 1, 'infecta': 1, 'xci': 1, 'achado': 3, 'feitas': 2, 'gabinete': 3, 'servi': 2, 'allivio': 1, 'esquecerei': 1, 'liquidação': 1, 'premio': 2, 'pagará': 1, 'purgando': 1, 'concluirá': 1, 'gemido': 1, 'xcii': 1, 'aconteceu': 1, 'sentisse': 1, 'melancolia': 1, 'recebia': 1, 'propunha': 1, 'cuja': 1, 'dormiu': 2, 'exigir': 1, 'temperando': 1, 'carnes': 1, 'consolações': 1, 'excellentes': 1, 'padecer': 2, 'diverte': 1, 'nojentos': 1, 'afflictos': 1, 'acena': 1, 'jardineiro': 1, 'affirma': 1, 'terem': 2, 'cheiro': 2, 'estrume': 1, 'xciii': 1, 'collega': 2, 'suppria': 1, 'cerca': 2, 'carecesse': 1, 'aprimorada': 1, 'engasgada': 1, 'invenção': 1, 'tacha': 1, 'mettidiço': 1, 'policiaes': 1, 'escapava': 2, 'curiosidade': 1, 'discordar': 1, 'elogiou': 2, 'distincta': 1, 'vagam': 1, 'ente': 1, 'perguntando': 1, 'pedindo': 2, 'omissas': 1, 'contavamos': 1, 'voltamos': 1, 'horta': 1, 'soccando': 1, 'mostrei': 1, 'differentes': 1, 'reparei': 1, 'apontei': 1, 'nação': 1, 'andam': 2, 'ganhando': 1, 'acostumasse': 1, 'faltar': 3, 'sorrindo': 1, 'caminhámos': 1, 'passámos': 1, 'accordava': 1, 'altas': 1, 'ajusta': 1, 'xciv': 1, 'elogiar': 1, 'arithmeticas': 3, 'holmes': 1, 'sommava': 1, 'multiplicava': 1, 'operações': 1, 'difficeis': 1, 'voltados': 1, 'sussurrava': 1, 'denominações': 1, 'amar': 3, 'conceituosos': 1, 'letras': 2, 'inuteis': 1, 'diverso': 1, 'prestam': 1, 'trapalhices': 1, 'façam': 1, '4': 9, '7': 12, 'admire': 1, 'formam': 3, 'exprime': 1, 'dobre': 1, '11': 1, 'multiplique': 1, 'negativo': 1, '5': 11, 'criado': 1, 'ousava': 1, 'philosophico': 1, 'quaesquer': 1, 'saiba': 1, 'escriptos': 1, 'vento': 4, 'considera': 1, 'variavam': 1, 'gastaria': 2, 'papelinho': 1, 'portanto': 1, 'enthusiasmado': 1, 'mental': 1, 'notaram': 1, 'consente': 1, 'inveja': 1, 'peor': 1, 'castanha': 1, 'doem': 1, 'longas': 1, 'xcv': 1, 'grandeza': 1, 'espiritualidade': 1, 'arrependida': 1, 'desejaria': 1, 'prendia': 2, 'desligar': 1, 'roma': 2, 'absolvição': 1, 'segundos': 1, 'partir': 1, 'amofina': 1, 'neguei': 1, 'juntos': 1, 'confiasse': 1, 'resolvamos': 1, 'gastar': 2, 'camisas': 1, 'pão': 2, 'serei': 3, 'prégando': 1, 'levaremos': 1, 'internuncio': 1, 'objecção': 1, 'oppôr': 1, 'dispensa': 2, 'reflectir': 1, 'levita': 1, 'ternissima': 1, 'dulcissima': 1, 'considere': 1, 'beijando': 1, 'príncipe': 1, 'absolve': 1, 'recommenda': 1, 'amado': 2, 'catholico': 1, 'alliviada': 1, 'geographicamente': 1, 'xcvi': 1, 'expuz': 1, 'italia': 1, 'morta': 2, 'presa': 1, 'adoptar': 1, 'jurasse': 1, 'estarei': 1, 'soltado': 1, 'rindo': 1, 'declarou': 2, 'cumpriria': 1, 'comeram': 1, 'produz': 1, 'ordenar': 1, 'consulte': 1, 'perdendo': 2, 'orphão': 1, 'precisaria': 1, 'citou': 1, 'melhorar': 1, 'quê': 1, 'hoc': 1, 'signo': 1, 'alegra': 1, 'xcvii': 1, 'consultado': 1, 'inexperiencia': 1, 'pagina': 1, 'valerão': 1, 'sacrificios': 1, 'analyse': 2, 'dezesete': 2, 'tiveste': 1, 'deves': 1, 'metade': 4, 'qualidade': 1, 'superlativa': 1, 'acabo': 2, 'recolhimento': 1, 'assomos': 1, 'petulancia': 1, 'mirar': 2, 'xcviii': 1, 'venceu': 2, 'bacharel': 4, 'mudára': 1, 'surdos': 1, 'andaria': 2, 'fineza': 2, 'assistir': 1, 'demissão': 1, 'negociar': 1, 'café': 4, 'trabalhado': 1, 'affagára': 1, 'convidar': 2, 'segundas': 1, 'cumpre': 1, 'tentamens': 1, 'medrosa': 1, 'travou': 1, 'estreitaram': 1, 'respeito': 1, 'avó': 1, 'suspendeu': 1, 'irmã': 1, 'affeições': 1, 'xcix': 1, 'regressei': 1, 'estalou': 1, 'evangelho': 1, 'sintas': 1, 'recebesses': 1, 'olha': 4, 'parecias': 1, 'bigode': 2, 'desfaz': 1, 'c': 3524, 'serás': 6, 'mala': 1, 'tirando': 2, 'carta': 3, 'fada': 2, 'invisivel': 1, 'desceu': 1, 'macia': 1, 'endireitando': 1, 'tronco': 1, 'expulsas': 1, 'feiticeiras': 1, 'universal': 1, 'mereceu': 1, 'diploma': 1, 'cajú': 1, 'visinhos': 1, 'perdoe': 1, 'accentuar': 1, 'confundi': 1, 'expressões': 3, 'menina': 1, 'travêssa': 1, 'pensativos': 1, 'caprichosa': 1, 'fructo': 2, 'sadio': 1, 'adivinhado': 1, 'approva': 1, 'nora': 2, 'tomou': 1, 'ordenado': 1, 'distribue': 1, 'paga': 1, 'rol': 1, 'cuida': 1, 'formosura': 1, 'consultou': 2, 'inclinados': 1, 'commentou': 1, 'confirmaram': 1, 'salva': 1, 'redacção': 1, 'própria': 1, 'ci': 1, 'sejamos': 1, 'pegue': 1, 'ninho': 1, 'chuva': 2, 'descobertas': 1, 'recitou': 2, 'versiculos': 1, 'sujeitas': 1, 'adorno': 1, 'enfeite': 2, 'riçados': 1, 'rendas': 2, 'vasos': 1, 'herdeiras': 1, 'comvosco': 1, 'entoaram': 1, 'desmentiriam': 1, 'hypothese': 4, 'execução': 1, 'visitámos': 1, 'descança': 2, 'farei': 1, 'descripção': 1, 'idoneas': 1, 'escriptura': 1, 'renda': 1, 'jamais': 1, 'repliquei': 1, 'cii': 1, 'relogio': 4, 'vissem': 1, 'pendulo': 1, 'externo': 1, 'mostraria': 1, 'tornavamos': 1, 'relembrar': 2, 'tristezas': 2, 'sairmos': 1, 'espera': 1, 'riamos': 1, 'conspirou': 1, 'festejando': 1, 'marcadas': 1, 'esperávamos': 1, 'impaciente': 1, 'concordava': 1, 'disto': 1, 'arrufámos': 1, 'desejosos': 1, 'imaginar': 1, 'impaciencia': 2, 'descemos': 1, 'casada': 2, 'exteriores': 1, 'pisando': 1, 'ruas': 5, 'inventava': 1, 'passeios': 2, 'confirmasses': 1, 'voltavam': 2, 'casou': 1, 'paixão': 3, 'residem': 1, 'ciii': 1, 'mocetona': 1, 'visitou': 1, 'abraços': 1, 'musicas': 1, 'ponho': 3, 'poupando': 1, 'aves': 2, 'criadas': 1, 'vãos': 1, 'telhado': 1, 'emplumando': 1, 'azas': 4, 'surtindo': 1, 'escutavamos': 1, 'commovidos': 1, 'civ': 1, 'almoços': 1, 'corria': 5, 'processos': 1, 'contribuira': 1, 'estréas': 1, 'admitisse': 1, 'previamente': 1, 'continuavam': 1, 'casadas': 1, 'fossemos': 2, 'gozarmos': 1, 'separavamos': 1, 'andarahy': 3, 'rijos': 1, 'actriz': 1, 'lastimava': 1, 'der': 1, 'fiquem': 1, 'complemento': 1, 'so': 1, 'fòr': 1, 'pagava': 1, 'cv': 1, 'passaro': 1, 'comprasse': 1, 'passavamos': 2, 'montanhas': 1, 'amador': 1, 'attenta': 1, 'cochillasse': 1, 'cumpriu': 2, 'dansar': 1, 'nús': 1, 'eguaes': 1, 'bellos': 1, 'entrelaçassem': 1, 'casacas': 1, 'fartavam': 1, 'mangas': 3, 'vexado': 1, 'apoio': 2, 'confiei': 1, 'candidamente': 1, 'chamou': 2, 'sanchinha': 2, 'vestidos': 1, 'escomilha': 1, 'cobria': 1, 'descobria': 1, 'sendal': 1, 'cvi': 1, 'libras': 6, 'guardam': 1, 'sapatinhos': 1, 'fitas': 1, 'pretas': 1, 'cruzavam': 1, 'usou': 1, 'calçar': 1, 'gaveta': 1, 'pedaços': 2, 'puras': 1, 'praia': 6, 'apanhára': 1, 'mimosa': 1, 'dinheiros': 2, 'parcella': 1, 'conversão': 1, 'recurso': 1, 'calculando': 1, 'sobras': 1, 'mensalmente': 1, 'avarenta': 1, 'poude': 2, 'tinir': 1, 'dobro': 1, 'cunhadinha': 2, 'naquillo': 1, 'arranjou': 1, 'apprende': 1, 'pensarias': 1, 'proximas': 1, 'cvii': 1, 'descobriria': 1, 'torno': 2, 'desattenção': 1, 'acima': 1, 'decimo': 1, 'graduação': 1, 'recordem': 1, 'deleitem': 1, 'suspiro': 1, 'miudo': 2, 'anonymo': 1, 'anonyma': 1, 'esquina': 1, 'mettamos': 1, 'sirius': 1, 'astronomia': 1, 'mo': 1, 'calar': 1, 'fugir': 2, 'derrubaria': 1, 'reconstruiria': 1, 'esterlinas': 1, 'revelavam': 1, 'cautelas': 1, 'cviii': 1, 'sède': 1, 'amarello': 1, 'viamos': 1, 'familiarmente': 1, 'ficavamos': 1, 'graciosa': 1, 'faladeira': 1, 'agudezas': 1, 'vinhamos': 1, 'suspirando': 1, 'mentalmente': 1, 'tardou': 2, 'escasso': 1, 'rapagão': 2, 'cantava': 2, 'affligir': 2, 'tolices': 1, 'pensadas': 1, 'deliradas': 1, 'fòro': 1, 'terna': 1, 'davamos': 1, 'olhavamos': 1, 'conversavamos': 1, 'chupando': 1, 'união': 1, 'nutrição': 1, 'constancia': 1, 'positivamente': 1, 'escusai': 1, 'dedicação': 1, 'obsequio': 4, 'virei': 1, 'sigo': 1, 'usavamos': 1, 'recolhi': 1, 'jantava': 1, 'desciamos': 1, 'cri': 1, 'redarguia': 1, 'interrogava': 1, 'apertei': 1, 'assignei': 1, 'afinadas': 1, 'propuz': 1, 'encaminhassemos': 1, 'educarão': 1, 'unida': 1, 'padrinho': 1, 'madrinha': 1, 'desisto': 1, 'discretamente': 1, 'comprehendesse': 1, 'baptisado': 1, 'chacara': 2, 'espaçar': 1, 'cerimonia': 2, 'succumbia': 1, 'aborrecer': 1, 'supprir': 1, 'cix': 1, 'christão': 1, 'considerares': 1, 'imaginarás': 1, 'somnos': 1, 'sustos': 1, 'metteram': 1, 'crises': 1, 'dentes': 1, 'necessario': 2, 'leitores': 1, 'relata': 2, 'cx': 1, 'rasgos': 2, 'vidas': 1, 'completas': 1, 'desmentir': 1, 'vocações': 1, 'vadio': 2, 'instava': 1, 'persuadir': 1, 'visinhas': 2, 'farto': 1, 'apostolos': 1, 'levam': 1, 'opinava': 1, 'implicitamente': 1, 'trouxessem': 1, 'vendia': 2, 'lembrará': 1, 'espantada': 1, 'lembrarão': 1, 'olvidado': 1, 'transcrevesse': 1, 'guardei': 3, 'romance': 1, 'pedacinho': 2, 'teclou': 1, 'desmentisse': 1, 'actor': 1, 'cavallos': 1, 'espada': 4, 'cinta': 1, 'batalhões': 1, 'creancas': 1, 'ancias': 1, 'tropa': 1, 'tocando': 2, 'cornetinha': 1, 'soldadinhos': 1, 'gravuras': 1, 'batalhas': 1, 'mirava': 1, 'soldado': 2, 'engano': 1, 'pintado': 2, 'gravador': 1, 'principaes': 1, 'gato': 7, 'rato': 5, 'atravessado': 1, 'apanhou': 1, 'ratos': 1, 'circumstancia': 3, 'significar': 1, 'totalidade': 1, 'guinchos': 1, 'moviam': 1, 'bati': 1, 'palmas': 1, 'cxi': 1, 'successos': 1, 'pesa': 1, 'repudio': 1, 'parcial': 1, 'exclusões': 1, 'acham': 1, 'desamo': 1, 'perdoei': 1, 'cachorro': 1, 'peores': 1, 'cães': 1, 'latiam': 1, 'procurei': 1, 'procurasse': 1, 'resolvi': 1, 'comprei': 2, 'bolas': 4, 'inseri': 1, 'nellas': 1, 'bulha': 1, 'assobiando': 1, 'estalinhos': 1, 'fiado': 1, 'calou': 1, 'mexendo': 1, 'confiança': 1, 'remetteu': 1, 'cão': 1, 'attribuir': 1, 'perfidia': 1, 'cxii': 1, 'imitações': 2, 'comporia': 1, 'recusaria': 2, 'dessem': 1, 'batalhador': 1, 'gostamos': 1, 'sairá': 1, 'descubro': 1, 'imita': 3, 'geito': 1, 'vezo': 1, 'succede': 1, 'zangava': 1, 'risos': 1, 'estirou': 1, 'collar': 1, 'esculptor': 2, 'transferisse': 1, 'altitude': 2, 'brilharia': 1, 'grupo': 1, 'saem': 1, 'saberiamos': 1, 'cxiii': 1, 'embargos': 2, 'perguntes': 1, 'cioso': 2, 'indifferença': 1, 'correspondencia': 1, 'affectos': 1, 'procuravam': 1, 'confessado': 1, 'bonitas': 1, 'receberia': 1, 'minima': 1, 'estréa': 1, 'camarote': 1, 'saido': 2, 'ficára': 3, 'occorrera': 1, 'incidente': 2, 'jantado': 1, 'falemos': 2, 'aggravára': 1, 'padecimento': 1, 'desconfiar': 1, 'cxiv': 1, 'expliquemos': 2, 'trazem': 1, 'ensinamentos': 1, 'jurado': 1, 'tabellião': 1, 'registra': 1, 'tragicamente': 1, 'aproveitei': 2, 'pontual': 1, 'manter': 1, 'constituição': 1, 'transferindo': 1, 'profundamente': 1, 'compromisso': 1, 'importara': 1, 'mette': 1, 'confundam': 1, 'purgatorio': 2, 'empresta': 1, 'medianas': 1, 'pagam': 1, 'cxv': 1, 'duvidas': 3, 'reforçar': 1, 'chá': 1, 'tomámos': 1, 'cuidasse': 1, 'recusava': 1, 'desfez': 1, 'dissipar': 1, 'impressionado': 1, 'puxa': 1, 'coaxavam': 1, 'tirarem': 1, 'fria': 2, 'arredia': 1, 'mamãesinha': 1, 'passem': 1, 'faltando': 1, 'notado': 1, 'comparativamente': 1, 'quinquagenaria': 1, 'ancianidade': 1, 'sogras': 1, 'recrudescia': 1, 'deliciosa': 1, 'risonha': 1, 'havíamos': 1, 'chegada': 2, 'cxvi': 1, 'apalpei': 2, 'incessantes': 1, 'virtuosa': 1, 'verdadeira': 2, 'travessa': 1, 'separou': 1, 'elogia': 1, 'achacada': 1, 'imagine': 1, 'obrigada': 1, 'explicava': 1, 'interrupção': 1, 'frieza': 1, 'estendi': 1, 'biblico': 1, 'teus': 4, 'biblia': 1, 'cruas': 1, 'apanhara': 1, 'começámos': 1, 'saltou': 1, 'reprehendeu': 1, 'cxvii': 1, 'comprára': 1, 'gana': 1, 'experimentar': 1, 'mortas': 1, 'confundem': 1, 'vivos': 1, 'accendi': 1, 'subido': 1, 'máu': 1, 'alteraram': 1, 'irem': 2, 'cavar': 2, 'more': 1, 'flamengo': 4, 'historiador': 1, 'rei': 3, 'barbaro': 1, 'portuguezes': 1, 'propunham': 1, 'estabelecer': 1, 'deviam': 1, 'zangarem': 1, 'batiam': 2, 'furiosas': 1, 'rochedo': 1, 'viam': 1, 'escriptor': 3, 'duvido': 1, 'adornar': 1, 'ullysses': 1, 'seguramente': 1, 'inimigos': 1, 'esquecia': 2, 'observasse': 1, 'acontecer': 1, 'acharam': 1, 'frequentam': 1, 'opinei': 1, 'succedia': 1, 'cxviii': 1, 'accrescentar': 1, 'castello': 2, 'despegará': 1, 'perca': 1, 'construcções': 1, 'casaes': 1, 'precisavamos': 1, 'adivinhar': 1, 'tirava': 1, 'ergueu': 1, 'convidavam': 1, 'expansões': 1, 'quentes': 1, 'afastassem': 1, 'pararam': 1, 'nenhuns': 1, 'olhára': 1, 'desconhecida': 1, 'transluzisse': 1, 'fugisse': 1, 'repete': 1, 'desafiar': 1, 'nadar': 1, 'jarretar': 1, 'grossos': 1, 'accresce': 1, 'sabiam': 1, 'modestia': 2, 'sancção': 1, 'trabalhavam': 1, 'moderei': 1, 'marcando': 1, 'alternativamente': 1, 'perdição': 1, 'demorei': 1, 'combati': 1, 'sinceramente': 1, 'rejeitei': 2, 'despedida': 1, 'provaria': 1, 'remorsos': 1, 'nascem': 1, 'conciliava': 1, 'méro': 1, 'vaguei': 2, 'capricho': 1, 'cxix': 1, 'descançar': 1, 'cavatina': 1, 'valsa': 1, 'beiramos': 1, 'mudo': 1, 'cxx': 1, 'livre': 1, 'abominações': 1, 'percorri': 1, 'allegações': 2, 'facil': 1, 'consultei': 2, 'photographia': 5, 'tirada': 2, 'sobrecasaca': 1, 'dorso': 1, 'garbo': 1, 'encobria': 1, 'pensamentos': 1, 'espancaram': 1, 'cxxi': 1, 'precipitados': 1, 'soaram': 1, 'golpes': 1, 'escravo': 1, 'sinhô': 2, 'enrolado': 1, 'puderam': 1, 'cxxii': 1, 'sai': 1, 'abatido': 1, 'enfastiada': 1, 'affluencia': 1, 'praça': 1, 'divergindo': 1, 'avaliação': 1, 'passivo': 1, 'elogiavam': 1, 'discutia': 1, 'dignas': 1, 'pesando': 1, 'espalhou': 1, 'conhecidos': 1, 'impedisse': 1, 'tilbury': 1, 'continuada': 1, 'separar': 1, 'promettiam': 1, 'enxugava': 2, 'arrancando': 1, 'cxxiii': 1, 'encommendação': 1, 'desespero': 3, 'consternou': 1, 'amparando': 1, 'consolava': 1, 'confusão': 2, 'apaixonadamente': 1, 'saltassem': 1, 'cessaram': 1, 'retinha': 1, 'fitaram': 1, 'tragar': 1, 'nadador': 1, 'cxxiv': 1, 'convidava': 1, 'alarido': 1, 'atirar': 1, 'cemiterio': 3, 'desatar': 1, 'feretro': 1, 'custou': 2, 'descido': 1, 'cal': 1, 'orelhas': 1, 'sussurro': 1, 'jus': 1, 'metti': 1, 'saquei': 1, 'adivinhassem': 1, 'forcejava': 1, 'geral': 2, 'comprehensão': 2, 'eloquencia': 1, 'cxxv': 1, 'priamo': 2, 'infeliz': 1, 'matou': 1, 'homero': 2, 'obstante': 1, 'narrações': 1, 'exactas': 1, 'compara': 1, 'louvar': 1, 'digas': 1, 'faltam': 1, 'apontada': 1, 'priamos': 1, 'procuram': 1, 'enxugadas': 1, 'appareçam': 1, 'limpas': 1, 'matasse': 1, 'cxxvi': 1, 'rasguei': 1, 'portinhola': 1, 'tentação': 2, 'destruido': 1, 'demonstrou': 1, 'amantissima': 1, 'scismar': 1, 'scismei': 1, 'cattete': 1, 'senhoras': 2, 'iriam': 1, 'pausadas': 1, 'afrouxar': 1, 'arrepiar': 1, 'scismasse': 1, 'comparado': 1, 'desvaneceu': 1, 'illusão': 1, 'ajuntamento': 1, 'barafunda': 1, 'solavancos': 1, 'interrupções': 1, 'raciocinava': 1, 'conclui': 1, 'offuscava': 1, 'desvairar': 1, 'affligiam': 1, 'ponhamos': 1, 'endireitei': 1, 'cxxvii': 1, 'rabeca': 1, 'executava': 1, 'pretextos': 1, 'attendeu': 1, 'consideração': 1, 'levantando': 1, 'chita': 1, 'fechava': 2, 'apontar': 1, 'descobriu': 1, 'grudava': 1, 'face': 1, 'formando': 1, 'escadas': 2, 'inserir': 1, 'compendios': 1, 'maxima': 1, 'esquece': 2, 'devagar': 1, 'barbas': 1, 'tocaria': 1, 'cxxviii': 1, 'punhado': 1, 'saleta': 1, 'sereno': 1, 'suspenderam': 1, 'desastre': 2, 'censurou': 1, 'imprudencia': 1, 'ponderou': 1, 'começassemos': 1, 'concertou': 2, 'pareceria': 1, 'soubessemos': 1, 'dormindo': 1, 'pensára': 1, 'filhinha': 1, 'reparar': 1, 'acabámos': 1, 'rasgado': 1, 'apanhado': 1, 'falso': 1, 'recolher': 1, 'pedacinhos': 1, 'deitados': 1, 'inventariei': 1, 'tinteiro': 1, 'album': 1, 'paizagens': 1, 'paraná': 1, 'empanava': 1, 'bens': 1, 'nomeava': 1, 'escrevera': 1, 'separada': 1, 'andou': 1, 'cxxix': 1, 'leia': 2, 'houver': 1, 'abandone': 1, 'respondo': 1, 'desmentimos': 1, 'encontraremos': 1, 'plantas': 1, 'piante': 1, 'rinovalatte': 1, 'di': 1, 'novelle': 1, 'cxxx': 1, 'serie': 1, 'aconselhados': 1, 'recusei': 1, 'tornariam': 1, 'residir': 1, 'viveriamos': 1, 'socegados': 1, 'tornariamos': 1, 'tona': 1, 'commover': 1, 'seccamente': 1, 'acceitasse': 1, 'precedido': 1, 'occorrido': 1, 'partida': 1, 'seguirá': 1, 'cxxxi': 1, 'banca': 1, 'espressão': 1, 'revirar': 1, 'pareceram': 1, 'exquisitos': 1, 'dariam': 1, 'espantado': 1, 'alheia': 1, 'abanando': 1, 'ama': 1, 'unicos': 1, 'explicado': 1, 'corresse': 1, 'enchesse': 1, 'radicalmente': 1, 'cxxxii': 1, 'debuxo': 3, 'restantes': 1, 'apurando': 1, 'primitivo': 1, 'artista': 1, 'enchendo': 1, 'colorindo': 1, 'pendura': 1, 'aponta': 1, 'coada': 1, 'persianas': 1, 'distinguir': 1, 'abria': 2, 'surgindo': 1, 'sentar': 1, 'embaçada': 1, 'escada': 1, 'creaturinha': 1, 'desarmado': 1, 'differia': 1, 'castigo': 1, 'notará': 1, 'falha': 1, 'temporaes': 1, 'continuos': 1, 'tardava': 1, 'abríamos': 1, 'velas': 1, 'levavam': 1, 'desbaratava': 1, 'postos': 1, 'esperavamos': 1, 'tardia': 1, 'cheiram': 2, 'maré': 1, 'comborço': 1, 'marujo': 1, 'vibrante': 1, 'levei': 2, 'levára': 1, 'ataúde': 1, 'temporaria': 1, 'descostume': 1, 'completando': 1, 'demo': 1, 'aversão': 1, 'encobrir': 1, 'encontradiço': 1, 'passear': 2, 'arrebaldes': 1, 'cxxxiii': 1, 'sexta': 1, 'negrejava': 1, 'educado': 1, 'balladas': 1, 'vindas': 1, 'almanaks': 1, 'batesse': 1, 'lê': 1, 'cxxxiv': 1, 'sacudisse': 1, 'suppondo': 1, 'avoasse': 1, 'encobrisse': 1, 'atra': 1, 'demorarem': 1, 'espertar': 1, 'pharmacia': 1, 'banco': 1, 'cxxxv': 1, 'jantei': 2, 'lera': 1, 'raivas': 1, 'meditação': 1, 'psychologos': 1, 'furtar': 1, 'observação': 1, 'tragedia': 1, 'lenços': 1, 'precisos': 1, 'lençóes': 1, 'mouro': 1, 'iago': 1, 'distilava': 1, 'intervallos': 1, 'levantava': 1, 'encontrar': 1, 'ficavam': 1, 'jazesse': 1, 'subia': 1, 'supplicas': 1, 'amorosas': 1, 'furia': 1, 'applausos': 1, 'freneticos': 1, 'culpada': 1, 'travesseiro': 1, 'intenso': 1, 'consumisse': 1, 'reduzisse': 1, 'pó': 1, 'lançado': 1, 'derradeiros': 1, 'veria': 1, 'fugiam': 1, 'tornaria': 1, 'contemplar': 1, 'serra': 1, 'communs': 1, 'numerosa': 1, 'repetiria': 2, 'veneno': 1, 'dirigida': 1, 'continha': 1, 'lutas': 1, 'cxxxvi': 1, 'chicara': 3, 'dissolver': 1, 'droga': 2, 'leu': 1, 'releu': 1, 'platão': 1, 'narrada': 1, 'occupar': 1, 'coragem': 1, 'precisára': 1, 'intrepidamente': 1, 'males': 1, 'ignorancia': 1, 'mata': 1, 'nobremente': 1, 'termo': 1, 'cocaina': 1, 'encontrado': 1, 'gazetas': 1, 'assentei': 1, 'copeiro': 1, 'mesa': 2, 'despejar': 1, 'substancia': 1, 'mexer': 1, 'saissem': 1, 'beberia': 1, 'descrevo': 1, 'cxxxvii': 1, 'olhasse': 1, 'impulso': 2, 'vã': 1, 'desdiga': 1, 'disposto': 1, 'guela': 1, 'doudamente': 1, 'cxxxviii': 1, 'parecerá': 1, 'mór': 1, 'extensão': 1, 'entendo': 1, 'tuas': 1, 'episodio': 1, 'estupefacção': 1, 'duvidar': 2, 'varios': 1, 'linguagem': 1, 'menores': 1, 'sentado': 1, 'porte': 1, 'redargui': 1, 'fizessemos': 1, 'alludir': 1, 'juntamente': 1, 'ironico': 1, 'escapam': 1, 'capinha': 1, 'plena': 1, 'justificação': 1, 'casualidade': 1, 'explicará': 1, 'acredita': 1, 'cxxxix': 1, 'phantasmagoria': 1, 'cxl': 1, 'perdido': 1, 'aberta': 1, 'regresso': 1, 'demorado': 1, 'espreitando': 1, 'recusa': 1, 'debilidade': 1, 'incerteza': 1, 'paternidade': 2, 'falhou': 1, 'impressões': 1, 'pensado': 1, 'evocára': 1, 'attentando': 1, 'episodios': 1, 'vagos': 1, 'encontros': 1, 'cegueira': 1, 'sósinhos': 1, 'atropello': 1, 'esganei': 1, 'cautelosos': 1, 'desenfiaram': 1, 'ninhos': 1, 'chins': 2, 'classicos': 1, 'falaram': 1, 'cxli': 1, 'pegámos': 1, 'parámos': 1, 'professora': 1, 'ensinando': 1, 'materna': 1, 'escolas': 2, 'regulada': 1, 'começára': 1, 'brevidade': 1, 'embarquei': 1, 'lembravam': 1, 'viagens': 2, 'simular': 1, 'cxlii': 1, 'envelheceu': 1, 'bordo': 1, 'commoviam': 1, 'sé': 1, 'embarcou': 1, 'procura': 1, 'baptista': 1, 'inscripção': 1, 'santas': 1, 'altar': 1, 'terrena': 1, 'finada': 1, 'possuiu': 1, 'importará': 1, 'contesto': 1, 'hesito': 1, 'conheceu': 1, 'prendas': 1, 'insigne': 1, 'assistiu': 1, 'desculpa': 1, 'mandariam': 1, 'esculpir': 1, 'cxliii': 1, 'separaria': 1, 'adiando': 1, 'remessa': 1, 'correio': 1, 'preparava': 1, 'catholicismo': 1, 'agonia': 1, 'abrissemos': 1, 'abrimos': 1, 'azul': 1, 'proferiu': 1, 'cxliv': 1, 'chorem': 1, 'móro': 1, 'reproduza': 1, 'impedi': 1, 'demolissem': 2, 'inspecção': 1, 'aroeira': 1, 'caçamba': 1, 'casuarina': 1, 'deixara': 1, 'pasmava': 1, 'buscando': 1, 'ramagem': 1, 'sussurrar': 1, 'cantiga': 1, 'dessa': 1, 'sonora': 1, 'grunhir': 1, 'concentrada': 1, 'architecto': 1, 'cxlv': 1, 'cartão': 1, 'repousa': 1, 'manso': 1, 'trajava': 1, 'reproduzia': 1, 'verdadeiro': 1, 'luto': 1, 'sotaque': 1, 'diferia': 1, 'interrogatorio': 1, 'dominar': 1, 'resurgindo': 1, 'pensas': 1, 'completasse': 1, 'crendo': 1, 'deixado': 1, 'estendeu': 1, 'bebeu': 1, 'antiguidade': 1, 'egypto': 1, 'arithmetica': 1, 'diabrete': 1, 'descuido': 1, 'verificar': 2, 'regalo': 1, 'caixão': 1, 'ruina': 1, 'collegas': 1, 'consequencias': 1, 'furtivos': 1, 'archeologias': 1, 'atravessou': 1, 'perverso': 1, 'deitou': 1, 'ternos': 1, 'cxlvi': 1, 'immediações': 1, 'universidade': 1, 'levantaram': 1, 'tumulo': 1, 'propheta': 1, 'perfeito': 2, 'grego': 1, 'despesas': 1, 'triplo': 1, 'creação': 1, 'ajuntar': 1, 'cxlvii': 1, 'lacerada': 1, 'livida': 1, 'vivi': 1, 'faltarem': 1, 'consolassem': 1, 'caprichos': 1, 'assistem': 1, 'fartam': 1, 'consultava': 1, 'quadros': 1, 'historicos': 1, 'catalogo': 1, 'cxlviii': 1, 'caprichosas': 1, 'amada': 1, 'mudada': 1, 'concordarás': 1, 'fruta': 1, 'summa': 1, 'extremosos': 1, 'queridos': 1, 'h': 1486, '.': 4647, 'g': 1250, 'r': 6039, 'n': 4412, ',': 6864, '-': 3203, 'd': 3785, 't': 4321, 'z': 483, 's': 7069, 'p': 2709, 'è': 4, '[': 2562, ']': 2562, 'u': 3242, 'b': 1023, 'm': 4549, 'ç': 532, ';': 1088, 'j': 280, 'ã': 802, 'f': 1009, '_': 148, ':': 223, '«': 117, 'ê': 71, '»': 115, '!': 281, \"'\": 60, 'q': 469, 'õ': 40, 'ô': 24, '?': 360, '1': 20, '8': 17, 'y': 58, 'ò': 6, '(': 27, ')': 27, 'w': 2, 'ú': 145, 'í': 16, '*': 16, '2': 8, '0': 32, 'à': 1, '+': 1, '=': 1, 'k': 1, '$': 5}\n"
     ]
    }
   ],
   "source": [
    "arquivo = open('domcasmurro.txt', 'r', encoding='utf8')\n",
    "\n",
    "conteudo = arquivo.read().lower()\n",
    "conteudo = conteudo.split()\n",
    "arquivo.close()\n",
    "\n",
    "for i in range(len(conteudo)):\n",
    "    for caracter in conteudo[i]:\n",
    "        if caracter.isalpha() or caracter.isdigit():\n",
    "            pass\n",
    "        else:\n",
    "            conteudo[i] = str(conteudo[i])\n",
    "            conteudo[i].replace(caracter, ' ')\n",
    "            # conteudo[i] = ''.join(conteudo[i])\n",
    "            conteudo[i] = conteudo[i].split()\n",
    "            \n",
    "            while len(conteudo[i]) > 0:\n",
    "                conteudo += conteudo[i].pop()\n",
    "                # if type(conteudo[i]) == list:\n",
    "                #     conteudo.remove(conteudo[i])\n",
    "\n",
    "dicionario_palavras = {}\n",
    "\n",
    "for item in conteudo:\n",
    "    if type(item) != list:\n",
    "        if item not in dicionario_palavras:\n",
    "            dicionario_palavras.update({item: 1})\n",
    "        else:\n",
    "            dicionario_palavras[item] += 1\n",
    "\n",
    "print(dicionario_palavras)\n",
    "\n"
   ]
  },
  {
   "cell_type": "markdown",
   "metadata": {},
   "source": [
    "# Arquivos CSV\n",
    "Muitos dados interessantes ou importantes estão disponíveis na forma de tabela. A capacidade de manipular planilhas foi determinante no sucesso dos computadores pessoais, dada sua importância para empresas e indivíduos.\n",
    "\n",
    "Aprenderemos a manipular dados utilizando um dos formatos de planilha mais amplamente utilizados na _web_: o formato CSV. Mas antes, como podemos representar tabelas em Python?\n",
    "\n",
    "## Tabelas em Python\n",
    "Conforme já mencionamos, temos módulos prontos para realizar muitas tarefas para nós. Um dos módulos mais populares em Python é o _pandas_, que mesmo não vindo instalado por padrão é provavelmente o módulo mais usado para manipular planilhas. Porém, como este é um curso introdutório, convém entendermos um pouquinho de lógica de como manipular uma tabela para futuramente sermos capazes de trabalhar corretamente com os módulos prontos.\n",
    "\n",
    "Uma das formas mais simples de se representar uma tabela em Python seria através de uma lista de listas. Nossa lista principal seria a tabela como um todo, e cada lista interna seria uma linha da tabela. \n",
    "\n",
    "Para acessar um elemento individual, utilizamos 2 índices: o primeiro indica a lista interna (linha) e o segundo o elemento individual na lista (coluna). Para percorrer a tabela inteira, utilizamos 2 _for_ aninhados: o mais externo fixa uma linha e o mais interno percorre cada elemento daquela linha."
   ]
  },
  {
   "cell_type": "code",
   "execution_count": 53,
   "metadata": {},
   "outputs": [
    {
     "name": "stdout",
     "output_type": "stream",
     "text": [
      "Imprimindo cada elemento individual da tabela:\n",
      "Aluno\n",
      "Nota 1\n",
      "Nota 2\n",
      "Presenças\n",
      "Luke\n",
      "7\n",
      "9\n",
      "15\n",
      "Han\n",
      "4\n",
      "7\n",
      "10\n",
      "Leia\n",
      "9\n",
      "9\n",
      "16\n",
      "Imprimindo cada \"linha\" da tabela:\n",
      "['Aluno', 'Nota 1', 'Nota 2', 'Presenças']\n",
      "['Luke', 7, 9, 15]\n",
      "['Han', 4, 7, 10]\n",
      "['Leia', 9, 9, 16]\n",
      "Imprimindo o elemento na linha 2, coluna 0:\n",
      "Han\n"
     ]
    }
   ],
   "source": [
    "tabela = [['Aluno', 'Nota 1', 'Nota 2', 'Presenças'],\n",
    "          ['Luke', 7, 9, 15],\n",
    "          ['Han', 4, 7, 10],\n",
    "          ['Leia', 9, 9, 16]]\n",
    "          \n",
    "print('Imprimindo cada elemento individual da tabela:')\n",
    "for linha in tabela:\n",
    "    for elemento in linha:\n",
    "        print(elemento)\n",
    "        \n",
    "print('Imprimindo cada \"linha\" da tabela:')\n",
    "for linha in tabela:\n",
    "    print(linha)\n",
    "        \n",
    "print('Imprimindo o elemento na linha 2, coluna 0:')\n",
    "print(tabela[2][0])\n"
   ]
  },
  {
   "cell_type": "markdown",
   "metadata": {},
   "source": [
    "## O formato CSV\n",
    "A sigla CSV significa _Comma-Separated Values_, ou \"valores separados por vírgula\". Este formato é uma forma padrão de representar tabelas usando arquivos de texto simples: cada elemento é separado por uma vírgula, e cada linha é separada por uma quebra de linha. \n",
    "\n",
    "Na prática, nem sempre o padrão é seguido à risca: podemos utilizar outros símbolos para fazer a separação. Um bom motivo é o fato de a vírgula ser utilizada para representar casa decimal em algumas línguas, como a língua portuguesa. O importante é ser coerente: todos os elementos deverão ser separados pelo mesmo símbolo, e todas as linhas deverão ter o mesmo número de elementos.\n",
    "\n",
    "Cole o texto abaixo em um editor de texto puro (como o Bloco de Notas, no Windows) e salve-o com a extensão .csv. \n",
    "\n",
    "```\n",
    "Aluno;Nota 1;Nota 2;Presenças\n",
    "Luke;7;9;15\n",
    "Han;4;7;10\n",
    "Leia;9;9;16\n",
    "```\n",
    "\n",
    "Caso você tenha um editor de planilha instalado, como o Excel, é provável que o ícone representando o arquivo seja o ícone do editor de planilhas, e não de um arquivo de texto. Abra-o com seu editor de planilha e observe como ele interpreta corretamente os dados!\n",
    "\n",
    "Devido ao fato de ser um formato aberto (ou seja, não é necessário pagar por propriedade intelectual para usar) e ser muito fácil de manipular, diversos programas diferentes possuem a opção de importar ou exportar dados em CSV, e diversas bases de dados na _web_ fornecem a opção de baixar os dados neste formato.\n",
    "\n",
    "## O módulo CSV em Python\n",
    "Devido à facilidade de trabalhar com arquivos CSV, com o que vimos sobre arquivos até o momento já conseguimos facilmente escrever um programinha que escreva uma planilha (representada como lista de listas) em um arquivo CSV. Da mesma forma, utilizando as funções que vimos de _strings_, conseguimos abrir um arquivo CSV e adequadamente reconhecer seus elementos (dica: _split_).\n",
    "\n",
    "Porém, como mencionamos antes, o Python possui muita coisa pronta, então não precisamos constantemente reinventar a roda. Existe um módulo chamado _csv_ que já vem instalado com o Python. Ele já faz sozinho o serviço bruto de transformar nossa lista de listas em um texto separado por símbolos e vice-versa.\n",
    "\n",
    "### Escrevendo um CSV\n",
    "Para escrever um CSV utilizando o módulo, precisamos ter nossos dados representados como uma lista de listas. Criaremos (ou abriremos) um arquivo usando o _open_, como já fizemos antes, e utilizaremos um _CSV writer_ - uma estrutura que guardará as regrinhas para escrever nosso CSV. Execute o exemplo abaixo:"
   ]
  },
  {
   "cell_type": "code",
   "execution_count": 2,
   "metadata": {},
   "outputs": [],
   "source": [
    "import csv\n",
    "\n",
    "tabela = [['Aluno', 'Nota 1', 'Nota 2', 'Presenças'],\n",
    "          ['Luke', 7, 9, 15],\n",
    "          ['Han', 4, 7, 10],\n",
    "          ['Leia', 9, 9, 16]]\n",
    "\n",
    "# cria o arquivo CSV\n",
    "arquivo = open('alunos.csv', 'w')\n",
    "\n",
    "# definindo as regras do nosso CSV:\n",
    "# ele será escrito no arquivo apontado pela variável 'arquivo'\n",
    "# seus elementos serão delimitados (delimiter) pelo símbolo ';'\n",
    "# suas linhas serão encerradas (lineterminator) por uma quebra de linha\n",
    "escritor = csv.writer(arquivo, delimiter=';', lineterminator='\\n')\n",
    "\n",
    "# escreve uma lista de listas em formato CSV:\n",
    "escritor.writerows(tabela)\n",
    "\n",
    "# fecha e salva o arquivo\n",
    "arquivo.close()"
   ]
  },
  {
   "cell_type": "markdown",
   "metadata": {},
   "source": [
    "Após executar o programa acima, deve ter surgido um programa _alunos.csv_ na mesma pasta, e seu editor de planilhas provavelmente o reconhece com sucesso. Se você abri-lo com um editor de texto puro, verá os dados separados por **;** igualzinho ao arquivo que criamos manualmente antes.\n",
    "\n",
    "### Lendo um CSV\n",
    "O processo para ler o CSV é semelhante: utilizamos um _CSV reader_, com os mesmos parâmetros utilizados no _CSV writer_. A função _csv.reader_ já retorna para nós uma estrutura iterável (ou seja, que pode ser percorrida com _for_) contendo cada linha já organizada como lista."
   ]
  },
  {
   "cell_type": "code",
   "execution_count": 56,
   "metadata": {},
   "outputs": [
    {
     "name": "stdout",
     "output_type": "stream",
     "text": [
      "['Aluno', 'Nota 1', 'Nota 2', 'Presenças']\n",
      "['Luke', '7', '9', '15']\n",
      "['Han', '4', '7', '10']\n",
      "['Leia', '9', '9', '16']\n"
     ]
    }
   ],
   "source": [
    "import csv\n",
    "\n",
    "arquivo = open('alunos.csv', 'r')\n",
    "\n",
    "planilha = csv.reader(arquivo, delimiter=';', lineterminator='\\n')\n",
    "\n",
    "for linha in planilha:\n",
    "\tprint(linha)\n",
    "\n",
    "arquivo.close()"
   ]
  },
  {
   "cell_type": "markdown",
   "metadata": {},
   "source": [
    "Note que a estrutura **não é** uma lista, mas um objeto iterável. Vejamos o que acontece se tentarmos imprimi-lo diretamente:"
   ]
  },
  {
   "cell_type": "code",
   "execution_count": 60,
   "metadata": {},
   "outputs": [
    {
     "name": "stdout",
     "output_type": "stream",
     "text": [
      "<_csv.reader object at 0x000002134EDBAB20>\n"
     ]
    }
   ],
   "source": [
    "import csv\n",
    "\n",
    "arquivo = open('alunos.csv', 'r')\n",
    "\n",
    "planilha = csv.reader(arquivo, delimiter=';', lineterminator='\\n')\n",
    "\n",
    "print(planilha)\n",
    "\n",
    "arquivo.close()"
   ]
  },
  {
   "cell_type": "markdown",
   "metadata": {},
   "source": [
    "Caso você precise de mais flexibilidade para trabalhar com a sua planilha - por exemplo, caso deseje editá-la, criar novas colunas etc, convém converter a estrutura para uma lista de verdade. É possível usar um ```list``` no objeto para fazer a conversão:"
   ]
  },
  {
   "cell_type": "code",
   "execution_count": 59,
   "metadata": {},
   "outputs": [
    {
     "name": "stdout",
     "output_type": "stream",
     "text": [
      "[['Aluno', 'Nota 1', 'Nota 2', 'Presenças'], ['Luke', '7', '9', '15'], ['Han', '4', '7', '10'], ['Leia', '9', '9', '16']]\n"
     ]
    }
   ],
   "source": [
    "import csv\n",
    "\n",
    "arquivo = open('alunos.csv', 'r')\n",
    "\n",
    "planilha = list(csv.reader(arquivo, delimiter=';', lineterminator='\\n'))\n",
    "\n",
    "arquivo.close()\n",
    "\n",
    "print(planilha)"
   ]
  },
  {
   "cell_type": "markdown",
   "metadata": {},
   "source": [
    "# Exercícios - parte 2\n",
    "\n",
    "Use o módulo ```csv``` recém-estudado para fazer os próximos exercícios.\n",
    "\n",
    "-----\n",
    "\n",
    "Faça um programa que pede para o usuário digitar a quantidade de provas aplicadas, a quantidade de alunos em uma turma e cada uma das notas. O seu programa deverá salvar as notas digitadas em um arquivo CSV onde cada linha representa um aluno e cada coluna representa uma prova."
   ]
  },
  {
   "cell_type": "code",
   "execution_count": 203,
   "metadata": {},
   "outputs": [],
   "source": [
    "import csv\n",
    "\n",
    "linhas = int(input('Digite o numero de alunos: '))\n",
    "colunas = int(input('Digite o numero de provas: '))\n",
    "\n",
    "lista_geral = []\n",
    "\n",
    "for j in range(linhas):\n",
    "    lista_notas = []\n",
    "\n",
    "    for i in range(colunas):\n",
    "        nota = input('Digite a nota: ')\n",
    "        lista_notas.append(nota)\n",
    "    lista_geral.append(lista_notas)\n",
    "\n",
    "arquivo = open('notas_alunos.csv', 'w')\n",
    "escritor = csv.writer(arquivo, delimiter=';', lineterminator='\\n')\n",
    "escritor.writerows(lista_geral)\n",
    "arquivo.close()\n"
   ]
  },
  {
   "cell_type": "code",
   "execution_count": 94,
   "metadata": {},
   "outputs": [],
   "source": [
    "# import csv\n",
    "\n",
    "# colunas = int(input('Digite o numero de provas: '))\n",
    "# linhas = int(input('Digite o numero de alunos: '))\n",
    "\n",
    "# lista_geral = [[]]*linhas\n",
    "\n",
    "# for i in range(linhas):\n",
    "#     for j in range(colunas):\n",
    "#         nota = int(input('Digite a nota: '))\n",
    "#         lista_geral[i].append(nota)\n",
    "\n",
    "# arquivo = open('notas_alunos.csv', 'w')\n",
    "# escritor = csv.writer(arquivo, delimiter=';', lineterminator='\\n')\n",
    "# escritor.writerows(lista_geral)\n",
    "# arquivo.close()"
   ]
  },
  {
   "cell_type": "markdown",
   "metadata": {},
   "source": [
    "Faça um programa que carrega um arquivo CSV de notas (como o gerado pelo exercício anterior) e pede para o usuário digitar a nota mínima para aprovação. Ele deverá gerar um novo arquivo contendo as notas originais e 2 colunas adicionais: a média de cada aluno na primeira (com, no máximo, 2 casas decimais) e \"APR\" ou \"REP\" na segunda, indicando se a média atingiu o valor mínimo ou não."
   ]
  },
  {
   "cell_type": "code",
   "execution_count": 194,
   "metadata": {},
   "outputs": [],
   "source": [
    "import csv\n",
    "\n",
    "arquivo = open('notas_alunos.csv', 'r')\n",
    "planilha = list(csv.reader(arquivo, delimiter=';', lineterminator='\\n'))\n",
    "arquivo.close()\n",
    "\n",
    "for lista in planilha:\n",
    "    soma_notas = 0\n",
    "    for i in range(len(lista)):\n",
    "        soma_notas += float(lista[i])\n",
    "    media = round(soma_notas/len(lista),2)\n",
    "    lista.append(media)\n",
    "\n",
    "    if media >= 6: lista.append('APR')\n",
    "    else: lista.append('REP')\n",
    "\n",
    "arquivo_novo = open('aprovados_reprovados.csv', 'w')\n",
    "escritor = csv.writer(arquivo_novo, delimiter=';', lineterminator='\\n')\n",
    "escritor.writerows(planilha)\n",
    "arquivo_novo.close()"
   ]
  },
  {
   "cell_type": "markdown",
   "metadata": {},
   "source": [
    "Faça um programa que abre o arquivo ```daily_IBM.csv``` e responda em qual data houve a maior oscilação de valor em um mesmo dia e quais foram os valores máximo e mínimo nessa data."
   ]
  },
  {
   "cell_type": "code",
   "execution_count": 200,
   "metadata": {},
   "outputs": [
    {
     "name": "stdout",
     "output_type": "stream",
     "text": [
      "2022-01-25 137.34 128.3 R$9.04\n"
     ]
    }
   ],
   "source": [
    "arquivo = open('daily_IBM.csv', 'r')\n",
    "planilha = list(csv.reader(arquivo, delimiter=',', lineterminator='\\n'))\n",
    "arquivo.close()\n",
    "\n",
    "planilha.pop(0)\n",
    "oscilacao = float(planilha[0][2])-float(planilha[0][3])\n",
    "\n",
    "for lista in planilha:\n",
    "    if float(lista[2]) - float(lista[3]) > oscilacao:\n",
    "        oscilacao = round(float(lista[2]) - float(lista[3]),2)\n",
    "        lista_oscilacao = lista\n",
    "\n",
    "print(lista_oscilacao[0], round(float(lista_oscilacao[2]), 2), round(float(lista_oscilacao[3]), 2), f'R${oscilacao}')"
   ]
  },
  {
   "cell_type": "markdown",
   "metadata": {},
   "source": [
    "# Bônus: arquivos JSON\n",
    "\n",
    "JSON é uma sigla para _JavaScript Object Notation_. O _JavaScript_ é uma linguagem muito utilizada em web, e assim como o Python, ela é uma linguagem orientada a objeto. Ocorre que a forma como objetos são representados nessa linguagem é bastante legível para seres humanos e fácil de decompor usando programação também.\n",
    "\n",
    "Veja um exemplo de como podemos representar, por exemplo, um estudante em JavaScript:\n",
    "\n",
    "```\n",
    "{\n",
    "    nome: 'Mario',\n",
    "    modulo: 2,\n",
    "    media: 9.5 \n",
    "}\n",
    "```\n",
    "\n",
    "Parece familiar? É extremamente parecido com dicionários em Python. O Python possui um módulo já instalado chamado ```json``` que nos ajuda a converter entre uma _string_ contendo um JSON e um dicionário.\n",
    "\n",
    "> **Atenção:** No caso do JSON faremos *exatamente* como nos dicionários em Python: as chaves deverão vir entre aspas.\n",
    "\n",
    "Os valores de um JSON podem ser vários tipos de dados que estamos acostumados em Python: inteiros, reais, _strings_, booleanos, e até mesmo listas (representadas com colchetes) e outros JSON/dicionários (representados por chaves). Por exemplo:\n",
    "\n",
    "```\n",
    "{\n",
    "    'escola':\"Let's Code\",\n",
    "    'cursos':[{'nome':'Python Pro', 'duracao':2}, \n",
    "            {'nome':'Data Science', 'duracao':2},\n",
    "            {'nome':'Front-End', 'duracao':2}]\n",
    "}\n",
    "```\n",
    "\n",
    "### JSON para dicionário\n",
    "O método ```loads``` recebe uma _string_ contendo um JSON e retorna um dicionário, o que torna bastante fácil o acesso a informações individuais:"
   ]
  },
  {
   "cell_type": "code",
   "execution_count": 126,
   "metadata": {},
   "outputs": [
    {
     "name": "stdout",
     "output_type": "stream",
     "text": [
      "Mario\n",
      "0\n",
      "{'nome': 'Mario', 'pontuacao': 0}\n"
     ]
    }
   ],
   "source": [
    "import json\n",
    "\n",
    "jogador = '{\"nome\":\"Mario\",\"pontuacao\":0}'\n",
    "\n",
    "dicionario = json.loads(jogador)\n",
    "\n",
    "print(dicionario['nome'])\n",
    "print(dicionario['pontuacao'])\n",
    "print(dicionario)"
   ]
  },
  {
   "cell_type": "markdown",
   "metadata": {},
   "source": [
    "### Dicionário para JSON\n",
    "Já o método ```dumps``` recebe um dicionário e retorna uma _string_ pronta para ser salva ou enviada como JSON:"
   ]
  },
  {
   "cell_type": "code",
   "execution_count": 127,
   "metadata": {},
   "outputs": [
    {
     "name": "stdout",
     "output_type": "stream",
     "text": [
      "{\"nome\": \"Mario\", \"pontuacao\": 0}\n"
     ]
    }
   ],
   "source": [
    "import json\n",
    "\n",
    "jogador = dict()\n",
    "jogador['nome']  = 'Mario'\n",
    "jogador['pontuacao'] = 0\n",
    "\n",
    "string_json = json.dumps(jogador)\n",
    "\n",
    "print(string_json)"
   ]
  },
  {
   "cell_type": "markdown",
   "metadata": {},
   "source": [
    "### E os arquivos?\n",
    "\n",
    "Arquivos JSON, assim como CSV, são arquivos de texto puro onde o texto deve representar a estrutura dada acima. Sendo assim, caso você tenha um arquivo ```.json```, você pode abri-lo usando as mesmas técnicas que estudamos para arquivos de texto (```open```/```read```) e em seguida usar o ```loads``` para obter um dicionário. \n",
    "\n",
    "Já quando temos um dicionário que gostaríamos de salvar como um ```.json```, basta usar o ```dumps``` para obter a string, e em seguida podemos utilizar ```write``` no arquivo desejado. "
   ]
  },
  {
   "cell_type": "markdown",
   "metadata": {},
   "source": [
    "# Exercício final\n",
    "\n",
    "Incremente o seu exercício do histograma de palavras exportando o resultado para json."
   ]
  },
  {
   "cell_type": "code",
   "execution_count": null,
   "metadata": {},
   "outputs": [],
   "source": [
    "import json\n",
    "\n"
   ]
  }
 ],
 "metadata": {
  "interpreter": {
   "hash": "ad2bdc8ecc057115af97d19610ffacc2b4e99fae6737bb82f5d7fb13d2f2c186"
  },
  "kernelspec": {
   "display_name": "Python 3.9.7 ('base')",
   "language": "python",
   "name": "python3"
  },
  "language_info": {
   "codemirror_mode": {
    "name": "ipython",
    "version": 3
   },
   "file_extension": ".py",
   "mimetype": "text/x-python",
   "name": "python",
   "nbconvert_exporter": "python",
   "pygments_lexer": "ipython3",
   "version": "3.9.7"
  },
  "orig_nbformat": 4
 },
 "nbformat": 4,
 "nbformat_minor": 2
}
