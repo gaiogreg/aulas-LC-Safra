{
 "cells": [
  {
   "cell_type": "markdown",
   "metadata": {},
   "source": [
    "# Parâmetros de funções\n",
    "\n",
    "Quando estudamos funções, aprendemos que elas podem receber dados (parâmetros) e podem fornecer uma resposta (retorno). Porém, o número de parâmetros era fixo para cada função: um dado para cada parâmetro que declaramos na definição da função. Da mesma forma, a função poderia retornar exatamente um resultado.\n",
    "\n",
    "Em alguns casos, mais flexibilidade seria útil. Utilizando tuplas e dicionários conseguimos essa flexibilidade.\n",
    "\n",
    "## Funções com retorno múltiplo\n",
    "Vejamos um caso simples: uma função que retorna os valores máximo e mínimo de uma coleção.\n",
    "Você pode retornar os valores separados por vírgula. \n",
    "Vamos imprimir o resultado e verificar o que acontece."
   ]
  },
  {
   "cell_type": "code",
   "execution_count": 5,
   "metadata": {},
   "outputs": [
    {
     "name": "stdout",
     "output_type": "stream",
     "text": [
      "(9, 1)\n",
      "<class 'tuple'>\n"
     ]
    }
   ],
   "source": [
    "def max_min(colecao):\n",
    "\tmaior = max(colecao)\n",
    "\tmenor = min(colecao)\n",
    "\treturn maior, menor\n",
    "\n",
    "numeros = [3, 1, 4, 1, 5, 9, 2]\n",
    "\n",
    "resposta = max_min(numeros)\n",
    "print(resposta)\n",
    "print(type(resposta)) # mostra o tipo da variável resposta"
   ]
  },
  {
   "cell_type": "markdown",
   "metadata": {},
   "source": [
    "Surpresa! Ele tratou o retorno como uma tupla! Quando utilizamos valores separados por vírgula em Python, os valores são agrupados em uma tupla, mesmo que não estejamos utilizando parênteses. Essa informação é relevante porque podemos separar a tupla em varias variáveis usando a mesma sintaxe:"
   ]
  },
  {
   "cell_type": "code",
   "execution_count": 6,
   "metadata": {},
   "outputs": [
    {
     "name": "stdout",
     "output_type": "stream",
     "text": [
      "9\n",
      "1\n"
     ]
    }
   ],
   "source": [
    "def max_min(colecao):\n",
    "\tmaior = max(colecao)\n",
    "\tmenor = min(colecao)\n",
    "\treturn maior, menor\n",
    "\n",
    "numeros = [3, 1, 4, 1, 5, 9, 2]\n",
    "\n",
    "maior_num, menor_num = max_min(numeros)\n",
    "print(maior_num)\n",
    "print(menor_num)"
   ]
  },
  {
   "cell_type": "markdown",
   "metadata": {},
   "source": [
    "No exemplo acima é mais perceptível a sensação de que a função retornou 2 valores e o programa recebeu esses 2 valores individualmente. Por dentro, tupla. Por fora, retorno múltiplo."
   ]
  },
  {
   "cell_type": "markdown",
   "metadata": {},
   "source": [
    "## Parâmetros com valores padrão\n",
    "\n",
    "Uma primeira forma de trabalhar com a ideia de parâmetros opcionais é atribuir valores padrão para nossos parâmetros. Quando fazemos isso, quando a função for chamada, o parâmetro pode **ou** não ser passado. Caso ele não seja passado, é adotado o valor padrão.\n",
    "\n",
    "Devemos primeiro colocar os parâmetros \"comuns\" (conhecidos como _argumentos posicionais_) para depois colocar os argumentos com valor padrão. Imagine, por exemplo, uma função que padroniza _strings_ jogando todo seu conteúdo para upper ou lower. Podemos implementá-la da seguinte maneira:"
   ]
  },
  {
   "cell_type": "code",
   "execution_count": null,
   "metadata": {},
   "outputs": [],
   "source": [
    "def padroniza_string(texto, lower=True):\n",
    "    if lower:\n",
    "        return texto.lower()\n",
    "    else:\n",
    "        return texto.upper()\n",
    "\n",
    "print(padroniza_string('Sem passar o SEGUNDO argumento'))\n",
    "print(padroniza_string('Passando SEGUNDO argumento True', lower=True))\n",
    "print(padroniza_string('Passando SEGUNDO argumento False', lower=False))"
   ]
  },
  {
   "cell_type": "markdown",
   "metadata": {},
   "source": [
    "## Funções com quantidade variável de parâmetros\n",
    "Talvez você já tenha notado que o _print_ é uma função. Se não notou, esse é um bom momento para pensar a respeito. Nós sempre usamos com parênteses, nós passamos informações dentro dos parênteses (os dados a serem impressos) e ele faz um monte de coisa automaticamente: converte todos os dados passados para _string_, contatena todas as _strings_ com um espaço entre elas e as escreve na tela.\n",
    "\n",
    "Algo que o _print_ tem que as nossas funções não tinham é a capacidade de receber uma quantidade variável de parâmetros. Nós podemos passar 0 dados (e, neste caso, ele apenas pulará uma linha), 1 dado, 2 dados, 3 dados... Quantos dados quisermos, separados por vírgula, e ele funcionará para todos esses casos. Se temos que declarar todos os parâmetros, como fazer para que múltiplos dados possam ser passados?\n",
    "\n",
    "### Agrupando parâmetros\n",
    "A solução é utilizar o operador **\\*** - que, neste caso, não será uma multiplicação.  Ao colocarmos o **\\*** ao lado do nome de um parâmetro na definição da função, estamos dizendo que aquele argumento será uma coleção. Mais especificamente, uma tupla. Porém, o usuário não irá passar uma tupla. Ele irá passar quantos argumentos ele quiser, e o Python automaticamente criará uma tupla com eles. \n",
    "\n",
    "O exemplo abaixo cria uma função de somatório que pode receber uma quantidade arbitrária de números."
   ]
  },
  {
   "cell_type": "code",
   "execution_count": 3,
   "metadata": {},
   "outputs": [
    {
     "name": "stdout",
     "output_type": "stream",
     "text": [
      "9 30 55\n"
     ]
    }
   ],
   "source": [
    "def somatorio(*numeros):\n",
    "\t# remova o símbolo de comentário das linhas abaixo para entender melhor o parâmetro\n",
    "\t# print (numeros)\n",
    "\t# print(type(numeros))\n",
    "\tsoma = 0\n",
    "\tfor n in numeros:\n",
    "\t\tsoma = soma + n\n",
    "\treturn soma\n",
    "\n",
    "s1 = somatorio(5, 3, 1)\n",
    "s2 = somatorio(2, 4, 6, 8, 10)\n",
    "s3 = somatorio(1, 2, 3, 4, 5, 6, 7, 8, 9, 10)\n",
    "print(s1, s2, s3)"
   ]
  },
  {
   "cell_type": "markdown",
   "metadata": {},
   "source": [
    "### Expandindo uma coleção\n",
    "O exemplo acima funciona muito bem quando o usuário da função possui vários dados avulsos, pois ele os agrupa em uma coleção. Mas o que acontece quando os dados já estão agrupados?"
   ]
  },
  {
   "cell_type": "code",
   "execution_count": 2,
   "metadata": {},
   "outputs": [
    {
     "name": "stdout",
     "output_type": "stream",
     "text": [
      "(1, 2, 3, 4, 5)\n",
      "<class 'tuple'>\n",
      "15\n"
     ]
    }
   ],
   "source": [
    "def somatorio(*numeros):\n",
    "\tprint (numeros)\n",
    "\tprint(type(numeros))\n",
    "\tsoma = 0\n",
    "\tfor n in numeros:\n",
    "\t\tsoma = soma + n\n",
    "\treturn soma\n",
    "\n",
    "lista = [1, 2, 3, 4, 5]\n",
    "s = somatorio(*lista)\n",
    "print(s)"
   ]
  },
  {
   "cell_type": "markdown",
   "metadata": {},
   "source": [
    "Note que o programa dará erro, pois como os _print_ dentro da função ilustram, foi criada uma tupla, e na primeira posição da tupla foi armazenada a lista. Isso não funciona com a lógica que projetamos.\n",
    "\n",
    "Para casos assim, utilizaremos o operador **\\*** na chamada da função também. Na definição, o operador **\\*** indica que devemos agrupar itens avulsos em uma coleção. Na chamada, ele indica que uma coleção deve ser expandida em itens avulsos."
   ]
  },
  {
   "cell_type": "code",
   "execution_count": 4,
   "metadata": {},
   "outputs": [
    {
     "name": "stdout",
     "output_type": "stream",
     "text": [
      "(1, 2, 3, 4, 5)\n",
      "<class 'tuple'>\n",
      "15\n"
     ]
    }
   ],
   "source": [
    "def somatorio(*numeros):\n",
    "\tprint (numeros)\n",
    "\tprint(type(numeros))\n",
    "\tsoma = 0\n",
    "\tfor n in numeros:\n",
    "\t\tsoma = soma + n\n",
    "\treturn soma\n",
    "\n",
    "lista = [1, 2, 3, 4, 5]\n",
    "s = somatorio(*lista)\n",
    "print(s)\n"
   ]
  },
  {
   "cell_type": "markdown",
   "metadata": {},
   "source": [
    "No programa acima, a lista é expandida em 5 valores avulsos, e em seguida a função agrupa os 5 itens em uma tupla chamada \"numeros\". "
   ]
  },
  {
   "cell_type": "markdown",
   "metadata": {},
   "source": [
    "## Parâmetros opcionais\n",
    "Outra possibilidade são funções com parâmetros opcionais. Note que isso é diferente de termos quantidade variável de parâmetros. \n",
    "\n",
    "No caso da quantidade variável, normalmente são diversos parâmetros com a mesma utilidade (números a serem somados, valores a serem exibidos etc). \n",
    "\n",
    "Já os parâmetros opcionais são informações distintas que podem ou não ser passadas para a função. Como exemplo podemos citar o _csv.reader_ e o _csv.writer_ vistos anteriormente. Os parâmetros que passamos pelo nome (_delimiter_ e _lineterminator_) são opcionais: se você omiti-los, a função usará valores padrão.\n",
    "\n",
    "Já estudamos uma forma de parâmetros opcionais utilizando valores padrão. Mas para funções com uma **grande** quantidade de parâmetros opcionais, existe outra forma utilizando dicionários, apelidada como ```**kwargs```.\n",
    "\n",
    "### Criando **kwargs\n",
    "Para criar parâmetros opcionais, usaremos **\\*\\***, e os parâmetros passados serão agrupados em um dicionário: o nome do parâmetro será uma chave, e o valor será... O valor.\n",
    "\n",
    "O exemplo abaixo cadastra usuários em uma base de dado. Um usuário pode fornecer seu nome, seu CPF ou ambos.\n"
   ]
  },
  {
   "cell_type": "code",
   "execution_count": null,
   "metadata": {},
   "outputs": [],
   "source": [
    "def cadastro(**usuario):\n",
    "\tif not ('nome' in usuario) and not ('cpf') in usuario:\n",
    "\t\tprint('Nenhum dado encontrado!')\n",
    "\telse:\n",
    "\t\tarquivo = open('usuarios.txt', 'a')\n",
    "\t\tif 'nome' in usuario:\n",
    "\t\t\tarquivo.write(usuario['nome'] + '\\n')\n",
    "\t\tif 'cpf' in usuario:\n",
    "\t\t\tarquivo.write(str(usuario['cpf']) + '\\n')\n",
    "\t\tarquivo.write('-----\\n')\n",
    "\t\tarquivo.close()\n",
    "\t\tprint('Cadastro realizado com sucesso!')\n",
    "\n",
    "cadastro(nome = 'João', cpf = 123456789) # tem ambos\n",
    "cadastro(nome = 'José') # tem apenas nome\n",
    "cadastro(cpf = 987654321) # tem apenas cpf\n",
    "cadastro(rg = 192837465) # não tem nome nem cpf"
   ]
  },
  {
   "cell_type": "markdown",
   "metadata": {},
   "source": [
    "### Expandindo um dicionário\n",
    "Analogamente ao caso dos parâmetros múltiplos, é possível que o usuário da função já tenha os dados organizados em um dicionário. Neste caso, basta usar **\\*\\*** na chamada da função para expandir o dicionário em vários parâmetros opcionais."
   ]
  },
  {
   "cell_type": "code",
   "execution_count": null,
   "metadata": {},
   "outputs": [],
   "source": [
    "def cadastro(**usuario):\n",
    "\tif not ('nome' in usuario) and not ('cpf') in usuario:\n",
    "\t\tprint('Nenhum dado encontrado!')\n",
    "\telse:\n",
    "\t\tarquivo = open('usuarios.txt', 'a')\n",
    "\t\tif 'nome' in usuario:\n",
    "\t\t\tarquivo.write(usuario['nome'] + '\\n')\n",
    "\t\tif 'cpf' in usuario:\n",
    "\t\t\tarquivo.write(str(usuario['cpf']) + '\\n')\n",
    "\t\tarquivo.write('-----\\n')\n",
    "\t\tarquivo.close()\n",
    "\t\tprint('Cadastro realizado com sucesso!')\n",
    "\n",
    "maria = {'nome':'Maria', 'cpf':2468135790}\n",
    "cadastro(**maria)"
   ]
  },
  {
   "cell_type": "markdown",
   "metadata": {},
   "source": [
    "## Exercícios\n",
    "\n",
    "Faça uma função que recebe uma quantidade arbitrária de variáveis de qualquer tipo e retorna uma string contendo todas as suas representações separadas por espaço."
   ]
  },
  {
   "cell_type": "code",
   "execution_count": 33,
   "metadata": {},
   "outputs": [
    {
     "name": "stdout",
     "output_type": "stream",
     "text": [
      "(1, 2, 3, 4, 5, 6, 7, True, 'psdf', 'python', ['a', 'sdf0'])\n"
     ]
    }
   ],
   "source": [
    "def separa_por_espaco(*args):\n",
    "    print(args)\n",
    "\n",
    "lista = [1,2,3,4,5,6,7, True, 'psdf', 'python',['a','sdf0']]\n",
    "\n",
    "separa_por_espaco(*lista)"
   ]
  },
  {
   "cell_type": "markdown",
   "metadata": {},
   "source": [
    "Modifique a função anterior para incluir um parâmetro opcional indicando o caractere de separação entre as variáveis. Seu valor padrão será 1 espaço em branco. "
   ]
  },
  {
   "cell_type": "code",
   "execution_count": 21,
   "metadata": {},
   "outputs": [
    {
     "name": "stdout",
     "output_type": "stream",
     "text": [
      "1, 2, 3, 4, 5, 6, 7, True, psdf, python, ['a', 'sdf0']\n"
     ]
    }
   ],
   "source": [
    "def separa_por_espaco(*args, sep = ' '):\n",
    "    print(*args, sep= sep)\n",
    "\n",
    "lista = [1,2,3,4,5,6,7, True, 'psdf', 'python',['a','sdf0']]\n",
    "\n",
    "separa_por_espaco(*lista, sep = ', ')"
   ]
  },
  {
   "cell_type": "markdown",
   "metadata": {},
   "source": [
    "Faça sua própria função \"sorted\", que recebe uma coleção de elementos e retorna uma nova lista contendo os elementos ordenados. Ela deverá receber:\n",
    "\n",
    "* uma lista ou uma tupla (obrigatório).\n",
    "* um booleano indicando se deve ser ordem inversa ou não (opcional, com valor padrão).\n",
    "* uma função (sim, isso pode!) que será usada para comparar os valores da lista entre eles (opcional, com valor padrão null) - caso seja null, utilize os operadores \">\" ou \"<\" para fazer as comparações.\n",
    "\n",
    "Faça tratamento de exceção da maneira que julgar melhor para lidar com a possibilidade da lista de entrada conter elementos que não podem ser comparados entre si (como str e int, por exemplo).\n"
   ]
  },
  {
   "cell_type": "code",
   "execution_count": 17,
   "metadata": {},
   "outputs": [
    {
     "name": "stdout",
     "output_type": "stream",
     "text": [
      "A lista possui dados de tipos diferentes!\n"
     ]
    }
   ],
   "source": [
    "def Sorted(conjunto, booleano= True, funcao= None):\n",
    "    try:\n",
    "        lista_sorted = sorted(conjunto, reverse= booleano) #key= funcao\n",
    "    except TypeError:\n",
    "        return 'A lista possui dados de tipos diferentes!'\n",
    "    \n",
    "    return lista_sorted\n",
    "\n",
    "def funcao5(conjunto):\n",
    "    for i in range(len(conjunto)-1,-1,-1):\n",
    "        if conjunto[i] >= 5: conjunto.pop(i)\n",
    "    return conjunto\n",
    "\n",
    "conjunto = [3, 2, 5, 4, 9, 3, 8, 5, 6, 7]\n",
    "print(Sorted(conjunto, booleano= False)) #funcao= funcao5(conjunto)\n"
   ]
  },
  {
   "cell_type": "markdown",
   "metadata": {},
   "source": []
  },
  {
   "cell_type": "markdown",
   "metadata": {},
   "source": [
    "Faça um programa com um menu que permita cadastrar novos usuários, buscar usuários já existentes, modificar um usuário existente e visualizar todos os usuários.\n",
    "\n",
    "Cada usuário deve ter, obrigatoriamente:\n",
    "\n",
    "* Nome\n",
    "* CPF (deve ser **único**)\n",
    "* e-mail (deve ser **único**)\n",
    "\n",
    "Opcionalmente, usuários podem ter:\n",
    "\n",
    "* Data de nascimento\n",
    "* Profissão\n",
    "* Escolaridade (a ser escolhida de uma lista: infantil, fundamental, médio, superior, pós)\n",
    "\n",
    "Para a busca, podemos passar um ou mais dos dados (ex: apenas nome, ou data de nascimento + profissão), e teremos um parâmetro opcional indicando se os resultados mostrarão usuários que bateram com pelo menos 1 dos parâmetros buscados (ex: nome igual, mas CPF diferente) ou apenas que bateram com todas as informações passadas.\n",
    "\n",
    "Estruture seu programa para utilizar funções com parâmetros opcionais.\n",
    "\n",
    "Desafio 1: faça toda a comunicação de erros entre funções e diferentes partes do programa via **exceções**.\n",
    "\n",
    "Desafio 2: adicione **persistência** ao seu programa em formato .json\n",
    "\n",
    "Desafio 3: **valide CPF, e-mail e data de nascimento** (apenas CPFs válidos, e-mail apenas com caracteres válidos, e 1 única arroba que contenha caracteres antes e depois, data de nascimento obrigatoriamente no formato aaaa-mm-dd e que não aceite dias inválidos, como 30 de fevereiro).\n",
    "\n",
    "Desafio 4: acrescente ao desafio 3 a verificação para 29/fev e ano bissexto."
   ]
  },
  {
   "cell_type": "code",
   "execution_count": 44,
   "metadata": {},
   "outputs": [],
   "source": [
    "class ErroCadastro(Exception):\n",
    "    def __init__(self, mensagem='Um dos dados obrigatórios foi deixado em branco, digite novamente!'):\n",
    "        super().__init__(print(mensagem))\n",
    "\n",
    "class ErroCPF(Exception):\n",
    "    def __init__(self, mensagem='Esse CPF é inválido!'):\n",
    "        super().__init__(print(mensagem))\n",
    "\n",
    "class ErroEmail(Exception):\n",
    "    def __init__(self, mensagem='Esse e-mail é inválido!'):\n",
    "        super().__init__(print(mensagem))\n",
    "\n",
    "class ErroDataNascimento(Exception):\n",
    "    def __init__(self, mensagem='Essa data de nascimento é inválida!'):\n",
    "        super().__init__(print(mensagem))"
   ]
  },
  {
   "cell_type": "code",
   "execution_count": 71,
   "metadata": {},
   "outputs": [],
   "source": [
    "def validar_dados(**info_pessoa):\n",
    "    if info_pessoa['Nome'] == '' or info_pessoa['CPF'] == '' or info_pessoa['E-mail'] == '':\n",
    "        raise ErroCadastro\n",
    "    else: return True\n",
    "\n",
    "def validar_cpf(cpf):\n",
    "    str_numeros = '0123456789'\n",
    "    for caracter in cpf:\n",
    "        if caracter not in str_numeros:\n",
    "            raise ErroCPF\n",
    "        else: return True\n",
    "\n",
    "    if len(cpf) != 11:\n",
    "        raise ErroCPF\n",
    "    else: return True\n",
    "\n",
    "\n",
    "def validar_email(email):\n",
    "    str_chrs = 'qwertyuioplkjhgfdsazxcvbnm0123456789'\n",
    "    if '@' in email:\n",
    "        for indice in range(len(email)):\n",
    "            if email[indice] == '@' and email[indice-1] not in str_chrs and email[indice+1] not in str_chrs:\n",
    "                raise ErroEmail\n",
    "            else: return True\n",
    "    else:\n",
    "        raise ErroEmail\n",
    "\n",
    "def validar_data_nascimento(data):\n",
    "    lista_num = '1234567890'\n",
    "    meses_31 = ['01', '03', '05', '07', '08', '10', '12']\n",
    "    meses_30 = ['04', '06', '09', '11']\n",
    "    fevereiro = ['02']\n",
    "    if (data[4] and data[7]) == '-' and len(data) == 10:\n",
    "        ano = data[:4]\n",
    "        mes = data[5:7]\n",
    "        dia = data[8:]\n",
    "        if (list(ano) and list(mes) and list(dia)) in lista_num:\n",
    "            if mes in meses_31 and 1 <= int(dia) <= 31:\n",
    "                return True\n",
    "            elif mes in meses_30 and 1 <= int(dia) <= 30:\n",
    "                return True\n",
    "            elif mes in fevereiro and 1 <= int(dia) <= 28:\n",
    "                return True\n",
    "        else:\n",
    "            raise ErroDataNascimento\n"
   ]
  },
  {
   "cell_type": "code",
   "execution_count": 81,
   "metadata": {},
   "outputs": [],
   "source": [
    "def cadastro_usuario(lista_cadastrados, **info_pessoa):\n",
    "    try:\n",
    "        if validar_dados(**info_pessoa):\n",
    "            validar_cpf(info_pessoa['CPF'])\n",
    "            validar_email(info_pessoa['E-mail'])\n",
    "            validar_data_nascimento(info_pessoa['Data de Nascimento'])\n",
    "        else:\n",
    "            lista_cadastrados.append(info_pessoa)\n",
    "\n",
    "    except ErroCadastro:\n",
    "        ErroCadastro\n",
    "        loop_cadastro(lista_cadastrados)\n",
    "    \n",
    "    except ErroCPF:\n",
    "        ErroCPF\n",
    "        loop_cadastro(lista_cadastrados)\n",
    "\n",
    "    except ErroEmail:\n",
    "        ErroEmail\n",
    "        loop_cadastro(lista_cadastrados)\n",
    "    \n",
    "    except ErroDataNascimento:\n",
    "        ErroDataNascimento\n",
    "        loop_cadastro(lista_cadastrados)\n",
    "        \n",
    "    return lista_cadastrados  \n",
    "\n",
    "def menu():\n",
    "    nome = input('Digite um nome para cadastro: ')\n",
    "    cpf = input(f'Digite o cpf da pessoa: {nome}')\n",
    "    email = input(f'Digite o email da pessoa: {nome}')\n",
    "\n",
    "    data_nascimento = input(f'Digite a data de nascimento do(a) {nome} no formato aaaa-mm-dd: ')\n",
    "    profissao = input(f'Digite a profissão da pessoa {nome}')\n",
    "    escolaridade = input(f'Digite o nivel de escolaridade do(a) {nome}')\n",
    "\n",
    "    info_pessoa = {'Nome': nome, 'CPF':cpf, 'E-mail': email, 'Data de Nascimento': data_nascimento,\n",
    "    'Profissão': profissao, 'Nivel de escolaridade': escolaridade}\n",
    "\n",
    "    return info_pessoa\n",
    "\n",
    "\n",
    "def loop_cadastro(lista_cadastros = []):\n",
    "    info_pessoa = menu()\n",
    "    cadastro_usuario(lista_cadastros, **info_pessoa)\n",
    "      "
   ]
  },
  {
   "cell_type": "code",
   "execution_count": 77,
   "metadata": {},
   "outputs": [
    {
     "name": "stdout",
     "output_type": "stream",
     "text": [
      "Esse CPF é inválido!\n",
      "Esse e-mail é inválido!\n"
     ]
    }
   ],
   "source": [
    "for i in range(1):\n",
    "    loop_cadastro()"
   ]
  },
  {
   "cell_type": "code",
   "execution_count": 82,
   "metadata": {},
   "outputs": [
    {
     "ename": "TypeError",
     "evalue": "'in <string>' requires string as left operand, not list",
     "output_type": "error",
     "traceback": [
      "\u001b[1;31m---------------------------------------------------------------------------\u001b[0m",
      "\u001b[1;31mTypeError\u001b[0m                                 Traceback (most recent call last)",
      "\u001b[1;32m~\\AppData\\Local\\Temp\\ipykernel_12368\\480156582.py\u001b[0m in \u001b[0;36m<module>\u001b[1;34m\u001b[0m\n\u001b[0;32m      1\u001b[0m \u001b[0mano\u001b[0m \u001b[1;33m=\u001b[0m \u001b[1;34m'1997'\u001b[0m\u001b[1;33m\u001b[0m\u001b[1;33m\u001b[0m\u001b[0m\n\u001b[0;32m      2\u001b[0m \u001b[1;33m\u001b[0m\u001b[0m\n\u001b[1;32m----> 3\u001b[1;33m \u001b[1;32mif\u001b[0m \u001b[0mlist\u001b[0m\u001b[1;33m(\u001b[0m\u001b[0mano\u001b[0m\u001b[1;33m)\u001b[0m \u001b[1;32min\u001b[0m \u001b[1;34m'1234567890'\u001b[0m\u001b[1;33m:\u001b[0m\u001b[1;33m\u001b[0m\u001b[1;33m\u001b[0m\u001b[0m\n\u001b[0m\u001b[0;32m      4\u001b[0m     \u001b[0mprint\u001b[0m\u001b[1;33m(\u001b[0m\u001b[1;34m'sda'\u001b[0m\u001b[1;33m)\u001b[0m\u001b[1;33m\u001b[0m\u001b[1;33m\u001b[0m\u001b[0m\n",
      "\u001b[1;31mTypeError\u001b[0m: 'in <string>' requires string as left operand, not list"
     ]
    }
   ],
   "source": [
    "ano = '1997'\n",
    "\n",
    "if list(ano) in '1234567890':\n",
    "    print('sda')"
   ]
  }
 ],
 "metadata": {
  "interpreter": {
   "hash": "ad2bdc8ecc057115af97d19610ffacc2b4e99fae6737bb82f5d7fb13d2f2c186"
  },
  "kernelspec": {
   "display_name": "Python 3.9.7 ('base')",
   "language": "python",
   "name": "python3"
  },
  "language_info": {
   "codemirror_mode": {
    "name": "ipython",
    "version": 3
   },
   "file_extension": ".py",
   "mimetype": "text/x-python",
   "name": "python",
   "nbconvert_exporter": "python",
   "pygments_lexer": "ipython3",
   "version": "3.9.7"
  },
  "orig_nbformat": 4
 },
 "nbformat": 4,
 "nbformat_minor": 2
}
