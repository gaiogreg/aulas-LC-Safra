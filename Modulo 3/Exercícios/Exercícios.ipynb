{
 "cells": [
  {
   "cell_type": "markdown",
   "id": "published-mississippi",
   "metadata": {},
   "source": [
    "## Exercícios Aulas 1 a 4\n",
    "Prof Roger Rendón"
   ]
  },
  {
   "cell_type": "code",
   "execution_count": 30,
   "id": "loose-storm",
   "metadata": {},
   "outputs": [],
   "source": [
    "#Imports\n",
    "import numpy as np\n",
    "import pandas as pd\n",
    "import random"
   ]
  },
  {
   "cell_type": "markdown",
   "id": "clear-killer",
   "metadata": {},
   "source": [
    "#### Numpy."
   ]
  },
  {
   "cell_type": "code",
   "execution_count": 7,
   "id": "consecutive-fluid",
   "metadata": {},
   "outputs": [
    {
     "name": "stdout",
     "output_type": "stream",
     "text": [
      "2\n",
      "int32\n",
      "(2, 5)\n",
      "10\n",
      "[[5 3 0 5 7]\n",
      " [2 8 7 3 7]]\n",
      "<class 'numpy.ndarray'>\n"
     ]
    }
   ],
   "source": [
    "#1. Gere uma array randomica de 10 elementos com duas dimensões, e explore o array (ndim, dtype e shape). \n",
    "array_randomico = np.random.randint(0,10,size=(2,5))\n",
    "print(array_randomico.ndim)\n",
    "print(array_randomico.dtype)\n",
    "print(array_randomico.shape)\n",
    "print(array_randomico.size)\n",
    "print(array_randomico)\n",
    "print(type(array_randomico))"
   ]
  },
  {
   "cell_type": "code",
   "execution_count": 13,
   "id": "greatest-warrior",
   "metadata": {},
   "outputs": [
    {
     "data": {
      "text/plain": [
       "array([1., 0., 0., 6.])"
      ]
     },
     "execution_count": 13,
     "metadata": {},
     "output_type": "execute_result"
    }
   ],
   "source": [
    "#2. Verifique os elementos da array e veja se tem valores NaN e transforme os valores NaN pra número\n",
    "arr2 =  np.array([1, 0, np.nan, 6.0])\n",
    "where_is_nan = np.isnan(arr2)\n",
    "arr2[where_is_nan] = 0\n",
    "arr2"
   ]
  },
  {
   "cell_type": "code",
   "execution_count": 17,
   "id": "fewer-porcelain",
   "metadata": {},
   "outputs": [
    {
     "name": "stdout",
     "output_type": "stream",
     "text": [
      "[41  7 17 11 43 47 17 12 48 25]\n",
      "[20 15 46 27 27 26 43 19 26 26]\n",
      "[41 43 47 48]\n"
     ]
    }
   ],
   "source": [
    "#3. Gere duas arrays de uma dimensão com 10 elementos cada, valores entre 1 e 50. \n",
    "    # Faça comparações entre as duas matrizes ( >, <, equal)\n",
    "\n",
    "array_randomico2 = np.random.randint(1,50,size=(10))\n",
    "array_randomico3 = np.random.randint(1,50,size=(10))\n",
    "\n",
    "g_than = array_randomico2 > array_randomico3\n",
    "g_than\n",
    "print(array_randomico2)\n",
    "print(array_randomico3)\n",
    "print(array_randomico2[g_than])"
   ]
  },
  {
   "cell_type": "code",
   "execution_count": 3,
   "id": "moderate-gallery",
   "metadata": {},
   "outputs": [],
   "source": [
    "#4. Faça uma array com aragne de 12 elementos e de o reshape correto nele. \n",
    "    # Salve sua array em um arquivo de texto (Dica = Save Text and Headers)\n",
    "arr3 = np.arange(1,24,2)\n",
    "arr4 = np.reshape(arr3,(3,-1))\n",
    "np.savetxt(fname= 'arquivo_teste.npy', X=arr4, header= 'arquivo de teste numpy', delimiter=';', fmt= '%.0f')"
   ]
  },
  {
   "cell_type": "code",
   "execution_count": 29,
   "id": "upper-genealogy",
   "metadata": {},
   "outputs": [
    {
     "data": {
      "text/plain": [
       "array([11., 13., 15., 17., 19.])"
      ]
     },
     "execution_count": 29,
     "metadata": {},
     "output_type": "execute_result"
    }
   ],
   "source": [
    "#5. Carregue o arquvio da array anterior e faça uma subseleções:\n",
    "    #Elemento na linha 1 coluna 1 \n",
    "    #Elementos na coluna 2\n",
    "    #Elementos na linha 2 e escolha o maximo valor dessa seleção\n",
    "    #Uma array nova com o resultado de uma seleção complexa ex. (arr1 > 3) & (arr1 % 2 == 0)\n",
    "from matplotlib.pyplot import axes\n",
    "\n",
    "\n",
    "array_teste = np.loadtxt(fname='arquivo_teste.npy',delimiter = ';')\n",
    "elemento11 = array_teste[0][0]\n",
    "elemento_2 = array_teste[:,1]\n",
    "elemento_max2 = array_teste[1].max()\n",
    "array_novo = array_teste[(array_teste > 10) & (array_teste < 20)]\n",
    "array_novo\n",
    "\n",
    "    "
   ]
  },
  {
   "cell_type": "code",
   "execution_count": 71,
   "id": "indirect-democrat",
   "metadata": {},
   "outputs": [
    {
     "name": "stdout",
     "output_type": "stream",
     "text": [
      "[[3 0]\n",
      " [1 3]] \n",
      "\n",
      " [[6 9]\n",
      " [9 6]] \n",
      "\n",
      "[[18 27]\n",
      " [33 27]]\n"
     ]
    }
   ],
   "source": [
    "#6. Gere duas arrays em formato de matriz e faça um dot product nela \n",
    "matriz1= np.matrix(np.random.randint(0,5,size=(2,2)))\n",
    "matriz2= np.matrix(np.random.randint(5,10,size=(2,2)))\n",
    "\n",
    "print(matriz1,'\\n\\n', matriz2, '\\n')\n",
    "\n",
    "dot_product = matriz1*matriz2\n",
    "print(dot_product)"
   ]
  },
  {
   "cell_type": "markdown",
   "id": "differential-vertical",
   "metadata": {},
   "source": [
    "#### Pandas"
   ]
  },
  {
   "cell_type": "code",
   "execution_count": null,
   "id": "oriental-treasury",
   "metadata": {},
   "outputs": [],
   "source": [
    "#1. Faça uma pandas Series com valores inteiros randomicos de tamanho 30 de numeros entre 5 e 15\n",
    "    # Divida sua serie em duas partes e gere duas series novas \n",
    "    # Adicione 5 valores a cada serie e mantenha os dois elementos como series\n",
    "    # Conte as aparições de cada elemento da Serie\n",
    "    # Faça comparações booleanas entre as das series\n",
    "    # Junte as duas series em um dataframe\n",
    "    # Rename nas colunas utilizando inplace \n",
    "    # Explore seu novo DataFrame\n"
   ]
  },
  {
   "cell_type": "code",
   "execution_count": 98,
   "id": "swiss-phoenix",
   "metadata": {},
   "outputs": [
    {
     "name": "stdout",
     "output_type": "stream",
     "text": [
      "0      5\n",
      "1      9\n",
      "2      5\n",
      "3     15\n",
      "4     14\n",
      "5      6\n",
      "6     15\n",
      "7      7\n",
      "8      5\n",
      "9      5\n",
      "10    10\n",
      "11    13\n",
      "12    15\n",
      "13    10\n",
      "14    15\n",
      "15     1\n",
      "16     2\n",
      "17     3\n",
      "18     4\n",
      "19     5\n",
      "dtype: int64 0      7\n",
      "1     15\n",
      "2      7\n",
      "3     12\n",
      "4      6\n",
      "5     15\n",
      "6      5\n",
      "7     11\n",
      "8      9\n",
      "9     15\n",
      "10     5\n",
      "11    10\n",
      "12     8\n",
      "13     7\n",
      "14    15\n",
      "15     1\n",
      "16     2\n",
      "17     3\n",
      "18     4\n",
      "19     5\n",
      "dtype: int64\n"
     ]
    }
   ],
   "source": [
    "serie1 = pd.Series(np.random.randint(5,16,size=30))\n",
    "serie2 = pd.Series(serie1[int(np.size(serie1)/2):].copy())\n",
    "serie1 = serie1[:int(np.size(serie1)/2)]\n",
    "\n",
    "serie3=pd.Series([1,2,3,4,5])\n",
    "serie1 = serie1.append(serie3).reset_index(drop= True)\n",
    "serie2 = serie2.append(serie3).reset_index(drop= True)\n",
    "print(serie1, serie2)"
   ]
  },
  {
   "cell_type": "code",
   "execution_count": 91,
   "id": "28302f67",
   "metadata": {},
   "outputs": [
    {
     "data": {
      "text/plain": [
       "15    3\n",
       "14    3\n",
       "11    3\n",
       "5     2\n",
       "13    1\n",
       "12    1\n",
       "10    1\n",
       "9     1\n",
       "8     1\n",
       "1     1\n",
       "2     1\n",
       "3     1\n",
       "4     1\n",
       "dtype: int64"
      ]
     },
     "execution_count": 91,
     "metadata": {},
     "output_type": "execute_result"
    }
   ],
   "source": [
    "serie1.value_counts()"
   ]
  },
  {
   "cell_type": "code",
   "execution_count": 106,
   "id": "6a0160a0",
   "metadata": {},
   "outputs": [
    {
     "data": {
      "text/html": [
       "<div>\n",
       "<style scoped>\n",
       "    .dataframe tbody tr th:only-of-type {\n",
       "        vertical-align: middle;\n",
       "    }\n",
       "\n",
       "    .dataframe tbody tr th {\n",
       "        vertical-align: top;\n",
       "    }\n",
       "\n",
       "    .dataframe thead th {\n",
       "        text-align: right;\n",
       "    }\n",
       "</style>\n",
       "<table border=\"1\" class=\"dataframe\">\n",
       "  <thead>\n",
       "    <tr style=\"text-align: right;\">\n",
       "      <th></th>\n",
       "      <th>serie1</th>\n",
       "      <th>serie2</th>\n",
       "    </tr>\n",
       "  </thead>\n",
       "  <tbody>\n",
       "    <tr>\n",
       "      <th>0</th>\n",
       "      <td>5</td>\n",
       "      <td>7</td>\n",
       "    </tr>\n",
       "    <tr>\n",
       "      <th>1</th>\n",
       "      <td>9</td>\n",
       "      <td>15</td>\n",
       "    </tr>\n",
       "    <tr>\n",
       "      <th>2</th>\n",
       "      <td>5</td>\n",
       "      <td>7</td>\n",
       "    </tr>\n",
       "    <tr>\n",
       "      <th>3</th>\n",
       "      <td>15</td>\n",
       "      <td>12</td>\n",
       "    </tr>\n",
       "    <tr>\n",
       "      <th>4</th>\n",
       "      <td>14</td>\n",
       "      <td>6</td>\n",
       "    </tr>\n",
       "    <tr>\n",
       "      <th>5</th>\n",
       "      <td>6</td>\n",
       "      <td>15</td>\n",
       "    </tr>\n",
       "    <tr>\n",
       "      <th>6</th>\n",
       "      <td>15</td>\n",
       "      <td>5</td>\n",
       "    </tr>\n",
       "    <tr>\n",
       "      <th>7</th>\n",
       "      <td>7</td>\n",
       "      <td>11</td>\n",
       "    </tr>\n",
       "    <tr>\n",
       "      <th>8</th>\n",
       "      <td>5</td>\n",
       "      <td>9</td>\n",
       "    </tr>\n",
       "    <tr>\n",
       "      <th>9</th>\n",
       "      <td>5</td>\n",
       "      <td>15</td>\n",
       "    </tr>\n",
       "    <tr>\n",
       "      <th>10</th>\n",
       "      <td>10</td>\n",
       "      <td>5</td>\n",
       "    </tr>\n",
       "    <tr>\n",
       "      <th>11</th>\n",
       "      <td>13</td>\n",
       "      <td>10</td>\n",
       "    </tr>\n",
       "    <tr>\n",
       "      <th>12</th>\n",
       "      <td>15</td>\n",
       "      <td>8</td>\n",
       "    </tr>\n",
       "    <tr>\n",
       "      <th>13</th>\n",
       "      <td>10</td>\n",
       "      <td>7</td>\n",
       "    </tr>\n",
       "    <tr>\n",
       "      <th>14</th>\n",
       "      <td>15</td>\n",
       "      <td>15</td>\n",
       "    </tr>\n",
       "    <tr>\n",
       "      <th>15</th>\n",
       "      <td>1</td>\n",
       "      <td>1</td>\n",
       "    </tr>\n",
       "    <tr>\n",
       "      <th>16</th>\n",
       "      <td>2</td>\n",
       "      <td>2</td>\n",
       "    </tr>\n",
       "    <tr>\n",
       "      <th>17</th>\n",
       "      <td>3</td>\n",
       "      <td>3</td>\n",
       "    </tr>\n",
       "    <tr>\n",
       "      <th>18</th>\n",
       "      <td>4</td>\n",
       "      <td>4</td>\n",
       "    </tr>\n",
       "    <tr>\n",
       "      <th>19</th>\n",
       "      <td>5</td>\n",
       "      <td>5</td>\n",
       "    </tr>\n",
       "  </tbody>\n",
       "</table>\n",
       "</div>"
      ],
      "text/plain": [
       "    serie1  serie2\n",
       "0        5       7\n",
       "1        9      15\n",
       "2        5       7\n",
       "3       15      12\n",
       "4       14       6\n",
       "5        6      15\n",
       "6       15       5\n",
       "7        7      11\n",
       "8        5       9\n",
       "9        5      15\n",
       "10      10       5\n",
       "11      13      10\n",
       "12      15       8\n",
       "13      10       7\n",
       "14      15      15\n",
       "15       1       1\n",
       "16       2       2\n",
       "17       3       3\n",
       "18       4       4\n",
       "19       5       5"
      ]
     },
     "execution_count": 106,
     "metadata": {},
     "output_type": "execute_result"
    }
   ],
   "source": [
    "df_1 = pd.DataFrame({'serie1':serie1,'serie2':serie2})\n",
    "df_1"
   ]
  },
  {
   "cell_type": "code",
   "execution_count": null,
   "id": "combined-generation",
   "metadata": {},
   "outputs": [],
   "source": [
    "#2. Carregue o dataset da url (https://www.kaggle.com/datasets/andrewmvd/global-monkeypox-cases)\n",
    "    # Explore seu dataframe\n",
    "    # Faça uma lista com todas as colunas disponíveis \n",
    "    # Veja todos os paises que tem no dataframe\n",
    "    # Faça um groupby pais e veja quantos casos tem cada pais, gere um novo df com essa informação\n",
    "    # Faça um groupby por status e pais e veja quantos casos confirmados tem por pais\n"
   ]
  },
  {
   "cell_type": "code",
   "execution_count": null,
   "id": "funky-serbia",
   "metadata": {},
   "outputs": [],
   "source": []
  },
  {
   "cell_type": "code",
   "execution_count": null,
   "id": "threatened-consensus",
   "metadata": {},
   "outputs": [],
   "source": [
    "#3 Opcional(vamos discutir em aula)\n",
    "    # O que vocês fariam com a coluna Idade?\n",
    "    \n",
    "    # Faça o tratamento de acordo com a sua linha de pensamento\n",
    "    \n",
    "    # Esse tratamento que fez é útil (Sim / Não e Por que)?\n",
    "    \n",
    "    # O que podemos fazer com essa informação para ter um dado mais acertivo?"
   ]
  },
  {
   "cell_type": "code",
   "execution_count": null,
   "id": "circular-stone",
   "metadata": {},
   "outputs": [],
   "source": []
  }
 ],
 "metadata": {
  "kernelspec": {
   "display_name": "Python 3.9.7 ('base')",
   "language": "python",
   "name": "python3"
  },
  "language_info": {
   "codemirror_mode": {
    "name": "ipython",
    "version": 3
   },
   "file_extension": ".py",
   "mimetype": "text/x-python",
   "name": "python",
   "nbconvert_exporter": "python",
   "pygments_lexer": "ipython3",
   "version": "3.9.7"
  },
  "vscode": {
   "interpreter": {
    "hash": "ad2bdc8ecc057115af97d19610ffacc2b4e99fae6737bb82f5d7fb13d2f2c186"
   }
  }
 },
 "nbformat": 4,
 "nbformat_minor": 5
}
