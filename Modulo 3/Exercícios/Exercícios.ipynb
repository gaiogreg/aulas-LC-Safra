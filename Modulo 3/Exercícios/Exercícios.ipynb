{
 "cells": [
  {
   "cell_type": "markdown",
   "id": "published-mississippi",
   "metadata": {},
   "source": [
    "## Exercícios Aulas 1 a 4\n",
    "Prof Roger Rendón"
   ]
  },
  {
   "cell_type": "code",
   "execution_count": 1,
   "id": "loose-storm",
   "metadata": {},
   "outputs": [],
   "source": [
    "#Imports\n",
    "import numpy as np\n",
    "import pandas as pd"
   ]
  },
  {
   "cell_type": "markdown",
   "id": "clear-killer",
   "metadata": {},
   "source": [
    "#### Numpy."
   ]
  },
  {
   "cell_type": "code",
   "execution_count": 7,
   "id": "consecutive-fluid",
   "metadata": {},
   "outputs": [
    {
     "name": "stdout",
     "output_type": "stream",
     "text": [
      "2\n",
      "int32\n",
      "(2, 5)\n",
      "10\n",
      "[[5 3 0 5 7]\n",
      " [2 8 7 3 7]]\n",
      "<class 'numpy.ndarray'>\n"
     ]
    }
   ],
   "source": [
    "#1. Gere uma array randomica de 10 elementos com duas dimensões, e explore o array (ndim, dtype e shape). \n",
    "array_randomico = np.random.randint(0,10,size=(2,5))\n",
    "print(array_randomico.ndim)\n",
    "print(array_randomico.dtype)\n",
    "print(array_randomico.shape)\n",
    "print(array_randomico.size)\n",
    "print(array_randomico)\n",
    "print(type(array_randomico))"
   ]
  },
  {
   "cell_type": "code",
   "execution_count": 13,
   "id": "greatest-warrior",
   "metadata": {},
   "outputs": [
    {
     "data": {
      "text/plain": [
       "array([1., 0., 0., 6.])"
      ]
     },
     "execution_count": 13,
     "metadata": {},
     "output_type": "execute_result"
    }
   ],
   "source": [
    "#2. Verifique os elementos da array e veja se tem valores NaN e transforme os valores NaN pra número\n",
    "arr2 =  np.array([1, 0, np.nan, 6.0])\n",
    "where_is_nan = np.isnan(arr2)\n",
    "arr2[where_is_nan] = 0\n",
    "arr2"
   ]
  },
  {
   "cell_type": "code",
   "execution_count": 17,
   "id": "fewer-porcelain",
   "metadata": {},
   "outputs": [
    {
     "name": "stdout",
     "output_type": "stream",
     "text": [
      "[41  7 17 11 43 47 17 12 48 25]\n",
      "[20 15 46 27 27 26 43 19 26 26]\n",
      "[41 43 47 48]\n"
     ]
    }
   ],
   "source": [
    "#3. Gere duas arrays de uma dimensão com 10 elementos cada, valores entre 1 e 50. \n",
    "    # Faça comparações entre as duas matrizes ( >, <, equal)\n",
    "\n",
    "array_randomico2 = np.random.randint(1,50,size=(10))\n",
    "array_randomico3 = np.random.randint(1,50,size=(10))\n",
    "\n",
    "g_than = array_randomico2 > array_randomico3\n",
    "g_than\n",
    "print(array_randomico2)\n",
    "print(array_randomico3)\n",
    "print(array_randomico2[g_than])"
   ]
  },
  {
   "cell_type": "code",
   "execution_count": 59,
   "id": "moderate-gallery",
   "metadata": {},
   "outputs": [],
   "source": [
    "#4. Faça uma array com aragne de 12 elementos e de o reshape correto nele. \n",
    "    # Salve sua array em um arquivo de texto (Dica = Save Text and Headers)\n",
    "arr3 = np.arange(1,24,2)\n",
    "arr4 = np.reshape(arr3,(3,-1))\n",
    "np.savetxt(fname= 'arquivo_teste.npy', X=arr4, header= 'arquivo de teste numpy', delimiter=';', fmt= '%.0f')"
   ]
  },
  {
   "cell_type": "code",
   "execution_count": 74,
   "id": "upper-genealogy",
   "metadata": {},
   "outputs": [
    {
     "ename": "ValueError",
     "evalue": "Cannot load file containing pickled data when allow_pickle=False",
     "output_type": "error",
     "traceback": [
      "\u001b[1;31m---------------------------------------------------------------------------\u001b[0m",
      "\u001b[1;31mValueError\u001b[0m                                Traceback (most recent call last)",
      "\u001b[1;32m~\\AppData\\Local\\Temp\\ipykernel_7392\\1913887195.py\u001b[0m in \u001b[0;36m<module>\u001b[1;34m\u001b[0m\n\u001b[0;32m      4\u001b[0m     \u001b[1;31m#Elementos na linha 2 e escolha o maximo valor dessa seleção\u001b[0m\u001b[1;33m\u001b[0m\u001b[1;33m\u001b[0m\u001b[0m\n\u001b[0;32m      5\u001b[0m     \u001b[1;31m#Uma array nova com o resultado de uma seleção complexa ex. (arr1 > 3) & (arr1 % 2 == 0)\u001b[0m\u001b[1;33m\u001b[0m\u001b[1;33m\u001b[0m\u001b[0m\n\u001b[1;32m----> 6\u001b[1;33m \u001b[0marray_teste\u001b[0m \u001b[1;33m=\u001b[0m \u001b[0mnp\u001b[0m\u001b[1;33m.\u001b[0m\u001b[0mload\u001b[0m\u001b[1;33m(\u001b[0m\u001b[0mfile\u001b[0m\u001b[1;33m=\u001b[0m\u001b[1;34m'arquivo_teste.npy'\u001b[0m\u001b[1;33m,\u001b[0m\u001b[0mmmap_mode\u001b[0m\u001b[1;33m=\u001b[0m\u001b[1;34m'r'\u001b[0m\u001b[1;33m,\u001b[0m \u001b[0mallow_pickle\u001b[0m\u001b[1;33m=\u001b[0m \u001b[1;32mFalse\u001b[0m\u001b[1;33m)\u001b[0m\u001b[1;33m\u001b[0m\u001b[1;33m\u001b[0m\u001b[0m\n\u001b[0m\u001b[0;32m      7\u001b[0m \u001b[1;33m\u001b[0m\u001b[0m\n",
      "\u001b[1;32mc:\\ProgramData\\Anaconda3\\lib\\site-packages\\numpy\\lib\\npyio.py\u001b[0m in \u001b[0;36mload\u001b[1;34m(file, mmap_mode, allow_pickle, fix_imports, encoding)\u001b[0m\n\u001b[0;32m    443\u001b[0m             \u001b[1;31m# Try a pickle\u001b[0m\u001b[1;33m\u001b[0m\u001b[1;33m\u001b[0m\u001b[0m\n\u001b[0;32m    444\u001b[0m             \u001b[1;32mif\u001b[0m \u001b[1;32mnot\u001b[0m \u001b[0mallow_pickle\u001b[0m\u001b[1;33m:\u001b[0m\u001b[1;33m\u001b[0m\u001b[1;33m\u001b[0m\u001b[0m\n\u001b[1;32m--> 445\u001b[1;33m                 raise ValueError(\"Cannot load file containing pickled data \"\n\u001b[0m\u001b[0;32m    446\u001b[0m                                  \"when allow_pickle=False\")\n\u001b[0;32m    447\u001b[0m             \u001b[1;32mtry\u001b[0m\u001b[1;33m:\u001b[0m\u001b[1;33m\u001b[0m\u001b[1;33m\u001b[0m\u001b[0m\n",
      "\u001b[1;31mValueError\u001b[0m: Cannot load file containing pickled data when allow_pickle=False"
     ]
    }
   ],
   "source": [
    "#5. Carregue o arquvio da array anterior e faça uma subseleções:\n",
    "    #Elemento na linha 1 coluna 1 \n",
    "    #Elementos na coluna 2\n",
    "    #Elementos na linha 2 e escolha o maximo valor dessa seleção\n",
    "    #Uma array nova com o resultado de uma seleção complexa ex. (arr1 > 3) & (arr1 % 2 == 0)\n",
    "array_teste = np.load(file='arquivo_teste.npy',mmap_mode='r', allow_pickle= False)\n",
    "    "
   ]
  },
  {
   "cell_type": "code",
   "execution_count": 71,
   "id": "indirect-democrat",
   "metadata": {},
   "outputs": [
    {
     "name": "stdout",
     "output_type": "stream",
     "text": [
      "[[3 0]\n",
      " [1 3]] \n",
      "\n",
      " [[6 9]\n",
      " [9 6]] \n",
      "\n",
      "[[18 27]\n",
      " [33 27]]\n"
     ]
    }
   ],
   "source": [
    "#6. Gere duas arrays em formato de matriz e faça um dot product nela \n",
    "matriz1= np.matrix(np.random.randint(0,5,size=(2,2)))\n",
    "matriz2= np.matrix(np.random.randint(5,10,size=(2,2)))\n",
    "\n",
    "print(matriz1,'\\n\\n', matriz2, '\\n')\n",
    "\n",
    "dot_product = matriz1*matriz2\n",
    "print(dot_product)"
   ]
  },
  {
   "cell_type": "markdown",
   "id": "differential-vertical",
   "metadata": {},
   "source": [
    "#### Pandas"
   ]
  },
  {
   "cell_type": "code",
   "execution_count": null,
   "id": "oriental-treasury",
   "metadata": {},
   "outputs": [],
   "source": [
    "#1. Faça uma pandas Series com valores inteiros randomicos de tamanho 30 de numeros entre 5 e 15\n",
    "    # Divida sua serie em duas partes e gere duas series novas \n",
    "    # Adicione 5 valores a cada serie e mantenha os dois elementos como series\n",
    "    # Conte as aparições de cada elemento da Serie\n",
    "    # Faça comparações booleanas entre as das series\n",
    "    # Junte as duas series em um dataframe\n",
    "    # Rename nas colunas utilizando inplace \n",
    "    # Explore seu novo DataFrame\n"
   ]
  },
  {
   "cell_type": "code",
   "execution_count": null,
   "id": "swiss-phoenix",
   "metadata": {},
   "outputs": [],
   "source": []
  },
  {
   "cell_type": "code",
   "execution_count": null,
   "id": "combined-generation",
   "metadata": {},
   "outputs": [],
   "source": [
    "#2. Carregue o dataset da url (https://www.kaggle.com/datasets/andrewmvd/global-monkeypox-cases)\n",
    "    # Explore seu dataframe\n",
    "    # Faça uma lista com todas as colunas disponíveis \n",
    "    # Veja todos os paises que tem no dataframe\n",
    "    # Faça um groupby pais e veja quantos casos tem cada pais, gere um novo df com essa informação\n",
    "    # Faça um groupby por status e pais e veja quantos casos confirmados tem por pais\n"
   ]
  },
  {
   "cell_type": "code",
   "execution_count": null,
   "id": "funky-serbia",
   "metadata": {},
   "outputs": [],
   "source": []
  },
  {
   "cell_type": "code",
   "execution_count": null,
   "id": "threatened-consensus",
   "metadata": {},
   "outputs": [],
   "source": [
    "#3 Opcional(vamos discutir em aula)\n",
    "    # O que vocês fariam com a coluna Idade?\n",
    "    \n",
    "    # Faça o tratamento de acordo com a sua linha de pensamento\n",
    "    \n",
    "    # Esse tratamento que fez é útil (Sim / Não e Por que)?\n",
    "    \n",
    "    # O que podemos fazer com essa informação para ter um dado mais acertivo?"
   ]
  },
  {
   "cell_type": "code",
   "execution_count": null,
   "id": "circular-stone",
   "metadata": {},
   "outputs": [],
   "source": []
  }
 ],
 "metadata": {
  "kernelspec": {
   "display_name": "Python 3.9.7 ('base')",
   "language": "python",
   "name": "python3"
  },
  "language_info": {
   "codemirror_mode": {
    "name": "ipython",
    "version": 3
   },
   "file_extension": ".py",
   "mimetype": "text/x-python",
   "name": "python",
   "nbconvert_exporter": "python",
   "pygments_lexer": "ipython3",
   "version": "3.9.7"
  },
  "vscode": {
   "interpreter": {
    "hash": "ad2bdc8ecc057115af97d19610ffacc2b4e99fae6737bb82f5d7fb13d2f2c186"
   }
  }
 },
 "nbformat": 4,
 "nbformat_minor": 5
}
