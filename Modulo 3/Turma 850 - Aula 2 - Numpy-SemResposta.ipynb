{
 "cells": [
  {
   "cell_type": "markdown",
   "id": "buried-listening",
   "metadata": {
    "execution": {
     "iopub.execute_input": "2022-06-26T20:22:03.395135Z",
     "iopub.status.busy": "2022-06-26T20:22:03.394494Z",
     "iopub.status.idle": "2022-06-26T20:22:03.426688Z",
     "shell.execute_reply": "2022-06-26T20:22:03.417247Z",
     "shell.execute_reply.started": "2022-06-26T20:22:03.395026Z"
    }
   },
   "source": [
    "<div>\n",
    "<img src=\"../Imgs/logo-numpy.svg\" width=\"250\"/>\n",
    "</div>"
   ]
  },
  {
   "cell_type": "markdown",
   "id": "brief-attitude",
   "metadata": {},
   "source": [
    "https://numpy.org\n",
    "\n",
    "- Abreviação para Numerical Python\n",
    "- É base para muitos outros pacotes, inclusive pacotes de Machinle Learning \n",
    "- Utilizado para computação de alta performance \n",
    "- Utilizado para analise e transformação de dados\n",
    "- É utilizado frequentemente em conjunto com Pandas (Próximo tema)"
   ]
  },
  {
   "cell_type": "code",
   "execution_count": 2,
   "id": "geological-sewing",
   "metadata": {
    "execution": {
     "iopub.execute_input": "2022-06-27T20:10:25.909263Z",
     "iopub.status.busy": "2022-06-27T20:10:25.908936Z",
     "iopub.status.idle": "2022-06-27T20:10:25.914571Z",
     "shell.execute_reply": "2022-06-27T20:10:25.912873Z",
     "shell.execute_reply.started": "2022-06-27T20:10:25.909233Z"
    },
    "tags": []
   },
   "outputs": [],
   "source": [
    "import numpy as np\n",
    "import random "
   ]
  },
  {
   "cell_type": "markdown",
   "id": "written-territory",
   "metadata": {
    "execution": {
     "iopub.execute_input": "2022-06-26T20:25:39.598428Z",
     "iopub.status.busy": "2022-06-26T20:25:39.598051Z",
     "iopub.status.idle": "2022-06-26T20:25:39.603810Z",
     "shell.execute_reply": "2022-06-26T20:25:39.600990Z",
     "shell.execute_reply.started": "2022-06-26T20:25:39.598393Z"
    }
   },
   "source": [
    "#### Boolean e Seleções Avançadas"
   ]
  },
  {
   "cell_type": "markdown",
   "id": "pregnant-class",
   "metadata": {},
   "source": [
    "Conceito super importante no numpy e no pandas é o de máscara booleana.\n",
    "<br>\n",
    "Ao aplicar qualquer operador booleanoo numpy retorna um array de True e False no qual ele aplicou elemento a elemento aquele operador.\n",
    "\n",
    "- '>'\n",
    "- '<'\n",
    "- '<='\n",
    "- '>='\n",
    "- '=='\n",
    "- 'in'\n",
    "\n",
    "\n"
   ]
  },
  {
   "cell_type": "code",
   "execution_count": 31,
   "id": "young-acrobat",
   "metadata": {
    "execution": {
     "iopub.execute_input": "2022-06-27T19:48:24.048380Z",
     "iopub.status.busy": "2022-06-27T19:48:24.048000Z",
     "iopub.status.idle": "2022-06-27T19:48:24.067813Z",
     "shell.execute_reply": "2022-06-27T19:48:24.063565Z",
     "shell.execute_reply.started": "2022-06-27T19:48:24.048351Z"
    },
    "tags": []
   },
   "outputs": [
    {
     "name": "stdout",
     "output_type": "stream",
     "text": [
      "[[ 1 10 20 30]\n",
      " [ 1  2 50 13]]\n"
     ]
    }
   ],
   "source": [
    "#Array 2d\n",
    "arr1 = np.array([[1, 10, 20, 30],[1,2,50,13]])\n",
    "print(arr1)"
   ]
  },
  {
   "cell_type": "code",
   "execution_count": 4,
   "id": "korean-washington",
   "metadata": {
    "execution": {
     "iopub.execute_input": "2022-06-26T23:36:56.987060Z",
     "iopub.status.busy": "2022-06-26T23:36:56.986766Z",
     "iopub.status.idle": "2022-06-26T23:36:56.994168Z",
     "shell.execute_reply": "2022-06-26T23:36:56.993203Z",
     "shell.execute_reply.started": "2022-06-26T23:36:56.987034Z"
    },
    "tags": []
   },
   "outputs": [
    {
     "data": {
      "text/plain": [
       "array([[False, False,  True,  True],\n",
       "       [False, False,  True,  True]])"
      ]
     },
     "execution_count": 4,
     "metadata": {},
     "output_type": "execute_result"
    }
   ],
   "source": [
    "#boolean simples, retorna a mesma array com True e False\n",
    "arr1 >10"
   ]
  },
  {
   "cell_type": "code",
   "execution_count": 11,
   "id": "greek-concord",
   "metadata": {
    "execution": {
     "iopub.execute_input": "2022-06-26T23:36:58.967294Z",
     "iopub.status.busy": "2022-06-26T23:36:58.966994Z",
     "iopub.status.idle": "2022-06-26T23:36:58.974126Z",
     "shell.execute_reply": "2022-06-26T23:36:58.972699Z",
     "shell.execute_reply.started": "2022-06-26T23:36:58.967267Z"
    },
    "tags": []
   },
   "outputs": [
    {
     "data": {
      "text/plain": [
       "array([20, 30, 50, 13])"
      ]
     },
     "execution_count": 11,
     "metadata": {},
     "output_type": "execute_result"
    }
   ],
   "source": [
    "#Quando colocamos cochetes ele retorna os valores nos quais o nosso boolean é verdadeiro \n",
    "arr1[arr1 > 10]"
   ]
  },
  {
   "cell_type": "code",
   "execution_count": 9,
   "id": "classical-digit",
   "metadata": {},
   "outputs": [
    {
     "name": "stdout",
     "output_type": "stream",
     "text": [
      "[1 2 3 4]\n",
      "[3 8 5 6]\n"
     ]
    },
    {
     "data": {
      "text/plain": [
       "array([ True,  True,  True,  True])"
      ]
     },
     "execution_count": 9,
     "metadata": {},
     "output_type": "execute_result"
    }
   ],
   "source": [
    "#comparando arrays 1D\n",
    "a = np.array([1,2,3,4]) \n",
    "b = np.array([3,8,5,6])\n",
    "\n",
    "print(a)\n",
    "print(b)\n",
    "#funções\n",
    "np.greater(a, b)\n",
    "np.less(a, b)\n",
    "np.equal(a, b)\n",
    "np.not_equal(a, b)"
   ]
  },
  {
   "cell_type": "code",
   "execution_count": 15,
   "id": "facial-envelope",
   "metadata": {
    "execution": {
     "iopub.execute_input": "2022-06-26T23:29:27.886617Z",
     "iopub.status.busy": "2022-06-26T23:29:27.886294Z",
     "iopub.status.idle": "2022-06-26T23:29:27.893341Z",
     "shell.execute_reply": "2022-06-26T23:29:27.892329Z",
     "shell.execute_reply.started": "2022-06-26T23:29:27.886587Z"
    },
    "tags": []
   },
   "outputs": [
    {
     "name": "stdout",
     "output_type": "stream",
     "text": [
      "[False False  True  True]\n",
      "[False False]\n"
     ]
    }
   ],
   "source": [
    "# .any & .all\n",
    "#coluna\n",
    "print(np.any(arr1 > 10, axis=0))\n",
    "#linea\n",
    "print(np.all(arr1 > 10, axis=1))"
   ]
  },
  {
   "cell_type": "code",
   "execution_count": 10,
   "id": "authorized-accident",
   "metadata": {
    "execution": {
     "iopub.execute_input": "2022-06-27T19:48:26.115633Z",
     "iopub.status.busy": "2022-06-27T19:48:26.115317Z",
     "iopub.status.idle": "2022-06-27T19:48:26.133407Z",
     "shell.execute_reply": "2022-06-27T19:48:26.132140Z",
     "shell.execute_reply.started": "2022-06-27T19:48:26.115603Z"
    },
    "tags": []
   },
   "outputs": [
    {
     "data": {
      "text/plain": [
       "array([[False, False,  True, False],\n",
       "       [False, False, False,  True]])"
      ]
     },
     "execution_count": 10,
     "metadata": {},
     "output_type": "execute_result"
    }
   ],
   "source": [
    "#filtro boolean and &\n",
    "filtand = (arr1 > 10) & (arr1 <= 20)\n",
    "filtand"
   ]
  },
  {
   "cell_type": "code",
   "execution_count": 13,
   "id": "united-custody",
   "metadata": {},
   "outputs": [
    {
     "data": {
      "text/plain": [
       "array([[False, False,  True,  True],\n",
       "       [False, False,  True, False]])"
      ]
     },
     "execution_count": 13,
     "metadata": {},
     "output_type": "execute_result"
    }
   ],
   "source": [
    "#filtro boolean 2\n",
    "filtand2 = (arr1 > 15) & (arr1 % 2 == 0)\n",
    "filtand2"
   ]
  },
  {
   "cell_type": "code",
   "execution_count": 43,
   "id": "residential-commander",
   "metadata": {
    "execution": {
     "iopub.execute_input": "2022-06-27T19:48:28.067464Z",
     "iopub.status.busy": "2022-06-27T19:48:28.066926Z",
     "iopub.status.idle": "2022-06-27T19:48:28.083716Z",
     "shell.execute_reply": "2022-06-27T19:48:28.082638Z",
     "shell.execute_reply.started": "2022-06-27T19:48:28.067422Z"
    },
    "tags": []
   },
   "outputs": [
    {
     "data": {
      "text/plain": [
       "array([20, 13])"
      ]
     },
     "execution_count": 43,
     "metadata": {},
     "output_type": "execute_result"
    }
   ],
   "source": [
    "#podemos gerar um filtro com o resultado da nossa pergunta booleana \n",
    "arr1[filtand]"
   ]
  },
  {
   "cell_type": "code",
   "execution_count": 44,
   "id": "green-proposition",
   "metadata": {
    "execution": {
     "iopub.execute_input": "2022-06-27T19:48:30.966059Z",
     "iopub.status.busy": "2022-06-27T19:48:30.965779Z",
     "iopub.status.idle": "2022-06-27T19:48:30.973631Z",
     "shell.execute_reply": "2022-06-27T19:48:30.972393Z",
     "shell.execute_reply.started": "2022-06-27T19:48:30.966033Z"
    },
    "tags": []
   },
   "outputs": [
    {
     "data": {
      "text/plain": [
       "array([[ True,  True,  True,  True],\n",
       "       [ True,  True,  True,  True]])"
      ]
     },
     "execution_count": 44,
     "metadata": {},
     "output_type": "execute_result"
    }
   ],
   "source": [
    "# filtro boolean or |\n",
    "filtor = (arr1 > 10) | (arr1 <= 20)\n",
    "filtor"
   ]
  },
  {
   "cell_type": "code",
   "execution_count": 45,
   "id": "enormous-terminology",
   "metadata": {
    "execution": {
     "iopub.execute_input": "2022-06-27T19:48:45.943218Z",
     "iopub.status.busy": "2022-06-27T19:48:45.942681Z",
     "iopub.status.idle": "2022-06-27T19:48:45.952744Z",
     "shell.execute_reply": "2022-06-27T19:48:45.951696Z",
     "shell.execute_reply.started": "2022-06-27T19:48:45.943186Z"
    }
   },
   "outputs": [
    {
     "data": {
      "text/plain": [
       "array([ 1, 10, 20, 30,  1,  2, 50, 13])"
      ]
     },
     "execution_count": 45,
     "metadata": {},
     "output_type": "execute_result"
    }
   ],
   "source": [
    "#Pegar valores do filtro \n",
    "arr1[filtor]"
   ]
  },
  {
   "cell_type": "code",
   "execution_count": 19,
   "id": "palestinian-gates",
   "metadata": {
    "execution": {
     "iopub.execute_input": "2022-06-26T23:37:31.933199Z",
     "iopub.status.busy": "2022-06-26T23:37:31.932900Z",
     "iopub.status.idle": "2022-06-26T23:37:31.939844Z",
     "shell.execute_reply": "2022-06-26T23:37:31.938840Z",
     "shell.execute_reply.started": "2022-06-26T23:37:31.933173Z"
    },
    "tags": []
   },
   "outputs": [
    {
     "data": {
      "text/plain": [
       "array([[False,  True,  True,  True],\n",
       "       [False,  True,  True,  True]])"
      ]
     },
     "execution_count": 19,
     "metadata": {},
     "output_type": "execute_result"
    }
   ],
   "source": [
    "#Filtro not \n",
    "filt = ~(arr1 == 1) \n",
    "filt"
   ]
  },
  {
   "cell_type": "code",
   "execution_count": 30,
   "id": "sensitive-journey",
   "metadata": {
    "execution": {
     "iopub.execute_input": "2022-06-26T23:37:35.689797Z",
     "iopub.status.busy": "2022-06-26T23:37:35.689416Z",
     "iopub.status.idle": "2022-06-26T23:37:35.710681Z",
     "shell.execute_reply": "2022-06-26T23:37:35.705191Z",
     "shell.execute_reply.started": "2022-06-26T23:37:35.689758Z"
    }
   },
   "outputs": [
    {
     "data": {
      "text/plain": [
       "array([ 1,  2,  3,  4,  5,  6,  7,  8,  9, 10])"
      ]
     },
     "execution_count": 30,
     "metadata": {},
     "output_type": "execute_result"
    }
   ],
   "source": [
    "arr1"
   ]
  },
  {
   "cell_type": "code",
   "execution_count": 32,
   "id": "commercial-auditor",
   "metadata": {
    "execution": {
     "iopub.execute_input": "2022-06-27T19:51:30.133093Z",
     "iopub.status.busy": "2022-06-27T19:51:30.132640Z",
     "iopub.status.idle": "2022-06-27T19:51:30.139478Z",
     "shell.execute_reply": "2022-06-27T19:51:30.137936Z",
     "shell.execute_reply.started": "2022-06-27T19:51:30.133059Z"
    },
    "tags": []
   },
   "outputs": [],
   "source": [
    "filtro2 = (arr1 > 15) & (arr1 % 2 == 0)\n",
    " \n",
    "# array nova sobre as condições do filtro\n",
    "new_arr = arr1[filtro2]"
   ]
  },
  {
   "cell_type": "code",
   "execution_count": 33,
   "id": "meaningful-witch",
   "metadata": {
    "execution": {
     "iopub.execute_input": "2022-06-27T19:51:34.272771Z",
     "iopub.status.busy": "2022-06-27T19:51:34.272473Z",
     "iopub.status.idle": "2022-06-27T19:51:34.277620Z",
     "shell.execute_reply": "2022-06-27T19:51:34.276643Z",
     "shell.execute_reply.started": "2022-06-27T19:51:34.272745Z"
    }
   },
   "outputs": [
    {
     "data": {
      "text/plain": [
       "array([20, 30, 50])"
      ]
     },
     "execution_count": 33,
     "metadata": {},
     "output_type": "execute_result"
    }
   ],
   "source": [
    "new_arr"
   ]
  },
  {
   "cell_type": "code",
   "execution_count": 33,
   "id": "attractive-poverty",
   "metadata": {
    "execution": {
     "iopub.execute_input": "2022-06-27T10:35:33.182594Z",
     "iopub.status.busy": "2022-06-27T10:35:33.182306Z",
     "iopub.status.idle": "2022-06-27T10:35:33.192327Z",
     "shell.execute_reply": "2022-06-27T10:35:33.191322Z",
     "shell.execute_reply.started": "2022-06-27T10:35:33.182568Z"
    },
    "tags": []
   },
   "outputs": [
    {
     "name": "stdout",
     "output_type": "stream",
     "text": [
      "Original array\n",
      "[11 12 13 14 15 16 17 18 19 20 21 22 23 24 25 26 27 28 29 30 31 32 33 34\n",
      " 35 36 37 38 39]\n"
     ]
    }
   ],
   "source": [
    "arr = np.array([x for x in range(11, 40)])\n",
    " \n",
    "print(arr)\n",
    " \n",
    "# lambda + condition\n",
    "# A função filter extrai elementos de um iteravel e retorna True ou False\n",
    "new_arr = list(filter(lambda x: x > 15 and x % 2 == 0 and x % 10 != 0, arr))\n",
    " \n",
    "# Converting new list into numpy array\n",
    "new_arr = np.array(new_arr)"
   ]
  },
  {
   "cell_type": "markdown",
   "id": "needed-stanley",
   "metadata": {},
   "source": [
    "#### Vstack e Reorganizando Arrays"
   ]
  },
  {
   "cell_type": "code",
   "execution_count": 50,
   "id": "offshore-rugby",
   "metadata": {
    "execution": {
     "iopub.execute_input": "2022-06-27T19:53:41.549561Z",
     "iopub.status.busy": "2022-06-27T19:53:41.549297Z",
     "iopub.status.idle": "2022-06-27T19:53:41.555378Z",
     "shell.execute_reply": "2022-06-27T19:53:41.554393Z",
     "shell.execute_reply.started": "2022-06-27T19:53:41.549538Z"
    },
    "tags": []
   },
   "outputs": [
    {
     "data": {
      "text/plain": [
       "array([[12, 12],\n",
       "       [23, 34]])"
      ]
     },
     "execution_count": 50,
     "metadata": {},
     "output_type": "execute_result"
    }
   ],
   "source": [
    "#reshape em uma array 1D\n",
    "np.array([12, 12, 23, 34]).reshape(2, 2)"
   ]
  },
  {
   "cell_type": "code",
   "execution_count": 30,
   "id": "revised-basis",
   "metadata": {
    "execution": {
     "iopub.execute_input": "2022-06-27T10:30:21.296228Z",
     "iopub.status.busy": "2022-06-27T10:30:21.288107Z",
     "iopub.status.idle": "2022-06-27T10:30:21.416967Z",
     "shell.execute_reply": "2022-06-27T10:30:21.415433Z",
     "shell.execute_reply.started": "2022-06-27T10:30:21.296189Z"
    },
    "tags": []
   },
   "outputs": [
    {
     "name": "stdout",
     "output_type": "stream",
     "text": [
      "[-13 -13 -24 -35  -3]\n"
     ]
    }
   ],
   "source": [
    "#invert no array\n",
    "a = np.array((12, 12, 23, 34, 2))\n",
    "b = np.invert(a)\n",
    "print(b)"
   ]
  },
  {
   "cell_type": "code",
   "execution_count": 52,
   "id": "biological-spotlight",
   "metadata": {
    "execution": {
     "iopub.execute_input": "2022-06-27T20:06:36.492720Z",
     "iopub.status.busy": "2022-06-27T20:06:36.492421Z",
     "iopub.status.idle": "2022-06-27T20:06:36.499152Z",
     "shell.execute_reply": "2022-06-27T20:06:36.497756Z",
     "shell.execute_reply.started": "2022-06-27T20:06:36.492693Z"
    },
    "tags": []
   },
   "outputs": [
    {
     "name": "stdout",
     "output_type": "stream",
     "text": [
      "[1 2 3 4]\n",
      "[5 6 7 8]\n"
     ]
    }
   ],
   "source": [
    "#Vstack em duas arrays do mesmo tamanho\n",
    "a1 = np.array([1,2,3,4])\n",
    "a2 = np.array([5,6,7,8])\n",
    "print(a1)\n",
    "print(a2)\n",
    "vstack = np.vstack([a1,a2])"
   ]
  },
  {
   "cell_type": "code",
   "execution_count": 71,
   "id": "institutional-diagram",
   "metadata": {
    "execution": {
     "iopub.execute_input": "2022-06-27T20:06:46.092462Z",
     "iopub.status.busy": "2022-06-27T20:06:46.092168Z",
     "iopub.status.idle": "2022-06-27T20:06:46.100627Z",
     "shell.execute_reply": "2022-06-27T20:06:46.099251Z",
     "shell.execute_reply.started": "2022-06-27T20:06:46.092435Z"
    },
    "tags": []
   },
   "outputs": [
    {
     "data": {
      "text/plain": [
       "(4,)"
      ]
     },
     "execution_count": 71,
     "metadata": {},
     "output_type": "execute_result"
    }
   ],
   "source": [
    "a1.shape"
   ]
  },
  {
   "cell_type": "code",
   "execution_count": 56,
   "id": "ceramic-galaxy",
   "metadata": {
    "execution": {
     "iopub.execute_input": "2022-06-27T20:03:21.053487Z",
     "iopub.status.busy": "2022-06-27T20:03:21.053191Z",
     "iopub.status.idle": "2022-06-27T20:03:21.058790Z",
     "shell.execute_reply": "2022-06-27T20:03:21.057269Z",
     "shell.execute_reply.started": "2022-06-27T20:03:21.053460Z"
    },
    "tags": []
   },
   "outputs": [],
   "source": [
    "vstack2 = np.vstack([a1,a2,a2,a2])"
   ]
  },
  {
   "cell_type": "code",
   "execution_count": 60,
   "id": "individual-robinson",
   "metadata": {
    "execution": {
     "iopub.execute_input": "2022-06-27T20:03:53.204370Z",
     "iopub.status.busy": "2022-06-27T20:03:53.203990Z",
     "iopub.status.idle": "2022-06-27T20:03:53.212790Z",
     "shell.execute_reply": "2022-06-27T20:03:53.211493Z",
     "shell.execute_reply.started": "2022-06-27T20:03:53.204334Z"
    }
   },
   "outputs": [
    {
     "data": {
      "text/plain": [
       "array([[1, 2, 3, 4],\n",
       "       [5, 6, 7, 8],\n",
       "       [5, 6, 7, 8],\n",
       "       [5, 6, 7, 8]])"
      ]
     },
     "execution_count": 60,
     "metadata": {},
     "output_type": "execute_result"
    }
   ],
   "source": [
    "vstack2"
   ]
  },
  {
   "cell_type": "code",
   "execution_count": 66,
   "id": "packed-lighting",
   "metadata": {
    "execution": {
     "iopub.execute_input": "2022-06-27T20:05:23.851361Z",
     "iopub.status.busy": "2022-06-27T20:05:23.851036Z",
     "iopub.status.idle": "2022-06-27T20:05:23.865340Z",
     "shell.execute_reply": "2022-06-27T20:05:23.858473Z",
     "shell.execute_reply.started": "2022-06-27T20:05:23.851332Z"
    },
    "tags": []
   },
   "outputs": [
    {
     "data": {
      "text/plain": [
       "array([1, 5, 5, 5, 2, 6, 6, 6, 3, 7, 7, 7, 4, 8, 8, 8])"
      ]
     },
     "execution_count": 66,
     "metadata": {},
     "output_type": "execute_result"
    }
   ],
   "source": [
    "#flatten order= C(por linha), F(por coluna)\n",
    "vstack2.flatten('C')\n",
    "vstack2.flatten('F')"
   ]
  },
  {
   "cell_type": "markdown",
   "id": "described-threshold",
   "metadata": {},
   "source": [
    "##### DIY 1"
   ]
  },
  {
   "cell_type": "markdown",
   "id": "documentary-tissue",
   "metadata": {},
   "source": [
    "1. Crie 3 arrays 1D com 10 elementos com numeros inteiros de 1 a 10  e printe elas (dica = randint)\n",
    "2. Elabore um filtro boolean na arr 1 com &, pegue os valores do array com o filtro e printe\n",
    "3. Elabore um filtro boolean na arr 2 com |, pegue os valores do array com o filtro e printe\n",
    "4. Faça um reshape na arr1 \n",
    "5. Façã um vstack com as arr2 e arr3\n",
    "6. Aplique um flatten por linha na array nova"
   ]
  },
  {
   "cell_type": "code",
   "execution_count": 41,
   "id": "finnish-kernel",
   "metadata": {
    "execution": {
     "iopub.execute_input": "2022-06-27T20:11:55.698976Z",
     "iopub.status.busy": "2022-06-27T20:11:55.698643Z",
     "iopub.status.idle": "2022-06-27T20:11:55.711062Z",
     "shell.execute_reply": "2022-06-27T20:11:55.710107Z",
     "shell.execute_reply.started": "2022-06-27T20:11:55.698945Z"
    },
    "tags": []
   },
   "outputs": [
    {
     "name": "stdout",
     "output_type": "stream",
     "text": [
      "[ 1  2  3  4  5  6  7  8  9 10]\n"
     ]
    }
   ],
   "source": [
    "arr1 = np.array([x for x in range(1,11)])\n",
    "arr2 = arr1.copy()\n",
    "arr3 = arr1.copy()\n",
    "print(arr1)"
   ]
  },
  {
   "cell_type": "code",
   "execution_count": 45,
   "id": "9fab48da",
   "metadata": {},
   "outputs": [
    {
     "data": {
      "text/plain": [
       "array([ 6,  8, 10])"
      ]
     },
     "execution_count": 45,
     "metadata": {},
     "output_type": "execute_result"
    }
   ],
   "source": [
    "filtro1 = (arr1 % 2 == 0) & (arr1 > 5)\n",
    "new_arr1 = arr1[filtro1]\n",
    "new_arr1"
   ]
  },
  {
   "cell_type": "code",
   "execution_count": 48,
   "id": "89dac91b",
   "metadata": {},
   "outputs": [
    {
     "data": {
      "text/plain": [
       "array([ 3,  6,  8,  9, 10])"
      ]
     },
     "execution_count": 48,
     "metadata": {},
     "output_type": "execute_result"
    }
   ],
   "source": [
    "filtro2 = (arr1 % 3 == 0) | (arr1 > 7)\n",
    "new_arr2 = arr2[filtro2]\n",
    "new_arr2"
   ]
  },
  {
   "cell_type": "code",
   "execution_count": 51,
   "id": "e89a679d",
   "metadata": {},
   "outputs": [
    {
     "data": {
      "text/plain": [
       "array([[ 1,  2,  3,  4,  5],\n",
       "       [ 6,  7,  8,  9, 10]])"
      ]
     },
     "execution_count": 51,
     "metadata": {},
     "output_type": "execute_result"
    }
   ],
   "source": [
    "arr1 = arr1.reshape(2,5)\n",
    "arr1"
   ]
  },
  {
   "cell_type": "code",
   "execution_count": 55,
   "id": "08ad5e2b",
   "metadata": {},
   "outputs": [
    {
     "data": {
      "text/plain": [
       "array([[ 1,  2,  3,  4,  5,  6,  7,  8,  9, 10],\n",
       "       [ 1,  2,  3,  4,  5,  6,  7,  8,  9, 10]])"
      ]
     },
     "execution_count": 55,
     "metadata": {},
     "output_type": "execute_result"
    }
   ],
   "source": [
    "vstack_2_3 = np.vstack([arr2, arr3])\n",
    "vstack_2_3"
   ]
  },
  {
   "cell_type": "code",
   "execution_count": 56,
   "id": "9b9fb78c",
   "metadata": {},
   "outputs": [
    {
     "name": "stdout",
     "output_type": "stream",
     "text": [
      "[ 1  1  2  2  3  3  4  4  5  5  6  6  7  7  8  8  9  9 10 10]\n"
     ]
    }
   ],
   "source": [
    "print(vstack_2_3.flatten('f'))"
   ]
  },
  {
   "cell_type": "markdown",
   "id": "industrial-subscription",
   "metadata": {},
   "source": [
    "#### Numpy Matrix"
   ]
  },
  {
   "cell_type": "markdown",
   "id": "micro-worcester",
   "metadata": {},
   "source": [
    "> Marizes em são obrigatoriamente elementos de duas dimensões "
   ]
  },
  {
   "cell_type": "code",
   "execution_count": 60,
   "id": "straight-sussex",
   "metadata": {
    "execution": {
     "iopub.execute_input": "2022-06-27T20:15:21.941051Z",
     "iopub.status.busy": "2022-06-27T20:15:21.940720Z",
     "iopub.status.idle": "2022-06-27T20:15:21.949757Z",
     "shell.execute_reply": "2022-06-27T20:15:21.948696Z",
     "shell.execute_reply.started": "2022-06-27T20:15:21.941021Z"
    },
    "tags": []
   },
   "outputs": [],
   "source": [
    "mat1 = np.matrix([[1, 2],[3, 4]])"
   ]
  },
  {
   "cell_type": "code",
   "execution_count": 61,
   "id": "wooden-blink",
   "metadata": {
    "execution": {
     "iopub.execute_input": "2022-06-27T20:16:01.771255Z",
     "iopub.status.busy": "2022-06-27T20:16:01.770722Z",
     "iopub.status.idle": "2022-06-27T20:16:01.801595Z",
     "shell.execute_reply": "2022-06-27T20:16:01.784535Z",
     "shell.execute_reply.started": "2022-06-27T20:16:01.771210Z"
    }
   },
   "outputs": [],
   "source": [
    "arr1 = np.array([5,6,7,8])"
   ]
  },
  {
   "cell_type": "code",
   "execution_count": 62,
   "id": "combined-olympus",
   "metadata": {
    "execution": {
     "iopub.execute_input": "2022-06-27T20:16:11.415180Z",
     "iopub.status.busy": "2022-06-27T20:16:11.414861Z",
     "iopub.status.idle": "2022-06-27T20:16:11.423340Z",
     "shell.execute_reply": "2022-06-27T20:16:11.421821Z",
     "shell.execute_reply.started": "2022-06-27T20:16:11.415151Z"
    }
   },
   "outputs": [
    {
     "data": {
      "text/plain": [
       "numpy.ndarray"
      ]
     },
     "execution_count": 62,
     "metadata": {},
     "output_type": "execute_result"
    }
   ],
   "source": [
    "type(arr1)"
   ]
  },
  {
   "cell_type": "code",
   "execution_count": 63,
   "id": "compact-raise",
   "metadata": {
    "execution": {
     "iopub.execute_input": "2022-06-27T20:15:42.737399Z",
     "iopub.status.busy": "2022-06-27T20:15:42.736876Z",
     "iopub.status.idle": "2022-06-27T20:15:42.744158Z",
     "shell.execute_reply": "2022-06-27T20:15:42.742517Z",
     "shell.execute_reply.started": "2022-06-27T20:15:42.737350Z"
    },
    "tags": []
   },
   "outputs": [
    {
     "data": {
      "text/plain": [
       "numpy.matrix"
      ]
     },
     "execution_count": 63,
     "metadata": {},
     "output_type": "execute_result"
    }
   ],
   "source": [
    "type(mat1)"
   ]
  },
  {
   "cell_type": "code",
   "execution_count": 64,
   "id": "acquired-chester",
   "metadata": {
    "execution": {
     "iopub.execute_input": "2022-06-27T20:16:36.442145Z",
     "iopub.status.busy": "2022-06-27T20:16:36.441883Z",
     "iopub.status.idle": "2022-06-27T20:16:36.447635Z",
     "shell.execute_reply": "2022-06-27T20:16:36.446603Z",
     "shell.execute_reply.started": "2022-06-27T20:16:36.442121Z"
    }
   },
   "outputs": [
    {
     "data": {
      "text/plain": [
       "2"
      ]
     },
     "execution_count": 64,
     "metadata": {},
     "output_type": "execute_result"
    }
   ],
   "source": [
    "mat1.ndim"
   ]
  },
  {
   "cell_type": "code",
   "execution_count": 67,
   "id": "provincial-break",
   "metadata": {
    "execution": {
     "iopub.execute_input": "2022-06-27T20:17:30.344428Z",
     "iopub.status.busy": "2022-06-27T20:17:30.344104Z",
     "iopub.status.idle": "2022-06-27T20:17:30.351030Z",
     "shell.execute_reply": "2022-06-27T20:17:30.347557Z",
     "shell.execute_reply.started": "2022-06-27T20:17:30.344397Z"
    },
    "tags": []
   },
   "outputs": [
    {
     "data": {
      "text/plain": [
       "matrix([[1, 2, 3]])"
      ]
     },
     "execution_count": 67,
     "metadata": {},
     "output_type": "execute_result"
    }
   ],
   "source": [
    "#Se eu passar uma lista simples ele cria automaticamente uma matriz de duas dim\n",
    "mat2 = np.matrix([1, 2, 3])\n",
    "mat2"
   ]
  },
  {
   "cell_type": "code",
   "execution_count": 66,
   "id": "hybrid-violence",
   "metadata": {
    "execution": {
     "iopub.execute_input": "2022-06-27T20:17:35.032183Z",
     "iopub.status.busy": "2022-06-27T20:17:35.031880Z",
     "iopub.status.idle": "2022-06-27T20:17:35.046082Z",
     "shell.execute_reply": "2022-06-27T20:17:35.044724Z",
     "shell.execute_reply.started": "2022-06-27T20:17:35.032152Z"
    }
   },
   "outputs": [
    {
     "data": {
      "text/plain": [
       "2"
      ]
     },
     "execution_count": 66,
     "metadata": {},
     "output_type": "execute_result"
    }
   ],
   "source": [
    "mat2.ndim"
   ]
  },
  {
   "cell_type": "code",
   "execution_count": 68,
   "id": "lined-stand",
   "metadata": {
    "execution": {
     "iopub.execute_input": "2022-06-27T20:18:00.626070Z",
     "iopub.status.busy": "2022-06-27T20:18:00.625759Z",
     "iopub.status.idle": "2022-06-27T20:18:00.644334Z",
     "shell.execute_reply": "2022-06-27T20:18:00.641691Z",
     "shell.execute_reply.started": "2022-06-27T20:18:00.626042Z"
    }
   },
   "outputs": [
    {
     "ename": "ValueError",
     "evalue": "matrix must be 2-dimensional",
     "output_type": "error",
     "traceback": [
      "\u001b[1;31m---------------------------------------------------------------------------\u001b[0m",
      "\u001b[1;31mValueError\u001b[0m                                Traceback (most recent call last)",
      "\u001b[1;32m~\\AppData\\Local\\Temp\\ipykernel_20800\\1778755994.py\u001b[0m in \u001b[0;36m<module>\u001b[1;34m\u001b[0m\n\u001b[0;32m      1\u001b[0m \u001b[1;31m#tentando criar uma matrix maior\u001b[0m\u001b[1;33m\u001b[0m\u001b[1;33m\u001b[0m\u001b[0m\n\u001b[1;32m----> 2\u001b[1;33m np.matrix([[[1, 2], [3, 4]], \n\u001b[0m\u001b[0;32m      3\u001b[0m           \u001b[1;33m[\u001b[0m\u001b[1;33m[\u001b[0m\u001b[1;36m5\u001b[0m\u001b[1;33m,\u001b[0m \u001b[1;36m6\u001b[0m\u001b[1;33m]\u001b[0m\u001b[1;33m,\u001b[0m \u001b[1;33m[\u001b[0m\u001b[1;36m7\u001b[0m\u001b[1;33m,\u001b[0m \u001b[1;36m8\u001b[0m\u001b[1;33m]\u001b[0m\u001b[1;33m]\u001b[0m\u001b[1;33m,\u001b[0m\u001b[1;33m\u001b[0m\u001b[1;33m\u001b[0m\u001b[0m\n\u001b[0;32m      4\u001b[0m           [[9, 10], [11, 12]]])\n",
      "\u001b[1;32mc:\\ProgramData\\Anaconda3\\lib\\site-packages\\numpy\\matrixlib\\defmatrix.py\u001b[0m in \u001b[0;36m__new__\u001b[1;34m(subtype, data, dtype, copy)\u001b[0m\n\u001b[0;32m    147\u001b[0m         \u001b[0mshape\u001b[0m \u001b[1;33m=\u001b[0m \u001b[0marr\u001b[0m\u001b[1;33m.\u001b[0m\u001b[0mshape\u001b[0m\u001b[1;33m\u001b[0m\u001b[1;33m\u001b[0m\u001b[0m\n\u001b[0;32m    148\u001b[0m         \u001b[1;32mif\u001b[0m \u001b[1;33m(\u001b[0m\u001b[0mndim\u001b[0m \u001b[1;33m>\u001b[0m \u001b[1;36m2\u001b[0m\u001b[1;33m)\u001b[0m\u001b[1;33m:\u001b[0m\u001b[1;33m\u001b[0m\u001b[1;33m\u001b[0m\u001b[0m\n\u001b[1;32m--> 149\u001b[1;33m             \u001b[1;32mraise\u001b[0m \u001b[0mValueError\u001b[0m\u001b[1;33m(\u001b[0m\u001b[1;34m\"matrix must be 2-dimensional\"\u001b[0m\u001b[1;33m)\u001b[0m\u001b[1;33m\u001b[0m\u001b[1;33m\u001b[0m\u001b[0m\n\u001b[0m\u001b[0;32m    150\u001b[0m         \u001b[1;32melif\u001b[0m \u001b[0mndim\u001b[0m \u001b[1;33m==\u001b[0m \u001b[1;36m0\u001b[0m\u001b[1;33m:\u001b[0m\u001b[1;33m\u001b[0m\u001b[1;33m\u001b[0m\u001b[0m\n\u001b[0;32m    151\u001b[0m             \u001b[0mshape\u001b[0m \u001b[1;33m=\u001b[0m \u001b[1;33m(\u001b[0m\u001b[1;36m1\u001b[0m\u001b[1;33m,\u001b[0m \u001b[1;36m1\u001b[0m\u001b[1;33m)\u001b[0m\u001b[1;33m\u001b[0m\u001b[1;33m\u001b[0m\u001b[0m\n",
      "\u001b[1;31mValueError\u001b[0m: matrix must be 2-dimensional"
     ]
    }
   ],
   "source": [
    "#tentando criar uma matrix maior \n",
    "np.matrix([[[1, 2], [3, 4]], \n",
    "          [[5, 6], [7, 8]], \n",
    "          [[9, 10], [11, 12]]])"
   ]
  },
  {
   "cell_type": "code",
   "execution_count": 69,
   "id": "infinite-shark",
   "metadata": {
    "execution": {
     "iopub.execute_input": "2022-06-27T20:18:29.921613Z",
     "iopub.status.busy": "2022-06-27T20:18:29.921318Z",
     "iopub.status.idle": "2022-06-27T20:18:29.932600Z",
     "shell.execute_reply": "2022-06-27T20:18:29.925358Z",
     "shell.execute_reply.started": "2022-06-27T20:18:29.921587Z"
    },
    "tags": []
   },
   "outputs": [],
   "source": [
    "arr2 = np.array([[[1, 2], [3, 4]], \n",
    "          [[5, 6], [7, 8]], \n",
    "          [[9, 10], [11, 12]]])"
   ]
  },
  {
   "cell_type": "code",
   "execution_count": 70,
   "id": "three-worthy",
   "metadata": {
    "execution": {
     "iopub.execute_input": "2022-06-27T20:18:45.042522Z",
     "iopub.status.busy": "2022-06-27T20:18:45.042226Z",
     "iopub.status.idle": "2022-06-27T20:18:45.054677Z",
     "shell.execute_reply": "2022-06-27T20:18:45.053147Z",
     "shell.execute_reply.started": "2022-06-27T20:18:45.042495Z"
    },
    "tags": []
   },
   "outputs": [
    {
     "name": "stdout",
     "output_type": "stream",
     "text": [
      "3\n",
      "(3, 2, 2)\n"
     ]
    }
   ],
   "source": [
    "#bloco, linha, coluna\n",
    "print(arr2.ndim)\n",
    "print(arr2.shape)"
   ]
  },
  {
   "cell_type": "code",
   "execution_count": 97,
   "id": "institutional-transfer",
   "metadata": {
    "execution": {
     "iopub.execute_input": "2022-06-27T20:20:01.106549Z",
     "iopub.status.busy": "2022-06-27T20:20:01.106263Z",
     "iopub.status.idle": "2022-06-27T20:20:01.118041Z",
     "shell.execute_reply": "2022-06-27T20:20:01.114994Z",
     "shell.execute_reply.started": "2022-06-27T20:20:01.106523Z"
    }
   },
   "outputs": [
    {
     "name": "stdout",
     "output_type": "stream",
     "text": [
      "[[ 5 12]\n",
      " [24 36]]\n"
     ]
    }
   ],
   "source": [
    "#array multi Element Wise\n",
    "a = np.array([[1, 2], \n",
    "             [3, 4]])\n",
    "b = np.array([[5, 6], \n",
    "             [8, 9]])\n",
    "print(a * b)"
   ]
  },
  {
   "cell_type": "code",
   "execution_count": 71,
   "id": "purple-monte",
   "metadata": {
    "execution": {
     "iopub.execute_input": "2022-06-27T20:38:15.922868Z",
     "iopub.status.busy": "2022-06-27T20:38:15.922499Z",
     "iopub.status.idle": "2022-06-27T20:38:15.933188Z",
     "shell.execute_reply": "2022-06-27T20:38:15.932230Z",
     "shell.execute_reply.started": "2022-06-27T20:38:15.922839Z"
    },
    "tags": []
   },
   "outputs": [
    {
     "name": "stdout",
     "output_type": "stream",
     "text": [
      "[[1 2]\n",
      " [3 4]]\n",
      "[[5 6]\n",
      " [8 9]]\n",
      "[[21 24]\n",
      " [47 54]]\n"
     ]
    }
   ],
   "source": [
    "#matriz * Dot Product\n",
    "c = np.matrix([[1, 2], \n",
    "              [3, 4]])\n",
    "d = np.matrix([[5, 6], \n",
    "              [8, 9]])\n",
    "print(c)\n",
    "print(d)\n",
    "print(c * d)"
   ]
  },
  {
   "cell_type": "markdown",
   "id": "included-hypothesis",
   "metadata": {
    "execution": {
     "iopub.execute_input": "2022-06-27T20:36:30.340688Z",
     "iopub.status.busy": "2022-06-27T20:36:30.339284Z",
     "iopub.status.idle": "2022-06-27T20:36:30.360000Z",
     "shell.execute_reply": "2022-06-27T20:36:30.352693Z",
     "shell.execute_reply.started": "2022-06-27T20:36:30.340625Z"
    }
   },
   "source": [
    "<div>\n",
    "<img src=\"../Imgs/dotprod.jpeg\" width=\"500\"/>\n",
    "</div>"
   ]
  },
  {
   "cell_type": "code",
   "execution_count": 72,
   "id": "undefined-fraction",
   "metadata": {
    "execution": {
     "iopub.execute_input": "2022-06-27T20:31:47.621999Z",
     "iopub.status.busy": "2022-06-27T20:31:47.621671Z",
     "iopub.status.idle": "2022-06-27T20:31:47.634645Z",
     "shell.execute_reply": "2022-06-27T20:31:47.626829Z",
     "shell.execute_reply.started": "2022-06-27T20:31:47.621969Z"
    },
    "tags": []
   },
   "outputs": [
    {
     "name": "stdout",
     "output_type": "stream",
     "text": [
      "[[ 6  8]\n",
      " [11 13]]\n",
      "[[4 4]\n",
      " [5 5]]\n"
     ]
    }
   ],
   "source": [
    "#Soma e subtração \n",
    "print(c+d)\n",
    "print(d-c)"
   ]
  },
  {
   "cell_type": "markdown",
   "id": "standard-watson",
   "metadata": {},
   "source": [
    "> It is no longer recommended to use the matrix class, even for linear algebra. Instead, use regular numpy arrays. The matrix class may be removed in the future. (05-2021)"
   ]
  },
  {
   "cell_type": "markdown",
   "id": "tough-grass",
   "metadata": {},
   "source": [
    "##### DIY "
   ]
  },
  {
   "cell_type": "markdown",
   "id": "turkish-foster",
   "metadata": {},
   "source": [
    "1. Crie uma matriz com numeros aleatorios de 1 ao 20 shape (2,2)\n",
    "2. Crie um array 2D com shape (2,2)\n",
    "3. Transforme a array em matrix \n",
    "4. Printe o type do array transformado\n",
    "5. Faça o Dot product das matrizes\n"
   ]
  },
  {
   "cell_type": "code",
   "execution_count": 84,
   "id": "ef97c610",
   "metadata": {},
   "outputs": [
    {
     "data": {
      "text/plain": [
       "matrix([[15,  6],\n",
       "        [ 6,  3]])"
      ]
     },
     "execution_count": 84,
     "metadata": {},
     "output_type": "execute_result"
    }
   ],
   "source": [
    "matriz1 = np.matrix(np.random.randint(20, size=(2,2)))\n",
    "matriz1"
   ]
  },
  {
   "cell_type": "code",
   "execution_count": 94,
   "id": "600828fc",
   "metadata": {},
   "outputs": [
    {
     "data": {
      "text/plain": [
       "array([[ 2,  6],\n",
       "       [15, 13]])"
      ]
     },
     "execution_count": 94,
     "metadata": {},
     "output_type": "execute_result"
    }
   ],
   "source": [
    "arra1 = np.random.randint(20, size=(2,2))\n",
    "arra1"
   ]
  },
  {
   "cell_type": "code",
   "execution_count": 87,
   "id": "e1fb0281",
   "metadata": {},
   "outputs": [
    {
     "data": {
      "text/plain": [
       "matrix([[ 2,  2],\n",
       "        [11,  6]])"
      ]
     },
     "execution_count": 87,
     "metadata": {},
     "output_type": "execute_result"
    }
   ],
   "source": [
    "arra1 = np.matrix(arra1)\n",
    "arra1"
   ]
  },
  {
   "cell_type": "code",
   "execution_count": 88,
   "id": "c5673562",
   "metadata": {},
   "outputs": [
    {
     "data": {
      "text/plain": [
       "numpy.matrix"
      ]
     },
     "execution_count": 88,
     "metadata": {},
     "output_type": "execute_result"
    }
   ],
   "source": [
    "type(arra1)"
   ]
  },
  {
   "cell_type": "code",
   "execution_count": 95,
   "id": "3979cb2d",
   "metadata": {},
   "outputs": [
    {
     "data": {
      "text/plain": [
       "matrix([[120, 168],\n",
       "        [ 57,  75]])"
      ]
     },
     "execution_count": 95,
     "metadata": {},
     "output_type": "execute_result"
    }
   ],
   "source": [
    "matriz1 * arra1"
   ]
  },
  {
   "cell_type": "markdown",
   "id": "hydraulic-minister",
   "metadata": {},
   "source": [
    "#### Grupo"
   ]
  },
  {
   "cell_type": "markdown",
   "id": "rotary-blond",
   "metadata": {},
   "source": [
    "https://archive.ics.uci.edu/ml/datasets/Wine+Quality"
   ]
  },
  {
   "cell_type": "markdown",
   "id": "alleged-sustainability",
   "metadata": {
    "execution": {
     "iopub.execute_input": "2022-06-27T20:44:58.345790Z",
     "iopub.status.busy": "2022-06-27T20:44:58.345428Z",
     "iopub.status.idle": "2022-06-27T20:44:59.842111Z",
     "shell.execute_reply": "2022-06-27T20:44:59.840986Z",
     "shell.execute_reply.started": "2022-06-27T20:44:58.345761Z"
    }
   },
   "source": [
    "1. Importe o mesmo dataset da aula passada \n",
    "2. Selecione as mesmas colunas Citric Acid, PH e  Alcohol\n",
    "3. Faça um filtro booleano com os vinhos com:\n",
    "    - um valor maior ou igual a 6 de Alcohol\n",
    "    - um valor de PH menor do que 3\n",
    "    - um valor de Citric Acid maior do que .20\n",
    "4. Faça um novo array com esses dados \n",
    "5. Quantos vinhos tem a nossa seleção?\n",
    "6. Quantos vinhos deixamos de fora?\n",
    "7. Faça um outro filtro segundo a sua criatividade \n",
    "8. Qual a sua conclusão?"
   ]
  },
  {
   "cell_type": "code",
   "execution_count": 96,
   "id": "a96cdc31",
   "metadata": {},
   "outputs": [],
   "source": [
    "url = 'https://archive.ics.uci.edu/ml/machine-learning-databases/wine-quality/winequality-red.csv'"
   ]
  },
  {
   "cell_type": "code",
   "execution_count": 97,
   "id": "6a1716b2",
   "metadata": {},
   "outputs": [],
   "source": [
    "wine_arr = np.genfromtxt(url, delimiter=';', skip_header= 1, usecols=(2, -4, -2))\n",
    "\n",
    "filtr = (wine_arr[:, 2] >= 6) & (wine_arr[:, 1] < 3) & (wine_arr[:, 0] > .2)\n",
    "wine_arr_novo = wine_arr[filtr]\n",
    "print(wine_arr_novo.shape)\n",
    "\n",
    "vinhos_diferenca = wine_arr.shape[0] - wine_arr_novo.shape[0]\n",
    "print(vinhos_diferenca)\n",
    "\n",
    "filtr_novo = (wine_arr[:, 2] >= 6) & (wine_arr[:, 1] < 7) & (wine_arr[:, 0] > .2)\n",
    "wine_arr_novo_2 = wine_arr[filtr_novo]\n",
    "print(wine_arr_novo_2)\n",
    "print(wine_arr_novo_2.shape)\n",
    "\n",
    "filtr_novo_3 = (wine_arr[:, 2] >= 6) & (wine_arr[:, 1] < 3) & (wine_arr[:, 0] > .3)\n",
    "wine_arr_novo_3 = wine_arr[filtr_novo_3]\n",
    "print(wine_arr_novo_3.shape)\n",
    "\n",
    "filtr_novo_4 = (wine_arr[:, 2] >= 6) & (wine_arr[:, 1] >= 7) & (wine_arr[:, 0] > .3)\n",
    "wine_arr_novo_4 = wine_arr[filtr_novo_4]\n",
    "wine_arr_novo_4.shape"
   ]
  },
  {
   "cell_type": "markdown",
   "id": "d5728026",
   "metadata": {},
   "source": [
    "# Conclusões\n",
    "1. Todos os vinhos são acidos!"
   ]
  }
 ],
 "metadata": {
  "kernelspec": {
   "display_name": "Python 3.9.7 ('base')",
   "language": "python",
   "name": "python3"
  },
  "language_info": {
   "codemirror_mode": {
    "name": "ipython",
    "version": 3
   },
   "file_extension": ".py",
   "mimetype": "text/x-python",
   "name": "python",
   "nbconvert_exporter": "python",
   "pygments_lexer": "ipython3",
   "version": "3.9.7"
  },
  "vscode": {
   "interpreter": {
    "hash": "ad2bdc8ecc057115af97d19610ffacc2b4e99fae6737bb82f5d7fb13d2f2c186"
   }
  }
 },
 "nbformat": 4,
 "nbformat_minor": 5
}
